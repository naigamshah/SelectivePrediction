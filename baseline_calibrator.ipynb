{
  "nbformat": 4,
  "nbformat_minor": 0,
  "metadata": {
    "colab": {
      "provenance": [],
      "gpuType": "T4"
    },
    "kernelspec": {
      "name": "python3",
      "display_name": "Python 3"
    },
    "language_info": {
      "name": "python"
    },
    "accelerator": "GPU",
    "widgets": {
      "application/vnd.jupyter.widget-state+json": {
        "1ecd63459b794e36aa2af80bd4f3cadc": {
          "model_module": "@jupyter-widgets/controls",
          "model_name": "HBoxModel",
          "model_module_version": "1.5.0",
          "state": {
            "_dom_classes": [],
            "_model_module": "@jupyter-widgets/controls",
            "_model_module_version": "1.5.0",
            "_model_name": "HBoxModel",
            "_view_count": null,
            "_view_module": "@jupyter-widgets/controls",
            "_view_module_version": "1.5.0",
            "_view_name": "HBoxView",
            "box_style": "",
            "children": [
              "IPY_MODEL_68a6871a2c514dc58db1582144813f76",
              "IPY_MODEL_88c4e53d5ddb4135a43703a38e745315",
              "IPY_MODEL_64f5aed9d0f74d669baa419ae62a1007"
            ],
            "layout": "IPY_MODEL_6c3767f5423b4641b3a95599263005d7"
          }
        },
        "68a6871a2c514dc58db1582144813f76": {
          "model_module": "@jupyter-widgets/controls",
          "model_name": "HTMLModel",
          "model_module_version": "1.5.0",
          "state": {
            "_dom_classes": [],
            "_model_module": "@jupyter-widgets/controls",
            "_model_module_version": "1.5.0",
            "_model_name": "HTMLModel",
            "_view_count": null,
            "_view_module": "@jupyter-widgets/controls",
            "_view_module_version": "1.5.0",
            "_view_name": "HTMLView",
            "description": "",
            "description_tooltip": null,
            "layout": "IPY_MODEL_695e079e84dd4380afa28c74e731d011",
            "placeholder": "​",
            "style": "IPY_MODEL_6d81f57b23a54ecdb9e00b00f13afec4",
            "value": "Downloading (…)okenizer_config.json: 100%"
          }
        },
        "88c4e53d5ddb4135a43703a38e745315": {
          "model_module": "@jupyter-widgets/controls",
          "model_name": "FloatProgressModel",
          "model_module_version": "1.5.0",
          "state": {
            "_dom_classes": [],
            "_model_module": "@jupyter-widgets/controls",
            "_model_module_version": "1.5.0",
            "_model_name": "FloatProgressModel",
            "_view_count": null,
            "_view_module": "@jupyter-widgets/controls",
            "_view_module_version": "1.5.0",
            "_view_name": "ProgressView",
            "bar_style": "success",
            "description": "",
            "description_tooltip": null,
            "layout": "IPY_MODEL_fca60d60629a47aba5f19baf5ec580d4",
            "max": 79,
            "min": 0,
            "orientation": "horizontal",
            "style": "IPY_MODEL_f2e29961fdaa424f8c6e067e842cba0e",
            "value": 79
          }
        },
        "64f5aed9d0f74d669baa419ae62a1007": {
          "model_module": "@jupyter-widgets/controls",
          "model_name": "HTMLModel",
          "model_module_version": "1.5.0",
          "state": {
            "_dom_classes": [],
            "_model_module": "@jupyter-widgets/controls",
            "_model_module_version": "1.5.0",
            "_model_name": "HTMLModel",
            "_view_count": null,
            "_view_module": "@jupyter-widgets/controls",
            "_view_module_version": "1.5.0",
            "_view_name": "HTMLView",
            "description": "",
            "description_tooltip": null,
            "layout": "IPY_MODEL_3809b6ea9bf34edfbf7bc135813811f4",
            "placeholder": "​",
            "style": "IPY_MODEL_fbbde9db7cde48519116253e5dad5ca8",
            "value": " 79.0/79.0 [00:00&lt;00:00, 4.50kB/s]"
          }
        },
        "6c3767f5423b4641b3a95599263005d7": {
          "model_module": "@jupyter-widgets/base",
          "model_name": "LayoutModel",
          "model_module_version": "1.2.0",
          "state": {
            "_model_module": "@jupyter-widgets/base",
            "_model_module_version": "1.2.0",
            "_model_name": "LayoutModel",
            "_view_count": null,
            "_view_module": "@jupyter-widgets/base",
            "_view_module_version": "1.2.0",
            "_view_name": "LayoutView",
            "align_content": null,
            "align_items": null,
            "align_self": null,
            "border": null,
            "bottom": null,
            "display": null,
            "flex": null,
            "flex_flow": null,
            "grid_area": null,
            "grid_auto_columns": null,
            "grid_auto_flow": null,
            "grid_auto_rows": null,
            "grid_column": null,
            "grid_gap": null,
            "grid_row": null,
            "grid_template_areas": null,
            "grid_template_columns": null,
            "grid_template_rows": null,
            "height": null,
            "justify_content": null,
            "justify_items": null,
            "left": null,
            "margin": null,
            "max_height": null,
            "max_width": null,
            "min_height": null,
            "min_width": null,
            "object_fit": null,
            "object_position": null,
            "order": null,
            "overflow": null,
            "overflow_x": null,
            "overflow_y": null,
            "padding": null,
            "right": null,
            "top": null,
            "visibility": null,
            "width": null
          }
        },
        "695e079e84dd4380afa28c74e731d011": {
          "model_module": "@jupyter-widgets/base",
          "model_name": "LayoutModel",
          "model_module_version": "1.2.0",
          "state": {
            "_model_module": "@jupyter-widgets/base",
            "_model_module_version": "1.2.0",
            "_model_name": "LayoutModel",
            "_view_count": null,
            "_view_module": "@jupyter-widgets/base",
            "_view_module_version": "1.2.0",
            "_view_name": "LayoutView",
            "align_content": null,
            "align_items": null,
            "align_self": null,
            "border": null,
            "bottom": null,
            "display": null,
            "flex": null,
            "flex_flow": null,
            "grid_area": null,
            "grid_auto_columns": null,
            "grid_auto_flow": null,
            "grid_auto_rows": null,
            "grid_column": null,
            "grid_gap": null,
            "grid_row": null,
            "grid_template_areas": null,
            "grid_template_columns": null,
            "grid_template_rows": null,
            "height": null,
            "justify_content": null,
            "justify_items": null,
            "left": null,
            "margin": null,
            "max_height": null,
            "max_width": null,
            "min_height": null,
            "min_width": null,
            "object_fit": null,
            "object_position": null,
            "order": null,
            "overflow": null,
            "overflow_x": null,
            "overflow_y": null,
            "padding": null,
            "right": null,
            "top": null,
            "visibility": null,
            "width": null
          }
        },
        "6d81f57b23a54ecdb9e00b00f13afec4": {
          "model_module": "@jupyter-widgets/controls",
          "model_name": "DescriptionStyleModel",
          "model_module_version": "1.5.0",
          "state": {
            "_model_module": "@jupyter-widgets/controls",
            "_model_module_version": "1.5.0",
            "_model_name": "DescriptionStyleModel",
            "_view_count": null,
            "_view_module": "@jupyter-widgets/base",
            "_view_module_version": "1.2.0",
            "_view_name": "StyleView",
            "description_width": ""
          }
        },
        "fca60d60629a47aba5f19baf5ec580d4": {
          "model_module": "@jupyter-widgets/base",
          "model_name": "LayoutModel",
          "model_module_version": "1.2.0",
          "state": {
            "_model_module": "@jupyter-widgets/base",
            "_model_module_version": "1.2.0",
            "_model_name": "LayoutModel",
            "_view_count": null,
            "_view_module": "@jupyter-widgets/base",
            "_view_module_version": "1.2.0",
            "_view_name": "LayoutView",
            "align_content": null,
            "align_items": null,
            "align_self": null,
            "border": null,
            "bottom": null,
            "display": null,
            "flex": null,
            "flex_flow": null,
            "grid_area": null,
            "grid_auto_columns": null,
            "grid_auto_flow": null,
            "grid_auto_rows": null,
            "grid_column": null,
            "grid_gap": null,
            "grid_row": null,
            "grid_template_areas": null,
            "grid_template_columns": null,
            "grid_template_rows": null,
            "height": null,
            "justify_content": null,
            "justify_items": null,
            "left": null,
            "margin": null,
            "max_height": null,
            "max_width": null,
            "min_height": null,
            "min_width": null,
            "object_fit": null,
            "object_position": null,
            "order": null,
            "overflow": null,
            "overflow_x": null,
            "overflow_y": null,
            "padding": null,
            "right": null,
            "top": null,
            "visibility": null,
            "width": null
          }
        },
        "f2e29961fdaa424f8c6e067e842cba0e": {
          "model_module": "@jupyter-widgets/controls",
          "model_name": "ProgressStyleModel",
          "model_module_version": "1.5.0",
          "state": {
            "_model_module": "@jupyter-widgets/controls",
            "_model_module_version": "1.5.0",
            "_model_name": "ProgressStyleModel",
            "_view_count": null,
            "_view_module": "@jupyter-widgets/base",
            "_view_module_version": "1.2.0",
            "_view_name": "StyleView",
            "bar_color": null,
            "description_width": ""
          }
        },
        "3809b6ea9bf34edfbf7bc135813811f4": {
          "model_module": "@jupyter-widgets/base",
          "model_name": "LayoutModel",
          "model_module_version": "1.2.0",
          "state": {
            "_model_module": "@jupyter-widgets/base",
            "_model_module_version": "1.2.0",
            "_model_name": "LayoutModel",
            "_view_count": null,
            "_view_module": "@jupyter-widgets/base",
            "_view_module_version": "1.2.0",
            "_view_name": "LayoutView",
            "align_content": null,
            "align_items": null,
            "align_self": null,
            "border": null,
            "bottom": null,
            "display": null,
            "flex": null,
            "flex_flow": null,
            "grid_area": null,
            "grid_auto_columns": null,
            "grid_auto_flow": null,
            "grid_auto_rows": null,
            "grid_column": null,
            "grid_gap": null,
            "grid_row": null,
            "grid_template_areas": null,
            "grid_template_columns": null,
            "grid_template_rows": null,
            "height": null,
            "justify_content": null,
            "justify_items": null,
            "left": null,
            "margin": null,
            "max_height": null,
            "max_width": null,
            "min_height": null,
            "min_width": null,
            "object_fit": null,
            "object_position": null,
            "order": null,
            "overflow": null,
            "overflow_x": null,
            "overflow_y": null,
            "padding": null,
            "right": null,
            "top": null,
            "visibility": null,
            "width": null
          }
        },
        "fbbde9db7cde48519116253e5dad5ca8": {
          "model_module": "@jupyter-widgets/controls",
          "model_name": "DescriptionStyleModel",
          "model_module_version": "1.5.0",
          "state": {
            "_model_module": "@jupyter-widgets/controls",
            "_model_module_version": "1.5.0",
            "_model_name": "DescriptionStyleModel",
            "_view_count": null,
            "_view_module": "@jupyter-widgets/base",
            "_view_module_version": "1.2.0",
            "_view_name": "StyleView",
            "description_width": ""
          }
        },
        "5cf348f3d23c4b2babef1477dbd025fe": {
          "model_module": "@jupyter-widgets/controls",
          "model_name": "HBoxModel",
          "model_module_version": "1.5.0",
          "state": {
            "_dom_classes": [],
            "_model_module": "@jupyter-widgets/controls",
            "_model_module_version": "1.5.0",
            "_model_name": "HBoxModel",
            "_view_count": null,
            "_view_module": "@jupyter-widgets/controls",
            "_view_module_version": "1.5.0",
            "_view_name": "HBoxView",
            "box_style": "",
            "children": [
              "IPY_MODEL_e923ab532cb34f488f776370371b3b6c",
              "IPY_MODEL_71036f72b4ac4b75b2792c0dfda6a11a",
              "IPY_MODEL_9a0ce76e6d444e328a60ad4d5aae5f96"
            ],
            "layout": "IPY_MODEL_e07f89f2985048d88b36c8be8ec9c2d0"
          }
        },
        "e923ab532cb34f488f776370371b3b6c": {
          "model_module": "@jupyter-widgets/controls",
          "model_name": "HTMLModel",
          "model_module_version": "1.5.0",
          "state": {
            "_dom_classes": [],
            "_model_module": "@jupyter-widgets/controls",
            "_model_module_version": "1.5.0",
            "_model_name": "HTMLModel",
            "_view_count": null,
            "_view_module": "@jupyter-widgets/controls",
            "_view_module_version": "1.5.0",
            "_view_name": "HTMLView",
            "description": "",
            "description_tooltip": null,
            "layout": "IPY_MODEL_9798cc2bdb7742e3a06e0371dff77b26",
            "placeholder": "​",
            "style": "IPY_MODEL_2b9eda6e90d74662ad852d38c417b310",
            "value": "Downloading (…)lve/main/config.json: 100%"
          }
        },
        "71036f72b4ac4b75b2792c0dfda6a11a": {
          "model_module": "@jupyter-widgets/controls",
          "model_name": "FloatProgressModel",
          "model_module_version": "1.5.0",
          "state": {
            "_dom_classes": [],
            "_model_module": "@jupyter-widgets/controls",
            "_model_module_version": "1.5.0",
            "_model_name": "FloatProgressModel",
            "_view_count": null,
            "_view_module": "@jupyter-widgets/controls",
            "_view_module_version": "1.5.0",
            "_view_name": "ProgressView",
            "bar_style": "success",
            "description": "",
            "description_tooltip": null,
            "layout": "IPY_MODEL_aed96c3398184445899b01c964aff480",
            "max": 571,
            "min": 0,
            "orientation": "horizontal",
            "style": "IPY_MODEL_10977e40b43f4bdf806efa84d7fff594",
            "value": 571
          }
        },
        "9a0ce76e6d444e328a60ad4d5aae5f96": {
          "model_module": "@jupyter-widgets/controls",
          "model_name": "HTMLModel",
          "model_module_version": "1.5.0",
          "state": {
            "_dom_classes": [],
            "_model_module": "@jupyter-widgets/controls",
            "_model_module_version": "1.5.0",
            "_model_name": "HTMLModel",
            "_view_count": null,
            "_view_module": "@jupyter-widgets/controls",
            "_view_module_version": "1.5.0",
            "_view_name": "HTMLView",
            "description": "",
            "description_tooltip": null,
            "layout": "IPY_MODEL_4b70e43332674e9397f70226dfd80185",
            "placeholder": "​",
            "style": "IPY_MODEL_958708cbf98343a6a144bf0df2e70a65",
            "value": " 571/571 [00:00&lt;00:00, 35.1kB/s]"
          }
        },
        "e07f89f2985048d88b36c8be8ec9c2d0": {
          "model_module": "@jupyter-widgets/base",
          "model_name": "LayoutModel",
          "model_module_version": "1.2.0",
          "state": {
            "_model_module": "@jupyter-widgets/base",
            "_model_module_version": "1.2.0",
            "_model_name": "LayoutModel",
            "_view_count": null,
            "_view_module": "@jupyter-widgets/base",
            "_view_module_version": "1.2.0",
            "_view_name": "LayoutView",
            "align_content": null,
            "align_items": null,
            "align_self": null,
            "border": null,
            "bottom": null,
            "display": null,
            "flex": null,
            "flex_flow": null,
            "grid_area": null,
            "grid_auto_columns": null,
            "grid_auto_flow": null,
            "grid_auto_rows": null,
            "grid_column": null,
            "grid_gap": null,
            "grid_row": null,
            "grid_template_areas": null,
            "grid_template_columns": null,
            "grid_template_rows": null,
            "height": null,
            "justify_content": null,
            "justify_items": null,
            "left": null,
            "margin": null,
            "max_height": null,
            "max_width": null,
            "min_height": null,
            "min_width": null,
            "object_fit": null,
            "object_position": null,
            "order": null,
            "overflow": null,
            "overflow_x": null,
            "overflow_y": null,
            "padding": null,
            "right": null,
            "top": null,
            "visibility": null,
            "width": null
          }
        },
        "9798cc2bdb7742e3a06e0371dff77b26": {
          "model_module": "@jupyter-widgets/base",
          "model_name": "LayoutModel",
          "model_module_version": "1.2.0",
          "state": {
            "_model_module": "@jupyter-widgets/base",
            "_model_module_version": "1.2.0",
            "_model_name": "LayoutModel",
            "_view_count": null,
            "_view_module": "@jupyter-widgets/base",
            "_view_module_version": "1.2.0",
            "_view_name": "LayoutView",
            "align_content": null,
            "align_items": null,
            "align_self": null,
            "border": null,
            "bottom": null,
            "display": null,
            "flex": null,
            "flex_flow": null,
            "grid_area": null,
            "grid_auto_columns": null,
            "grid_auto_flow": null,
            "grid_auto_rows": null,
            "grid_column": null,
            "grid_gap": null,
            "grid_row": null,
            "grid_template_areas": null,
            "grid_template_columns": null,
            "grid_template_rows": null,
            "height": null,
            "justify_content": null,
            "justify_items": null,
            "left": null,
            "margin": null,
            "max_height": null,
            "max_width": null,
            "min_height": null,
            "min_width": null,
            "object_fit": null,
            "object_position": null,
            "order": null,
            "overflow": null,
            "overflow_x": null,
            "overflow_y": null,
            "padding": null,
            "right": null,
            "top": null,
            "visibility": null,
            "width": null
          }
        },
        "2b9eda6e90d74662ad852d38c417b310": {
          "model_module": "@jupyter-widgets/controls",
          "model_name": "DescriptionStyleModel",
          "model_module_version": "1.5.0",
          "state": {
            "_model_module": "@jupyter-widgets/controls",
            "_model_module_version": "1.5.0",
            "_model_name": "DescriptionStyleModel",
            "_view_count": null,
            "_view_module": "@jupyter-widgets/base",
            "_view_module_version": "1.2.0",
            "_view_name": "StyleView",
            "description_width": ""
          }
        },
        "aed96c3398184445899b01c964aff480": {
          "model_module": "@jupyter-widgets/base",
          "model_name": "LayoutModel",
          "model_module_version": "1.2.0",
          "state": {
            "_model_module": "@jupyter-widgets/base",
            "_model_module_version": "1.2.0",
            "_model_name": "LayoutModel",
            "_view_count": null,
            "_view_module": "@jupyter-widgets/base",
            "_view_module_version": "1.2.0",
            "_view_name": "LayoutView",
            "align_content": null,
            "align_items": null,
            "align_self": null,
            "border": null,
            "bottom": null,
            "display": null,
            "flex": null,
            "flex_flow": null,
            "grid_area": null,
            "grid_auto_columns": null,
            "grid_auto_flow": null,
            "grid_auto_rows": null,
            "grid_column": null,
            "grid_gap": null,
            "grid_row": null,
            "grid_template_areas": null,
            "grid_template_columns": null,
            "grid_template_rows": null,
            "height": null,
            "justify_content": null,
            "justify_items": null,
            "left": null,
            "margin": null,
            "max_height": null,
            "max_width": null,
            "min_height": null,
            "min_width": null,
            "object_fit": null,
            "object_position": null,
            "order": null,
            "overflow": null,
            "overflow_x": null,
            "overflow_y": null,
            "padding": null,
            "right": null,
            "top": null,
            "visibility": null,
            "width": null
          }
        },
        "10977e40b43f4bdf806efa84d7fff594": {
          "model_module": "@jupyter-widgets/controls",
          "model_name": "ProgressStyleModel",
          "model_module_version": "1.5.0",
          "state": {
            "_model_module": "@jupyter-widgets/controls",
            "_model_module_version": "1.5.0",
            "_model_name": "ProgressStyleModel",
            "_view_count": null,
            "_view_module": "@jupyter-widgets/base",
            "_view_module_version": "1.2.0",
            "_view_name": "StyleView",
            "bar_color": null,
            "description_width": ""
          }
        },
        "4b70e43332674e9397f70226dfd80185": {
          "model_module": "@jupyter-widgets/base",
          "model_name": "LayoutModel",
          "model_module_version": "1.2.0",
          "state": {
            "_model_module": "@jupyter-widgets/base",
            "_model_module_version": "1.2.0",
            "_model_name": "LayoutModel",
            "_view_count": null,
            "_view_module": "@jupyter-widgets/base",
            "_view_module_version": "1.2.0",
            "_view_name": "LayoutView",
            "align_content": null,
            "align_items": null,
            "align_self": null,
            "border": null,
            "bottom": null,
            "display": null,
            "flex": null,
            "flex_flow": null,
            "grid_area": null,
            "grid_auto_columns": null,
            "grid_auto_flow": null,
            "grid_auto_rows": null,
            "grid_column": null,
            "grid_gap": null,
            "grid_row": null,
            "grid_template_areas": null,
            "grid_template_columns": null,
            "grid_template_rows": null,
            "height": null,
            "justify_content": null,
            "justify_items": null,
            "left": null,
            "margin": null,
            "max_height": null,
            "max_width": null,
            "min_height": null,
            "min_width": null,
            "object_fit": null,
            "object_position": null,
            "order": null,
            "overflow": null,
            "overflow_x": null,
            "overflow_y": null,
            "padding": null,
            "right": null,
            "top": null,
            "visibility": null,
            "width": null
          }
        },
        "958708cbf98343a6a144bf0df2e70a65": {
          "model_module": "@jupyter-widgets/controls",
          "model_name": "DescriptionStyleModel",
          "model_module_version": "1.5.0",
          "state": {
            "_model_module": "@jupyter-widgets/controls",
            "_model_module_version": "1.5.0",
            "_model_name": "DescriptionStyleModel",
            "_view_count": null,
            "_view_module": "@jupyter-widgets/base",
            "_view_module_version": "1.2.0",
            "_view_name": "StyleView",
            "description_width": ""
          }
        },
        "8ff361af9e474dffa2a131720918ec01": {
          "model_module": "@jupyter-widgets/controls",
          "model_name": "HBoxModel",
          "model_module_version": "1.5.0",
          "state": {
            "_dom_classes": [],
            "_model_module": "@jupyter-widgets/controls",
            "_model_module_version": "1.5.0",
            "_model_name": "HBoxModel",
            "_view_count": null,
            "_view_module": "@jupyter-widgets/controls",
            "_view_module_version": "1.5.0",
            "_view_name": "HBoxView",
            "box_style": "",
            "children": [
              "IPY_MODEL_956bd307a1cf488e98e1de33a64206b7",
              "IPY_MODEL_2ff3184f58cb4a6e996c0444471ac300",
              "IPY_MODEL_620b0bdfc2f543b9832b80ff275d5c97"
            ],
            "layout": "IPY_MODEL_fa50fe2d169b47b3946e5b119bbc6e2b"
          }
        },
        "956bd307a1cf488e98e1de33a64206b7": {
          "model_module": "@jupyter-widgets/controls",
          "model_name": "HTMLModel",
          "model_module_version": "1.5.0",
          "state": {
            "_dom_classes": [],
            "_model_module": "@jupyter-widgets/controls",
            "_model_module_version": "1.5.0",
            "_model_name": "HTMLModel",
            "_view_count": null,
            "_view_module": "@jupyter-widgets/controls",
            "_view_module_version": "1.5.0",
            "_view_name": "HTMLView",
            "description": "",
            "description_tooltip": null,
            "layout": "IPY_MODEL_595cc6c7926b47a88d1617429e0829e1",
            "placeholder": "​",
            "style": "IPY_MODEL_194279b79d62487092a482754f8698b8",
            "value": "Downloading (…)olve/main/vocab.json: 100%"
          }
        },
        "2ff3184f58cb4a6e996c0444471ac300": {
          "model_module": "@jupyter-widgets/controls",
          "model_name": "FloatProgressModel",
          "model_module_version": "1.5.0",
          "state": {
            "_dom_classes": [],
            "_model_module": "@jupyter-widgets/controls",
            "_model_module_version": "1.5.0",
            "_model_name": "FloatProgressModel",
            "_view_count": null,
            "_view_module": "@jupyter-widgets/controls",
            "_view_module_version": "1.5.0",
            "_view_name": "ProgressView",
            "bar_style": "success",
            "description": "",
            "description_tooltip": null,
            "layout": "IPY_MODEL_3f09f9e41ad54ad189feace2fd2b4e71",
            "max": 898822,
            "min": 0,
            "orientation": "horizontal",
            "style": "IPY_MODEL_4eae45340ef74f38ae236a225c5c7310",
            "value": 898822
          }
        },
        "620b0bdfc2f543b9832b80ff275d5c97": {
          "model_module": "@jupyter-widgets/controls",
          "model_name": "HTMLModel",
          "model_module_version": "1.5.0",
          "state": {
            "_dom_classes": [],
            "_model_module": "@jupyter-widgets/controls",
            "_model_module_version": "1.5.0",
            "_model_name": "HTMLModel",
            "_view_count": null,
            "_view_module": "@jupyter-widgets/controls",
            "_view_module_version": "1.5.0",
            "_view_name": "HTMLView",
            "description": "",
            "description_tooltip": null,
            "layout": "IPY_MODEL_7281c5b863f94cc89a09fc69fa95e4ba",
            "placeholder": "​",
            "style": "IPY_MODEL_72c271922dc14f528ea7a88222e3167f",
            "value": " 899k/899k [00:00&lt;00:00, 10.9MB/s]"
          }
        },
        "fa50fe2d169b47b3946e5b119bbc6e2b": {
          "model_module": "@jupyter-widgets/base",
          "model_name": "LayoutModel",
          "model_module_version": "1.2.0",
          "state": {
            "_model_module": "@jupyter-widgets/base",
            "_model_module_version": "1.2.0",
            "_model_name": "LayoutModel",
            "_view_count": null,
            "_view_module": "@jupyter-widgets/base",
            "_view_module_version": "1.2.0",
            "_view_name": "LayoutView",
            "align_content": null,
            "align_items": null,
            "align_self": null,
            "border": null,
            "bottom": null,
            "display": null,
            "flex": null,
            "flex_flow": null,
            "grid_area": null,
            "grid_auto_columns": null,
            "grid_auto_flow": null,
            "grid_auto_rows": null,
            "grid_column": null,
            "grid_gap": null,
            "grid_row": null,
            "grid_template_areas": null,
            "grid_template_columns": null,
            "grid_template_rows": null,
            "height": null,
            "justify_content": null,
            "justify_items": null,
            "left": null,
            "margin": null,
            "max_height": null,
            "max_width": null,
            "min_height": null,
            "min_width": null,
            "object_fit": null,
            "object_position": null,
            "order": null,
            "overflow": null,
            "overflow_x": null,
            "overflow_y": null,
            "padding": null,
            "right": null,
            "top": null,
            "visibility": null,
            "width": null
          }
        },
        "595cc6c7926b47a88d1617429e0829e1": {
          "model_module": "@jupyter-widgets/base",
          "model_name": "LayoutModel",
          "model_module_version": "1.2.0",
          "state": {
            "_model_module": "@jupyter-widgets/base",
            "_model_module_version": "1.2.0",
            "_model_name": "LayoutModel",
            "_view_count": null,
            "_view_module": "@jupyter-widgets/base",
            "_view_module_version": "1.2.0",
            "_view_name": "LayoutView",
            "align_content": null,
            "align_items": null,
            "align_self": null,
            "border": null,
            "bottom": null,
            "display": null,
            "flex": null,
            "flex_flow": null,
            "grid_area": null,
            "grid_auto_columns": null,
            "grid_auto_flow": null,
            "grid_auto_rows": null,
            "grid_column": null,
            "grid_gap": null,
            "grid_row": null,
            "grid_template_areas": null,
            "grid_template_columns": null,
            "grid_template_rows": null,
            "height": null,
            "justify_content": null,
            "justify_items": null,
            "left": null,
            "margin": null,
            "max_height": null,
            "max_width": null,
            "min_height": null,
            "min_width": null,
            "object_fit": null,
            "object_position": null,
            "order": null,
            "overflow": null,
            "overflow_x": null,
            "overflow_y": null,
            "padding": null,
            "right": null,
            "top": null,
            "visibility": null,
            "width": null
          }
        },
        "194279b79d62487092a482754f8698b8": {
          "model_module": "@jupyter-widgets/controls",
          "model_name": "DescriptionStyleModel",
          "model_module_version": "1.5.0",
          "state": {
            "_model_module": "@jupyter-widgets/controls",
            "_model_module_version": "1.5.0",
            "_model_name": "DescriptionStyleModel",
            "_view_count": null,
            "_view_module": "@jupyter-widgets/base",
            "_view_module_version": "1.2.0",
            "_view_name": "StyleView",
            "description_width": ""
          }
        },
        "3f09f9e41ad54ad189feace2fd2b4e71": {
          "model_module": "@jupyter-widgets/base",
          "model_name": "LayoutModel",
          "model_module_version": "1.2.0",
          "state": {
            "_model_module": "@jupyter-widgets/base",
            "_model_module_version": "1.2.0",
            "_model_name": "LayoutModel",
            "_view_count": null,
            "_view_module": "@jupyter-widgets/base",
            "_view_module_version": "1.2.0",
            "_view_name": "LayoutView",
            "align_content": null,
            "align_items": null,
            "align_self": null,
            "border": null,
            "bottom": null,
            "display": null,
            "flex": null,
            "flex_flow": null,
            "grid_area": null,
            "grid_auto_columns": null,
            "grid_auto_flow": null,
            "grid_auto_rows": null,
            "grid_column": null,
            "grid_gap": null,
            "grid_row": null,
            "grid_template_areas": null,
            "grid_template_columns": null,
            "grid_template_rows": null,
            "height": null,
            "justify_content": null,
            "justify_items": null,
            "left": null,
            "margin": null,
            "max_height": null,
            "max_width": null,
            "min_height": null,
            "min_width": null,
            "object_fit": null,
            "object_position": null,
            "order": null,
            "overflow": null,
            "overflow_x": null,
            "overflow_y": null,
            "padding": null,
            "right": null,
            "top": null,
            "visibility": null,
            "width": null
          }
        },
        "4eae45340ef74f38ae236a225c5c7310": {
          "model_module": "@jupyter-widgets/controls",
          "model_name": "ProgressStyleModel",
          "model_module_version": "1.5.0",
          "state": {
            "_model_module": "@jupyter-widgets/controls",
            "_model_module_version": "1.5.0",
            "_model_name": "ProgressStyleModel",
            "_view_count": null,
            "_view_module": "@jupyter-widgets/base",
            "_view_module_version": "1.2.0",
            "_view_name": "StyleView",
            "bar_color": null,
            "description_width": ""
          }
        },
        "7281c5b863f94cc89a09fc69fa95e4ba": {
          "model_module": "@jupyter-widgets/base",
          "model_name": "LayoutModel",
          "model_module_version": "1.2.0",
          "state": {
            "_model_module": "@jupyter-widgets/base",
            "_model_module_version": "1.2.0",
            "_model_name": "LayoutModel",
            "_view_count": null,
            "_view_module": "@jupyter-widgets/base",
            "_view_module_version": "1.2.0",
            "_view_name": "LayoutView",
            "align_content": null,
            "align_items": null,
            "align_self": null,
            "border": null,
            "bottom": null,
            "display": null,
            "flex": null,
            "flex_flow": null,
            "grid_area": null,
            "grid_auto_columns": null,
            "grid_auto_flow": null,
            "grid_auto_rows": null,
            "grid_column": null,
            "grid_gap": null,
            "grid_row": null,
            "grid_template_areas": null,
            "grid_template_columns": null,
            "grid_template_rows": null,
            "height": null,
            "justify_content": null,
            "justify_items": null,
            "left": null,
            "margin": null,
            "max_height": null,
            "max_width": null,
            "min_height": null,
            "min_width": null,
            "object_fit": null,
            "object_position": null,
            "order": null,
            "overflow": null,
            "overflow_x": null,
            "overflow_y": null,
            "padding": null,
            "right": null,
            "top": null,
            "visibility": null,
            "width": null
          }
        },
        "72c271922dc14f528ea7a88222e3167f": {
          "model_module": "@jupyter-widgets/controls",
          "model_name": "DescriptionStyleModel",
          "model_module_version": "1.5.0",
          "state": {
            "_model_module": "@jupyter-widgets/controls",
            "_model_module_version": "1.5.0",
            "_model_name": "DescriptionStyleModel",
            "_view_count": null,
            "_view_module": "@jupyter-widgets/base",
            "_view_module_version": "1.2.0",
            "_view_name": "StyleView",
            "description_width": ""
          }
        },
        "b994db400ea74d21a75941258dad5aa4": {
          "model_module": "@jupyter-widgets/controls",
          "model_name": "HBoxModel",
          "model_module_version": "1.5.0",
          "state": {
            "_dom_classes": [],
            "_model_module": "@jupyter-widgets/controls",
            "_model_module_version": "1.5.0",
            "_model_name": "HBoxModel",
            "_view_count": null,
            "_view_module": "@jupyter-widgets/controls",
            "_view_module_version": "1.5.0",
            "_view_name": "HBoxView",
            "box_style": "",
            "children": [
              "IPY_MODEL_8289b03cc1854ca7b0ea089b4eb28ed4",
              "IPY_MODEL_ffaa69c54d1e42ac939bfd854342ae9e",
              "IPY_MODEL_f210cd787b6f4d5981abc2647d852f3e"
            ],
            "layout": "IPY_MODEL_f9363c43ca8940968ff9e88913676e65"
          }
        },
        "8289b03cc1854ca7b0ea089b4eb28ed4": {
          "model_module": "@jupyter-widgets/controls",
          "model_name": "HTMLModel",
          "model_module_version": "1.5.0",
          "state": {
            "_dom_classes": [],
            "_model_module": "@jupyter-widgets/controls",
            "_model_module_version": "1.5.0",
            "_model_name": "HTMLModel",
            "_view_count": null,
            "_view_module": "@jupyter-widgets/controls",
            "_view_module_version": "1.5.0",
            "_view_name": "HTMLView",
            "description": "",
            "description_tooltip": null,
            "layout": "IPY_MODEL_ba2951b367604b50a68540cf9e551b56",
            "placeholder": "​",
            "style": "IPY_MODEL_ba8b76f89a6c4414bf2ed964431d9ee0",
            "value": "Downloading (…)olve/main/merges.txt: 100%"
          }
        },
        "ffaa69c54d1e42ac939bfd854342ae9e": {
          "model_module": "@jupyter-widgets/controls",
          "model_name": "FloatProgressModel",
          "model_module_version": "1.5.0",
          "state": {
            "_dom_classes": [],
            "_model_module": "@jupyter-widgets/controls",
            "_model_module_version": "1.5.0",
            "_model_name": "FloatProgressModel",
            "_view_count": null,
            "_view_module": "@jupyter-widgets/controls",
            "_view_module_version": "1.5.0",
            "_view_name": "ProgressView",
            "bar_style": "success",
            "description": "",
            "description_tooltip": null,
            "layout": "IPY_MODEL_a24fb35621a84db89d062c0134c3545e",
            "max": 456318,
            "min": 0,
            "orientation": "horizontal",
            "style": "IPY_MODEL_3f977d7a77db4187bdf0ca21894a0c51",
            "value": 456318
          }
        },
        "f210cd787b6f4d5981abc2647d852f3e": {
          "model_module": "@jupyter-widgets/controls",
          "model_name": "HTMLModel",
          "model_module_version": "1.5.0",
          "state": {
            "_dom_classes": [],
            "_model_module": "@jupyter-widgets/controls",
            "_model_module_version": "1.5.0",
            "_model_name": "HTMLModel",
            "_view_count": null,
            "_view_module": "@jupyter-widgets/controls",
            "_view_module_version": "1.5.0",
            "_view_name": "HTMLView",
            "description": "",
            "description_tooltip": null,
            "layout": "IPY_MODEL_c87965d51e4c44389a894ec5471e05d4",
            "placeholder": "​",
            "style": "IPY_MODEL_f725f2f99dd54e25bff5c4cc5c7f4ee8",
            "value": " 456k/456k [00:00&lt;00:00, 1.85MB/s]"
          }
        },
        "f9363c43ca8940968ff9e88913676e65": {
          "model_module": "@jupyter-widgets/base",
          "model_name": "LayoutModel",
          "model_module_version": "1.2.0",
          "state": {
            "_model_module": "@jupyter-widgets/base",
            "_model_module_version": "1.2.0",
            "_model_name": "LayoutModel",
            "_view_count": null,
            "_view_module": "@jupyter-widgets/base",
            "_view_module_version": "1.2.0",
            "_view_name": "LayoutView",
            "align_content": null,
            "align_items": null,
            "align_self": null,
            "border": null,
            "bottom": null,
            "display": null,
            "flex": null,
            "flex_flow": null,
            "grid_area": null,
            "grid_auto_columns": null,
            "grid_auto_flow": null,
            "grid_auto_rows": null,
            "grid_column": null,
            "grid_gap": null,
            "grid_row": null,
            "grid_template_areas": null,
            "grid_template_columns": null,
            "grid_template_rows": null,
            "height": null,
            "justify_content": null,
            "justify_items": null,
            "left": null,
            "margin": null,
            "max_height": null,
            "max_width": null,
            "min_height": null,
            "min_width": null,
            "object_fit": null,
            "object_position": null,
            "order": null,
            "overflow": null,
            "overflow_x": null,
            "overflow_y": null,
            "padding": null,
            "right": null,
            "top": null,
            "visibility": null,
            "width": null
          }
        },
        "ba2951b367604b50a68540cf9e551b56": {
          "model_module": "@jupyter-widgets/base",
          "model_name": "LayoutModel",
          "model_module_version": "1.2.0",
          "state": {
            "_model_module": "@jupyter-widgets/base",
            "_model_module_version": "1.2.0",
            "_model_name": "LayoutModel",
            "_view_count": null,
            "_view_module": "@jupyter-widgets/base",
            "_view_module_version": "1.2.0",
            "_view_name": "LayoutView",
            "align_content": null,
            "align_items": null,
            "align_self": null,
            "border": null,
            "bottom": null,
            "display": null,
            "flex": null,
            "flex_flow": null,
            "grid_area": null,
            "grid_auto_columns": null,
            "grid_auto_flow": null,
            "grid_auto_rows": null,
            "grid_column": null,
            "grid_gap": null,
            "grid_row": null,
            "grid_template_areas": null,
            "grid_template_columns": null,
            "grid_template_rows": null,
            "height": null,
            "justify_content": null,
            "justify_items": null,
            "left": null,
            "margin": null,
            "max_height": null,
            "max_width": null,
            "min_height": null,
            "min_width": null,
            "object_fit": null,
            "object_position": null,
            "order": null,
            "overflow": null,
            "overflow_x": null,
            "overflow_y": null,
            "padding": null,
            "right": null,
            "top": null,
            "visibility": null,
            "width": null
          }
        },
        "ba8b76f89a6c4414bf2ed964431d9ee0": {
          "model_module": "@jupyter-widgets/controls",
          "model_name": "DescriptionStyleModel",
          "model_module_version": "1.5.0",
          "state": {
            "_model_module": "@jupyter-widgets/controls",
            "_model_module_version": "1.5.0",
            "_model_name": "DescriptionStyleModel",
            "_view_count": null,
            "_view_module": "@jupyter-widgets/base",
            "_view_module_version": "1.2.0",
            "_view_name": "StyleView",
            "description_width": ""
          }
        },
        "a24fb35621a84db89d062c0134c3545e": {
          "model_module": "@jupyter-widgets/base",
          "model_name": "LayoutModel",
          "model_module_version": "1.2.0",
          "state": {
            "_model_module": "@jupyter-widgets/base",
            "_model_module_version": "1.2.0",
            "_model_name": "LayoutModel",
            "_view_count": null,
            "_view_module": "@jupyter-widgets/base",
            "_view_module_version": "1.2.0",
            "_view_name": "LayoutView",
            "align_content": null,
            "align_items": null,
            "align_self": null,
            "border": null,
            "bottom": null,
            "display": null,
            "flex": null,
            "flex_flow": null,
            "grid_area": null,
            "grid_auto_columns": null,
            "grid_auto_flow": null,
            "grid_auto_rows": null,
            "grid_column": null,
            "grid_gap": null,
            "grid_row": null,
            "grid_template_areas": null,
            "grid_template_columns": null,
            "grid_template_rows": null,
            "height": null,
            "justify_content": null,
            "justify_items": null,
            "left": null,
            "margin": null,
            "max_height": null,
            "max_width": null,
            "min_height": null,
            "min_width": null,
            "object_fit": null,
            "object_position": null,
            "order": null,
            "overflow": null,
            "overflow_x": null,
            "overflow_y": null,
            "padding": null,
            "right": null,
            "top": null,
            "visibility": null,
            "width": null
          }
        },
        "3f977d7a77db4187bdf0ca21894a0c51": {
          "model_module": "@jupyter-widgets/controls",
          "model_name": "ProgressStyleModel",
          "model_module_version": "1.5.0",
          "state": {
            "_model_module": "@jupyter-widgets/controls",
            "_model_module_version": "1.5.0",
            "_model_name": "ProgressStyleModel",
            "_view_count": null,
            "_view_module": "@jupyter-widgets/base",
            "_view_module_version": "1.2.0",
            "_view_name": "StyleView",
            "bar_color": null,
            "description_width": ""
          }
        },
        "c87965d51e4c44389a894ec5471e05d4": {
          "model_module": "@jupyter-widgets/base",
          "model_name": "LayoutModel",
          "model_module_version": "1.2.0",
          "state": {
            "_model_module": "@jupyter-widgets/base",
            "_model_module_version": "1.2.0",
            "_model_name": "LayoutModel",
            "_view_count": null,
            "_view_module": "@jupyter-widgets/base",
            "_view_module_version": "1.2.0",
            "_view_name": "LayoutView",
            "align_content": null,
            "align_items": null,
            "align_self": null,
            "border": null,
            "bottom": null,
            "display": null,
            "flex": null,
            "flex_flow": null,
            "grid_area": null,
            "grid_auto_columns": null,
            "grid_auto_flow": null,
            "grid_auto_rows": null,
            "grid_column": null,
            "grid_gap": null,
            "grid_row": null,
            "grid_template_areas": null,
            "grid_template_columns": null,
            "grid_template_rows": null,
            "height": null,
            "justify_content": null,
            "justify_items": null,
            "left": null,
            "margin": null,
            "max_height": null,
            "max_width": null,
            "min_height": null,
            "min_width": null,
            "object_fit": null,
            "object_position": null,
            "order": null,
            "overflow": null,
            "overflow_x": null,
            "overflow_y": null,
            "padding": null,
            "right": null,
            "top": null,
            "visibility": null,
            "width": null
          }
        },
        "f725f2f99dd54e25bff5c4cc5c7f4ee8": {
          "model_module": "@jupyter-widgets/controls",
          "model_name": "DescriptionStyleModel",
          "model_module_version": "1.5.0",
          "state": {
            "_model_module": "@jupyter-widgets/controls",
            "_model_module_version": "1.5.0",
            "_model_name": "DescriptionStyleModel",
            "_view_count": null,
            "_view_module": "@jupyter-widgets/base",
            "_view_module_version": "1.2.0",
            "_view_name": "StyleView",
            "description_width": ""
          }
        },
        "2aec9c693c9046a58259d2f7f34cad92": {
          "model_module": "@jupyter-widgets/controls",
          "model_name": "HBoxModel",
          "model_module_version": "1.5.0",
          "state": {
            "_dom_classes": [],
            "_model_module": "@jupyter-widgets/controls",
            "_model_module_version": "1.5.0",
            "_model_name": "HBoxModel",
            "_view_count": null,
            "_view_module": "@jupyter-widgets/controls",
            "_view_module_version": "1.5.0",
            "_view_name": "HBoxView",
            "box_style": "",
            "children": [
              "IPY_MODEL_6e68df099d4b4a84ae32b69abba91703",
              "IPY_MODEL_1f92d9b16bc2472bbea3cacee3d49849",
              "IPY_MODEL_4496152ca59f41808a7dd8a36a29552d"
            ],
            "layout": "IPY_MODEL_4aa93718d2e14ee99616158e026b53c5"
          }
        },
        "6e68df099d4b4a84ae32b69abba91703": {
          "model_module": "@jupyter-widgets/controls",
          "model_name": "HTMLModel",
          "model_module_version": "1.5.0",
          "state": {
            "_dom_classes": [],
            "_model_module": "@jupyter-widgets/controls",
            "_model_module_version": "1.5.0",
            "_model_name": "HTMLModel",
            "_view_count": null,
            "_view_module": "@jupyter-widgets/controls",
            "_view_module_version": "1.5.0",
            "_view_name": "HTMLView",
            "description": "",
            "description_tooltip": null,
            "layout": "IPY_MODEL_dbda9c271c334ff1ab6ab148e5f30afb",
            "placeholder": "​",
            "style": "IPY_MODEL_feb6760038bc4178b42a2aca8af07f3c",
            "value": "Downloading (…)cial_tokens_map.json: 100%"
          }
        },
        "1f92d9b16bc2472bbea3cacee3d49849": {
          "model_module": "@jupyter-widgets/controls",
          "model_name": "FloatProgressModel",
          "model_module_version": "1.5.0",
          "state": {
            "_dom_classes": [],
            "_model_module": "@jupyter-widgets/controls",
            "_model_module_version": "1.5.0",
            "_model_name": "FloatProgressModel",
            "_view_count": null,
            "_view_module": "@jupyter-widgets/controls",
            "_view_module_version": "1.5.0",
            "_view_name": "ProgressView",
            "bar_style": "success",
            "description": "",
            "description_tooltip": null,
            "layout": "IPY_MODEL_b534df5b217f4bbdb400a634a9081366",
            "max": 772,
            "min": 0,
            "orientation": "horizontal",
            "style": "IPY_MODEL_0034cf5bc459416c851ee0ad14413ad9",
            "value": 772
          }
        },
        "4496152ca59f41808a7dd8a36a29552d": {
          "model_module": "@jupyter-widgets/controls",
          "model_name": "HTMLModel",
          "model_module_version": "1.5.0",
          "state": {
            "_dom_classes": [],
            "_model_module": "@jupyter-widgets/controls",
            "_model_module_version": "1.5.0",
            "_model_name": "HTMLModel",
            "_view_count": null,
            "_view_module": "@jupyter-widgets/controls",
            "_view_module_version": "1.5.0",
            "_view_name": "HTMLView",
            "description": "",
            "description_tooltip": null,
            "layout": "IPY_MODEL_07721c436d5644c3bdde04e673c3b9ef",
            "placeholder": "​",
            "style": "IPY_MODEL_dffd49d912b543e19d94656785385306",
            "value": " 772/772 [00:00&lt;00:00, 48.1kB/s]"
          }
        },
        "4aa93718d2e14ee99616158e026b53c5": {
          "model_module": "@jupyter-widgets/base",
          "model_name": "LayoutModel",
          "model_module_version": "1.2.0",
          "state": {
            "_model_module": "@jupyter-widgets/base",
            "_model_module_version": "1.2.0",
            "_model_name": "LayoutModel",
            "_view_count": null,
            "_view_module": "@jupyter-widgets/base",
            "_view_module_version": "1.2.0",
            "_view_name": "LayoutView",
            "align_content": null,
            "align_items": null,
            "align_self": null,
            "border": null,
            "bottom": null,
            "display": null,
            "flex": null,
            "flex_flow": null,
            "grid_area": null,
            "grid_auto_columns": null,
            "grid_auto_flow": null,
            "grid_auto_rows": null,
            "grid_column": null,
            "grid_gap": null,
            "grid_row": null,
            "grid_template_areas": null,
            "grid_template_columns": null,
            "grid_template_rows": null,
            "height": null,
            "justify_content": null,
            "justify_items": null,
            "left": null,
            "margin": null,
            "max_height": null,
            "max_width": null,
            "min_height": null,
            "min_width": null,
            "object_fit": null,
            "object_position": null,
            "order": null,
            "overflow": null,
            "overflow_x": null,
            "overflow_y": null,
            "padding": null,
            "right": null,
            "top": null,
            "visibility": null,
            "width": null
          }
        },
        "dbda9c271c334ff1ab6ab148e5f30afb": {
          "model_module": "@jupyter-widgets/base",
          "model_name": "LayoutModel",
          "model_module_version": "1.2.0",
          "state": {
            "_model_module": "@jupyter-widgets/base",
            "_model_module_version": "1.2.0",
            "_model_name": "LayoutModel",
            "_view_count": null,
            "_view_module": "@jupyter-widgets/base",
            "_view_module_version": "1.2.0",
            "_view_name": "LayoutView",
            "align_content": null,
            "align_items": null,
            "align_self": null,
            "border": null,
            "bottom": null,
            "display": null,
            "flex": null,
            "flex_flow": null,
            "grid_area": null,
            "grid_auto_columns": null,
            "grid_auto_flow": null,
            "grid_auto_rows": null,
            "grid_column": null,
            "grid_gap": null,
            "grid_row": null,
            "grid_template_areas": null,
            "grid_template_columns": null,
            "grid_template_rows": null,
            "height": null,
            "justify_content": null,
            "justify_items": null,
            "left": null,
            "margin": null,
            "max_height": null,
            "max_width": null,
            "min_height": null,
            "min_width": null,
            "object_fit": null,
            "object_position": null,
            "order": null,
            "overflow": null,
            "overflow_x": null,
            "overflow_y": null,
            "padding": null,
            "right": null,
            "top": null,
            "visibility": null,
            "width": null
          }
        },
        "feb6760038bc4178b42a2aca8af07f3c": {
          "model_module": "@jupyter-widgets/controls",
          "model_name": "DescriptionStyleModel",
          "model_module_version": "1.5.0",
          "state": {
            "_model_module": "@jupyter-widgets/controls",
            "_model_module_version": "1.5.0",
            "_model_name": "DescriptionStyleModel",
            "_view_count": null,
            "_view_module": "@jupyter-widgets/base",
            "_view_module_version": "1.2.0",
            "_view_name": "StyleView",
            "description_width": ""
          }
        },
        "b534df5b217f4bbdb400a634a9081366": {
          "model_module": "@jupyter-widgets/base",
          "model_name": "LayoutModel",
          "model_module_version": "1.2.0",
          "state": {
            "_model_module": "@jupyter-widgets/base",
            "_model_module_version": "1.2.0",
            "_model_name": "LayoutModel",
            "_view_count": null,
            "_view_module": "@jupyter-widgets/base",
            "_view_module_version": "1.2.0",
            "_view_name": "LayoutView",
            "align_content": null,
            "align_items": null,
            "align_self": null,
            "border": null,
            "bottom": null,
            "display": null,
            "flex": null,
            "flex_flow": null,
            "grid_area": null,
            "grid_auto_columns": null,
            "grid_auto_flow": null,
            "grid_auto_rows": null,
            "grid_column": null,
            "grid_gap": null,
            "grid_row": null,
            "grid_template_areas": null,
            "grid_template_columns": null,
            "grid_template_rows": null,
            "height": null,
            "justify_content": null,
            "justify_items": null,
            "left": null,
            "margin": null,
            "max_height": null,
            "max_width": null,
            "min_height": null,
            "min_width": null,
            "object_fit": null,
            "object_position": null,
            "order": null,
            "overflow": null,
            "overflow_x": null,
            "overflow_y": null,
            "padding": null,
            "right": null,
            "top": null,
            "visibility": null,
            "width": null
          }
        },
        "0034cf5bc459416c851ee0ad14413ad9": {
          "model_module": "@jupyter-widgets/controls",
          "model_name": "ProgressStyleModel",
          "model_module_version": "1.5.0",
          "state": {
            "_model_module": "@jupyter-widgets/controls",
            "_model_module_version": "1.5.0",
            "_model_name": "ProgressStyleModel",
            "_view_count": null,
            "_view_module": "@jupyter-widgets/base",
            "_view_module_version": "1.2.0",
            "_view_name": "StyleView",
            "bar_color": null,
            "description_width": ""
          }
        },
        "07721c436d5644c3bdde04e673c3b9ef": {
          "model_module": "@jupyter-widgets/base",
          "model_name": "LayoutModel",
          "model_module_version": "1.2.0",
          "state": {
            "_model_module": "@jupyter-widgets/base",
            "_model_module_version": "1.2.0",
            "_model_name": "LayoutModel",
            "_view_count": null,
            "_view_module": "@jupyter-widgets/base",
            "_view_module_version": "1.2.0",
            "_view_name": "LayoutView",
            "align_content": null,
            "align_items": null,
            "align_self": null,
            "border": null,
            "bottom": null,
            "display": null,
            "flex": null,
            "flex_flow": null,
            "grid_area": null,
            "grid_auto_columns": null,
            "grid_auto_flow": null,
            "grid_auto_rows": null,
            "grid_column": null,
            "grid_gap": null,
            "grid_row": null,
            "grid_template_areas": null,
            "grid_template_columns": null,
            "grid_template_rows": null,
            "height": null,
            "justify_content": null,
            "justify_items": null,
            "left": null,
            "margin": null,
            "max_height": null,
            "max_width": null,
            "min_height": null,
            "min_width": null,
            "object_fit": null,
            "object_position": null,
            "order": null,
            "overflow": null,
            "overflow_x": null,
            "overflow_y": null,
            "padding": null,
            "right": null,
            "top": null,
            "visibility": null,
            "width": null
          }
        },
        "dffd49d912b543e19d94656785385306": {
          "model_module": "@jupyter-widgets/controls",
          "model_name": "DescriptionStyleModel",
          "model_module_version": "1.5.0",
          "state": {
            "_model_module": "@jupyter-widgets/controls",
            "_model_module_version": "1.5.0",
            "_model_name": "DescriptionStyleModel",
            "_view_count": null,
            "_view_module": "@jupyter-widgets/base",
            "_view_module_version": "1.2.0",
            "_view_name": "StyleView",
            "description_width": ""
          }
        },
        "7dd68ace9cbc4c5db8aa83d5f413d0fd": {
          "model_module": "@jupyter-widgets/controls",
          "model_name": "HBoxModel",
          "model_module_version": "1.5.0",
          "state": {
            "_dom_classes": [],
            "_model_module": "@jupyter-widgets/controls",
            "_model_module_version": "1.5.0",
            "_model_name": "HBoxModel",
            "_view_count": null,
            "_view_module": "@jupyter-widgets/controls",
            "_view_module_version": "1.5.0",
            "_view_name": "HBoxView",
            "box_style": "",
            "children": [
              "IPY_MODEL_0c0b6f868f7f418bb92bb1e3fc24ecf2",
              "IPY_MODEL_396db620b4584dbc8bc0701d545f14ed",
              "IPY_MODEL_09ff2d29544943a0a482ec8e03808b4a"
            ],
            "layout": "IPY_MODEL_194e5189c854447888d4a2c574661275"
          }
        },
        "0c0b6f868f7f418bb92bb1e3fc24ecf2": {
          "model_module": "@jupyter-widgets/controls",
          "model_name": "HTMLModel",
          "model_module_version": "1.5.0",
          "state": {
            "_dom_classes": [],
            "_model_module": "@jupyter-widgets/controls",
            "_model_module_version": "1.5.0",
            "_model_name": "HTMLModel",
            "_view_count": null,
            "_view_module": "@jupyter-widgets/controls",
            "_view_module_version": "1.5.0",
            "_view_name": "HTMLView",
            "description": "",
            "description_tooltip": null,
            "layout": "IPY_MODEL_01a0203eb9e74ef4b023dcfaefaf65c6",
            "placeholder": "​",
            "style": "IPY_MODEL_12dc8f85ad6d47bdab7d549d07333558",
            "value": "Downloading model.safetensors: 100%"
          }
        },
        "396db620b4584dbc8bc0701d545f14ed": {
          "model_module": "@jupyter-widgets/controls",
          "model_name": "FloatProgressModel",
          "model_module_version": "1.5.0",
          "state": {
            "_dom_classes": [],
            "_model_module": "@jupyter-widgets/controls",
            "_model_module_version": "1.5.0",
            "_model_name": "FloatProgressModel",
            "_view_count": null,
            "_view_module": "@jupyter-widgets/controls",
            "_view_module_version": "1.5.0",
            "_view_name": "ProgressView",
            "bar_style": "success",
            "description": "",
            "description_tooltip": null,
            "layout": "IPY_MODEL_bd72955f0c9c45beb8a8c28d5aaaa42b",
            "max": 496254442,
            "min": 0,
            "orientation": "horizontal",
            "style": "IPY_MODEL_84929b257f25427dafbc4d3d61823601",
            "value": 496254442
          }
        },
        "09ff2d29544943a0a482ec8e03808b4a": {
          "model_module": "@jupyter-widgets/controls",
          "model_name": "HTMLModel",
          "model_module_version": "1.5.0",
          "state": {
            "_dom_classes": [],
            "_model_module": "@jupyter-widgets/controls",
            "_model_module_version": "1.5.0",
            "_model_name": "HTMLModel",
            "_view_count": null,
            "_view_module": "@jupyter-widgets/controls",
            "_view_module_version": "1.5.0",
            "_view_name": "HTMLView",
            "description": "",
            "description_tooltip": null,
            "layout": "IPY_MODEL_7173ffea61204d2ba50ec2c137552303",
            "placeholder": "​",
            "style": "IPY_MODEL_9afab0f562dd47d2878224f734d4206e",
            "value": " 496M/496M [00:01&lt;00:00, 275MB/s]"
          }
        },
        "194e5189c854447888d4a2c574661275": {
          "model_module": "@jupyter-widgets/base",
          "model_name": "LayoutModel",
          "model_module_version": "1.2.0",
          "state": {
            "_model_module": "@jupyter-widgets/base",
            "_model_module_version": "1.2.0",
            "_model_name": "LayoutModel",
            "_view_count": null,
            "_view_module": "@jupyter-widgets/base",
            "_view_module_version": "1.2.0",
            "_view_name": "LayoutView",
            "align_content": null,
            "align_items": null,
            "align_self": null,
            "border": null,
            "bottom": null,
            "display": null,
            "flex": null,
            "flex_flow": null,
            "grid_area": null,
            "grid_auto_columns": null,
            "grid_auto_flow": null,
            "grid_auto_rows": null,
            "grid_column": null,
            "grid_gap": null,
            "grid_row": null,
            "grid_template_areas": null,
            "grid_template_columns": null,
            "grid_template_rows": null,
            "height": null,
            "justify_content": null,
            "justify_items": null,
            "left": null,
            "margin": null,
            "max_height": null,
            "max_width": null,
            "min_height": null,
            "min_width": null,
            "object_fit": null,
            "object_position": null,
            "order": null,
            "overflow": null,
            "overflow_x": null,
            "overflow_y": null,
            "padding": null,
            "right": null,
            "top": null,
            "visibility": null,
            "width": null
          }
        },
        "01a0203eb9e74ef4b023dcfaefaf65c6": {
          "model_module": "@jupyter-widgets/base",
          "model_name": "LayoutModel",
          "model_module_version": "1.2.0",
          "state": {
            "_model_module": "@jupyter-widgets/base",
            "_model_module_version": "1.2.0",
            "_model_name": "LayoutModel",
            "_view_count": null,
            "_view_module": "@jupyter-widgets/base",
            "_view_module_version": "1.2.0",
            "_view_name": "LayoutView",
            "align_content": null,
            "align_items": null,
            "align_self": null,
            "border": null,
            "bottom": null,
            "display": null,
            "flex": null,
            "flex_flow": null,
            "grid_area": null,
            "grid_auto_columns": null,
            "grid_auto_flow": null,
            "grid_auto_rows": null,
            "grid_column": null,
            "grid_gap": null,
            "grid_row": null,
            "grid_template_areas": null,
            "grid_template_columns": null,
            "grid_template_rows": null,
            "height": null,
            "justify_content": null,
            "justify_items": null,
            "left": null,
            "margin": null,
            "max_height": null,
            "max_width": null,
            "min_height": null,
            "min_width": null,
            "object_fit": null,
            "object_position": null,
            "order": null,
            "overflow": null,
            "overflow_x": null,
            "overflow_y": null,
            "padding": null,
            "right": null,
            "top": null,
            "visibility": null,
            "width": null
          }
        },
        "12dc8f85ad6d47bdab7d549d07333558": {
          "model_module": "@jupyter-widgets/controls",
          "model_name": "DescriptionStyleModel",
          "model_module_version": "1.5.0",
          "state": {
            "_model_module": "@jupyter-widgets/controls",
            "_model_module_version": "1.5.0",
            "_model_name": "DescriptionStyleModel",
            "_view_count": null,
            "_view_module": "@jupyter-widgets/base",
            "_view_module_version": "1.2.0",
            "_view_name": "StyleView",
            "description_width": ""
          }
        },
        "bd72955f0c9c45beb8a8c28d5aaaa42b": {
          "model_module": "@jupyter-widgets/base",
          "model_name": "LayoutModel",
          "model_module_version": "1.2.0",
          "state": {
            "_model_module": "@jupyter-widgets/base",
            "_model_module_version": "1.2.0",
            "_model_name": "LayoutModel",
            "_view_count": null,
            "_view_module": "@jupyter-widgets/base",
            "_view_module_version": "1.2.0",
            "_view_name": "LayoutView",
            "align_content": null,
            "align_items": null,
            "align_self": null,
            "border": null,
            "bottom": null,
            "display": null,
            "flex": null,
            "flex_flow": null,
            "grid_area": null,
            "grid_auto_columns": null,
            "grid_auto_flow": null,
            "grid_auto_rows": null,
            "grid_column": null,
            "grid_gap": null,
            "grid_row": null,
            "grid_template_areas": null,
            "grid_template_columns": null,
            "grid_template_rows": null,
            "height": null,
            "justify_content": null,
            "justify_items": null,
            "left": null,
            "margin": null,
            "max_height": null,
            "max_width": null,
            "min_height": null,
            "min_width": null,
            "object_fit": null,
            "object_position": null,
            "order": null,
            "overflow": null,
            "overflow_x": null,
            "overflow_y": null,
            "padding": null,
            "right": null,
            "top": null,
            "visibility": null,
            "width": null
          }
        },
        "84929b257f25427dafbc4d3d61823601": {
          "model_module": "@jupyter-widgets/controls",
          "model_name": "ProgressStyleModel",
          "model_module_version": "1.5.0",
          "state": {
            "_model_module": "@jupyter-widgets/controls",
            "_model_module_version": "1.5.0",
            "_model_name": "ProgressStyleModel",
            "_view_count": null,
            "_view_module": "@jupyter-widgets/base",
            "_view_module_version": "1.2.0",
            "_view_name": "StyleView",
            "bar_color": null,
            "description_width": ""
          }
        },
        "7173ffea61204d2ba50ec2c137552303": {
          "model_module": "@jupyter-widgets/base",
          "model_name": "LayoutModel",
          "model_module_version": "1.2.0",
          "state": {
            "_model_module": "@jupyter-widgets/base",
            "_model_module_version": "1.2.0",
            "_model_name": "LayoutModel",
            "_view_count": null,
            "_view_module": "@jupyter-widgets/base",
            "_view_module_version": "1.2.0",
            "_view_name": "LayoutView",
            "align_content": null,
            "align_items": null,
            "align_self": null,
            "border": null,
            "bottom": null,
            "display": null,
            "flex": null,
            "flex_flow": null,
            "grid_area": null,
            "grid_auto_columns": null,
            "grid_auto_flow": null,
            "grid_auto_rows": null,
            "grid_column": null,
            "grid_gap": null,
            "grid_row": null,
            "grid_template_areas": null,
            "grid_template_columns": null,
            "grid_template_rows": null,
            "height": null,
            "justify_content": null,
            "justify_items": null,
            "left": null,
            "margin": null,
            "max_height": null,
            "max_width": null,
            "min_height": null,
            "min_width": null,
            "object_fit": null,
            "object_position": null,
            "order": null,
            "overflow": null,
            "overflow_x": null,
            "overflow_y": null,
            "padding": null,
            "right": null,
            "top": null,
            "visibility": null,
            "width": null
          }
        },
        "9afab0f562dd47d2878224f734d4206e": {
          "model_module": "@jupyter-widgets/controls",
          "model_name": "DescriptionStyleModel",
          "model_module_version": "1.5.0",
          "state": {
            "_model_module": "@jupyter-widgets/controls",
            "_model_module_version": "1.5.0",
            "_model_name": "DescriptionStyleModel",
            "_view_count": null,
            "_view_module": "@jupyter-widgets/base",
            "_view_module_version": "1.2.0",
            "_view_name": "StyleView",
            "description_width": ""
          }
        }
      }
    }
  },
  "cells": [
    {
      "cell_type": "code",
      "source": [
        "!pip install transformers\n",
        "!pip install datasets"
      ],
      "metadata": {
        "colab": {
          "base_uri": "https://localhost:8080/"
        },
        "id": "UFUl-qGzJTw_",
        "outputId": "e44b0ed1-5d0a-49c1-ba4d-bca2ba5116e7"
      },
      "execution_count": 1,
      "outputs": [
        {
          "output_type": "stream",
          "name": "stdout",
          "text": [
            "Looking in indexes: https://pypi.org/simple, https://us-python.pkg.dev/colab-wheels/public/simple/\n",
            "Collecting transformers\n",
            "  Downloading transformers-4.30.1-py3-none-any.whl (7.2 MB)\n",
            "\u001b[2K     \u001b[90m━━━━━━━━━━━━━━━━━━━━━━━━━━━━━━━━━━━━━━━━\u001b[0m \u001b[32m7.2/7.2 MB\u001b[0m \u001b[31m74.5 MB/s\u001b[0m eta \u001b[36m0:00:00\u001b[0m\n",
            "\u001b[?25hRequirement already satisfied: filelock in /usr/local/lib/python3.10/dist-packages (from transformers) (3.12.0)\n",
            "Collecting huggingface-hub<1.0,>=0.14.1 (from transformers)\n",
            "  Downloading huggingface_hub-0.15.1-py3-none-any.whl (236 kB)\n",
            "\u001b[2K     \u001b[90m━━━━━━━━━━━━━━━━━━━━━━━━━━━━━━━━━━━━━━\u001b[0m \u001b[32m236.8/236.8 kB\u001b[0m \u001b[31m32.4 MB/s\u001b[0m eta \u001b[36m0:00:00\u001b[0m\n",
            "\u001b[?25hRequirement already satisfied: numpy>=1.17 in /usr/local/lib/python3.10/dist-packages (from transformers) (1.22.4)\n",
            "Requirement already satisfied: packaging>=20.0 in /usr/local/lib/python3.10/dist-packages (from transformers) (23.1)\n",
            "Requirement already satisfied: pyyaml>=5.1 in /usr/local/lib/python3.10/dist-packages (from transformers) (6.0)\n",
            "Requirement already satisfied: regex!=2019.12.17 in /usr/local/lib/python3.10/dist-packages (from transformers) (2022.10.31)\n",
            "Requirement already satisfied: requests in /usr/local/lib/python3.10/dist-packages (from transformers) (2.27.1)\n",
            "Collecting tokenizers!=0.11.3,<0.14,>=0.11.1 (from transformers)\n",
            "  Downloading tokenizers-0.13.3-cp310-cp310-manylinux_2_17_x86_64.manylinux2014_x86_64.whl (7.8 MB)\n",
            "\u001b[2K     \u001b[90m━━━━━━━━━━━━━━━━━━━━━━━━━━━━━━━━━━━━━━━━\u001b[0m \u001b[32m7.8/7.8 MB\u001b[0m \u001b[31m91.9 MB/s\u001b[0m eta \u001b[36m0:00:00\u001b[0m\n",
            "\u001b[?25hCollecting safetensors>=0.3.1 (from transformers)\n",
            "  Downloading safetensors-0.3.1-cp310-cp310-manylinux_2_17_x86_64.manylinux2014_x86_64.whl (1.3 MB)\n",
            "\u001b[2K     \u001b[90m━━━━━━━━━━━━━━━━━━━━━━━━━━━━━━━━━━━━━━━━\u001b[0m \u001b[32m1.3/1.3 MB\u001b[0m \u001b[31m90.9 MB/s\u001b[0m eta \u001b[36m0:00:00\u001b[0m\n",
            "\u001b[?25hRequirement already satisfied: tqdm>=4.27 in /usr/local/lib/python3.10/dist-packages (from transformers) (4.65.0)\n",
            "Requirement already satisfied: fsspec in /usr/local/lib/python3.10/dist-packages (from huggingface-hub<1.0,>=0.14.1->transformers) (2023.4.0)\n",
            "Requirement already satisfied: typing-extensions>=3.7.4.3 in /usr/local/lib/python3.10/dist-packages (from huggingface-hub<1.0,>=0.14.1->transformers) (4.5.0)\n",
            "Requirement already satisfied: urllib3<1.27,>=1.21.1 in /usr/local/lib/python3.10/dist-packages (from requests->transformers) (1.26.15)\n",
            "Requirement already satisfied: certifi>=2017.4.17 in /usr/local/lib/python3.10/dist-packages (from requests->transformers) (2022.12.7)\n",
            "Requirement already satisfied: charset-normalizer~=2.0.0 in /usr/local/lib/python3.10/dist-packages (from requests->transformers) (2.0.12)\n",
            "Requirement already satisfied: idna<4,>=2.5 in /usr/local/lib/python3.10/dist-packages (from requests->transformers) (3.4)\n",
            "Installing collected packages: tokenizers, safetensors, huggingface-hub, transformers\n",
            "Successfully installed huggingface-hub-0.15.1 safetensors-0.3.1 tokenizers-0.13.3 transformers-4.30.1\n",
            "Looking in indexes: https://pypi.org/simple, https://us-python.pkg.dev/colab-wheels/public/simple/\n",
            "Collecting datasets\n",
            "  Downloading datasets-2.12.0-py3-none-any.whl (474 kB)\n",
            "\u001b[2K     \u001b[90m━━━━━━━━━━━━━━━━━━━━━━━━━━━━━━━━━━━━━━\u001b[0m \u001b[32m474.6/474.6 kB\u001b[0m \u001b[31m18.5 MB/s\u001b[0m eta \u001b[36m0:00:00\u001b[0m\n",
            "\u001b[?25hRequirement already satisfied: numpy>=1.17 in /usr/local/lib/python3.10/dist-packages (from datasets) (1.22.4)\n",
            "Requirement already satisfied: pyarrow>=8.0.0 in /usr/local/lib/python3.10/dist-packages (from datasets) (9.0.0)\n",
            "Collecting dill<0.3.7,>=0.3.0 (from datasets)\n",
            "  Downloading dill-0.3.6-py3-none-any.whl (110 kB)\n",
            "\u001b[2K     \u001b[90m━━━━━━━━━━━━━━━━━━━━━━━━━━━━━━━━━━━━━━\u001b[0m \u001b[32m110.5/110.5 kB\u001b[0m \u001b[31m16.3 MB/s\u001b[0m eta \u001b[36m0:00:00\u001b[0m\n",
            "\u001b[?25hRequirement already satisfied: pandas in /usr/local/lib/python3.10/dist-packages (from datasets) (1.5.3)\n",
            "Requirement already satisfied: requests>=2.19.0 in /usr/local/lib/python3.10/dist-packages (from datasets) (2.27.1)\n",
            "Requirement already satisfied: tqdm>=4.62.1 in /usr/local/lib/python3.10/dist-packages (from datasets) (4.65.0)\n",
            "Collecting xxhash (from datasets)\n",
            "  Downloading xxhash-3.2.0-cp310-cp310-manylinux_2_17_x86_64.manylinux2014_x86_64.whl (212 kB)\n",
            "\u001b[2K     \u001b[90m━━━━━━━━━━━━━━━━━━━━━━━━━━━━━━━━━━━━━━\u001b[0m \u001b[32m212.5/212.5 kB\u001b[0m \u001b[31m28.1 MB/s\u001b[0m eta \u001b[36m0:00:00\u001b[0m\n",
            "\u001b[?25hCollecting multiprocess (from datasets)\n",
            "  Downloading multiprocess-0.70.14-py310-none-any.whl (134 kB)\n",
            "\u001b[2K     \u001b[90m━━━━━━━━━━━━━━━━━━━━━━━━━━━━━━━━━━━━━━\u001b[0m \u001b[32m134.3/134.3 kB\u001b[0m \u001b[31m19.8 MB/s\u001b[0m eta \u001b[36m0:00:00\u001b[0m\n",
            "\u001b[?25hRequirement already satisfied: fsspec[http]>=2021.11.1 in /usr/local/lib/python3.10/dist-packages (from datasets) (2023.4.0)\n",
            "Collecting aiohttp (from datasets)\n",
            "  Downloading aiohttp-3.8.4-cp310-cp310-manylinux_2_17_x86_64.manylinux2014_x86_64.whl (1.0 MB)\n",
            "\u001b[2K     \u001b[90m━━━━━━━━━━━━━━━━━━━━━━━━━━━━━━━━━━━━━━━━\u001b[0m \u001b[32m1.0/1.0 MB\u001b[0m \u001b[31m38.5 MB/s\u001b[0m eta \u001b[36m0:00:00\u001b[0m\n",
            "\u001b[?25hRequirement already satisfied: huggingface-hub<1.0.0,>=0.11.0 in /usr/local/lib/python3.10/dist-packages (from datasets) (0.15.1)\n",
            "Requirement already satisfied: packaging in /usr/local/lib/python3.10/dist-packages (from datasets) (23.1)\n",
            "Collecting responses<0.19 (from datasets)\n",
            "  Downloading responses-0.18.0-py3-none-any.whl (38 kB)\n",
            "Requirement already satisfied: pyyaml>=5.1 in /usr/local/lib/python3.10/dist-packages (from datasets) (6.0)\n",
            "Requirement already satisfied: attrs>=17.3.0 in /usr/local/lib/python3.10/dist-packages (from aiohttp->datasets) (23.1.0)\n",
            "Requirement already satisfied: charset-normalizer<4.0,>=2.0 in /usr/local/lib/python3.10/dist-packages (from aiohttp->datasets) (2.0.12)\n",
            "Collecting multidict<7.0,>=4.5 (from aiohttp->datasets)\n",
            "  Downloading multidict-6.0.4-cp310-cp310-manylinux_2_17_x86_64.manylinux2014_x86_64.whl (114 kB)\n",
            "\u001b[2K     \u001b[90m━━━━━━━━━━━━━━━━━━━━━━━━━━━━━━━━━━━━━━\u001b[0m \u001b[32m114.5/114.5 kB\u001b[0m \u001b[31m16.3 MB/s\u001b[0m eta \u001b[36m0:00:00\u001b[0m\n",
            "\u001b[?25hCollecting async-timeout<5.0,>=4.0.0a3 (from aiohttp->datasets)\n",
            "  Downloading async_timeout-4.0.2-py3-none-any.whl (5.8 kB)\n",
            "Collecting yarl<2.0,>=1.0 (from aiohttp->datasets)\n",
            "  Downloading yarl-1.9.2-cp310-cp310-manylinux_2_17_x86_64.manylinux2014_x86_64.whl (268 kB)\n",
            "\u001b[2K     \u001b[90m━━━━━━━━━━━━━━━━━━━━━━━━━━━━━━━━━━━━━━\u001b[0m \u001b[32m268.8/268.8 kB\u001b[0m \u001b[31m35.0 MB/s\u001b[0m eta \u001b[36m0:00:00\u001b[0m\n",
            "\u001b[?25hCollecting frozenlist>=1.1.1 (from aiohttp->datasets)\n",
            "  Downloading frozenlist-1.3.3-cp310-cp310-manylinux_2_5_x86_64.manylinux1_x86_64.manylinux_2_17_x86_64.manylinux2014_x86_64.whl (149 kB)\n",
            "\u001b[2K     \u001b[90m━━━━━━━━━━━━━━━━━━━━━━━━━━━━━━━━━━━━━━\u001b[0m \u001b[32m149.6/149.6 kB\u001b[0m \u001b[31m21.0 MB/s\u001b[0m eta \u001b[36m0:00:00\u001b[0m\n",
            "\u001b[?25hCollecting aiosignal>=1.1.2 (from aiohttp->datasets)\n",
            "  Downloading aiosignal-1.3.1-py3-none-any.whl (7.6 kB)\n",
            "Requirement already satisfied: filelock in /usr/local/lib/python3.10/dist-packages (from huggingface-hub<1.0.0,>=0.11.0->datasets) (3.12.0)\n",
            "Requirement already satisfied: typing-extensions>=3.7.4.3 in /usr/local/lib/python3.10/dist-packages (from huggingface-hub<1.0.0,>=0.11.0->datasets) (4.5.0)\n",
            "Requirement already satisfied: urllib3<1.27,>=1.21.1 in /usr/local/lib/python3.10/dist-packages (from requests>=2.19.0->datasets) (1.26.15)\n",
            "Requirement already satisfied: certifi>=2017.4.17 in /usr/local/lib/python3.10/dist-packages (from requests>=2.19.0->datasets) (2022.12.7)\n",
            "Requirement already satisfied: idna<4,>=2.5 in /usr/local/lib/python3.10/dist-packages (from requests>=2.19.0->datasets) (3.4)\n",
            "Requirement already satisfied: python-dateutil>=2.8.1 in /usr/local/lib/python3.10/dist-packages (from pandas->datasets) (2.8.2)\n",
            "Requirement already satisfied: pytz>=2020.1 in /usr/local/lib/python3.10/dist-packages (from pandas->datasets) (2022.7.1)\n",
            "Requirement already satisfied: six>=1.5 in /usr/local/lib/python3.10/dist-packages (from python-dateutil>=2.8.1->pandas->datasets) (1.16.0)\n",
            "Installing collected packages: xxhash, multidict, frozenlist, dill, async-timeout, yarl, responses, multiprocess, aiosignal, aiohttp, datasets\n",
            "Successfully installed aiohttp-3.8.4 aiosignal-1.3.1 async-timeout-4.0.2 datasets-2.12.0 dill-0.3.6 frozenlist-1.3.3 multidict-6.0.4 multiprocess-0.70.14 responses-0.18.0 xxhash-3.2.0 yarl-1.9.2\n"
          ]
        }
      ]
    },
    {
      "cell_type": "code",
      "execution_count": 2,
      "metadata": {
        "colab": {
          "base_uri": "https://localhost:8080/"
        },
        "id": "TAWx3EeVIsbS",
        "outputId": "db6d4dae-c850-4bf2-b0db-7dbd8fa2236a"
      },
      "outputs": [
        {
          "output_type": "stream",
          "name": "stdout",
          "text": [
            "Mounted at /content/drive/\n"
          ]
        }
      ],
      "source": [
        "from google.colab import drive\n",
        "drive.mount('/content/drive/')"
      ]
    },
    {
      "cell_type": "code",
      "source": [
        "%cd /content/drive/MyDrive/CSE256/FinalProject/"
      ],
      "metadata": {
        "colab": {
          "base_uri": "https://localhost:8080/"
        },
        "id": "nze49ia6IzzN",
        "outputId": "fead916e-628e-4df0-9d01-c6de1d96ee99"
      },
      "execution_count": 3,
      "outputs": [
        {
          "output_type": "stream",
          "name": "stdout",
          "text": [
            "/content/drive/MyDrive/CSE256/FinalProject\n"
          ]
        }
      ]
    },
    {
      "cell_type": "code",
      "source": [
        "!git clone --recursive https://github.com/naigamshah/SelectivePrediction.git"
      ],
      "metadata": {
        "colab": {
          "base_uri": "https://localhost:8080/"
        },
        "id": "7XTNCPusI_Iq",
        "outputId": "6eb28232-3c4c-492e-a76e-2049de48a6ef"
      },
      "execution_count": 4,
      "outputs": [
        {
          "output_type": "stream",
          "name": "stdout",
          "text": [
            "fatal: destination path 'SelectivePrediction' already exists and is not an empty directory.\n"
          ]
        }
      ]
    },
    {
      "cell_type": "code",
      "source": [
        "!ls"
      ],
      "metadata": {
        "colab": {
          "base_uri": "https://localhost:8080/"
        },
        "id": "vA7CXAIgJKE5",
        "outputId": "926591e7-0d84-4d30-bbd1-ea8bbb9a6721"
      },
      "execution_count": 5,
      "outputs": [
        {
          "output_type": "stream",
          "name": "stdout",
          "text": [
            "data  SelectivePrediction  test.csv  train.csv\tval.csv\n"
          ]
        }
      ]
    },
    {
      "cell_type": "code",
      "source": [
        "import torch\n",
        "import pandas as pd\n",
        "from torch.utils.data import Dataset\n",
        "from transformers import AutoModelForQuestionAnswering, AutoTokenizer\n",
        "from datasets import load_dataset, concatenate_datasets\n",
        "import ast\n",
        "from collections import Counter\n",
        "from tqdm import tqdm\n",
        "import pandas as pd\n",
        "from sklearn.metrics import accuracy_score\n",
        "import numpy as np\n",
        "from sklearn.ensemble import RandomForestClassifier"
      ],
      "metadata": {
        "id": "F2gXexQiJLN6"
      },
      "execution_count": 6,
      "outputs": []
    },
    {
      "cell_type": "code",
      "source": [
        "RANDOM_SEED = 7\n",
        "SRC_PREFIX = \"squad\"\n",
        "KNOWN_PREFIX = \"news\"\n",
        "UNKNOWN_PREFIX = \"trivia\""
      ],
      "metadata": {
        "id": "zl0-pD7mK7Cv"
      },
      "execution_count": 7,
      "outputs": []
    },
    {
      "cell_type": "code",
      "source": [
        "def load(data_prefix, n):\n",
        "  if data_prefix==\"squad\":\n",
        "    return pd.read_csv(\"data/squad/train.csv\")[[\"context\",\"question\",\"answers\"]].sample(n=n, random_state=RANDOM_SEED).reset_index(drop=True)\n",
        "  elif data_prefix==\"hotpot\":\n",
        "    return pd.read_csv(\"data/hotpot_qa/train.csv\")[[\"context\",\"question\",\"answers\"]].sample(n=n, random_state=RANDOM_SEED).reset_index(drop=True)\n",
        "  elif data_prefix==\"natural\":\n",
        "    return pd.read_csv(\"data/natural_questions/train.csv\")[[\"context\",\"question\",\"answers\"]].sample(n=n, random_state=RANDOM_SEED).reset_index(drop=True)\n",
        "  elif data_prefix==\"news\":\n",
        "    return pd.read_csv(\"data/news_qa/train.csv\")[[\"context\",\"question\",\"answers\"]].sample(n=n, random_state=RANDOM_SEED).reset_index(drop=True)\n",
        "  if data_prefix==\"trivia\":\n",
        "    return pd.read_csv(\"data/trivia_qa/unmodified.csv\")[[\"context\",\"question\",\"answers\"]].sample(n=n, random_state=RANDOM_SEED).reset_index(drop=True)"
      ],
      "metadata": {
        "id": "aXhL7AUXKP1z"
      },
      "execution_count": 8,
      "outputs": []
    },
    {
      "cell_type": "code",
      "source": [
        "!pwd"
      ],
      "metadata": {
        "colab": {
          "base_uri": "https://localhost:8080/"
        },
        "id": "cDB_t9e0ZIJG",
        "outputId": "de37fc37-f3ce-498f-e8a0-8ae38ceffadb"
      },
      "execution_count": 9,
      "outputs": [
        {
          "output_type": "stream",
          "name": "stdout",
          "text": [
            "/content/drive/MyDrive/CSE256/FinalProject\n"
          ]
        }
      ]
    },
    {
      "cell_type": "code",
      "source": [
        "p_src = load(SRC_PREFIX, 6000)\n",
        "q_known = load(KNOWN_PREFIX, 2000)\n",
        "q_unknown = load(UNKNOWN_PREFIX, 4000)"
      ],
      "metadata": {
        "id": "AcYoDOpruGzv"
      },
      "execution_count": 10,
      "outputs": []
    },
    {
      "cell_type": "code",
      "source": [
        "train = pd.concat([p_src.iloc[:1600],q_known.iloc[:1600]]).reset_index(drop=True)\n",
        "val = pd.concat([p_src.iloc[1600:2000],q_known.iloc[1600:2000]]).reset_index(drop=True)\n",
        "test = pd.concat([p_src.iloc[2000:6000],q_unknown.iloc[:4000]]).reset_index(drop=True)"
      ],
      "metadata": {
        "id": "pPnHuTpdTPNh"
      },
      "execution_count": 11,
      "outputs": []
    },
    {
      "cell_type": "code",
      "source": [
        "def get_ground_answers(dataset):\n",
        "  ground_answers = []\n",
        "  for i in tqdm(range(len(dataset))):\n",
        "    answer = ast.literal_eval(dataset.iloc[i][\"answers\"])\n",
        "    if type(answer)==dict:\n",
        "      ground_answers.append(answer[\"text\"][0].lower())\n",
        "    else:\n",
        "      ground_answers.append(answer[0].lower())\n",
        "  return ground_answers"
      ],
      "metadata": {
        "id": "fIeIksUCwkup"
      },
      "execution_count": 12,
      "outputs": []
    },
    {
      "cell_type": "code",
      "source": [
        "train[\"ground_answers\"] = get_ground_answers(train)\n",
        "val[\"ground_answers\"] = get_ground_answers(val)\n",
        "test[\"ground_answers\"] = get_ground_answers(test)"
      ],
      "metadata": {
        "colab": {
          "base_uri": "https://localhost:8080/"
        },
        "id": "groOdpWZJO-N",
        "outputId": "5807ec25-024a-4e9e-85d3-b71803f973d1"
      },
      "execution_count": 13,
      "outputs": [
        {
          "output_type": "stream",
          "name": "stderr",
          "text": [
            "100%|██████████| 3200/3200 [00:00<00:00, 20775.36it/s]\n",
            "100%|██████████| 800/800 [00:00<00:00, 17853.90it/s]\n",
            "100%|██████████| 8000/8000 [00:00<00:00, 17985.42it/s]\n"
          ]
        }
      ]
    },
    {
      "cell_type": "code",
      "source": [
        "# Load the tokenizer and model\n",
        "tokenizer = AutoTokenizer.from_pretrained(\"deepset/roberta-base-squad2\")\n",
        "model = AutoModelForQuestionAnswering.from_pretrained(\"deepset/roberta-base-squad2\").cuda()"
      ],
      "metadata": {
        "colab": {
          "base_uri": "https://localhost:8080/",
          "height": 209,
          "referenced_widgets": [
            "1ecd63459b794e36aa2af80bd4f3cadc",
            "68a6871a2c514dc58db1582144813f76",
            "88c4e53d5ddb4135a43703a38e745315",
            "64f5aed9d0f74d669baa419ae62a1007",
            "6c3767f5423b4641b3a95599263005d7",
            "695e079e84dd4380afa28c74e731d011",
            "6d81f57b23a54ecdb9e00b00f13afec4",
            "fca60d60629a47aba5f19baf5ec580d4",
            "f2e29961fdaa424f8c6e067e842cba0e",
            "3809b6ea9bf34edfbf7bc135813811f4",
            "fbbde9db7cde48519116253e5dad5ca8",
            "5cf348f3d23c4b2babef1477dbd025fe",
            "e923ab532cb34f488f776370371b3b6c",
            "71036f72b4ac4b75b2792c0dfda6a11a",
            "9a0ce76e6d444e328a60ad4d5aae5f96",
            "e07f89f2985048d88b36c8be8ec9c2d0",
            "9798cc2bdb7742e3a06e0371dff77b26",
            "2b9eda6e90d74662ad852d38c417b310",
            "aed96c3398184445899b01c964aff480",
            "10977e40b43f4bdf806efa84d7fff594",
            "4b70e43332674e9397f70226dfd80185",
            "958708cbf98343a6a144bf0df2e70a65",
            "8ff361af9e474dffa2a131720918ec01",
            "956bd307a1cf488e98e1de33a64206b7",
            "2ff3184f58cb4a6e996c0444471ac300",
            "620b0bdfc2f543b9832b80ff275d5c97",
            "fa50fe2d169b47b3946e5b119bbc6e2b",
            "595cc6c7926b47a88d1617429e0829e1",
            "194279b79d62487092a482754f8698b8",
            "3f09f9e41ad54ad189feace2fd2b4e71",
            "4eae45340ef74f38ae236a225c5c7310",
            "7281c5b863f94cc89a09fc69fa95e4ba",
            "72c271922dc14f528ea7a88222e3167f",
            "b994db400ea74d21a75941258dad5aa4",
            "8289b03cc1854ca7b0ea089b4eb28ed4",
            "ffaa69c54d1e42ac939bfd854342ae9e",
            "f210cd787b6f4d5981abc2647d852f3e",
            "f9363c43ca8940968ff9e88913676e65",
            "ba2951b367604b50a68540cf9e551b56",
            "ba8b76f89a6c4414bf2ed964431d9ee0",
            "a24fb35621a84db89d062c0134c3545e",
            "3f977d7a77db4187bdf0ca21894a0c51",
            "c87965d51e4c44389a894ec5471e05d4",
            "f725f2f99dd54e25bff5c4cc5c7f4ee8",
            "2aec9c693c9046a58259d2f7f34cad92",
            "6e68df099d4b4a84ae32b69abba91703",
            "1f92d9b16bc2472bbea3cacee3d49849",
            "4496152ca59f41808a7dd8a36a29552d",
            "4aa93718d2e14ee99616158e026b53c5",
            "dbda9c271c334ff1ab6ab148e5f30afb",
            "feb6760038bc4178b42a2aca8af07f3c",
            "b534df5b217f4bbdb400a634a9081366",
            "0034cf5bc459416c851ee0ad14413ad9",
            "07721c436d5644c3bdde04e673c3b9ef",
            "dffd49d912b543e19d94656785385306",
            "7dd68ace9cbc4c5db8aa83d5f413d0fd",
            "0c0b6f868f7f418bb92bb1e3fc24ecf2",
            "396db620b4584dbc8bc0701d545f14ed",
            "09ff2d29544943a0a482ec8e03808b4a",
            "194e5189c854447888d4a2c574661275",
            "01a0203eb9e74ef4b023dcfaefaf65c6",
            "12dc8f85ad6d47bdab7d549d07333558",
            "bd72955f0c9c45beb8a8c28d5aaaa42b",
            "84929b257f25427dafbc4d3d61823601",
            "7173ffea61204d2ba50ec2c137552303",
            "9afab0f562dd47d2878224f734d4206e"
          ]
        },
        "id": "GczSbUDga2xA",
        "outputId": "176605d8-2625-4b39-f80a-b34f2092e84b"
      },
      "execution_count": 14,
      "outputs": [
        {
          "output_type": "display_data",
          "data": {
            "text/plain": [
              "Downloading (…)okenizer_config.json:   0%|          | 0.00/79.0 [00:00<?, ?B/s]"
            ],
            "application/vnd.jupyter.widget-view+json": {
              "version_major": 2,
              "version_minor": 0,
              "model_id": "1ecd63459b794e36aa2af80bd4f3cadc"
            }
          },
          "metadata": {}
        },
        {
          "output_type": "display_data",
          "data": {
            "text/plain": [
              "Downloading (…)lve/main/config.json:   0%|          | 0.00/571 [00:00<?, ?B/s]"
            ],
            "application/vnd.jupyter.widget-view+json": {
              "version_major": 2,
              "version_minor": 0,
              "model_id": "5cf348f3d23c4b2babef1477dbd025fe"
            }
          },
          "metadata": {}
        },
        {
          "output_type": "display_data",
          "data": {
            "text/plain": [
              "Downloading (…)olve/main/vocab.json:   0%|          | 0.00/899k [00:00<?, ?B/s]"
            ],
            "application/vnd.jupyter.widget-view+json": {
              "version_major": 2,
              "version_minor": 0,
              "model_id": "8ff361af9e474dffa2a131720918ec01"
            }
          },
          "metadata": {}
        },
        {
          "output_type": "display_data",
          "data": {
            "text/plain": [
              "Downloading (…)olve/main/merges.txt:   0%|          | 0.00/456k [00:00<?, ?B/s]"
            ],
            "application/vnd.jupyter.widget-view+json": {
              "version_major": 2,
              "version_minor": 0,
              "model_id": "b994db400ea74d21a75941258dad5aa4"
            }
          },
          "metadata": {}
        },
        {
          "output_type": "display_data",
          "data": {
            "text/plain": [
              "Downloading (…)cial_tokens_map.json:   0%|          | 0.00/772 [00:00<?, ?B/s]"
            ],
            "application/vnd.jupyter.widget-view+json": {
              "version_major": 2,
              "version_minor": 0,
              "model_id": "2aec9c693c9046a58259d2f7f34cad92"
            }
          },
          "metadata": {}
        },
        {
          "output_type": "display_data",
          "data": {
            "text/plain": [
              "Downloading model.safetensors:   0%|          | 0.00/496M [00:00<?, ?B/s]"
            ],
            "application/vnd.jupyter.widget-view+json": {
              "version_major": 2,
              "version_minor": 0,
              "model_id": "7dd68ace9cbc4c5db8aa83d5f413d0fd"
            }
          },
          "metadata": {}
        }
      ]
    },
    {
      "cell_type": "code",
      "source": [
        "train"
      ],
      "metadata": {
        "colab": {
          "base_uri": "https://localhost:8080/",
          "height": 728
        },
        "id": "cg49p05XiNuy",
        "outputId": "884b0df3-5aae-4b78-e6f6-63a0ced53844"
      },
      "execution_count": 30,
      "outputs": [
        {
          "output_type": "execute_result",
          "data": {
            "text/plain": [
              "                                                context  \\\n",
              "0     It is estimated that in 480 BC, 50 million peo...   \n",
              "1     In 2004 he was admitted as knight of the Légio...   \n",
              "2     KU Endowment was established in 1891 as Americ...   \n",
              "3     2010s saw multiple new sounds in house music d...   \n",
              "4     Much of Yale University's staff, including mos...   \n",
              "...                                                 ...   \n",
              "3195  LOS ANGELES, California (CNN)  -- Those extra ...   \n",
              "3196  (MENTAL FLOSS) -- When we think of economic cr...   \n",
              "3197  (CNN) -- An Islamic militia took over two stra...   \n",
              "3198  (CNN) -- The Obama administration announced th...   \n",
              "3199  (CNN) -- Media tycoon Rupert Murdoch expects N...   \n",
              "\n",
              "                                               question  \\\n",
              "0     The Achaemenid Empire was the known enemy of w...   \n",
              "1                          Who made Spielberg a knight?   \n",
              "2                    When was the KU Endowment founded?   \n",
              "3     Big room house has found increasing popularity...   \n",
              "4     What union are Yale's service and maintenance ...   \n",
              "...                                                 ...   \n",
              "3195           Which company is launchng the promotion?   \n",
              "3196                          What kills 99% of horses?   \n",
              "3197        Name of the militia that seized the cities?   \n",
              "3198                                Who is John Gibler?   \n",
              "3199                       Which papers do Murdoch own?   \n",
              "\n",
              "                                                answers  \\\n",
              "0     {'text': ['the Greek city states'], 'answer_st...   \n",
              "1     {'text': ['Jacques Chirac'], 'answer_start': [...   \n",
              "2              {'text': ['1891'], 'answer_start': [32]}   \n",
              "3            {'text': ['2010'], 'answer_start': [1165]}   \n",
              "4     {'text': ['Local 35 of the same international'...   \n",
              "...                                                 ...   \n",
              "3195                                    ['Live Nation']   \n",
              "3196                              ['equine influenza.']   \n",
              "3197                                     ['al-Shabaab']   \n",
              "3198                                         ['Author']   \n",
              "3199  ['New York Post, the News International stable...   \n",
              "\n",
              "                                         ground_answers  \\\n",
              "0                                 the greek city states   \n",
              "1                                        jacques chirac   \n",
              "2                                                  1891   \n",
              "3                                                  2010   \n",
              "4                    local 35 of the same international   \n",
              "...                                                 ...   \n",
              "3195                                        live nation   \n",
              "3196                                  equine influenza.   \n",
              "3197                                         al-shabaab   \n",
              "3198                                             author   \n",
              "3199  new york post, the news international stable o...   \n",
              "\n",
              "                                      predicted_answers  context_question_len  \\\n",
              "0                                     greek city states                 145.0   \n",
              "1                                        jacques chirac                 100.0   \n",
              "2                                                  1891                  38.0   \n",
              "3                                                  2010                 204.0   \n",
              "4                                              local 35                 169.0   \n",
              "...                                                 ...                   ...   \n",
              "3195  <s>which company is launchng the promotion?</s...                 552.0   \n",
              "3196                                   equine influenza                 678.0   \n",
              "3197                                         al-shabaab                 302.0   \n",
              "3198                                                                    673.0   \n",
              "3199  new york post, the news international stable o...                 690.0   \n",
              "\n",
              "      answer_len   sprob_0   sprob_1   sprob_2   sprob_3   sprob_4   eprob_0  \\\n",
              "0              3  0.507306  0.289540  0.190888  0.004427  0.004077  0.436821   \n",
              "1              4  0.578032  0.392969  0.010834  0.010484  0.003125  0.975129   \n",
              "2              2  0.991912  0.004227  0.001795  0.000820  0.000752  0.995959   \n",
              "3              1  0.985441  0.012823  0.001362  0.000090  0.000085  0.974002   \n",
              "4              2  0.897623  0.019142  0.016205  0.015862  0.010387  0.703668   \n",
              "...          ...       ...       ...       ...       ...       ...       ...   \n",
              "3195          84  0.213940  0.115791  0.094832  0.089162  0.080243  0.321370   \n",
              "3196           3  0.613992  0.252210  0.092683  0.004881  0.003823  0.860460   \n",
              "3197           5  0.546335  0.148404  0.126112  0.100829  0.013485  0.521353   \n",
              "3198        -343  0.254501  0.165067  0.118206  0.102484  0.090987  0.212895   \n",
              "3199          17  0.258155  0.187518  0.089325  0.082797  0.073098  0.459309   \n",
              "\n",
              "       eprob_1   eprob_2   eprob_3   eprob_4  \n",
              "0     0.347218  0.127431  0.064609  0.010438  \n",
              "1     0.009883  0.003169  0.003169  0.003169  \n",
              "2     0.001277  0.001277  0.000962  0.000443  \n",
              "3     0.023140  0.001251  0.000556  0.000474  \n",
              "4     0.234485  0.016681  0.014684  0.006555  \n",
              "...        ...       ...       ...       ...  \n",
              "3195  0.282295  0.116684  0.071932  0.033847  \n",
              "3196  0.106926  0.005453  0.004912  0.003900  \n",
              "3197  0.162643  0.159591  0.047323  0.013949  \n",
              "3198  0.190244  0.158670  0.129404  0.068673  \n",
              "3199  0.115763  0.096325  0.064017  0.041276  \n",
              "\n",
              "[3200 rows x 17 columns]"
            ],
            "text/html": [
              "\n",
              "  <div id=\"df-3a51d108-892c-4271-b419-336a87f52e09\">\n",
              "    <div class=\"colab-df-container\">\n",
              "      <div>\n",
              "<style scoped>\n",
              "    .dataframe tbody tr th:only-of-type {\n",
              "        vertical-align: middle;\n",
              "    }\n",
              "\n",
              "    .dataframe tbody tr th {\n",
              "        vertical-align: top;\n",
              "    }\n",
              "\n",
              "    .dataframe thead th {\n",
              "        text-align: right;\n",
              "    }\n",
              "</style>\n",
              "<table border=\"1\" class=\"dataframe\">\n",
              "  <thead>\n",
              "    <tr style=\"text-align: right;\">\n",
              "      <th></th>\n",
              "      <th>context</th>\n",
              "      <th>question</th>\n",
              "      <th>answers</th>\n",
              "      <th>ground_answers</th>\n",
              "      <th>predicted_answers</th>\n",
              "      <th>context_question_len</th>\n",
              "      <th>answer_len</th>\n",
              "      <th>sprob_0</th>\n",
              "      <th>sprob_1</th>\n",
              "      <th>sprob_2</th>\n",
              "      <th>sprob_3</th>\n",
              "      <th>sprob_4</th>\n",
              "      <th>eprob_0</th>\n",
              "      <th>eprob_1</th>\n",
              "      <th>eprob_2</th>\n",
              "      <th>eprob_3</th>\n",
              "      <th>eprob_4</th>\n",
              "    </tr>\n",
              "  </thead>\n",
              "  <tbody>\n",
              "    <tr>\n",
              "      <th>0</th>\n",
              "      <td>It is estimated that in 480 BC, 50 million peo...</td>\n",
              "      <td>The Achaemenid Empire was the known enemy of w...</td>\n",
              "      <td>{'text': ['the Greek city states'], 'answer_st...</td>\n",
              "      <td>the greek city states</td>\n",
              "      <td>greek city states</td>\n",
              "      <td>145.0</td>\n",
              "      <td>3</td>\n",
              "      <td>0.507306</td>\n",
              "      <td>0.289540</td>\n",
              "      <td>0.190888</td>\n",
              "      <td>0.004427</td>\n",
              "      <td>0.004077</td>\n",
              "      <td>0.436821</td>\n",
              "      <td>0.347218</td>\n",
              "      <td>0.127431</td>\n",
              "      <td>0.064609</td>\n",
              "      <td>0.010438</td>\n",
              "    </tr>\n",
              "    <tr>\n",
              "      <th>1</th>\n",
              "      <td>In 2004 he was admitted as knight of the Légio...</td>\n",
              "      <td>Who made Spielberg a knight?</td>\n",
              "      <td>{'text': ['Jacques Chirac'], 'answer_start': [...</td>\n",
              "      <td>jacques chirac</td>\n",
              "      <td>jacques chirac</td>\n",
              "      <td>100.0</td>\n",
              "      <td>4</td>\n",
              "      <td>0.578032</td>\n",
              "      <td>0.392969</td>\n",
              "      <td>0.010834</td>\n",
              "      <td>0.010484</td>\n",
              "      <td>0.003125</td>\n",
              "      <td>0.975129</td>\n",
              "      <td>0.009883</td>\n",
              "      <td>0.003169</td>\n",
              "      <td>0.003169</td>\n",
              "      <td>0.003169</td>\n",
              "    </tr>\n",
              "    <tr>\n",
              "      <th>2</th>\n",
              "      <td>KU Endowment was established in 1891 as Americ...</td>\n",
              "      <td>When was the KU Endowment founded?</td>\n",
              "      <td>{'text': ['1891'], 'answer_start': [32]}</td>\n",
              "      <td>1891</td>\n",
              "      <td>1891</td>\n",
              "      <td>38.0</td>\n",
              "      <td>2</td>\n",
              "      <td>0.991912</td>\n",
              "      <td>0.004227</td>\n",
              "      <td>0.001795</td>\n",
              "      <td>0.000820</td>\n",
              "      <td>0.000752</td>\n",
              "      <td>0.995959</td>\n",
              "      <td>0.001277</td>\n",
              "      <td>0.001277</td>\n",
              "      <td>0.000962</td>\n",
              "      <td>0.000443</td>\n",
              "    </tr>\n",
              "    <tr>\n",
              "      <th>3</th>\n",
              "      <td>2010s saw multiple new sounds in house music d...</td>\n",
              "      <td>Big room house has found increasing popularity...</td>\n",
              "      <td>{'text': ['2010'], 'answer_start': [1165]}</td>\n",
              "      <td>2010</td>\n",
              "      <td>2010</td>\n",
              "      <td>204.0</td>\n",
              "      <td>1</td>\n",
              "      <td>0.985441</td>\n",
              "      <td>0.012823</td>\n",
              "      <td>0.001362</td>\n",
              "      <td>0.000090</td>\n",
              "      <td>0.000085</td>\n",
              "      <td>0.974002</td>\n",
              "      <td>0.023140</td>\n",
              "      <td>0.001251</td>\n",
              "      <td>0.000556</td>\n",
              "      <td>0.000474</td>\n",
              "    </tr>\n",
              "    <tr>\n",
              "      <th>4</th>\n",
              "      <td>Much of Yale University's staff, including mos...</td>\n",
              "      <td>What union are Yale's service and maintenance ...</td>\n",
              "      <td>{'text': ['Local 35 of the same international'...</td>\n",
              "      <td>local 35 of the same international</td>\n",
              "      <td>local 35</td>\n",
              "      <td>169.0</td>\n",
              "      <td>2</td>\n",
              "      <td>0.897623</td>\n",
              "      <td>0.019142</td>\n",
              "      <td>0.016205</td>\n",
              "      <td>0.015862</td>\n",
              "      <td>0.010387</td>\n",
              "      <td>0.703668</td>\n",
              "      <td>0.234485</td>\n",
              "      <td>0.016681</td>\n",
              "      <td>0.014684</td>\n",
              "      <td>0.006555</td>\n",
              "    </tr>\n",
              "    <tr>\n",
              "      <th>...</th>\n",
              "      <td>...</td>\n",
              "      <td>...</td>\n",
              "      <td>...</td>\n",
              "      <td>...</td>\n",
              "      <td>...</td>\n",
              "      <td>...</td>\n",
              "      <td>...</td>\n",
              "      <td>...</td>\n",
              "      <td>...</td>\n",
              "      <td>...</td>\n",
              "      <td>...</td>\n",
              "      <td>...</td>\n",
              "      <td>...</td>\n",
              "      <td>...</td>\n",
              "      <td>...</td>\n",
              "      <td>...</td>\n",
              "      <td>...</td>\n",
              "    </tr>\n",
              "    <tr>\n",
              "      <th>3195</th>\n",
              "      <td>LOS ANGELES, California (CNN)  -- Those extra ...</td>\n",
              "      <td>Which company is launchng the promotion?</td>\n",
              "      <td>['Live Nation']</td>\n",
              "      <td>live nation</td>\n",
              "      <td>&lt;s&gt;which company is launchng the promotion?&lt;/s...</td>\n",
              "      <td>552.0</td>\n",
              "      <td>84</td>\n",
              "      <td>0.213940</td>\n",
              "      <td>0.115791</td>\n",
              "      <td>0.094832</td>\n",
              "      <td>0.089162</td>\n",
              "      <td>0.080243</td>\n",
              "      <td>0.321370</td>\n",
              "      <td>0.282295</td>\n",
              "      <td>0.116684</td>\n",
              "      <td>0.071932</td>\n",
              "      <td>0.033847</td>\n",
              "    </tr>\n",
              "    <tr>\n",
              "      <th>3196</th>\n",
              "      <td>(MENTAL FLOSS) -- When we think of economic cr...</td>\n",
              "      <td>What kills 99% of horses?</td>\n",
              "      <td>['equine influenza.']</td>\n",
              "      <td>equine influenza.</td>\n",
              "      <td>equine influenza</td>\n",
              "      <td>678.0</td>\n",
              "      <td>3</td>\n",
              "      <td>0.613992</td>\n",
              "      <td>0.252210</td>\n",
              "      <td>0.092683</td>\n",
              "      <td>0.004881</td>\n",
              "      <td>0.003823</td>\n",
              "      <td>0.860460</td>\n",
              "      <td>0.106926</td>\n",
              "      <td>0.005453</td>\n",
              "      <td>0.004912</td>\n",
              "      <td>0.003900</td>\n",
              "    </tr>\n",
              "    <tr>\n",
              "      <th>3197</th>\n",
              "      <td>(CNN) -- An Islamic militia took over two stra...</td>\n",
              "      <td>Name of the militia that seized the cities?</td>\n",
              "      <td>['al-Shabaab']</td>\n",
              "      <td>al-shabaab</td>\n",
              "      <td>al-shabaab</td>\n",
              "      <td>302.0</td>\n",
              "      <td>5</td>\n",
              "      <td>0.546335</td>\n",
              "      <td>0.148404</td>\n",
              "      <td>0.126112</td>\n",
              "      <td>0.100829</td>\n",
              "      <td>0.013485</td>\n",
              "      <td>0.521353</td>\n",
              "      <td>0.162643</td>\n",
              "      <td>0.159591</td>\n",
              "      <td>0.047323</td>\n",
              "      <td>0.013949</td>\n",
              "    </tr>\n",
              "    <tr>\n",
              "      <th>3198</th>\n",
              "      <td>(CNN) -- The Obama administration announced th...</td>\n",
              "      <td>Who is John Gibler?</td>\n",
              "      <td>['Author']</td>\n",
              "      <td>author</td>\n",
              "      <td></td>\n",
              "      <td>673.0</td>\n",
              "      <td>-343</td>\n",
              "      <td>0.254501</td>\n",
              "      <td>0.165067</td>\n",
              "      <td>0.118206</td>\n",
              "      <td>0.102484</td>\n",
              "      <td>0.090987</td>\n",
              "      <td>0.212895</td>\n",
              "      <td>0.190244</td>\n",
              "      <td>0.158670</td>\n",
              "      <td>0.129404</td>\n",
              "      <td>0.068673</td>\n",
              "    </tr>\n",
              "    <tr>\n",
              "      <th>3199</th>\n",
              "      <td>(CNN) -- Media tycoon Rupert Murdoch expects N...</td>\n",
              "      <td>Which papers do Murdoch own?</td>\n",
              "      <td>['New York Post, the News International stable...</td>\n",
              "      <td>new york post, the news international stable o...</td>\n",
              "      <td>new york post, the news international stable o...</td>\n",
              "      <td>690.0</td>\n",
              "      <td>17</td>\n",
              "      <td>0.258155</td>\n",
              "      <td>0.187518</td>\n",
              "      <td>0.089325</td>\n",
              "      <td>0.082797</td>\n",
              "      <td>0.073098</td>\n",
              "      <td>0.459309</td>\n",
              "      <td>0.115763</td>\n",
              "      <td>0.096325</td>\n",
              "      <td>0.064017</td>\n",
              "      <td>0.041276</td>\n",
              "    </tr>\n",
              "  </tbody>\n",
              "</table>\n",
              "<p>3200 rows × 17 columns</p>\n",
              "</div>\n",
              "      <button class=\"colab-df-convert\" onclick=\"convertToInteractive('df-3a51d108-892c-4271-b419-336a87f52e09')\"\n",
              "              title=\"Convert this dataframe to an interactive table.\"\n",
              "              style=\"display:none;\">\n",
              "        \n",
              "  <svg xmlns=\"http://www.w3.org/2000/svg\" height=\"24px\"viewBox=\"0 0 24 24\"\n",
              "       width=\"24px\">\n",
              "    <path d=\"M0 0h24v24H0V0z\" fill=\"none\"/>\n",
              "    <path d=\"M18.56 5.44l.94 2.06.94-2.06 2.06-.94-2.06-.94-.94-2.06-.94 2.06-2.06.94zm-11 1L8.5 8.5l.94-2.06 2.06-.94-2.06-.94L8.5 2.5l-.94 2.06-2.06.94zm10 10l.94 2.06.94-2.06 2.06-.94-2.06-.94-.94-2.06-.94 2.06-2.06.94z\"/><path d=\"M17.41 7.96l-1.37-1.37c-.4-.4-.92-.59-1.43-.59-.52 0-1.04.2-1.43.59L10.3 9.45l-7.72 7.72c-.78.78-.78 2.05 0 2.83L4 21.41c.39.39.9.59 1.41.59.51 0 1.02-.2 1.41-.59l7.78-7.78 2.81-2.81c.8-.78.8-2.07 0-2.86zM5.41 20L4 18.59l7.72-7.72 1.47 1.35L5.41 20z\"/>\n",
              "  </svg>\n",
              "      </button>\n",
              "      \n",
              "  <style>\n",
              "    .colab-df-container {\n",
              "      display:flex;\n",
              "      flex-wrap:wrap;\n",
              "      gap: 12px;\n",
              "    }\n",
              "\n",
              "    .colab-df-convert {\n",
              "      background-color: #E8F0FE;\n",
              "      border: none;\n",
              "      border-radius: 50%;\n",
              "      cursor: pointer;\n",
              "      display: none;\n",
              "      fill: #1967D2;\n",
              "      height: 32px;\n",
              "      padding: 0 0 0 0;\n",
              "      width: 32px;\n",
              "    }\n",
              "\n",
              "    .colab-df-convert:hover {\n",
              "      background-color: #E2EBFA;\n",
              "      box-shadow: 0px 1px 2px rgba(60, 64, 67, 0.3), 0px 1px 3px 1px rgba(60, 64, 67, 0.15);\n",
              "      fill: #174EA6;\n",
              "    }\n",
              "\n",
              "    [theme=dark] .colab-df-convert {\n",
              "      background-color: #3B4455;\n",
              "      fill: #D2E3FC;\n",
              "    }\n",
              "\n",
              "    [theme=dark] .colab-df-convert:hover {\n",
              "      background-color: #434B5C;\n",
              "      box-shadow: 0px 1px 3px 1px rgba(0, 0, 0, 0.15);\n",
              "      filter: drop-shadow(0px 1px 2px rgba(0, 0, 0, 0.3));\n",
              "      fill: #FFFFFF;\n",
              "    }\n",
              "  </style>\n",
              "\n",
              "      <script>\n",
              "        const buttonEl =\n",
              "          document.querySelector('#df-3a51d108-892c-4271-b419-336a87f52e09 button.colab-df-convert');\n",
              "        buttonEl.style.display =\n",
              "          google.colab.kernel.accessAllowed ? 'block' : 'none';\n",
              "\n",
              "        async function convertToInteractive(key) {\n",
              "          const element = document.querySelector('#df-3a51d108-892c-4271-b419-336a87f52e09');\n",
              "          const dataTable =\n",
              "            await google.colab.kernel.invokeFunction('convertToInteractive',\n",
              "                                                     [key], {});\n",
              "          if (!dataTable) return;\n",
              "\n",
              "          const docLinkHtml = 'Like what you see? Visit the ' +\n",
              "            '<a target=\"_blank\" href=https://colab.research.google.com/notebooks/data_table.ipynb>data table notebook</a>'\n",
              "            + ' to learn more about interactive tables.';\n",
              "          element.innerHTML = '';\n",
              "          dataTable['output_type'] = 'display_data';\n",
              "          await google.colab.output.renderOutput(dataTable, element);\n",
              "          const docLink = document.createElement('div');\n",
              "          docLink.innerHTML = docLinkHtml;\n",
              "          element.appendChild(docLink);\n",
              "        }\n",
              "      </script>\n",
              "    </div>\n",
              "  </div>\n",
              "  "
            ]
          },
          "metadata": {},
          "execution_count": 30
        }
      ]
    },
    {
      "cell_type": "markdown",
      "source": [
        "### Random Forest Calibrator "
      ],
      "metadata": {
        "id": "Ys38NISJbNQ3"
      }
    },
    {
      "cell_type": "code",
      "source": [
        "def get_calib_data(data):\n",
        "  predicted_answers = []\n",
        "  context_question_lens = []\n",
        "  answer_lens = []\n",
        "  start_probs_list = []\n",
        "  end_probs_list = []\n",
        "  device = torch.device(\"cuda\" if torch.cuda.is_available() else \"cpu\")\n",
        "  model.eval()\n",
        "\n",
        "  for i in tqdm(range(len(data))):\n",
        "    question, context = data.iloc[i][\"question\"], data.iloc[i][\"context\"]\n",
        "\n",
        "    inputs = tokenizer.encode_plus(question, context, add_special_tokens=True, return_tensors=\"pt\", truncation = True)\n",
        "    inputs = {k: v.to(device) for k, v in inputs.items()}\n",
        "\n",
        "    input_ids = inputs[\"input_ids\"].tolist()[0]\n",
        "\n",
        "    with torch.no_grad(): \n",
        "      outputs = model(**inputs)\n",
        "\n",
        "    start_scores = torch.softmax(outputs.start_logits, dim=1).cuda()\n",
        "    end_scores = torch.softmax(outputs.end_logits, dim=1).cuda()\n",
        "    sorted_start, _ = torch.sort(start_scores, descending=True)\n",
        "    sorted_end, _ = torch.sort(end_scores, descending=True)\n",
        "\n",
        "    all_tokens = tokenizer.convert_ids_to_tokens(input_ids)\n",
        "    answer_tokens = all_tokens[torch.argmax(start_scores, dim=1): torch.argmax(end_scores, dim=1) + 1]\n",
        "    answer = tokenizer.convert_tokens_to_string(answer_tokens)\n",
        "    \n",
        "    #New feature set\n",
        "    context_question_len = torch.Tensor([len(context.split()) + len(question.split())]).cuda()\n",
        "    answer_len = torch.argmax(end_scores, dim=1).cuda() - torch.argmax(start_scores, dim=1).cuda() + 1\n",
        "    start_probs = sorted_start[0][:5].cuda()\n",
        "    end_probs = sorted_end[0][:5].cuda()\n",
        "\n",
        "    predicted_answers.append(answer.lower().strip())\n",
        "    context_question_lens.append(context_question_len.cpu().numpy()[0])\n",
        "    answer_lens.append(answer_len.cpu().numpy()[0])\n",
        "    start_probs_list.append(start_probs.cpu().numpy())\n",
        "    end_probs_list.append(end_probs.cpu().numpy())\n",
        "\n",
        "  start_probs_list = np.asarray(start_probs_list)\n",
        "  end_probs_list = np.asarray(end_probs_list)\n",
        "\n",
        "  data[\"predicted_answers\"] = predicted_answers\n",
        "  data[\"context_question_len\"] = context_question_lens\n",
        "  data[\"answer_len\"] = answer_lens\n",
        "  \n",
        "  for i in range(len(start_probs_list[0])):\n",
        "    data[f\"sprob_{i}\"] = start_probs_list[:,i]\n",
        "  \n",
        "  for i in range(len(end_probs_list[0])):\n",
        "    data[f\"eprob_{i}\"] = end_probs_list[:,i]\n",
        "\n",
        "  return "
      ],
      "metadata": {
        "id": "f7S2wRV9h9J6"
      },
      "execution_count": 16,
      "outputs": []
    },
    {
      "cell_type": "code",
      "source": [
        "get_calib_data(train)"
      ],
      "metadata": {
        "colab": {
          "base_uri": "https://localhost:8080/"
        },
        "id": "SWi_XajnmYYh",
        "outputId": "2414802a-4f7b-486f-e821-7b9efcd88998"
      },
      "execution_count": 17,
      "outputs": [
        {
          "output_type": "stream",
          "name": "stderr",
          "text": [
            "100%|██████████| 3200/3200 [01:30<00:00, 35.50it/s]\n"
          ]
        }
      ]
    },
    {
      "cell_type": "code",
      "source": [
        "get_calib_data(val)\n",
        "get_calib_data(test)"
      ],
      "metadata": {
        "colab": {
          "base_uri": "https://localhost:8080/"
        },
        "id": "IFY26lMlqiwP",
        "outputId": "5cba3f7a-c469-42f0-e331-2a279b774ecd"
      },
      "execution_count": 18,
      "outputs": [
        {
          "output_type": "stream",
          "name": "stderr",
          "text": [
            "100%|██████████| 800/800 [00:19<00:00, 40.31it/s]\n",
            "100%|██████████| 8000/8000 [03:27<00:00, 38.65it/s]\n"
          ]
        }
      ]
    },
    {
      "cell_type": "code",
      "source": [
        "train.to_csv(\"train.csv\", index = False)\n",
        "val.to_csv(\"val.csv\", index = False)\n",
        "test.to_csv(\"test.csv\", index = False)"
      ],
      "metadata": {
        "id": "2zURSonI1waG"
      },
      "execution_count": 19,
      "outputs": []
    },
    {
      "cell_type": "markdown",
      "source": [
        "Training the calibrator"
      ],
      "metadata": {
        "id": "sSwyjLjAt9o9"
      }
    },
    {
      "cell_type": "code",
      "source": [
        "X_train_calib = np.asarray(train.iloc[:,-12:].values)\n",
        "y_train_calib = np.asarray([0]*(len(X_train_calib)//2) + [1]*(len(X_train_calib)//2))\n",
        "\n",
        "X_val_calib = np.asarray(val.iloc[:,-12:].values)\n",
        "y_val_calib = np.asarray([0]*(len(X_val_calib)//2) + [1]*(len(X_val_calib)//2))\n",
        "\n",
        "X_test_calib = np.asarray(test.iloc[:,-12:].values)\n",
        "y_test_calib = np.asarray([0]*(len(X_test_calib)//2) + [1]*(len(X_test_calib)//2))\n"
      ],
      "metadata": {
        "id": "LLcD6kq6t9Wy"
      },
      "execution_count": 20,
      "outputs": []
    },
    {
      "cell_type": "code",
      "source": [
        "rf = RandomForestClassifier(n_estimators=100, max_depth=4, random_state=RANDOM_SEED)\n",
        "rf.fit(X_train_calib, y_train_calib)"
      ],
      "metadata": {
        "colab": {
          "base_uri": "https://localhost:8080/",
          "height": 74
        },
        "id": "CW1pR_x1ucsJ",
        "outputId": "962c797c-9806-433d-9f3f-42d2187c2bcb"
      },
      "execution_count": 21,
      "outputs": [
        {
          "output_type": "execute_result",
          "data": {
            "text/plain": [
              "RandomForestClassifier(max_depth=4, random_state=7)"
            ],
            "text/html": [
              "<style>#sk-container-id-1 {color: black;background-color: white;}#sk-container-id-1 pre{padding: 0;}#sk-container-id-1 div.sk-toggleable {background-color: white;}#sk-container-id-1 label.sk-toggleable__label {cursor: pointer;display: block;width: 100%;margin-bottom: 0;padding: 0.3em;box-sizing: border-box;text-align: center;}#sk-container-id-1 label.sk-toggleable__label-arrow:before {content: \"▸\";float: left;margin-right: 0.25em;color: #696969;}#sk-container-id-1 label.sk-toggleable__label-arrow:hover:before {color: black;}#sk-container-id-1 div.sk-estimator:hover label.sk-toggleable__label-arrow:before {color: black;}#sk-container-id-1 div.sk-toggleable__content {max-height: 0;max-width: 0;overflow: hidden;text-align: left;background-color: #f0f8ff;}#sk-container-id-1 div.sk-toggleable__content pre {margin: 0.2em;color: black;border-radius: 0.25em;background-color: #f0f8ff;}#sk-container-id-1 input.sk-toggleable__control:checked~div.sk-toggleable__content {max-height: 200px;max-width: 100%;overflow: auto;}#sk-container-id-1 input.sk-toggleable__control:checked~label.sk-toggleable__label-arrow:before {content: \"▾\";}#sk-container-id-1 div.sk-estimator input.sk-toggleable__control:checked~label.sk-toggleable__label {background-color: #d4ebff;}#sk-container-id-1 div.sk-label input.sk-toggleable__control:checked~label.sk-toggleable__label {background-color: #d4ebff;}#sk-container-id-1 input.sk-hidden--visually {border: 0;clip: rect(1px 1px 1px 1px);clip: rect(1px, 1px, 1px, 1px);height: 1px;margin: -1px;overflow: hidden;padding: 0;position: absolute;width: 1px;}#sk-container-id-1 div.sk-estimator {font-family: monospace;background-color: #f0f8ff;border: 1px dotted black;border-radius: 0.25em;box-sizing: border-box;margin-bottom: 0.5em;}#sk-container-id-1 div.sk-estimator:hover {background-color: #d4ebff;}#sk-container-id-1 div.sk-parallel-item::after {content: \"\";width: 100%;border-bottom: 1px solid gray;flex-grow: 1;}#sk-container-id-1 div.sk-label:hover label.sk-toggleable__label {background-color: #d4ebff;}#sk-container-id-1 div.sk-serial::before {content: \"\";position: absolute;border-left: 1px solid gray;box-sizing: border-box;top: 0;bottom: 0;left: 50%;z-index: 0;}#sk-container-id-1 div.sk-serial {display: flex;flex-direction: column;align-items: center;background-color: white;padding-right: 0.2em;padding-left: 0.2em;position: relative;}#sk-container-id-1 div.sk-item {position: relative;z-index: 1;}#sk-container-id-1 div.sk-parallel {display: flex;align-items: stretch;justify-content: center;background-color: white;position: relative;}#sk-container-id-1 div.sk-item::before, #sk-container-id-1 div.sk-parallel-item::before {content: \"\";position: absolute;border-left: 1px solid gray;box-sizing: border-box;top: 0;bottom: 0;left: 50%;z-index: -1;}#sk-container-id-1 div.sk-parallel-item {display: flex;flex-direction: column;z-index: 1;position: relative;background-color: white;}#sk-container-id-1 div.sk-parallel-item:first-child::after {align-self: flex-end;width: 50%;}#sk-container-id-1 div.sk-parallel-item:last-child::after {align-self: flex-start;width: 50%;}#sk-container-id-1 div.sk-parallel-item:only-child::after {width: 0;}#sk-container-id-1 div.sk-dashed-wrapped {border: 1px dashed gray;margin: 0 0.4em 0.5em 0.4em;box-sizing: border-box;padding-bottom: 0.4em;background-color: white;}#sk-container-id-1 div.sk-label label {font-family: monospace;font-weight: bold;display: inline-block;line-height: 1.2em;}#sk-container-id-1 div.sk-label-container {text-align: center;}#sk-container-id-1 div.sk-container {/* jupyter's `normalize.less` sets `[hidden] { display: none; }` but bootstrap.min.css set `[hidden] { display: none !important; }` so we also need the `!important` here to be able to override the default hidden behavior on the sphinx rendered scikit-learn.org. See: https://github.com/scikit-learn/scikit-learn/issues/21755 */display: inline-block !important;position: relative;}#sk-container-id-1 div.sk-text-repr-fallback {display: none;}</style><div id=\"sk-container-id-1\" class=\"sk-top-container\"><div class=\"sk-text-repr-fallback\"><pre>RandomForestClassifier(max_depth=4, random_state=7)</pre><b>In a Jupyter environment, please rerun this cell to show the HTML representation or trust the notebook. <br />On GitHub, the HTML representation is unable to render, please try loading this page with nbviewer.org.</b></div><div class=\"sk-container\" hidden><div class=\"sk-item\"><div class=\"sk-estimator sk-toggleable\"><input class=\"sk-toggleable__control sk-hidden--visually\" id=\"sk-estimator-id-1\" type=\"checkbox\" checked><label for=\"sk-estimator-id-1\" class=\"sk-toggleable__label sk-toggleable__label-arrow\">RandomForestClassifier</label><div class=\"sk-toggleable__content\"><pre>RandomForestClassifier(max_depth=4, random_state=7)</pre></div></div></div></div></div>"
            ]
          },
          "metadata": {},
          "execution_count": 21
        }
      ]
    },
    {
      "cell_type": "code",
      "source": [
        "preds = rf.predict(X_val_calib)\n",
        "preds_probs = rf.predict_proba(X_val_calib)"
      ],
      "metadata": {
        "id": "5CfjQ0Dxuz13"
      },
      "execution_count": 22,
      "outputs": []
    },
    {
      "cell_type": "code",
      "source": [
        "### 0 - answer \n",
        "### 1 - abstain"
      ],
      "metadata": {
        "id": "Ar9vuAy_vnxv"
      },
      "execution_count": 23,
      "outputs": []
    },
    {
      "cell_type": "code",
      "source": [
        "import matplotlib.pyplot as plt\n"
      ],
      "metadata": {
        "id": "VgFtUHF1x7a8"
      },
      "execution_count": 24,
      "outputs": []
    },
    {
      "cell_type": "code",
      "source": [
        "def get_coverage(thresh):\n",
        "  pred_val = []\n",
        "  for p0, p1 in preds_probs:\n",
        "    if p0>thresh:\n",
        "      pred_val.append(0)\n",
        "    else:\n",
        "      pred_val.append(1)\n",
        "\n",
        "  cntr = Counter(pred_val)\n",
        "  coverage = cntr[0]/(cntr[0]+cntr[1])\n",
        "  return coverage\n"
      ],
      "metadata": {
        "id": "lFhd_8Q6x0LW"
      },
      "execution_count": 25,
      "outputs": []
    },
    {
      "cell_type": "code",
      "source": [
        "thresholds = [x/100 for x in range(0,100,4)]\n",
        "coverages = []\n",
        "for thresh in thresholds:\n",
        "  coverages.append(get_coverage(thresh))\n",
        "\n",
        "plt.plot(thresholds,coverages)"
      ],
      "metadata": {
        "colab": {
          "base_uri": "https://localhost:8080/",
          "height": 447
        },
        "id": "sVradEDgyZXo",
        "outputId": "4a60bb7e-33ad-4181-c261-e299330eb5da"
      },
      "execution_count": 26,
      "outputs": [
        {
          "output_type": "execute_result",
          "data": {
            "text/plain": [
              "[<matplotlib.lines.Line2D at 0x7f26059c93c0>]"
            ]
          },
          "metadata": {},
          "execution_count": 26
        },
        {
          "output_type": "display_data",
          "data": {
            "text/plain": [
              "<Figure size 640x480 with 1 Axes>"
            ],
            "image/png": "[encoded data removed]"
          },
          "metadata": {}
        }
      ]
    },
    {
      "cell_type": "code",
      "source": [
        "pred_val = []\n",
        "\n",
        "THRESH = 0.6\n",
        "for p0, p1 in preds_probs:\n",
        "  if p0>THRESH:\n",
        "    pred_val.append(0)\n",
        "  else:\n",
        "    pred_val.append(1)\n",
        "\n",
        "cntr = Counter(pred_val)\n",
        "print(f\"Coverage: {cntr[0]/(cntr[0]+cntr[1])}\")"
      ],
      "metadata": {
        "colab": {
          "base_uri": "https://localhost:8080/"
        },
        "id": "z4ZJIMaXu3lY",
        "outputId": "2826085a-f385-401f-f5ea-c90d8ded1782"
      },
      "execution_count": 27,
      "outputs": [
        {
          "output_type": "stream",
          "name": "stdout",
          "text": [
            "Coverage: 0.49125\n"
          ]
        }
      ]
    },
    {
      "cell_type": "markdown",
      "source": [
        "### Distance Based Baseline"
      ],
      "metadata": {
        "id": "uoj36OXYbS8x"
      }
    },
    {
      "cell_type": "code",
      "source": [
        "# check the distance between the question and context with 2 clusters in train, find which cluster it's closest to"
      ],
      "metadata": {
        "id": "oK76JQWIbWwn"
      },
      "execution_count": null,
      "outputs": []
    },
    {
      "cell_type": "code",
      "source": [
        "# convert train into a matrix of tokens\n",
        "def create_train_matrix(data):\n",
        "  train_matrix = []\n",
        "  for i in range(len(data)):\n",
        "    question, context = data.iloc[i][\"question\"], data.iloc[i][\"context\"]\n",
        "\n",
        "    inputs = tokenizer.encode_plus(question, context, add_special_tokens=True, return_tensors=\"pt\", truncation = True, max_length=512)[\"input_ids\"].numpy()[0]\n",
        "    num_to_pad = 512 - len(inputs)\n",
        "    inputs = np.pad(inputs, (0, num_to_pad), 'constant')\n",
        "    train_matrix.append(inputs)\n",
        "\n",
        "  train_matrix = np.array(train_matrix).reshape(len(data), 512)\n",
        "\n",
        "  # first 1600 answer, else abstain\n",
        "  answer_train_matrix, abstain_train_matrix = train_matrix[0:1600, :], train_matrix[1600:len(train_matrix), :]  \n",
        "  return answer_train_matrix, abstain_train_matrix\n",
        "\n",
        "answer_train_matrix, abstain_train_matrix = create_train_matrix(train)"
      ],
      "metadata": {
        "id": "i6k52GpxdE0m"
      },
      "execution_count": 32,
      "outputs": []
    },
    {
      "cell_type": "code",
      "source": [
        "from sklearn.metrics.pairwise import cosine_similarity\n",
        "\n",
        "def get_preds(data):\n",
        "  preds = []\n",
        "  for i in tqdm(range(len(data))):\n",
        "    question, context = data.iloc[i][\"question\"], data.iloc[i][\"context\"]\n",
        "\n",
        "    inputs = tokenizer.encode_plus(question, context, add_special_tokens=True, return_tensors=\"pt\", truncation = True, max_length=512)[\"input_ids\"].numpy()[0]\n",
        "    num_to_pad = 512 - len(inputs)\n",
        "    inputs = np.pad(inputs, (0, num_to_pad), 'constant')\n",
        "    inputs = np.expand_dims(inputs, axis=0)\n",
        "\n",
        "    answer_cosine_sim = np.amax(cosine_similarity(answer_train_matrix, inputs))\n",
        "    abstain_cosine_sim = np.amax(cosine_similarity(abstain_train_matrix, inputs))\n",
        "    if answer_cosine_sim > abstain_cosine_sim:\n",
        "      # more similar to the answer matrix\n",
        "      preds.append(0)\n",
        "    else:\n",
        "      preds.append(1)\n",
        "\n",
        "  return np.array(preds)"
      ],
      "metadata": {
        "id": "6ooh1eoPp3xB"
      },
      "execution_count": 37,
      "outputs": []
    },
    {
      "cell_type": "code",
      "source": [
        "val_cosine_preds = get_preds(val)"
      ],
      "metadata": {
        "colab": {
          "base_uri": "https://localhost:8080/"
        },
        "id": "DMpj9c9Kq4UQ",
        "outputId": "23336e4d-350f-40c6-bfde-cdde1302cb3f"
      },
      "execution_count": 38,
      "outputs": [
        {
          "output_type": "stream",
          "name": "stderr",
          "text": [
            "100%|██████████| 800/800 [00:14<00:00, 53.94it/s]\n"
          ]
        }
      ]
    },
    {
      "cell_type": "code",
      "source": [
        "# validation set accuracy \n",
        "np.sum(y_val_calib == val_cosine_preds) / len(y_val_calib)"
      ],
      "metadata": {
        "colab": {
          "base_uri": "https://localhost:8080/"
        },
        "id": "y4SNacqJVPGZ",
        "outputId": "1c55b4f9-359e-4eeb-caeb-82b8e1e88d5b"
      },
      "execution_count": 39,
      "outputs": [
        {
          "output_type": "execute_result",
          "data": {
            "text/plain": [
              "0.97375"
            ]
          },
          "metadata": {},
          "execution_count": 39
        }
      ]
    },
    {
      "cell_type": "code",
      "source": [
        "test_cosine_preds = get_preds(test)"
      ],
      "metadata": {
        "colab": {
          "base_uri": "https://localhost:8080/"
        },
        "id": "dFYm38K4VaXr",
        "outputId": "f20f6ca1-b4e9-40a4-edc7-ff4f9545aa2e"
      },
      "execution_count": 40,
      "outputs": [
        {
          "output_type": "stream",
          "name": "stderr",
          "text": [
            "100%|██████████| 8000/8000 [02:37<00:00, 50.93it/s]\n"
          ]
        }
      ]
    },
    {
      "cell_type": "code",
      "source": [
        "# test set accuracy \n",
        "np.sum(y_test_calib == test_cosine_preds) / len(y_test_calib)"
      ],
      "metadata": {
        "colab": {
          "base_uri": "https://localhost:8080/"
        },
        "id": "_pGyOEu2Vefz",
        "outputId": "45b738ba-297e-48bd-9ddd-75a9478b034d"
      },
      "execution_count": 41,
      "outputs": [
        {
          "output_type": "execute_result",
          "data": {
            "text/plain": [
              "0.5775"
            ]
          },
          "metadata": {},
          "execution_count": 41
        }
      ]
    },
    {
      "cell_type": "code",
      "source": [
        "# def get_coverage(cosine_preds, thresh=0):\n",
        "#   maxes = np.amax(cosine_preds, axis = 1)\n",
        "#   preds = np.asarray([0 if val > thresh else 1 for val in maxes])\n",
        "\n",
        "#   cntr = Counter(preds)\n",
        "#   coverage = cntr[0]/(cntr[0]+cntr[1])\n",
        "#   return coverage\n"
      ],
      "metadata": {
        "id": "pi9yaCZFupH3"
      },
      "execution_count": null,
      "outputs": []
    },
    {
      "cell_type": "code",
      "source": [
        "# thresholds = [x/100 for x in range(0,80,5)]\n",
        "# coverages = []\n",
        "# for thresh in thresholds:\n",
        "#   coverages.append(get_coverage(val_cosine_preds, thresh))\n",
        "\n",
        "# plt.plot(thresholds,coverages)"
      ],
      "metadata": {
        "colab": {
          "base_uri": "https://localhost:8080/",
          "height": 447
        },
        "id": "0wkdH9e_waj6",
        "outputId": "8a851506-4e28-4cae-e179-cdb69b56e632"
      },
      "execution_count": null,
      "outputs": [
        {
          "output_type": "execute_result",
          "data": {
            "text/plain": [
              "[<matplotlib.lines.Line2D at 0x7f0c11fda560>]"
            ]
          },
          "metadata": {},
          "execution_count": 140
        },
        {
          "output_type": "display_data",
          "data": {
            "text/plain": [
              "<Figure size 640x480 with 1 Axes>"
            ],
            "image/png": "[encoded data removed]"
          },
          "metadata": {}
        }
      ]
    },
    {
      "cell_type": "code",
      "source": [
        "cntr = Counter(preds)\n",
        "coverage = cntr[0]/(cntr[0]+cntr[1])"
      ],
      "metadata": {
        "id": "Xx-UuKuBtbyO"
      },
      "execution_count": null,
      "outputs": []
    },
    {
      "cell_type": "code",
      "source": [
        "cntr"
      ],
      "metadata": {
        "colab": {
          "base_uri": "https://localhost:8080/"
        },
        "id": "OZpNYzAktriY",
        "outputId": "17efc386-921c-45a0-c1e0-4cfbc991de4b"
      },
      "execution_count": null,
      "outputs": [
        {
          "output_type": "execute_result",
          "data": {
            "text/plain": [
              "Counter({0: 406, 1: 394})"
            ]
          },
          "metadata": {},
          "execution_count": 89
        }
      ]
    },
    {
      "cell_type": "code",
      "source": [
        "coverage"
      ],
      "metadata": {
        "colab": {
          "base_uri": "https://localhost:8080/"
        },
        "id": "c2NHZncbtoUq",
        "outputId": "ca4f145b-e5eb-46e8-91d8-aec9d91e4f95"
      },
      "execution_count": null,
      "outputs": [
        {
          "output_type": "execute_result",
          "data": {
            "text/plain": [
              "0.5075"
            ]
          },
          "metadata": {},
          "execution_count": 88
        }
      ]
    },
    {
      "cell_type": "markdown",
      "source": [
        "Ignore code from here"
      ],
      "metadata": {
        "id": "CuXr65z13zrF"
      }
    },
    {
      "cell_type": "code",
      "source": [],
      "metadata": {
        "id": "JHX_G4GV3zTq"
      },
      "execution_count": null,
      "outputs": []
    },
    {
      "cell_type": "code",
      "source": [],
      "metadata": {
        "id": "8Zk0ZBF13zQQ"
      },
      "execution_count": null,
      "outputs": []
    },
    {
      "cell_type": "code",
      "source": [],
      "metadata": {
        "id": "F_9J25dy3zED"
      },
      "execution_count": null,
      "outputs": []
    },
    {
      "cell_type": "code",
      "source": [
        "accuracy = accuracy_score(combined_df.ground_answers.values,combined_df.predicted_answers.values)\n",
        "print(f\"Accuracy: {accuracy:.2f}\")"
      ],
      "metadata": {
        "colab": {
          "base_uri": "https://localhost:8080/"
        },
        "id": "-EgFlI44WQLl",
        "outputId": "176925fd-b1bd-49b2-a6ad-95a6181a0241"
      },
      "execution_count": null,
      "outputs": [
        {
          "output_type": "stream",
          "name": "stdout",
          "text": [
            "Accuracy: 0.58\n"
          ]
        }
      ]
    },
    {
      "cell_type": "markdown",
      "source": [
        "Training Calibrator"
      ],
      "metadata": {
        "id": "NCzqOSw_VXqo"
      }
    },
    {
      "cell_type": "code",
      "source": [
        "X = np.asarray(combined_df.iloc[:, :12].values)\n",
        "y = np.asarray([0]*1600 + [1]*400)\n",
        "\n",
        "X_train = np.concatenate((X[:1300],X[1600:1900]))\n",
        "y_train = np.concatenate((y[:1300],y[1600:1900]))\n",
        "X_val = np.concatenate((X[1300:1600],X[1900:]))\n",
        "y_val = np.concatenate((y[1300:1600],y[1900:]))\n",
        "\n",
        "# shuffled_indices_train = np.random.permutation(len(X_train))\n",
        "# shuffled_indices_val = np.random.permutation(len(X_val))\n",
        "\n",
        "# X_train, y_train = X_train[shuffled_indices_train], y_train[shuffled_indices_train]\n",
        "# X_val, y_val = X_val[shuffled_indices_val], y_val[shuffled_indices_val]"
      ],
      "metadata": {
        "id": "hOcz6WYKVJHo"
      },
      "execution_count": null,
      "outputs": []
    },
    {
      "cell_type": "code",
      "source": [
        "rf = RandomForestClassifier(n_estimators=100, max_depth=4, random_state=RANDOM_SEED)\n",
        "rf.fit(X_train, y_train)"
      ],
      "metadata": {
        "colab": {
          "base_uri": "https://localhost:8080/",
          "height": 74
        },
        "id": "QD0_F3ZHWGZt",
        "outputId": "0e6093e1-1ef4-4f66-d7ce-4d480d7399a3"
      },
      "execution_count": null,
      "outputs": [
        {
          "output_type": "execute_result",
          "data": {
            "text/plain": [
              "RandomForestClassifier(max_depth=4, random_state=7)"
            ],
            "text/html": [
              "<style>#sk-container-id-1 {color: black;background-color: white;}#sk-container-id-1 pre{padding: 0;}#sk-container-id-1 div.sk-toggleable {background-color: white;}#sk-container-id-1 label.sk-toggleable__label {cursor: pointer;display: block;width: 100%;margin-bottom: 0;padding: 0.3em;box-sizing: border-box;text-align: center;}#sk-container-id-1 label.sk-toggleable__label-arrow:before {content: \"▸\";float: left;margin-right: 0.25em;color: #696969;}#sk-container-id-1 label.sk-toggleable__label-arrow:hover:before {color: black;}#sk-container-id-1 div.sk-estimator:hover label.sk-toggleable__label-arrow:before {color: black;}#sk-container-id-1 div.sk-toggleable__content {max-height: 0;max-width: 0;overflow: hidden;text-align: left;background-color: #f0f8ff;}#sk-container-id-1 div.sk-toggleable__content pre {margin: 0.2em;color: black;border-radius: 0.25em;background-color: #f0f8ff;}#sk-container-id-1 input.sk-toggleable__control:checked~div.sk-toggleable__content {max-height: 200px;max-width: 100%;overflow: auto;}#sk-container-id-1 input.sk-toggleable__control:checked~label.sk-toggleable__label-arrow:before {content: \"▾\";}#sk-container-id-1 div.sk-estimator input.sk-toggleable__control:checked~label.sk-toggleable__label {background-color: #d4ebff;}#sk-container-id-1 div.sk-label input.sk-toggleable__control:checked~label.sk-toggleable__label {background-color: #d4ebff;}#sk-container-id-1 input.sk-hidden--visually {border: 0;clip: rect(1px 1px 1px 1px);clip: rect(1px, 1px, 1px, 1px);height: 1px;margin: -1px;overflow: hidden;padding: 0;position: absolute;width: 1px;}#sk-container-id-1 div.sk-estimator {font-family: monospace;background-color: #f0f8ff;border: 1px dotted black;border-radius: 0.25em;box-sizing: border-box;margin-bottom: 0.5em;}#sk-container-id-1 div.sk-estimator:hover {background-color: #d4ebff;}#sk-container-id-1 div.sk-parallel-item::after {content: \"\";width: 100%;border-bottom: 1px solid gray;flex-grow: 1;}#sk-container-id-1 div.sk-label:hover label.sk-toggleable__label {background-color: #d4ebff;}#sk-container-id-1 div.sk-serial::before {content: \"\";position: absolute;border-left: 1px solid gray;box-sizing: border-box;top: 0;bottom: 0;left: 50%;z-index: 0;}#sk-container-id-1 div.sk-serial {display: flex;flex-direction: column;align-items: center;background-color: white;padding-right: 0.2em;padding-left: 0.2em;position: relative;}#sk-container-id-1 div.sk-item {position: relative;z-index: 1;}#sk-container-id-1 div.sk-parallel {display: flex;align-items: stretch;justify-content: center;background-color: white;position: relative;}#sk-container-id-1 div.sk-item::before, #sk-container-id-1 div.sk-parallel-item::before {content: \"\";position: absolute;border-left: 1px solid gray;box-sizing: border-box;top: 0;bottom: 0;left: 50%;z-index: -1;}#sk-container-id-1 div.sk-parallel-item {display: flex;flex-direction: column;z-index: 1;position: relative;background-color: white;}#sk-container-id-1 div.sk-parallel-item:first-child::after {align-self: flex-end;width: 50%;}#sk-container-id-1 div.sk-parallel-item:last-child::after {align-self: flex-start;width: 50%;}#sk-container-id-1 div.sk-parallel-item:only-child::after {width: 0;}#sk-container-id-1 div.sk-dashed-wrapped {border: 1px dashed gray;margin: 0 0.4em 0.5em 0.4em;box-sizing: border-box;padding-bottom: 0.4em;background-color: white;}#sk-container-id-1 div.sk-label label {font-family: monospace;font-weight: bold;display: inline-block;line-height: 1.2em;}#sk-container-id-1 div.sk-label-container {text-align: center;}#sk-container-id-1 div.sk-container {/* jupyter's `normalize.less` sets `[hidden] { display: none; }` but bootstrap.min.css set `[hidden] { display: none !important; }` so we also need the `!important` here to be able to override the default hidden behavior on the sphinx rendered scikit-learn.org. See: https://github.com/scikit-learn/scikit-learn/issues/21755 */display: inline-block !important;position: relative;}#sk-container-id-1 div.sk-text-repr-fallback {display: none;}</style><div id=\"sk-container-id-1\" class=\"sk-top-container\"><div class=\"sk-text-repr-fallback\"><pre>RandomForestClassifier(max_depth=4, random_state=7)</pre><b>In a Jupyter environment, please rerun this cell to show the HTML representation or trust the notebook. <br />On GitHub, the HTML representation is unable to render, please try loading this page with nbviewer.org.</b></div><div class=\"sk-container\" hidden><div class=\"sk-item\"><div class=\"sk-estimator sk-toggleable\"><input class=\"sk-toggleable__control sk-hidden--visually\" id=\"sk-estimator-id-1\" type=\"checkbox\" checked><label for=\"sk-estimator-id-1\" class=\"sk-toggleable__label sk-toggleable__label-arrow\">RandomForestClassifier</label><div class=\"sk-toggleable__content\"><pre>RandomForestClassifier(max_depth=4, random_state=7)</pre></div></div></div></div></div>"
            ]
          },
          "metadata": {},
          "execution_count": 45
        }
      ]
    },
    {
      "cell_type": "code",
      "source": [
        "preds = rf.predict(X_val)\n",
        "preds_probs = rf.predict_proba(X_val)"
      ],
      "metadata": {
        "id": "0D0-TP7vWHtr"
      },
      "execution_count": null,
      "outputs": []
    },
    {
      "cell_type": "code",
      "source": [
        "pred_val = []\n",
        "THRESH = 0.1\n",
        "for p0, p1 in preds_probs:\n",
        "  if p0>THRESH:\n",
        "    pred_val.append(0)\n",
        "  else:\n",
        "    pred_val.append(1)\n",
        "\n",
        "cntr = Counter(pred_val)\n",
        "print(f\"Coverage: {cntr[0]/(cntr[0]+cntr[1])}\")"
      ],
      "metadata": {
        "colab": {
          "base_uri": "https://localhost:8080/"
        },
        "id": "vT9A_KuydGm6",
        "outputId": "772c0a6e-77ce-43fe-8b0c-29ba9663a081"
      },
      "execution_count": null,
      "outputs": [
        {
          "output_type": "stream",
          "name": "stdout",
          "text": [
            "Coverage: 0.9675\n"
          ]
        }
      ]
    },
    {
      "cell_type": "code",
      "source": [
        "def get_indices(indices):\n",
        "  ret = []\n",
        "  for i in indices:\n",
        "    if i<=300:\n",
        "      ret.append(i+1300)\n",
        "    else:\n",
        "      ret.append(i-300+1900)\n",
        "\n",
        "  return ret"
      ],
      "metadata": {
        "id": "und5YMfrhk9i"
      },
      "execution_count": null,
      "outputs": []
    },
    {
      "cell_type": "code",
      "source": [
        "indices = [index for index, value in enumerate(pred_val) if value == 0]\n",
        "new_indices = get_indices(indices)"
      ],
      "metadata": {
        "id": "oEG-GewnclIS"
      },
      "execution_count": null,
      "outputs": []
    },
    {
      "cell_type": "code",
      "source": [
        "val_answers = combined_df[['ground_answers', 'predicted_answers']].iloc[new_indices]"
      ],
      "metadata": {
        "id": "sFGLi8bbh_wL"
      },
      "execution_count": null,
      "outputs": []
    },
    {
      "cell_type": "code",
      "source": [
        "accuracy = accuracy_score(val_answers.ground_answers.values,val_answers.predicted_answers.values)\n",
        "print(f\"Accuracy: {accuracy:.2f}\")"
      ],
      "metadata": {
        "colab": {
          "base_uri": "https://localhost:8080/"
        },
        "id": "g7R_xcXnaBb-",
        "outputId": "450a9e90-6373-42ef-b816-f8598e1cbd9d"
      },
      "execution_count": null,
      "outputs": [
        {
          "output_type": "stream",
          "name": "stdout",
          "text": [
            "Accuracy: 0.56\n"
          ]
        }
      ]
    },
    {
      "cell_type": "code",
      "source": [
        "def acc_vs_threshold()"
      ],
      "metadata": {
        "id": "-GwcFKNQbdpK"
      },
      "execution_count": null,
      "outputs": []
    },
    {
      "cell_type": "markdown",
      "source": [
        "Don't bother about the code below!!"
      ],
      "metadata": {
        "id": "WT8fiQpQaLm7"
      }
    },
    {
      "cell_type": "code",
      "source": [
        "# print(context, question)\n",
        "inputs = tokenizer.encode_plus(question, context, add_special_tokens=True, return_tensors=\"pt\")\n",
        "input_ids = inputs[\"input_ids\"].tolist()[0]\n",
        "# print(input_ids)\n",
        "outputs = model(**inputs)\n",
        "# print(f\"Outputs: {outputs}\")\n",
        "start_scores = outputs.start_logits\n",
        "end_scores = outputs.end_logits\n",
        "print(start_scores)\n",
        "\n",
        "all_tokens = tokenizer.convert_ids_to_tokens(input_ids)\n",
        "print(f\"all tokens: {all_tokens}\")\n",
        "print(torch.argmax(start_scores, dim=1).item(), torch.argmax(end_scores, dim=1).item())\n",
        "answer_tokens = all_tokens[torch.argmax(start_scores, dim=1).item(): torch.argmax(end_scores, dim=1).item() + 1]\n",
        "print(answer_tokens)\n",
        "answer = tokenizer.convert_tokens_to_string(answer_tokens)\n",
        "print(answer)"
      ],
      "metadata": {
        "colab": {
          "base_uri": "https://localhost:8080/"
        },
        "id": "L1LFWYyrY81U",
        "outputId": "8c6cd13e-3a1e-4f85-b3f7-a0bb3653dbb2"
      },
      "execution_count": null,
      "outputs": [
        {
          "output_type": "stream",
          "name": "stdout",
          "text": [
            "tensor([[-0.1727,  0.1722,  0.1962, -0.2241, -0.1423, -0.3767,  0.1245,  0.2492,\n",
            "          0.4291,  0.1370, -0.0882,  0.1542,  0.2131,  0.1711,  0.3439,  0.4369,\n",
            "          0.3794,  0.1264,  0.1803,  0.3830,  0.1362,  0.1255, -0.2212,  0.2080,\n",
            "         -0.1640, -0.0518, -0.1869,  0.0849,  0.0730,  0.2436, -0.0123,  0.2799,\n",
            "          0.3926,  0.3879,  0.3484,  0.0104,  0.0549,  0.1858, -0.2647, -0.1953,\n",
            "         -0.5426,  0.0092,  0.2475, -0.2115,  0.2824,  0.1898, -0.1397,  0.2071,\n",
            "         -0.0716,  0.1541,  0.3763,  0.0816, -0.0554,  0.0924,  0.2390,  0.1332,\n",
            "          0.1850,  0.0293,  0.1409, -0.1875,  0.1431, -0.1129, -0.1109, -0.0025,\n",
            "         -0.2622, -0.3049,  0.1145, -0.0463,  0.0945, -0.2147, -0.1032,  0.0914,\n",
            "          0.0907,  0.0529,  0.2493,  0.2475, -0.2520, -0.2170, -0.4816,  0.0764,\n",
            "          0.2737, -0.0024, -0.3389,  0.0297,  0.0574,  0.1878,  0.1136,  0.1683,\n",
            "          0.0771,  0.0660,  0.2494,  0.1959,  0.0416,  0.1995,  0.3805,  0.4478,\n",
            "          0.5131,  0.0806,  0.2940,  0.2333,  0.0965,  0.0956,  0.2884,  0.1692,\n",
            "          0.1589,  0.0735,  0.4821,  0.3727,  0.5307,  0.8249,  0.5237,  0.2226,\n",
            "          0.5307,  0.3712,  0.3677, -0.3889,  0.2646,  0.2878,  0.6657,  0.3762,\n",
            "          0.2786,  0.2282,  0.1629,  0.0221,  0.3304,  0.2691, -0.3236, -0.3197,\n",
            "          0.2584, -0.1713,  0.1831,  0.2782,  0.1097, -0.2054,  0.2378,  0.2884,\n",
            "          0.3190,  0.4618,  0.3063, -0.0992,  0.2929,  0.5585,  0.2513,  0.5078,\n",
            "          0.3972,  0.3809, -0.0928,  0.4535,  0.3690,  0.1930,  0.1263, -0.5802,\n",
            "          0.1940,  0.3207,  0.4161, -0.0834,  0.1398, -0.1432,  0.3098, -0.0303,\n",
            "          0.1928, -0.0079,  0.0300, -0.2073,  0.3958, -0.1915,  0.0566, -0.0337,\n",
            "          0.0170,  0.0454,  0.0840,  0.2156,  0.3045,  0.1528,  0.0792,  0.1239,\n",
            "         -0.0278,  0.3606,  0.1723, -0.4847,  0.0120,  0.2132,  0.2032,  0.2370,\n",
            "         -0.0890,  0.0081, -0.3401, -0.1400, -0.0881,  0.0752,  0.1383, -0.0770,\n",
            "          0.1239,  0.2123,  0.6106,  0.4160, -0.1684, -0.1322,  0.3299,  0.0495,\n",
            "         -0.2024, -0.2212]], grad_fn=<CloneBackward0>)\n",
            "all tokens: ['[CLS]', 'The', 'A', '##cha', '##em', '##eni', '##d', 'Empire', 'was', 'the', 'known', 'enemy', 'of', 'what', 'nation', \"'\", 's', 'histories', 'during', 'its', 'existence', '?', '[SEP]', 'It', 'is', 'estimated', 'that', 'in', '480', 'BC', ',', '50', 'million', 'people', 'lived', 'in', 'the', 'A', '##cha', '##em', '##eni', '##d', 'Empire', '.', 'The', 'empire', 'at', 'its', 'peak', 'ruled', 'over', '44', '%', 'of', 'the', 'world', \"'\", 's', 'population', ',', 'the', 'highest', 'such', 'figure', 'for', 'any', 'empire', 'in', 'history', '.', 'In', 'Greek', 'history', ',', 'the', 'A', '##cha', '##em', '##eni', '##d', 'Empire', 'is', 'considered', 'as', 'the', 'antagonist', 'of', 'the', 'Greek', 'city', 'states', ',', 'for', 'the', 'em', '##ancipation', 'of', 'slaves', 'including', 'the', 'Jewish', 'exile', '##s', 'in', 'Babylon', ',', 'building', 'infrastructure', '##s', 'such', 'as', 'road', 'and', 'postal', 'systems', ',', 'and', 'the', 'use', 'of', 'an', 'official', 'language', ',', 'the', 'Imperial', 'Ara', '##ma', '##ic', ',', 'throughout', 'its', 'territories', '.', 'The', 'empire', 'had', 'a', 'centralized', ',', 'bureau', '##cratic', 'administration', 'under', 'the', 'emperor', ',', 'a', 'large', 'professional', 'army', ',', 'and', 'civil', 'services', ',', 'inspiring', 'similar', 'developments', 'in', 'later', 'empire', '##s', '.', 'Furthermore', ',', 'one', 'of', 'the', 'Seven', 'Wonder', '##s', 'of', 'the', 'Ancient', 'World', ',', 'the', 'Ma', '##us', '##ole', '##um', 'at', 'Hal', '##ica', '##rna', '##ss', '##us', ',', 'was', 'built', 'in', 'the', 'empire', 'between', '35', '##3', 'and', '350', 'BC', '.', '[SEP]']\n",
            "109 27\n",
            "[]\n",
            "\n"
          ]
        }
      ]
    },
    {
      "cell_type": "code",
      "source": [
        "out = tokenizer(context, question, return_tensors = \"pt\")"
      ],
      "metadata": {
        "id": "TJ6qZ165K4lC"
      },
      "execution_count": null,
      "outputs": []
    },
    {
      "cell_type": "code",
      "source": [
        "out"
      ],
      "metadata": {
        "colab": {
          "base_uri": "https://localhost:8080/"
        },
        "id": "27PqQrTbTHF4",
        "outputId": "691efef9-df80-4f4a-ebee-2bedabcdbc00"
      },
      "execution_count": null,
      "outputs": [
        {
          "output_type": "execute_result",
          "data": {
            "text/plain": [
              "{'input_ids': tensor([[  101,  1135,  1110,  3555,  1115,  1107, 18478,  3823,   117,  1851,\n",
              "          1550,  1234,  2077,  1107,  1103,   138,  7147,  5521, 21462,  1181,\n",
              "          2813,   119,  1109,  8207,  1120,  1157,  4709,  4741,  1166,  3140,\n",
              "           110,  1104,  1103,  1362,   112,   188,  1416,   117,  1103,  2439,\n",
              "          1216,  2482,  1111,  1251,  8207,  1107,  1607,   119,  1130,  2414,\n",
              "          1607,   117,  1103,   138,  7147,  5521, 21462,  1181,  2813,  1110,\n",
              "          1737,  1112,  1103, 19173,  1104,  1103,  2414,  1331,  2231,   117,\n",
              "          1111,  1103,  9712, 25305,  1104,  6864,  1259,  1103,  2778,  8879,\n",
              "          1116,  1107, 19014,   117,  1459,  6557,  1116,  1216,  1112,  1812,\n",
              "          1105, 14889,  2344,   117,  1105,  1103,  1329,  1104,  1126,  2078,\n",
              "          1846,   117,  1103,  4849, 25692,  1918,  1596,   117,  2032,  1157,\n",
              "          6835,   119,  1109,  8207,  1125,   170, 25864,   117, 18561, 21611,\n",
              "          3469,  1223,  1103,  6821,   117,   170,  1415,  1848,  2306,   117,\n",
              "          1105,  2987,  1826,   117, 21964,  1861,  9093,  1107,  1224,  8207,\n",
              "          1116,   119,  7282,   117,  1141,  1104,  1103,  5334, 10991,  1116,\n",
              "          1104,  1103,  7622,  1291,   117,  1103,  7085,  1361,  9016,  1818,\n",
              "          1120, 12193,  4578, 11782,  3954,  1361,   117,  1108,  1434,  1107,\n",
              "          1103,  8207,  1206,  2588,  1495,  1105,  8301,  3823,   119,   102,\n",
              "          1109,   138,  7147,  5521, 21462,  1181,  2813,  1108,  1103,  1227,\n",
              "          3437,  1104,  1184,  3790,   112,   188, 19160,  1219,  1157,  3796,\n",
              "           136,   102]]), 'token_type_ids': tensor([[0, 0, 0, 0, 0, 0, 0, 0, 0, 0, 0, 0, 0, 0, 0, 0, 0, 0, 0, 0, 0, 0, 0, 0,\n",
              "         0, 0, 0, 0, 0, 0, 0, 0, 0, 0, 0, 0, 0, 0, 0, 0, 0, 0, 0, 0, 0, 0, 0, 0,\n",
              "         0, 0, 0, 0, 0, 0, 0, 0, 0, 0, 0, 0, 0, 0, 0, 0, 0, 0, 0, 0, 0, 0, 0, 0,\n",
              "         0, 0, 0, 0, 0, 0, 0, 0, 0, 0, 0, 0, 0, 0, 0, 0, 0, 0, 0, 0, 0, 0, 0, 0,\n",
              "         0, 0, 0, 0, 0, 0, 0, 0, 0, 0, 0, 0, 0, 0, 0, 0, 0, 0, 0, 0, 0, 0, 0, 0,\n",
              "         0, 0, 0, 0, 0, 0, 0, 0, 0, 0, 0, 0, 0, 0, 0, 0, 0, 0, 0, 0, 0, 0, 0, 0,\n",
              "         0, 0, 0, 0, 0, 0, 0, 0, 0, 0, 0, 0, 0, 0, 0, 0, 0, 0, 0, 0, 0, 0, 0, 0,\n",
              "         0, 0, 0, 0, 0, 0, 0, 0, 0, 0, 0, 0, 1, 1, 1, 1, 1, 1, 1, 1, 1, 1, 1, 1,\n",
              "         1, 1, 1, 1, 1, 1, 1, 1, 1, 1]]), 'attention_mask': tensor([[1, 1, 1, 1, 1, 1, 1, 1, 1, 1, 1, 1, 1, 1, 1, 1, 1, 1, 1, 1, 1, 1, 1, 1,\n",
              "         1, 1, 1, 1, 1, 1, 1, 1, 1, 1, 1, 1, 1, 1, 1, 1, 1, 1, 1, 1, 1, 1, 1, 1,\n",
              "         1, 1, 1, 1, 1, 1, 1, 1, 1, 1, 1, 1, 1, 1, 1, 1, 1, 1, 1, 1, 1, 1, 1, 1,\n",
              "         1, 1, 1, 1, 1, 1, 1, 1, 1, 1, 1, 1, 1, 1, 1, 1, 1, 1, 1, 1, 1, 1, 1, 1,\n",
              "         1, 1, 1, 1, 1, 1, 1, 1, 1, 1, 1, 1, 1, 1, 1, 1, 1, 1, 1, 1, 1, 1, 1, 1,\n",
              "         1, 1, 1, 1, 1, 1, 1, 1, 1, 1, 1, 1, 1, 1, 1, 1, 1, 1, 1, 1, 1, 1, 1, 1,\n",
              "         1, 1, 1, 1, 1, 1, 1, 1, 1, 1, 1, 1, 1, 1, 1, 1, 1, 1, 1, 1, 1, 1, 1, 1,\n",
              "         1, 1, 1, 1, 1, 1, 1, 1, 1, 1, 1, 1, 1, 1, 1, 1, 1, 1, 1, 1, 1, 1, 1, 1,\n",
              "         1, 1, 1, 1, 1, 1, 1, 1, 1, 1]])}"
            ]
          },
          "metadata": {},
          "execution_count": 51
        }
      ]
    },
    {
      "cell_type": "code",
      "source": [
        "model(**out)"
      ],
      "metadata": {
        "colab": {
          "base_uri": "https://localhost:8080/"
        },
        "id": "o0d8TV8xOLxr",
        "outputId": "495e3aee-e4f0-47e6-ef0f-e306dd276c1d"
      },
      "execution_count": null,
      "outputs": [
        {
          "output_type": "execute_result",
          "data": {
            "text/plain": [
              "QuestionAnsweringModelOutput(loss=None, start_logits=tensor([[-0.0429,  0.1648, -0.1192, -0.0276, -0.2173,  0.1022,  0.1067,  0.3181,\n",
              "          0.0166,  0.1815,  0.3874,  0.4361,  0.4217,  0.0552,  0.1394,  0.1310,\n",
              "         -0.1659, -0.0616, -0.2787,  0.1007,  0.3279, -0.2475,  0.2782,  0.2465,\n",
              "         -0.1590,  0.2153, -0.0095,  0.2838,  0.4865,  0.1575,  0.0668,  0.1679,\n",
              "          0.2389,  0.2207,  0.1624,  0.0291,  0.2366, -0.1136,  0.1844, -0.0036,\n",
              "         -0.1253,  0.0994, -0.1494, -0.2550,  0.1871,  0.0508,  0.0787, -0.2512,\n",
              "         -0.0849,  0.1713,  0.0763,  0.1220,  0.2671,  0.1983, -0.2871, -0.1777,\n",
              "         -0.4162,  0.0997,  0.3504,  0.0389, -0.2530,  0.1223,  0.1393,  0.2592,\n",
              "          0.1067,  0.1923,  0.1520,  0.1548,  0.2749,  0.2830,  0.0829,  0.2386,\n",
              "          0.3872,  0.3903,  0.4959,  0.1011,  0.2967,  0.2100,  0.0809,  0.0741,\n",
              "          0.2501,  0.1622,  0.1860,  0.1131,  0.5484,  0.4027,  0.5341,  0.7941,\n",
              "          0.5851,  0.2569,  0.5496,  0.3578,  0.4035, -0.3021,  0.3354,  0.3074,\n",
              "          0.7309,  0.3644,  0.3163,  0.2838,  0.2265,  0.0633,  0.3344,  0.2923,\n",
              "         -0.1579, -0.2214,  0.3072, -0.1181,  0.2447,  0.2723,  0.1622, -0.2474,\n",
              "          0.2732,  0.3029,  0.3981,  0.5270,  0.4253,  0.0614,  0.4331,  0.6349,\n",
              "          0.3320,  0.6347,  0.4846,  0.4882,  0.0089,  0.5254,  0.4773,  0.2930,\n",
              "          0.2513, -0.4502,  0.3312,  0.4473,  0.5297,  0.0350,  0.2639, -0.0024,\n",
              "          0.4383,  0.0387,  0.2980,  0.1233,  0.0900, -0.2472,  0.4310, -0.0821,\n",
              "          0.1439,  0.0423,  0.0557,  0.0875,  0.2140,  0.3374,  0.3687,  0.2429,\n",
              "          0.1548,  0.2307,  0.0574,  0.4205,  0.2579, -0.3168,  0.1058,  0.3011,\n",
              "          0.2778,  0.3563, -0.0384,  0.1099, -0.2278, -0.0504,  0.0774,  0.2354,\n",
              "          0.2707, -0.0313,  0.2133,  0.2899,  0.6833,  0.4648, -0.0728, -0.0587,\n",
              "          0.3697,  0.1196, -0.0294, -0.2580,  0.1803,  0.0965, -0.3029, -0.2184,\n",
              "         -0.4434,  0.0686,  0.2040,  0.4251,  0.1408, -0.0700,  0.1133,  0.1504,\n",
              "          0.1210,  0.2828,  0.5174,  0.3555,  0.0738,  0.0099,  0.3609,  0.1144,\n",
              "          0.0606, -0.2580]], grad_fn=<CloneBackward0>), end_logits=tensor([[-0.1137,  0.0631,  0.2428,  0.1800,  0.4112,  0.8514,  0.8303,  0.6188,\n",
              "          0.1363,  0.4018,  0.3896,  0.4328,  0.1840,  0.4062,  0.4520,  0.1981,\n",
              "          0.6375,  0.0182,  0.9085,  0.7498,  0.8165, -0.0988,  0.6930,  0.7234,\n",
              "          0.2833,  0.3894,  0.3587,  0.3965,  0.5225,  0.3043,  0.1633,  0.1190,\n",
              "          0.2744,  0.4514,  0.3757,  0.5465,  0.4816,  0.0285,  0.3001,  0.4950,\n",
              "          0.1446,  0.1288, -0.0063,  0.4564,  0.6356,  0.4360,  0.2841, -0.1009,\n",
              "          0.8843,  0.5318,  0.4523,  0.3029,  0.5015,  0.1118,  0.5563,  0.0530,\n",
              "          0.8522,  0.6922,  0.8373,  0.4736,  0.4726,  0.4458,  0.5519,  0.4987,\n",
              "          0.2019,  0.5305,  0.6225,  0.4966,  0.5603,  0.3433,  0.1830,  0.5386,\n",
              "          0.4184,  0.3463,  0.1833,  0.5495,  0.4429,  0.4321,  0.2602,  0.7229,\n",
              "          0.4669,  0.8805,  0.2001,  0.3724,  0.4653,  0.7335,  0.4606,  0.2891,\n",
              "          0.5284,  0.5411,  0.4316,  0.5721,  0.5010,  0.0236,  0.4727,  0.6414,\n",
              "          0.7802,  0.3209,  0.8563,  0.5083,  0.3948,  0.1147,  0.5074,  0.6946,\n",
              "          0.2909,  0.8579,  0.7229,  0.1576,  0.9200,  0.6480,  0.5110, -0.0991,\n",
              "          0.7366,  0.6000,  0.4310,  0.6997,  0.9120,  0.3920,  0.3128,  0.7068,\n",
              "          0.1894,  0.5631,  0.6348,  0.2187,  0.2111,  0.6693,  0.8516,  0.6310,\n",
              "          0.4555, -0.1632,  0.5293,  0.4399,  0.5422,  0.0878,  0.3414,  0.5285,\n",
              "          0.2763,  0.3037,  0.5368,  0.6265,  0.1632, -0.0982,  0.4755,  0.0830,\n",
              "          0.3300, -0.2072,  0.0509,  0.0962,  0.3421,  0.3640,  0.1883,  0.3330,\n",
              "          0.6748,  0.5734,  0.4421,  0.6377,  0.7059,  0.5668,  0.9151,  0.5788,\n",
              "          0.6840,  0.3588,  0.3793,  0.7942,  0.6518,  0.6758,  0.1386,  0.3896,\n",
              "          0.3198,  0.7505,  0.5270,  0.4527,  0.6287,  0.8082,  0.4537,  0.0257,\n",
              "          0.7974,  0.5327,  0.2416, -0.1027,  0.5735,  0.1332,  0.6937,  0.1136,\n",
              "          0.8802,  0.6947,  0.8003,  0.3445,  0.5883,  0.4539,  0.6554,  0.3450,\n",
              "          0.6868,  0.4474,  0.4500,  0.6757,  0.7207,  0.5093,  0.4964,  0.5966,\n",
              "          0.4366, -0.1027]], grad_fn=<CloneBackward0>), hidden_states=None, attentions=None)"
            ]
          },
          "metadata": {},
          "execution_count": 54
        }
      ]
    },
    {
      "cell_type": "code",
      "source": [
        "df = pd.read_csv(\"data/news_qa/train.csv\")"
      ],
      "metadata": {
        "id": "OtVf-Xq1OM8F"
      },
      "execution_count": null,
      "outputs": []
    },
    {
      "cell_type": "code",
      "source": [
        "df.head()"
      ],
      "metadata": {
        "colab": {
          "base_uri": "https://localhost:8080/",
          "height": 337
        },
        "id": "DVVOqGD9OTw0",
        "outputId": "259acdff-e700-40e1-ad2e-b333928f9f33"
      },
      "execution_count": null,
      "outputs": [
        {
          "output_type": "execute_result",
          "data": {
            "text/plain": [
              "                                             context  \\\n",
              "0  NEW DELHI, India (CNN) -- A high court in nort...   \n",
              "1  NEW DELHI, India (CNN) -- A high court in nort...   \n",
              "2  NEW DELHI, India (CNN) -- A high court in nort...   \n",
              "3  NEW DELHI, India (CNN) -- A high court in nort...   \n",
              "4  NEW DELHI, India (CNN) -- A high court in nort...   \n",
              "\n",
              "                                            question  \\\n",
              "0          What was the amount of children murdered?   \n",
              "1               When was Pandher sentenced to death?   \n",
              "2  The court aquitted Moninder Singh Pandher of w...   \n",
              "3                                  who was acquitted   \n",
              "4                                  who was sentenced   \n",
              "\n",
              "                      answers                               key  \\\n",
              "0                      ['19']  da0e6b66e04d439fa1ba23c32de07e50   \n",
              "1               ['February.']  724f6eb9a2814e4fb2d7d8e4de846073   \n",
              "2         ['rape and murder']  d64cbb90e5134081acfa83d3e702408c   \n",
              "3  ['Moninder Singh Pandher']  fd7177ee6f1f4d62becd983a0305f503   \n",
              "4  ['Moninder Singh Pandher']  cd25c69f631349748ccdeccaace66463   \n",
              "\n",
              "                                           labels  \n",
              "0  [{'end': array([295]), 'start': array([294])}]  \n",
              "1  [{'end': array([269]), 'start': array([261])}]  \n",
              "2  [{'end': array([638]), 'start': array([624])}]  \n",
              "3  [{'end': array([216]), 'start': array([195])}]  \n",
              "4  [{'end': array([216]), 'start': array([195])}]  "
            ],
            "text/html": [
              "\n",
              "  <div id=\"df-d5595067-b542-469e-8a46-6c47c6a8f7b7\">\n",
              "    <div class=\"colab-df-container\">\n",
              "      <div>\n",
              "<style scoped>\n",
              "    .dataframe tbody tr th:only-of-type {\n",
              "        vertical-align: middle;\n",
              "    }\n",
              "\n",
              "    .dataframe tbody tr th {\n",
              "        vertical-align: top;\n",
              "    }\n",
              "\n",
              "    .dataframe thead th {\n",
              "        text-align: right;\n",
              "    }\n",
              "</style>\n",
              "<table border=\"1\" class=\"dataframe\">\n",
              "  <thead>\n",
              "    <tr style=\"text-align: right;\">\n",
              "      <th></th>\n",
              "      <th>context</th>\n",
              "      <th>question</th>\n",
              "      <th>answers</th>\n",
              "      <th>key</th>\n",
              "      <th>labels</th>\n",
              "    </tr>\n",
              "  </thead>\n",
              "  <tbody>\n",
              "    <tr>\n",
              "      <th>0</th>\n",
              "      <td>NEW DELHI, India (CNN) -- A high court in nort...</td>\n",
              "      <td>What was the amount of children murdered?</td>\n",
              "      <td>['19']</td>\n",
              "      <td>da0e6b66e04d439fa1ba23c32de07e50</td>\n",
              "      <td>[{'end': array([295]), 'start': array([294])}]</td>\n",
              "    </tr>\n",
              "    <tr>\n",
              "      <th>1</th>\n",
              "      <td>NEW DELHI, India (CNN) -- A high court in nort...</td>\n",
              "      <td>When was Pandher sentenced to death?</td>\n",
              "      <td>['February.']</td>\n",
              "      <td>724f6eb9a2814e4fb2d7d8e4de846073</td>\n",
              "      <td>[{'end': array([269]), 'start': array([261])}]</td>\n",
              "    </tr>\n",
              "    <tr>\n",
              "      <th>2</th>\n",
              "      <td>NEW DELHI, India (CNN) -- A high court in nort...</td>\n",
              "      <td>The court aquitted Moninder Singh Pandher of w...</td>\n",
              "      <td>['rape and murder']</td>\n",
              "      <td>d64cbb90e5134081acfa83d3e702408c</td>\n",
              "      <td>[{'end': array([638]), 'start': array([624])}]</td>\n",
              "    </tr>\n",
              "    <tr>\n",
              "      <th>3</th>\n",
              "      <td>NEW DELHI, India (CNN) -- A high court in nort...</td>\n",
              "      <td>who was acquitted</td>\n",
              "      <td>['Moninder Singh Pandher']</td>\n",
              "      <td>fd7177ee6f1f4d62becd983a0305f503</td>\n",
              "      <td>[{'end': array([216]), 'start': array([195])}]</td>\n",
              "    </tr>\n",
              "    <tr>\n",
              "      <th>4</th>\n",
              "      <td>NEW DELHI, India (CNN) -- A high court in nort...</td>\n",
              "      <td>who was sentenced</td>\n",
              "      <td>['Moninder Singh Pandher']</td>\n",
              "      <td>cd25c69f631349748ccdeccaace66463</td>\n",
              "      <td>[{'end': array([216]), 'start': array([195])}]</td>\n",
              "    </tr>\n",
              "  </tbody>\n",
              "</table>\n",
              "</div>\n",
              "      <button class=\"colab-df-convert\" onclick=\"convertToInteractive('df-d5595067-b542-469e-8a46-6c47c6a8f7b7')\"\n",
              "              title=\"Convert this dataframe to an interactive table.\"\n",
              "              style=\"display:none;\">\n",
              "        \n",
              "  <svg xmlns=\"http://www.w3.org/2000/svg\" height=\"24px\"viewBox=\"0 0 24 24\"\n",
              "       width=\"24px\">\n",
              "    <path d=\"M0 0h24v24H0V0z\" fill=\"none\"/>\n",
              "    <path d=\"M18.56 5.44l.94 2.06.94-2.06 2.06-.94-2.06-.94-.94-2.06-.94 2.06-2.06.94zm-11 1L8.5 8.5l.94-2.06 2.06-.94-2.06-.94L8.5 2.5l-.94 2.06-2.06.94zm10 10l.94 2.06.94-2.06 2.06-.94-2.06-.94-.94-2.06-.94 2.06-2.06.94z\"/><path d=\"M17.41 7.96l-1.37-1.37c-.4-.4-.92-.59-1.43-.59-.52 0-1.04.2-1.43.59L10.3 9.45l-7.72 7.72c-.78.78-.78 2.05 0 2.83L4 21.41c.39.39.9.59 1.41.59.51 0 1.02-.2 1.41-.59l7.78-7.78 2.81-2.81c.8-.78.8-2.07 0-2.86zM5.41 20L4 18.59l7.72-7.72 1.47 1.35L5.41 20z\"/>\n",
              "  </svg>\n",
              "      </button>\n",
              "      \n",
              "  <style>\n",
              "    .colab-df-container {\n",
              "      display:flex;\n",
              "      flex-wrap:wrap;\n",
              "      gap: 12px;\n",
              "    }\n",
              "\n",
              "    .colab-df-convert {\n",
              "      background-color: #E8F0FE;\n",
              "      border: none;\n",
              "      border-radius: 50%;\n",
              "      cursor: pointer;\n",
              "      display: none;\n",
              "      fill: #1967D2;\n",
              "      height: 32px;\n",
              "      padding: 0 0 0 0;\n",
              "      width: 32px;\n",
              "    }\n",
              "\n",
              "    .colab-df-convert:hover {\n",
              "      background-color: #E2EBFA;\n",
              "      box-shadow: 0px 1px 2px rgba(60, 64, 67, 0.3), 0px 1px 3px 1px rgba(60, 64, 67, 0.15);\n",
              "      fill: #174EA6;\n",
              "    }\n",
              "\n",
              "    [theme=dark] .colab-df-convert {\n",
              "      background-color: #3B4455;\n",
              "      fill: #D2E3FC;\n",
              "    }\n",
              "\n",
              "    [theme=dark] .colab-df-convert:hover {\n",
              "      background-color: #434B5C;\n",
              "      box-shadow: 0px 1px 3px 1px rgba(0, 0, 0, 0.15);\n",
              "      filter: drop-shadow(0px 1px 2px rgba(0, 0, 0, 0.3));\n",
              "      fill: #FFFFFF;\n",
              "    }\n",
              "  </style>\n",
              "\n",
              "      <script>\n",
              "        const buttonEl =\n",
              "          document.querySelector('#df-d5595067-b542-469e-8a46-6c47c6a8f7b7 button.colab-df-convert');\n",
              "        buttonEl.style.display =\n",
              "          google.colab.kernel.accessAllowed ? 'block' : 'none';\n",
              "\n",
              "        async function convertToInteractive(key) {\n",
              "          const element = document.querySelector('#df-d5595067-b542-469e-8a46-6c47c6a8f7b7');\n",
              "          const dataTable =\n",
              "            await google.colab.kernel.invokeFunction('convertToInteractive',\n",
              "                                                     [key], {});\n",
              "          if (!dataTable) return;\n",
              "\n",
              "          const docLinkHtml = 'Like what you see? Visit the ' +\n",
              "            '<a target=\"_blank\" href=https://colab.research.google.com/notebooks/data_table.ipynb>data table notebook</a>'\n",
              "            + ' to learn more about interactive tables.';\n",
              "          element.innerHTML = '';\n",
              "          dataTable['output_type'] = 'display_data';\n",
              "          await google.colab.output.renderOutput(dataTable, element);\n",
              "          const docLink = document.createElement('div');\n",
              "          docLink.innerHTML = docLinkHtml;\n",
              "          element.appendChild(docLink);\n",
              "        }\n",
              "      </script>\n",
              "    </div>\n",
              "  </div>\n",
              "  "
            ]
          },
          "metadata": {},
          "execution_count": 22
        }
      ]
    },
    {
      "cell_type": "code",
      "source": [
        "p_src"
      ],
      "metadata": {
        "colab": {
          "base_uri": "https://localhost:8080/",
          "height": 424
        },
        "id": "wCzudFvTOXcQ",
        "outputId": "15d7a6d0-a9aa-42fd-ffd4-5ac9786def80"
      },
      "execution_count": null,
      "outputs": [
        {
          "output_type": "execute_result",
          "data": {
            "text/plain": [
              "                                                context  \\\n",
              "0     It is estimated that in 480 BC, 50 million peo...   \n",
              "1     In 2004 he was admitted as knight of the Légio...   \n",
              "2     KU Endowment was established in 1891 as Americ...   \n",
              "3     2010s saw multiple new sounds in house music d...   \n",
              "4     Much of Yale University's staff, including mos...   \n",
              "...                                                 ...   \n",
              "1595  In early times, the privilege of papal electio...   \n",
              "1596  Commercial turkeys are usually reared indoors ...   \n",
              "1597  Nonverbal communication describes the process ...   \n",
              "1598  The languages have not undergone the deliberat...   \n",
              "1599  Congo-Brazzaville has had a multi-party politi...   \n",
              "\n",
              "                                               question  \n",
              "0     The Achaemenid Empire was the known enemy of w...  \n",
              "1                          Who made Spielberg a knight?  \n",
              "2                    When was the KU Endowment founded?  \n",
              "3     Big room house has found increasing popularity...  \n",
              "4     What union are Yale's service and maintenance ...  \n",
              "...                                                 ...  \n",
              "1595  Why did the ceromony of consecrating a bishop ...  \n",
              "1596  How much more does a average commercial  turke...  \n",
              "1597  What is an example of an involuntary intent of...  \n",
              "1598                     What language family is Czech?  \n",
              "1599  What is the French term for Sassou's political...  \n",
              "\n",
              "[1600 rows x 2 columns]"
            ],
            "text/html": [
              "\n",
              "  <div id=\"df-98481802-074b-4f01-b46d-507ea0d6e13c\">\n",
              "    <div class=\"colab-df-container\">\n",
              "      <div>\n",
              "<style scoped>\n",
              "    .dataframe tbody tr th:only-of-type {\n",
              "        vertical-align: middle;\n",
              "    }\n",
              "\n",
              "    .dataframe tbody tr th {\n",
              "        vertical-align: top;\n",
              "    }\n",
              "\n",
              "    .dataframe thead th {\n",
              "        text-align: right;\n",
              "    }\n",
              "</style>\n",
              "<table border=\"1\" class=\"dataframe\">\n",
              "  <thead>\n",
              "    <tr style=\"text-align: right;\">\n",
              "      <th></th>\n",
              "      <th>context</th>\n",
              "      <th>question</th>\n",
              "    </tr>\n",
              "  </thead>\n",
              "  <tbody>\n",
              "    <tr>\n",
              "      <th>0</th>\n",
              "      <td>It is estimated that in 480 BC, 50 million peo...</td>\n",
              "      <td>The Achaemenid Empire was the known enemy of w...</td>\n",
              "    </tr>\n",
              "    <tr>\n",
              "      <th>1</th>\n",
              "      <td>In 2004 he was admitted as knight of the Légio...</td>\n",
              "      <td>Who made Spielberg a knight?</td>\n",
              "    </tr>\n",
              "    <tr>\n",
              "      <th>2</th>\n",
              "      <td>KU Endowment was established in 1891 as Americ...</td>\n",
              "      <td>When was the KU Endowment founded?</td>\n",
              "    </tr>\n",
              "    <tr>\n",
              "      <th>3</th>\n",
              "      <td>2010s saw multiple new sounds in house music d...</td>\n",
              "      <td>Big room house has found increasing popularity...</td>\n",
              "    </tr>\n",
              "    <tr>\n",
              "      <th>4</th>\n",
              "      <td>Much of Yale University's staff, including mos...</td>\n",
              "      <td>What union are Yale's service and maintenance ...</td>\n",
              "    </tr>\n",
              "    <tr>\n",
              "      <th>...</th>\n",
              "      <td>...</td>\n",
              "      <td>...</td>\n",
              "    </tr>\n",
              "    <tr>\n",
              "      <th>1595</th>\n",
              "      <td>In early times, the privilege of papal electio...</td>\n",
              "      <td>Why did the ceromony of consecrating a bishop ...</td>\n",
              "    </tr>\n",
              "    <tr>\n",
              "      <th>1596</th>\n",
              "      <td>Commercial turkeys are usually reared indoors ...</td>\n",
              "      <td>How much more does a average commercial  turke...</td>\n",
              "    </tr>\n",
              "    <tr>\n",
              "      <th>1597</th>\n",
              "      <td>Nonverbal communication describes the process ...</td>\n",
              "      <td>What is an example of an involuntary intent of...</td>\n",
              "    </tr>\n",
              "    <tr>\n",
              "      <th>1598</th>\n",
              "      <td>The languages have not undergone the deliberat...</td>\n",
              "      <td>What language family is Czech?</td>\n",
              "    </tr>\n",
              "    <tr>\n",
              "      <th>1599</th>\n",
              "      <td>Congo-Brazzaville has had a multi-party politi...</td>\n",
              "      <td>What is the French term for Sassou's political...</td>\n",
              "    </tr>\n",
              "  </tbody>\n",
              "</table>\n",
              "<p>1600 rows × 2 columns</p>\n",
              "</div>\n",
              "      <button class=\"colab-df-convert\" onclick=\"convertToInteractive('df-98481802-074b-4f01-b46d-507ea0d6e13c')\"\n",
              "              title=\"Convert this dataframe to an interactive table.\"\n",
              "              style=\"display:none;\">\n",
              "        \n",
              "  <svg xmlns=\"http://www.w3.org/2000/svg\" height=\"24px\"viewBox=\"0 0 24 24\"\n",
              "       width=\"24px\">\n",
              "    <path d=\"M0 0h24v24H0V0z\" fill=\"none\"/>\n",
              "    <path d=\"M18.56 5.44l.94 2.06.94-2.06 2.06-.94-2.06-.94-.94-2.06-.94 2.06-2.06.94zm-11 1L8.5 8.5l.94-2.06 2.06-.94-2.06-.94L8.5 2.5l-.94 2.06-2.06.94zm10 10l.94 2.06.94-2.06 2.06-.94-2.06-.94-.94-2.06-.94 2.06-2.06.94z\"/><path d=\"M17.41 7.96l-1.37-1.37c-.4-.4-.92-.59-1.43-.59-.52 0-1.04.2-1.43.59L10.3 9.45l-7.72 7.72c-.78.78-.78 2.05 0 2.83L4 21.41c.39.39.9.59 1.41.59.51 0 1.02-.2 1.41-.59l7.78-7.78 2.81-2.81c.8-.78.8-2.07 0-2.86zM5.41 20L4 18.59l7.72-7.72 1.47 1.35L5.41 20z\"/>\n",
              "  </svg>\n",
              "      </button>\n",
              "      \n",
              "  <style>\n",
              "    .colab-df-container {\n",
              "      display:flex;\n",
              "      flex-wrap:wrap;\n",
              "      gap: 12px;\n",
              "    }\n",
              "\n",
              "    .colab-df-convert {\n",
              "      background-color: #E8F0FE;\n",
              "      border: none;\n",
              "      border-radius: 50%;\n",
              "      cursor: pointer;\n",
              "      display: none;\n",
              "      fill: #1967D2;\n",
              "      height: 32px;\n",
              "      padding: 0 0 0 0;\n",
              "      width: 32px;\n",
              "    }\n",
              "\n",
              "    .colab-df-convert:hover {\n",
              "      background-color: #E2EBFA;\n",
              "      box-shadow: 0px 1px 2px rgba(60, 64, 67, 0.3), 0px 1px 3px 1px rgba(60, 64, 67, 0.15);\n",
              "      fill: #174EA6;\n",
              "    }\n",
              "\n",
              "    [theme=dark] .colab-df-convert {\n",
              "      background-color: #3B4455;\n",
              "      fill: #D2E3FC;\n",
              "    }\n",
              "\n",
              "    [theme=dark] .colab-df-convert:hover {\n",
              "      background-color: #434B5C;\n",
              "      box-shadow: 0px 1px 3px 1px rgba(0, 0, 0, 0.15);\n",
              "      filter: drop-shadow(0px 1px 2px rgba(0, 0, 0, 0.3));\n",
              "      fill: #FFFFFF;\n",
              "    }\n",
              "  </style>\n",
              "\n",
              "      <script>\n",
              "        const buttonEl =\n",
              "          document.querySelector('#df-98481802-074b-4f01-b46d-507ea0d6e13c button.colab-df-convert');\n",
              "        buttonEl.style.display =\n",
              "          google.colab.kernel.accessAllowed ? 'block' : 'none';\n",
              "\n",
              "        async function convertToInteractive(key) {\n",
              "          const element = document.querySelector('#df-98481802-074b-4f01-b46d-507ea0d6e13c');\n",
              "          const dataTable =\n",
              "            await google.colab.kernel.invokeFunction('convertToInteractive',\n",
              "                                                     [key], {});\n",
              "          if (!dataTable) return;\n",
              "\n",
              "          const docLinkHtml = 'Like what you see? Visit the ' +\n",
              "            '<a target=\"_blank\" href=https://colab.research.google.com/notebooks/data_table.ipynb>data table notebook</a>'\n",
              "            + ' to learn more about interactive tables.';\n",
              "          element.innerHTML = '';\n",
              "          dataTable['output_type'] = 'display_data';\n",
              "          await google.colab.output.renderOutput(dataTable, element);\n",
              "          const docLink = document.createElement('div');\n",
              "          docLink.innerHTML = docLinkHtml;\n",
              "          element.appendChild(docLink);\n",
              "        }\n",
              "      </script>\n",
              "    </div>\n",
              "  </div>\n",
              "  "
            ]
          },
          "metadata": {},
          "execution_count": 55
        }
      ]
    },
    {
      "cell_type": "code",
      "source": [],
      "metadata": {
        "id": "U_1m7qnDUe36"
      },
      "execution_count": null,
      "outputs": []
    }
  ]
}