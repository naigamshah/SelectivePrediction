{
  "nbformat": 4,
  "nbformat_minor": 0,
  "metadata": {
    "colab": {
      "provenance": [],
      "gpuType": "T4"
    },
    "kernelspec": {
      "name": "python3",
      "display_name": "Python 3"
    },
    "language_info": {
      "name": "python"
    },
    "accelerator": "GPU",
    "widgets": {
      "application/vnd.jupyter.widget-state+json": {
        "87c057f186fc4009b7d0f2bb0c540ec6": {
          "model_module": "@jupyter-widgets/controls",
          "model_name": "HBoxModel",
          "model_module_version": "1.5.0",
          "state": {
            "_dom_classes": [],
            "_model_module": "@jupyter-widgets/controls",
            "_model_module_version": "1.5.0",
            "_model_name": "HBoxModel",
            "_view_count": null,
            "_view_module": "@jupyter-widgets/controls",
            "_view_module_version": "1.5.0",
            "_view_name": "HBoxView",
            "box_style": "",
            "children": [
              "IPY_MODEL_05581ff2d6a041789c580140c52c5aaa",
              "IPY_MODEL_b9d35458d6d44382b3343d1b6c3f91c0",
              "IPY_MODEL_cf07e0d3f7ed405b922c35296e9ce037"
            ],
            "layout": "IPY_MODEL_dcbba95e3afd487d9fd4b73e5fd89321"
          }
        },
        "05581ff2d6a041789c580140c52c5aaa": {
          "model_module": "@jupyter-widgets/controls",
          "model_name": "HTMLModel",
          "model_module_version": "1.5.0",
          "state": {
            "_dom_classes": [],
            "_model_module": "@jupyter-widgets/controls",
            "_model_module_version": "1.5.0",
            "_model_name": "HTMLModel",
            "_view_count": null,
            "_view_module": "@jupyter-widgets/controls",
            "_view_module_version": "1.5.0",
            "_view_name": "HTMLView",
            "description": "",
            "description_tooltip": null,
            "layout": "IPY_MODEL_e8fe173f66274ec887fffda6f23be3b8",
            "placeholder": "​",
            "style": "IPY_MODEL_1593e455be6347989f9fa47b0fbf0f1a",
            "value": "Downloading (…)okenizer_config.json: 100%"
          }
        },
        "b9d35458d6d44382b3343d1b6c3f91c0": {
          "model_module": "@jupyter-widgets/controls",
          "model_name": "FloatProgressModel",
          "model_module_version": "1.5.0",
          "state": {
            "_dom_classes": [],
            "_model_module": "@jupyter-widgets/controls",
            "_model_module_version": "1.5.0",
            "_model_name": "FloatProgressModel",
            "_view_count": null,
            "_view_module": "@jupyter-widgets/controls",
            "_view_module_version": "1.5.0",
            "_view_name": "ProgressView",
            "bar_style": "success",
            "description": "",
            "description_tooltip": null,
            "layout": "IPY_MODEL_0fe7bcce177e4926832a719e9b008d2a",
            "max": 79,
            "min": 0,
            "orientation": "horizontal",
            "style": "IPY_MODEL_b7b280856f78492fad9af22c3d1595f9",
            "value": 79
          }
        },
        "cf07e0d3f7ed405b922c35296e9ce037": {
          "model_module": "@jupyter-widgets/controls",
          "model_name": "HTMLModel",
          "model_module_version": "1.5.0",
          "state": {
            "_dom_classes": [],
            "_model_module": "@jupyter-widgets/controls",
            "_model_module_version": "1.5.0",
            "_model_name": "HTMLModel",
            "_view_count": null,
            "_view_module": "@jupyter-widgets/controls",
            "_view_module_version": "1.5.0",
            "_view_name": "HTMLView",
            "description": "",
            "description_tooltip": null,
            "layout": "IPY_MODEL_9c7742ba20864abb8c08b28d1dd4330b",
            "placeholder": "​",
            "style": "IPY_MODEL_67d95560e3c9404f81d98302bb9c9661",
            "value": " 79.0/79.0 [00:00&lt;00:00, 1.64kB/s]"
          }
        },
        "dcbba95e3afd487d9fd4b73e5fd89321": {
          "model_module": "@jupyter-widgets/base",
          "model_name": "LayoutModel",
          "model_module_version": "1.2.0",
          "state": {
            "_model_module": "@jupyter-widgets/base",
            "_model_module_version": "1.2.0",
            "_model_name": "LayoutModel",
            "_view_count": null,
            "_view_module": "@jupyter-widgets/base",
            "_view_module_version": "1.2.0",
            "_view_name": "LayoutView",
            "align_content": null,
            "align_items": null,
            "align_self": null,
            "border": null,
            "bottom": null,
            "display": null,
            "flex": null,
            "flex_flow": null,
            "grid_area": null,
            "grid_auto_columns": null,
            "grid_auto_flow": null,
            "grid_auto_rows": null,
            "grid_column": null,
            "grid_gap": null,
            "grid_row": null,
            "grid_template_areas": null,
            "grid_template_columns": null,
            "grid_template_rows": null,
            "height": null,
            "justify_content": null,
            "justify_items": null,
            "left": null,
            "margin": null,
            "max_height": null,
            "max_width": null,
            "min_height": null,
            "min_width": null,
            "object_fit": null,
            "object_position": null,
            "order": null,
            "overflow": null,
            "overflow_x": null,
            "overflow_y": null,
            "padding": null,
            "right": null,
            "top": null,
            "visibility": null,
            "width": null
          }
        },
        "e8fe173f66274ec887fffda6f23be3b8": {
          "model_module": "@jupyter-widgets/base",
          "model_name": "LayoutModel",
          "model_module_version": "1.2.0",
          "state": {
            "_model_module": "@jupyter-widgets/base",
            "_model_module_version": "1.2.0",
            "_model_name": "LayoutModel",
            "_view_count": null,
            "_view_module": "@jupyter-widgets/base",
            "_view_module_version": "1.2.0",
            "_view_name": "LayoutView",
            "align_content": null,
            "align_items": null,
            "align_self": null,
            "border": null,
            "bottom": null,
            "display": null,
            "flex": null,
            "flex_flow": null,
            "grid_area": null,
            "grid_auto_columns": null,
            "grid_auto_flow": null,
            "grid_auto_rows": null,
            "grid_column": null,
            "grid_gap": null,
            "grid_row": null,
            "grid_template_areas": null,
            "grid_template_columns": null,
            "grid_template_rows": null,
            "height": null,
            "justify_content": null,
            "justify_items": null,
            "left": null,
            "margin": null,
            "max_height": null,
            "max_width": null,
            "min_height": null,
            "min_width": null,
            "object_fit": null,
            "object_position": null,
            "order": null,
            "overflow": null,
            "overflow_x": null,
            "overflow_y": null,
            "padding": null,
            "right": null,
            "top": null,
            "visibility": null,
            "width": null
          }
        },
        "1593e455be6347989f9fa47b0fbf0f1a": {
          "model_module": "@jupyter-widgets/controls",
          "model_name": "DescriptionStyleModel",
          "model_module_version": "1.5.0",
          "state": {
            "_model_module": "@jupyter-widgets/controls",
            "_model_module_version": "1.5.0",
            "_model_name": "DescriptionStyleModel",
            "_view_count": null,
            "_view_module": "@jupyter-widgets/base",
            "_view_module_version": "1.2.0",
            "_view_name": "StyleView",
            "description_width": ""
          }
        },
        "0fe7bcce177e4926832a719e9b008d2a": {
          "model_module": "@jupyter-widgets/base",
          "model_name": "LayoutModel",
          "model_module_version": "1.2.0",
          "state": {
            "_model_module": "@jupyter-widgets/base",
            "_model_module_version": "1.2.0",
            "_model_name": "LayoutModel",
            "_view_count": null,
            "_view_module": "@jupyter-widgets/base",
            "_view_module_version": "1.2.0",
            "_view_name": "LayoutView",
            "align_content": null,
            "align_items": null,
            "align_self": null,
            "border": null,
            "bottom": null,
            "display": null,
            "flex": null,
            "flex_flow": null,
            "grid_area": null,
            "grid_auto_columns": null,
            "grid_auto_flow": null,
            "grid_auto_rows": null,
            "grid_column": null,
            "grid_gap": null,
            "grid_row": null,
            "grid_template_areas": null,
            "grid_template_columns": null,
            "grid_template_rows": null,
            "height": null,
            "justify_content": null,
            "justify_items": null,
            "left": null,
            "margin": null,
            "max_height": null,
            "max_width": null,
            "min_height": null,
            "min_width": null,
            "object_fit": null,
            "object_position": null,
            "order": null,
            "overflow": null,
            "overflow_x": null,
            "overflow_y": null,
            "padding": null,
            "right": null,
            "top": null,
            "visibility": null,
            "width": null
          }
        },
        "b7b280856f78492fad9af22c3d1595f9": {
          "model_module": "@jupyter-widgets/controls",
          "model_name": "ProgressStyleModel",
          "model_module_version": "1.5.0",
          "state": {
            "_model_module": "@jupyter-widgets/controls",
            "_model_module_version": "1.5.0",
            "_model_name": "ProgressStyleModel",
            "_view_count": null,
            "_view_module": "@jupyter-widgets/base",
            "_view_module_version": "1.2.0",
            "_view_name": "StyleView",
            "bar_color": null,
            "description_width": ""
          }
        },
        "9c7742ba20864abb8c08b28d1dd4330b": {
          "model_module": "@jupyter-widgets/base",
          "model_name": "LayoutModel",
          "model_module_version": "1.2.0",
          "state": {
            "_model_module": "@jupyter-widgets/base",
            "_model_module_version": "1.2.0",
            "_model_name": "LayoutModel",
            "_view_count": null,
            "_view_module": "@jupyter-widgets/base",
            "_view_module_version": "1.2.0",
            "_view_name": "LayoutView",
            "align_content": null,
            "align_items": null,
            "align_self": null,
            "border": null,
            "bottom": null,
            "display": null,
            "flex": null,
            "flex_flow": null,
            "grid_area": null,
            "grid_auto_columns": null,
            "grid_auto_flow": null,
            "grid_auto_rows": null,
            "grid_column": null,
            "grid_gap": null,
            "grid_row": null,
            "grid_template_areas": null,
            "grid_template_columns": null,
            "grid_template_rows": null,
            "height": null,
            "justify_content": null,
            "justify_items": null,
            "left": null,
            "margin": null,
            "max_height": null,
            "max_width": null,
            "min_height": null,
            "min_width": null,
            "object_fit": null,
            "object_position": null,
            "order": null,
            "overflow": null,
            "overflow_x": null,
            "overflow_y": null,
            "padding": null,
            "right": null,
            "top": null,
            "visibility": null,
            "width": null
          }
        },
        "67d95560e3c9404f81d98302bb9c9661": {
          "model_module": "@jupyter-widgets/controls",
          "model_name": "DescriptionStyleModel",
          "model_module_version": "1.5.0",
          "state": {
            "_model_module": "@jupyter-widgets/controls",
            "_model_module_version": "1.5.0",
            "_model_name": "DescriptionStyleModel",
            "_view_count": null,
            "_view_module": "@jupyter-widgets/base",
            "_view_module_version": "1.2.0",
            "_view_name": "StyleView",
            "description_width": ""
          }
        },
        "5bead876f9f54611953a665803ce6b00": {
          "model_module": "@jupyter-widgets/controls",
          "model_name": "HBoxModel",
          "model_module_version": "1.5.0",
          "state": {
            "_dom_classes": [],
            "_model_module": "@jupyter-widgets/controls",
            "_model_module_version": "1.5.0",
            "_model_name": "HBoxModel",
            "_view_count": null,
            "_view_module": "@jupyter-widgets/controls",
            "_view_module_version": "1.5.0",
            "_view_name": "HBoxView",
            "box_style": "",
            "children": [
              "IPY_MODEL_16d85e9f00c94cabbcd24e1cd3e41744",
              "IPY_MODEL_99d7c991ee6645e5a39235e79eb02af7",
              "IPY_MODEL_f2b3da85979c4834a61096a0d7926b93"
            ],
            "layout": "IPY_MODEL_220efb93192d4d0f8e97d7ea4e83b721"
          }
        },
        "16d85e9f00c94cabbcd24e1cd3e41744": {
          "model_module": "@jupyter-widgets/controls",
          "model_name": "HTMLModel",
          "model_module_version": "1.5.0",
          "state": {
            "_dom_classes": [],
            "_model_module": "@jupyter-widgets/controls",
            "_model_module_version": "1.5.0",
            "_model_name": "HTMLModel",
            "_view_count": null,
            "_view_module": "@jupyter-widgets/controls",
            "_view_module_version": "1.5.0",
            "_view_name": "HTMLView",
            "description": "",
            "description_tooltip": null,
            "layout": "IPY_MODEL_aa94c1381b134732be48110c71f6e04a",
            "placeholder": "​",
            "style": "IPY_MODEL_c2cd1d595c2a4d389884e24a2a7d64fe",
            "value": "Downloading (…)lve/main/config.json: 100%"
          }
        },
        "99d7c991ee6645e5a39235e79eb02af7": {
          "model_module": "@jupyter-widgets/controls",
          "model_name": "FloatProgressModel",
          "model_module_version": "1.5.0",
          "state": {
            "_dom_classes": [],
            "_model_module": "@jupyter-widgets/controls",
            "_model_module_version": "1.5.0",
            "_model_name": "FloatProgressModel",
            "_view_count": null,
            "_view_module": "@jupyter-widgets/controls",
            "_view_module_version": "1.5.0",
            "_view_name": "ProgressView",
            "bar_style": "success",
            "description": "",
            "description_tooltip": null,
            "layout": "IPY_MODEL_dc0afc7617cb4e079e47a2c9183475ca",
            "max": 571,
            "min": 0,
            "orientation": "horizontal",
            "style": "IPY_MODEL_56159ffb34d24940a6a60605cd39e408",
            "value": 571
          }
        },
        "f2b3da85979c4834a61096a0d7926b93": {
          "model_module": "@jupyter-widgets/controls",
          "model_name": "HTMLModel",
          "model_module_version": "1.5.0",
          "state": {
            "_dom_classes": [],
            "_model_module": "@jupyter-widgets/controls",
            "_model_module_version": "1.5.0",
            "_model_name": "HTMLModel",
            "_view_count": null,
            "_view_module": "@jupyter-widgets/controls",
            "_view_module_version": "1.5.0",
            "_view_name": "HTMLView",
            "description": "",
            "description_tooltip": null,
            "layout": "IPY_MODEL_ced3a792b9734c2ebc299a4eaa4c034b",
            "placeholder": "​",
            "style": "IPY_MODEL_d91dc138cb664e8dab3d4d4c68b4370a",
            "value": " 571/571 [00:00&lt;00:00, 13.7kB/s]"
          }
        },
        "220efb93192d4d0f8e97d7ea4e83b721": {
          "model_module": "@jupyter-widgets/base",
          "model_name": "LayoutModel",
          "model_module_version": "1.2.0",
          "state": {
            "_model_module": "@jupyter-widgets/base",
            "_model_module_version": "1.2.0",
            "_model_name": "LayoutModel",
            "_view_count": null,
            "_view_module": "@jupyter-widgets/base",
            "_view_module_version": "1.2.0",
            "_view_name": "LayoutView",
            "align_content": null,
            "align_items": null,
            "align_self": null,
            "border": null,
            "bottom": null,
            "display": null,
            "flex": null,
            "flex_flow": null,
            "grid_area": null,
            "grid_auto_columns": null,
            "grid_auto_flow": null,
            "grid_auto_rows": null,
            "grid_column": null,
            "grid_gap": null,
            "grid_row": null,
            "grid_template_areas": null,
            "grid_template_columns": null,
            "grid_template_rows": null,
            "height": null,
            "justify_content": null,
            "justify_items": null,
            "left": null,
            "margin": null,
            "max_height": null,
            "max_width": null,
            "min_height": null,
            "min_width": null,
            "object_fit": null,
            "object_position": null,
            "order": null,
            "overflow": null,
            "overflow_x": null,
            "overflow_y": null,
            "padding": null,
            "right": null,
            "top": null,
            "visibility": null,
            "width": null
          }
        },
        "aa94c1381b134732be48110c71f6e04a": {
          "model_module": "@jupyter-widgets/base",
          "model_name": "LayoutModel",
          "model_module_version": "1.2.0",
          "state": {
            "_model_module": "@jupyter-widgets/base",
            "_model_module_version": "1.2.0",
            "_model_name": "LayoutModel",
            "_view_count": null,
            "_view_module": "@jupyter-widgets/base",
            "_view_module_version": "1.2.0",
            "_view_name": "LayoutView",
            "align_content": null,
            "align_items": null,
            "align_self": null,
            "border": null,
            "bottom": null,
            "display": null,
            "flex": null,
            "flex_flow": null,
            "grid_area": null,
            "grid_auto_columns": null,
            "grid_auto_flow": null,
            "grid_auto_rows": null,
            "grid_column": null,
            "grid_gap": null,
            "grid_row": null,
            "grid_template_areas": null,
            "grid_template_columns": null,
            "grid_template_rows": null,
            "height": null,
            "justify_content": null,
            "justify_items": null,
            "left": null,
            "margin": null,
            "max_height": null,
            "max_width": null,
            "min_height": null,
            "min_width": null,
            "object_fit": null,
            "object_position": null,
            "order": null,
            "overflow": null,
            "overflow_x": null,
            "overflow_y": null,
            "padding": null,
            "right": null,
            "top": null,
            "visibility": null,
            "width": null
          }
        },
        "c2cd1d595c2a4d389884e24a2a7d64fe": {
          "model_module": "@jupyter-widgets/controls",
          "model_name": "DescriptionStyleModel",
          "model_module_version": "1.5.0",
          "state": {
            "_model_module": "@jupyter-widgets/controls",
            "_model_module_version": "1.5.0",
            "_model_name": "DescriptionStyleModel",
            "_view_count": null,
            "_view_module": "@jupyter-widgets/base",
            "_view_module_version": "1.2.0",
            "_view_name": "StyleView",
            "description_width": ""
          }
        },
        "dc0afc7617cb4e079e47a2c9183475ca": {
          "model_module": "@jupyter-widgets/base",
          "model_name": "LayoutModel",
          "model_module_version": "1.2.0",
          "state": {
            "_model_module": "@jupyter-widgets/base",
            "_model_module_version": "1.2.0",
            "_model_name": "LayoutModel",
            "_view_count": null,
            "_view_module": "@jupyter-widgets/base",
            "_view_module_version": "1.2.0",
            "_view_name": "LayoutView",
            "align_content": null,
            "align_items": null,
            "align_self": null,
            "border": null,
            "bottom": null,
            "display": null,
            "flex": null,
            "flex_flow": null,
            "grid_area": null,
            "grid_auto_columns": null,
            "grid_auto_flow": null,
            "grid_auto_rows": null,
            "grid_column": null,
            "grid_gap": null,
            "grid_row": null,
            "grid_template_areas": null,
            "grid_template_columns": null,
            "grid_template_rows": null,
            "height": null,
            "justify_content": null,
            "justify_items": null,
            "left": null,
            "margin": null,
            "max_height": null,
            "max_width": null,
            "min_height": null,
            "min_width": null,
            "object_fit": null,
            "object_position": null,
            "order": null,
            "overflow": null,
            "overflow_x": null,
            "overflow_y": null,
            "padding": null,
            "right": null,
            "top": null,
            "visibility": null,
            "width": null
          }
        },
        "56159ffb34d24940a6a60605cd39e408": {
          "model_module": "@jupyter-widgets/controls",
          "model_name": "ProgressStyleModel",
          "model_module_version": "1.5.0",
          "state": {
            "_model_module": "@jupyter-widgets/controls",
            "_model_module_version": "1.5.0",
            "_model_name": "ProgressStyleModel",
            "_view_count": null,
            "_view_module": "@jupyter-widgets/base",
            "_view_module_version": "1.2.0",
            "_view_name": "StyleView",
            "bar_color": null,
            "description_width": ""
          }
        },
        "ced3a792b9734c2ebc299a4eaa4c034b": {
          "model_module": "@jupyter-widgets/base",
          "model_name": "LayoutModel",
          "model_module_version": "1.2.0",
          "state": {
            "_model_module": "@jupyter-widgets/base",
            "_model_module_version": "1.2.0",
            "_model_name": "LayoutModel",
            "_view_count": null,
            "_view_module": "@jupyter-widgets/base",
            "_view_module_version": "1.2.0",
            "_view_name": "LayoutView",
            "align_content": null,
            "align_items": null,
            "align_self": null,
            "border": null,
            "bottom": null,
            "display": null,
            "flex": null,
            "flex_flow": null,
            "grid_area": null,
            "grid_auto_columns": null,
            "grid_auto_flow": null,
            "grid_auto_rows": null,
            "grid_column": null,
            "grid_gap": null,
            "grid_row": null,
            "grid_template_areas": null,
            "grid_template_columns": null,
            "grid_template_rows": null,
            "height": null,
            "justify_content": null,
            "justify_items": null,
            "left": null,
            "margin": null,
            "max_height": null,
            "max_width": null,
            "min_height": null,
            "min_width": null,
            "object_fit": null,
            "object_position": null,
            "order": null,
            "overflow": null,
            "overflow_x": null,
            "overflow_y": null,
            "padding": null,
            "right": null,
            "top": null,
            "visibility": null,
            "width": null
          }
        },
        "d91dc138cb664e8dab3d4d4c68b4370a": {
          "model_module": "@jupyter-widgets/controls",
          "model_name": "DescriptionStyleModel",
          "model_module_version": "1.5.0",
          "state": {
            "_model_module": "@jupyter-widgets/controls",
            "_model_module_version": "1.5.0",
            "_model_name": "DescriptionStyleModel",
            "_view_count": null,
            "_view_module": "@jupyter-widgets/base",
            "_view_module_version": "1.2.0",
            "_view_name": "StyleView",
            "description_width": ""
          }
        },
        "07043602f44e4bdab70ab134aca0349f": {
          "model_module": "@jupyter-widgets/controls",
          "model_name": "HBoxModel",
          "model_module_version": "1.5.0",
          "state": {
            "_dom_classes": [],
            "_model_module": "@jupyter-widgets/controls",
            "_model_module_version": "1.5.0",
            "_model_name": "HBoxModel",
            "_view_count": null,
            "_view_module": "@jupyter-widgets/controls",
            "_view_module_version": "1.5.0",
            "_view_name": "HBoxView",
            "box_style": "",
            "children": [
              "IPY_MODEL_13cfe7a944bf42e8b4caaf406b2fb11a",
              "IPY_MODEL_4588951d14a04f9489ea2c380ac4ab00",
              "IPY_MODEL_211d025736d543198af1a7a9619ded3a"
            ],
            "layout": "IPY_MODEL_df31114214f24943baf73f443664c8f6"
          }
        },
        "13cfe7a944bf42e8b4caaf406b2fb11a": {
          "model_module": "@jupyter-widgets/controls",
          "model_name": "HTMLModel",
          "model_module_version": "1.5.0",
          "state": {
            "_dom_classes": [],
            "_model_module": "@jupyter-widgets/controls",
            "_model_module_version": "1.5.0",
            "_model_name": "HTMLModel",
            "_view_count": null,
            "_view_module": "@jupyter-widgets/controls",
            "_view_module_version": "1.5.0",
            "_view_name": "HTMLView",
            "description": "",
            "description_tooltip": null,
            "layout": "IPY_MODEL_bb3700b68a8c487c9ccad5ba66e75be6",
            "placeholder": "​",
            "style": "IPY_MODEL_56b1e76b2cf540f0af83de5c1937f769",
            "value": "Downloading (…)olve/main/vocab.json: 100%"
          }
        },
        "4588951d14a04f9489ea2c380ac4ab00": {
          "model_module": "@jupyter-widgets/controls",
          "model_name": "FloatProgressModel",
          "model_module_version": "1.5.0",
          "state": {
            "_dom_classes": [],
            "_model_module": "@jupyter-widgets/controls",
            "_model_module_version": "1.5.0",
            "_model_name": "FloatProgressModel",
            "_view_count": null,
            "_view_module": "@jupyter-widgets/controls",
            "_view_module_version": "1.5.0",
            "_view_name": "ProgressView",
            "bar_style": "success",
            "description": "",
            "description_tooltip": null,
            "layout": "IPY_MODEL_e29b2f2a58564c8b953e6e47f7874f98",
            "max": 898822,
            "min": 0,
            "orientation": "horizontal",
            "style": "IPY_MODEL_c19ab4c169524bb586dd53741ad8fe15",
            "value": 898822
          }
        },
        "211d025736d543198af1a7a9619ded3a": {
          "model_module": "@jupyter-widgets/controls",
          "model_name": "HTMLModel",
          "model_module_version": "1.5.0",
          "state": {
            "_dom_classes": [],
            "_model_module": "@jupyter-widgets/controls",
            "_model_module_version": "1.5.0",
            "_model_name": "HTMLModel",
            "_view_count": null,
            "_view_module": "@jupyter-widgets/controls",
            "_view_module_version": "1.5.0",
            "_view_name": "HTMLView",
            "description": "",
            "description_tooltip": null,
            "layout": "IPY_MODEL_b30861d043b14d2a89d3a6de86ed1f54",
            "placeholder": "​",
            "style": "IPY_MODEL_e3e81f7098ae4b278b24d5b897c33480",
            "value": " 899k/899k [00:00&lt;00:00, 2.79MB/s]"
          }
        },
        "df31114214f24943baf73f443664c8f6": {
          "model_module": "@jupyter-widgets/base",
          "model_name": "LayoutModel",
          "model_module_version": "1.2.0",
          "state": {
            "_model_module": "@jupyter-widgets/base",
            "_model_module_version": "1.2.0",
            "_model_name": "LayoutModel",
            "_view_count": null,
            "_view_module": "@jupyter-widgets/base",
            "_view_module_version": "1.2.0",
            "_view_name": "LayoutView",
            "align_content": null,
            "align_items": null,
            "align_self": null,
            "border": null,
            "bottom": null,
            "display": null,
            "flex": null,
            "flex_flow": null,
            "grid_area": null,
            "grid_auto_columns": null,
            "grid_auto_flow": null,
            "grid_auto_rows": null,
            "grid_column": null,
            "grid_gap": null,
            "grid_row": null,
            "grid_template_areas": null,
            "grid_template_columns": null,
            "grid_template_rows": null,
            "height": null,
            "justify_content": null,
            "justify_items": null,
            "left": null,
            "margin": null,
            "max_height": null,
            "max_width": null,
            "min_height": null,
            "min_width": null,
            "object_fit": null,
            "object_position": null,
            "order": null,
            "overflow": null,
            "overflow_x": null,
            "overflow_y": null,
            "padding": null,
            "right": null,
            "top": null,
            "visibility": null,
            "width": null
          }
        },
        "bb3700b68a8c487c9ccad5ba66e75be6": {
          "model_module": "@jupyter-widgets/base",
          "model_name": "LayoutModel",
          "model_module_version": "1.2.0",
          "state": {
            "_model_module": "@jupyter-widgets/base",
            "_model_module_version": "1.2.0",
            "_model_name": "LayoutModel",
            "_view_count": null,
            "_view_module": "@jupyter-widgets/base",
            "_view_module_version": "1.2.0",
            "_view_name": "LayoutView",
            "align_content": null,
            "align_items": null,
            "align_self": null,
            "border": null,
            "bottom": null,
            "display": null,
            "flex": null,
            "flex_flow": null,
            "grid_area": null,
            "grid_auto_columns": null,
            "grid_auto_flow": null,
            "grid_auto_rows": null,
            "grid_column": null,
            "grid_gap": null,
            "grid_row": null,
            "grid_template_areas": null,
            "grid_template_columns": null,
            "grid_template_rows": null,
            "height": null,
            "justify_content": null,
            "justify_items": null,
            "left": null,
            "margin": null,
            "max_height": null,
            "max_width": null,
            "min_height": null,
            "min_width": null,
            "object_fit": null,
            "object_position": null,
            "order": null,
            "overflow": null,
            "overflow_x": null,
            "overflow_y": null,
            "padding": null,
            "right": null,
            "top": null,
            "visibility": null,
            "width": null
          }
        },
        "56b1e76b2cf540f0af83de5c1937f769": {
          "model_module": "@jupyter-widgets/controls",
          "model_name": "DescriptionStyleModel",
          "model_module_version": "1.5.0",
          "state": {
            "_model_module": "@jupyter-widgets/controls",
            "_model_module_version": "1.5.0",
            "_model_name": "DescriptionStyleModel",
            "_view_count": null,
            "_view_module": "@jupyter-widgets/base",
            "_view_module_version": "1.2.0",
            "_view_name": "StyleView",
            "description_width": ""
          }
        },
        "e29b2f2a58564c8b953e6e47f7874f98": {
          "model_module": "@jupyter-widgets/base",
          "model_name": "LayoutModel",
          "model_module_version": "1.2.0",
          "state": {
            "_model_module": "@jupyter-widgets/base",
            "_model_module_version": "1.2.0",
            "_model_name": "LayoutModel",
            "_view_count": null,
            "_view_module": "@jupyter-widgets/base",
            "_view_module_version": "1.2.0",
            "_view_name": "LayoutView",
            "align_content": null,
            "align_items": null,
            "align_self": null,
            "border": null,
            "bottom": null,
            "display": null,
            "flex": null,
            "flex_flow": null,
            "grid_area": null,
            "grid_auto_columns": null,
            "grid_auto_flow": null,
            "grid_auto_rows": null,
            "grid_column": null,
            "grid_gap": null,
            "grid_row": null,
            "grid_template_areas": null,
            "grid_template_columns": null,
            "grid_template_rows": null,
            "height": null,
            "justify_content": null,
            "justify_items": null,
            "left": null,
            "margin": null,
            "max_height": null,
            "max_width": null,
            "min_height": null,
            "min_width": null,
            "object_fit": null,
            "object_position": null,
            "order": null,
            "overflow": null,
            "overflow_x": null,
            "overflow_y": null,
            "padding": null,
            "right": null,
            "top": null,
            "visibility": null,
            "width": null
          }
        },
        "c19ab4c169524bb586dd53741ad8fe15": {
          "model_module": "@jupyter-widgets/controls",
          "model_name": "ProgressStyleModel",
          "model_module_version": "1.5.0",
          "state": {
            "_model_module": "@jupyter-widgets/controls",
            "_model_module_version": "1.5.0",
            "_model_name": "ProgressStyleModel",
            "_view_count": null,
            "_view_module": "@jupyter-widgets/base",
            "_view_module_version": "1.2.0",
            "_view_name": "StyleView",
            "bar_color": null,
            "description_width": ""
          }
        },
        "b30861d043b14d2a89d3a6de86ed1f54": {
          "model_module": "@jupyter-widgets/base",
          "model_name": "LayoutModel",
          "model_module_version": "1.2.0",
          "state": {
            "_model_module": "@jupyter-widgets/base",
            "_model_module_version": "1.2.0",
            "_model_name": "LayoutModel",
            "_view_count": null,
            "_view_module": "@jupyter-widgets/base",
            "_view_module_version": "1.2.0",
            "_view_name": "LayoutView",
            "align_content": null,
            "align_items": null,
            "align_self": null,
            "border": null,
            "bottom": null,
            "display": null,
            "flex": null,
            "flex_flow": null,
            "grid_area": null,
            "grid_auto_columns": null,
            "grid_auto_flow": null,
            "grid_auto_rows": null,
            "grid_column": null,
            "grid_gap": null,
            "grid_row": null,
            "grid_template_areas": null,
            "grid_template_columns": null,
            "grid_template_rows": null,
            "height": null,
            "justify_content": null,
            "justify_items": null,
            "left": null,
            "margin": null,
            "max_height": null,
            "max_width": null,
            "min_height": null,
            "min_width": null,
            "object_fit": null,
            "object_position": null,
            "order": null,
            "overflow": null,
            "overflow_x": null,
            "overflow_y": null,
            "padding": null,
            "right": null,
            "top": null,
            "visibility": null,
            "width": null
          }
        },
        "e3e81f7098ae4b278b24d5b897c33480": {
          "model_module": "@jupyter-widgets/controls",
          "model_name": "DescriptionStyleModel",
          "model_module_version": "1.5.0",
          "state": {
            "_model_module": "@jupyter-widgets/controls",
            "_model_module_version": "1.5.0",
            "_model_name": "DescriptionStyleModel",
            "_view_count": null,
            "_view_module": "@jupyter-widgets/base",
            "_view_module_version": "1.2.0",
            "_view_name": "StyleView",
            "description_width": ""
          }
        },
        "939daf4b83d44641bfc3da6d85c4f458": {
          "model_module": "@jupyter-widgets/controls",
          "model_name": "HBoxModel",
          "model_module_version": "1.5.0",
          "state": {
            "_dom_classes": [],
            "_model_module": "@jupyter-widgets/controls",
            "_model_module_version": "1.5.0",
            "_model_name": "HBoxModel",
            "_view_count": null,
            "_view_module": "@jupyter-widgets/controls",
            "_view_module_version": "1.5.0",
            "_view_name": "HBoxView",
            "box_style": "",
            "children": [
              "IPY_MODEL_ca2aca6bd6fd4d4d9be8129e19ea6ec8",
              "IPY_MODEL_225ab01786d04bfda7ceb67748ccd160",
              "IPY_MODEL_87f24a5b6839475ca1989aec8f255343"
            ],
            "layout": "IPY_MODEL_036c9d2312604067b1761ccd9a26f043"
          }
        },
        "ca2aca6bd6fd4d4d9be8129e19ea6ec8": {
          "model_module": "@jupyter-widgets/controls",
          "model_name": "HTMLModel",
          "model_module_version": "1.5.0",
          "state": {
            "_dom_classes": [],
            "_model_module": "@jupyter-widgets/controls",
            "_model_module_version": "1.5.0",
            "_model_name": "HTMLModel",
            "_view_count": null,
            "_view_module": "@jupyter-widgets/controls",
            "_view_module_version": "1.5.0",
            "_view_name": "HTMLView",
            "description": "",
            "description_tooltip": null,
            "layout": "IPY_MODEL_def19b2d2478422bbb730457b651d6ce",
            "placeholder": "​",
            "style": "IPY_MODEL_6f19c3dc6df74ed2981df4000e50d9b8",
            "value": "Downloading (…)olve/main/merges.txt: 100%"
          }
        },
        "225ab01786d04bfda7ceb67748ccd160": {
          "model_module": "@jupyter-widgets/controls",
          "model_name": "FloatProgressModel",
          "model_module_version": "1.5.0",
          "state": {
            "_dom_classes": [],
            "_model_module": "@jupyter-widgets/controls",
            "_model_module_version": "1.5.0",
            "_model_name": "FloatProgressModel",
            "_view_count": null,
            "_view_module": "@jupyter-widgets/controls",
            "_view_module_version": "1.5.0",
            "_view_name": "ProgressView",
            "bar_style": "success",
            "description": "",
            "description_tooltip": null,
            "layout": "IPY_MODEL_cc772febbaf54b64aa4bdc9b74846224",
            "max": 456318,
            "min": 0,
            "orientation": "horizontal",
            "style": "IPY_MODEL_579db9c057514165841b4d9d782bd44d",
            "value": 456318
          }
        },
        "87f24a5b6839475ca1989aec8f255343": {
          "model_module": "@jupyter-widgets/controls",
          "model_name": "HTMLModel",
          "model_module_version": "1.5.0",
          "state": {
            "_dom_classes": [],
            "_model_module": "@jupyter-widgets/controls",
            "_model_module_version": "1.5.0",
            "_model_name": "HTMLModel",
            "_view_count": null,
            "_view_module": "@jupyter-widgets/controls",
            "_view_module_version": "1.5.0",
            "_view_name": "HTMLView",
            "description": "",
            "description_tooltip": null,
            "layout": "IPY_MODEL_2a0f159b6b944aabb2e4e1f2c7ef47bc",
            "placeholder": "​",
            "style": "IPY_MODEL_63143baa7871424cbc64ccaba1c75ca5",
            "value": " 456k/456k [00:00&lt;00:00, 2.81MB/s]"
          }
        },
        "036c9d2312604067b1761ccd9a26f043": {
          "model_module": "@jupyter-widgets/base",
          "model_name": "LayoutModel",
          "model_module_version": "1.2.0",
          "state": {
            "_model_module": "@jupyter-widgets/base",
            "_model_module_version": "1.2.0",
            "_model_name": "LayoutModel",
            "_view_count": null,
            "_view_module": "@jupyter-widgets/base",
            "_view_module_version": "1.2.0",
            "_view_name": "LayoutView",
            "align_content": null,
            "align_items": null,
            "align_self": null,
            "border": null,
            "bottom": null,
            "display": null,
            "flex": null,
            "flex_flow": null,
            "grid_area": null,
            "grid_auto_columns": null,
            "grid_auto_flow": null,
            "grid_auto_rows": null,
            "grid_column": null,
            "grid_gap": null,
            "grid_row": null,
            "grid_template_areas": null,
            "grid_template_columns": null,
            "grid_template_rows": null,
            "height": null,
            "justify_content": null,
            "justify_items": null,
            "left": null,
            "margin": null,
            "max_height": null,
            "max_width": null,
            "min_height": null,
            "min_width": null,
            "object_fit": null,
            "object_position": null,
            "order": null,
            "overflow": null,
            "overflow_x": null,
            "overflow_y": null,
            "padding": null,
            "right": null,
            "top": null,
            "visibility": null,
            "width": null
          }
        },
        "def19b2d2478422bbb730457b651d6ce": {
          "model_module": "@jupyter-widgets/base",
          "model_name": "LayoutModel",
          "model_module_version": "1.2.0",
          "state": {
            "_model_module": "@jupyter-widgets/base",
            "_model_module_version": "1.2.0",
            "_model_name": "LayoutModel",
            "_view_count": null,
            "_view_module": "@jupyter-widgets/base",
            "_view_module_version": "1.2.0",
            "_view_name": "LayoutView",
            "align_content": null,
            "align_items": null,
            "align_self": null,
            "border": null,
            "bottom": null,
            "display": null,
            "flex": null,
            "flex_flow": null,
            "grid_area": null,
            "grid_auto_columns": null,
            "grid_auto_flow": null,
            "grid_auto_rows": null,
            "grid_column": null,
            "grid_gap": null,
            "grid_row": null,
            "grid_template_areas": null,
            "grid_template_columns": null,
            "grid_template_rows": null,
            "height": null,
            "justify_content": null,
            "justify_items": null,
            "left": null,
            "margin": null,
            "max_height": null,
            "max_width": null,
            "min_height": null,
            "min_width": null,
            "object_fit": null,
            "object_position": null,
            "order": null,
            "overflow": null,
            "overflow_x": null,
            "overflow_y": null,
            "padding": null,
            "right": null,
            "top": null,
            "visibility": null,
            "width": null
          }
        },
        "6f19c3dc6df74ed2981df4000e50d9b8": {
          "model_module": "@jupyter-widgets/controls",
          "model_name": "DescriptionStyleModel",
          "model_module_version": "1.5.0",
          "state": {
            "_model_module": "@jupyter-widgets/controls",
            "_model_module_version": "1.5.0",
            "_model_name": "DescriptionStyleModel",
            "_view_count": null,
            "_view_module": "@jupyter-widgets/base",
            "_view_module_version": "1.2.0",
            "_view_name": "StyleView",
            "description_width": ""
          }
        },
        "cc772febbaf54b64aa4bdc9b74846224": {
          "model_module": "@jupyter-widgets/base",
          "model_name": "LayoutModel",
          "model_module_version": "1.2.0",
          "state": {
            "_model_module": "@jupyter-widgets/base",
            "_model_module_version": "1.2.0",
            "_model_name": "LayoutModel",
            "_view_count": null,
            "_view_module": "@jupyter-widgets/base",
            "_view_module_version": "1.2.0",
            "_view_name": "LayoutView",
            "align_content": null,
            "align_items": null,
            "align_self": null,
            "border": null,
            "bottom": null,
            "display": null,
            "flex": null,
            "flex_flow": null,
            "grid_area": null,
            "grid_auto_columns": null,
            "grid_auto_flow": null,
            "grid_auto_rows": null,
            "grid_column": null,
            "grid_gap": null,
            "grid_row": null,
            "grid_template_areas": null,
            "grid_template_columns": null,
            "grid_template_rows": null,
            "height": null,
            "justify_content": null,
            "justify_items": null,
            "left": null,
            "margin": null,
            "max_height": null,
            "max_width": null,
            "min_height": null,
            "min_width": null,
            "object_fit": null,
            "object_position": null,
            "order": null,
            "overflow": null,
            "overflow_x": null,
            "overflow_y": null,
            "padding": null,
            "right": null,
            "top": null,
            "visibility": null,
            "width": null
          }
        },
        "579db9c057514165841b4d9d782bd44d": {
          "model_module": "@jupyter-widgets/controls",
          "model_name": "ProgressStyleModel",
          "model_module_version": "1.5.0",
          "state": {
            "_model_module": "@jupyter-widgets/controls",
            "_model_module_version": "1.5.0",
            "_model_name": "ProgressStyleModel",
            "_view_count": null,
            "_view_module": "@jupyter-widgets/base",
            "_view_module_version": "1.2.0",
            "_view_name": "StyleView",
            "bar_color": null,
            "description_width": ""
          }
        },
        "2a0f159b6b944aabb2e4e1f2c7ef47bc": {
          "model_module": "@jupyter-widgets/base",
          "model_name": "LayoutModel",
          "model_module_version": "1.2.0",
          "state": {
            "_model_module": "@jupyter-widgets/base",
            "_model_module_version": "1.2.0",
            "_model_name": "LayoutModel",
            "_view_count": null,
            "_view_module": "@jupyter-widgets/base",
            "_view_module_version": "1.2.0",
            "_view_name": "LayoutView",
            "align_content": null,
            "align_items": null,
            "align_self": null,
            "border": null,
            "bottom": null,
            "display": null,
            "flex": null,
            "flex_flow": null,
            "grid_area": null,
            "grid_auto_columns": null,
            "grid_auto_flow": null,
            "grid_auto_rows": null,
            "grid_column": null,
            "grid_gap": null,
            "grid_row": null,
            "grid_template_areas": null,
            "grid_template_columns": null,
            "grid_template_rows": null,
            "height": null,
            "justify_content": null,
            "justify_items": null,
            "left": null,
            "margin": null,
            "max_height": null,
            "max_width": null,
            "min_height": null,
            "min_width": null,
            "object_fit": null,
            "object_position": null,
            "order": null,
            "overflow": null,
            "overflow_x": null,
            "overflow_y": null,
            "padding": null,
            "right": null,
            "top": null,
            "visibility": null,
            "width": null
          }
        },
        "63143baa7871424cbc64ccaba1c75ca5": {
          "model_module": "@jupyter-widgets/controls",
          "model_name": "DescriptionStyleModel",
          "model_module_version": "1.5.0",
          "state": {
            "_model_module": "@jupyter-widgets/controls",
            "_model_module_version": "1.5.0",
            "_model_name": "DescriptionStyleModel",
            "_view_count": null,
            "_view_module": "@jupyter-widgets/base",
            "_view_module_version": "1.2.0",
            "_view_name": "StyleView",
            "description_width": ""
          }
        },
        "4b99c1e2c0e5420595f0dc49e15e0f35": {
          "model_module": "@jupyter-widgets/controls",
          "model_name": "HBoxModel",
          "model_module_version": "1.5.0",
          "state": {
            "_dom_classes": [],
            "_model_module": "@jupyter-widgets/controls",
            "_model_module_version": "1.5.0",
            "_model_name": "HBoxModel",
            "_view_count": null,
            "_view_module": "@jupyter-widgets/controls",
            "_view_module_version": "1.5.0",
            "_view_name": "HBoxView",
            "box_style": "",
            "children": [
              "IPY_MODEL_788fb76421714d9f8a529d92188f170c",
              "IPY_MODEL_b282c7bc5d0d49f2aa7fe537c90efe7f",
              "IPY_MODEL_c0e84ea6b8a84e3ba59165f41e385d53"
            ],
            "layout": "IPY_MODEL_bb81bd8211d1420b9335b336ecbd2ce8"
          }
        },
        "788fb76421714d9f8a529d92188f170c": {
          "model_module": "@jupyter-widgets/controls",
          "model_name": "HTMLModel",
          "model_module_version": "1.5.0",
          "state": {
            "_dom_classes": [],
            "_model_module": "@jupyter-widgets/controls",
            "_model_module_version": "1.5.0",
            "_model_name": "HTMLModel",
            "_view_count": null,
            "_view_module": "@jupyter-widgets/controls",
            "_view_module_version": "1.5.0",
            "_view_name": "HTMLView",
            "description": "",
            "description_tooltip": null,
            "layout": "IPY_MODEL_ee71799da8764e3b918df8787cce0bcb",
            "placeholder": "​",
            "style": "IPY_MODEL_17e4ba00eaee4723ae5f50dd95836c8c",
            "value": "Downloading (…)cial_tokens_map.json: 100%"
          }
        },
        "b282c7bc5d0d49f2aa7fe537c90efe7f": {
          "model_module": "@jupyter-widgets/controls",
          "model_name": "FloatProgressModel",
          "model_module_version": "1.5.0",
          "state": {
            "_dom_classes": [],
            "_model_module": "@jupyter-widgets/controls",
            "_model_module_version": "1.5.0",
            "_model_name": "FloatProgressModel",
            "_view_count": null,
            "_view_module": "@jupyter-widgets/controls",
            "_view_module_version": "1.5.0",
            "_view_name": "ProgressView",
            "bar_style": "success",
            "description": "",
            "description_tooltip": null,
            "layout": "IPY_MODEL_ffbcd21fd9b242dfb4a5a8448a285c7a",
            "max": 772,
            "min": 0,
            "orientation": "horizontal",
            "style": "IPY_MODEL_fef57ad6f5054a6a8d82e155003a1fb1",
            "value": 772
          }
        },
        "c0e84ea6b8a84e3ba59165f41e385d53": {
          "model_module": "@jupyter-widgets/controls",
          "model_name": "HTMLModel",
          "model_module_version": "1.5.0",
          "state": {
            "_dom_classes": [],
            "_model_module": "@jupyter-widgets/controls",
            "_model_module_version": "1.5.0",
            "_model_name": "HTMLModel",
            "_view_count": null,
            "_view_module": "@jupyter-widgets/controls",
            "_view_module_version": "1.5.0",
            "_view_name": "HTMLView",
            "description": "",
            "description_tooltip": null,
            "layout": "IPY_MODEL_a9f77d382c7e4eddb3c92e84ce4530c1",
            "placeholder": "​",
            "style": "IPY_MODEL_455da8b8879c4c7eade4cadb87430aaa",
            "value": " 772/772 [00:00&lt;00:00, 28.8kB/s]"
          }
        },
        "bb81bd8211d1420b9335b336ecbd2ce8": {
          "model_module": "@jupyter-widgets/base",
          "model_name": "LayoutModel",
          "model_module_version": "1.2.0",
          "state": {
            "_model_module": "@jupyter-widgets/base",
            "_model_module_version": "1.2.0",
            "_model_name": "LayoutModel",
            "_view_count": null,
            "_view_module": "@jupyter-widgets/base",
            "_view_module_version": "1.2.0",
            "_view_name": "LayoutView",
            "align_content": null,
            "align_items": null,
            "align_self": null,
            "border": null,
            "bottom": null,
            "display": null,
            "flex": null,
            "flex_flow": null,
            "grid_area": null,
            "grid_auto_columns": null,
            "grid_auto_flow": null,
            "grid_auto_rows": null,
            "grid_column": null,
            "grid_gap": null,
            "grid_row": null,
            "grid_template_areas": null,
            "grid_template_columns": null,
            "grid_template_rows": null,
            "height": null,
            "justify_content": null,
            "justify_items": null,
            "left": null,
            "margin": null,
            "max_height": null,
            "max_width": null,
            "min_height": null,
            "min_width": null,
            "object_fit": null,
            "object_position": null,
            "order": null,
            "overflow": null,
            "overflow_x": null,
            "overflow_y": null,
            "padding": null,
            "right": null,
            "top": null,
            "visibility": null,
            "width": null
          }
        },
        "ee71799da8764e3b918df8787cce0bcb": {
          "model_module": "@jupyter-widgets/base",
          "model_name": "LayoutModel",
          "model_module_version": "1.2.0",
          "state": {
            "_model_module": "@jupyter-widgets/base",
            "_model_module_version": "1.2.0",
            "_model_name": "LayoutModel",
            "_view_count": null,
            "_view_module": "@jupyter-widgets/base",
            "_view_module_version": "1.2.0",
            "_view_name": "LayoutView",
            "align_content": null,
            "align_items": null,
            "align_self": null,
            "border": null,
            "bottom": null,
            "display": null,
            "flex": null,
            "flex_flow": null,
            "grid_area": null,
            "grid_auto_columns": null,
            "grid_auto_flow": null,
            "grid_auto_rows": null,
            "grid_column": null,
            "grid_gap": null,
            "grid_row": null,
            "grid_template_areas": null,
            "grid_template_columns": null,
            "grid_template_rows": null,
            "height": null,
            "justify_content": null,
            "justify_items": null,
            "left": null,
            "margin": null,
            "max_height": null,
            "max_width": null,
            "min_height": null,
            "min_width": null,
            "object_fit": null,
            "object_position": null,
            "order": null,
            "overflow": null,
            "overflow_x": null,
            "overflow_y": null,
            "padding": null,
            "right": null,
            "top": null,
            "visibility": null,
            "width": null
          }
        },
        "17e4ba00eaee4723ae5f50dd95836c8c": {
          "model_module": "@jupyter-widgets/controls",
          "model_name": "DescriptionStyleModel",
          "model_module_version": "1.5.0",
          "state": {
            "_model_module": "@jupyter-widgets/controls",
            "_model_module_version": "1.5.0",
            "_model_name": "DescriptionStyleModel",
            "_view_count": null,
            "_view_module": "@jupyter-widgets/base",
            "_view_module_version": "1.2.0",
            "_view_name": "StyleView",
            "description_width": ""
          }
        },
        "ffbcd21fd9b242dfb4a5a8448a285c7a": {
          "model_module": "@jupyter-widgets/base",
          "model_name": "LayoutModel",
          "model_module_version": "1.2.0",
          "state": {
            "_model_module": "@jupyter-widgets/base",
            "_model_module_version": "1.2.0",
            "_model_name": "LayoutModel",
            "_view_count": null,
            "_view_module": "@jupyter-widgets/base",
            "_view_module_version": "1.2.0",
            "_view_name": "LayoutView",
            "align_content": null,
            "align_items": null,
            "align_self": null,
            "border": null,
            "bottom": null,
            "display": null,
            "flex": null,
            "flex_flow": null,
            "grid_area": null,
            "grid_auto_columns": null,
            "grid_auto_flow": null,
            "grid_auto_rows": null,
            "grid_column": null,
            "grid_gap": null,
            "grid_row": null,
            "grid_template_areas": null,
            "grid_template_columns": null,
            "grid_template_rows": null,
            "height": null,
            "justify_content": null,
            "justify_items": null,
            "left": null,
            "margin": null,
            "max_height": null,
            "max_width": null,
            "min_height": null,
            "min_width": null,
            "object_fit": null,
            "object_position": null,
            "order": null,
            "overflow": null,
            "overflow_x": null,
            "overflow_y": null,
            "padding": null,
            "right": null,
            "top": null,
            "visibility": null,
            "width": null
          }
        },
        "fef57ad6f5054a6a8d82e155003a1fb1": {
          "model_module": "@jupyter-widgets/controls",
          "model_name": "ProgressStyleModel",
          "model_module_version": "1.5.0",
          "state": {
            "_model_module": "@jupyter-widgets/controls",
            "_model_module_version": "1.5.0",
            "_model_name": "ProgressStyleModel",
            "_view_count": null,
            "_view_module": "@jupyter-widgets/base",
            "_view_module_version": "1.2.0",
            "_view_name": "StyleView",
            "bar_color": null,
            "description_width": ""
          }
        },
        "a9f77d382c7e4eddb3c92e84ce4530c1": {
          "model_module": "@jupyter-widgets/base",
          "model_name": "LayoutModel",
          "model_module_version": "1.2.0",
          "state": {
            "_model_module": "@jupyter-widgets/base",
            "_model_module_version": "1.2.0",
            "_model_name": "LayoutModel",
            "_view_count": null,
            "_view_module": "@jupyter-widgets/base",
            "_view_module_version": "1.2.0",
            "_view_name": "LayoutView",
            "align_content": null,
            "align_items": null,
            "align_self": null,
            "border": null,
            "bottom": null,
            "display": null,
            "flex": null,
            "flex_flow": null,
            "grid_area": null,
            "grid_auto_columns": null,
            "grid_auto_flow": null,
            "grid_auto_rows": null,
            "grid_column": null,
            "grid_gap": null,
            "grid_row": null,
            "grid_template_areas": null,
            "grid_template_columns": null,
            "grid_template_rows": null,
            "height": null,
            "justify_content": null,
            "justify_items": null,
            "left": null,
            "margin": null,
            "max_height": null,
            "max_width": null,
            "min_height": null,
            "min_width": null,
            "object_fit": null,
            "object_position": null,
            "order": null,
            "overflow": null,
            "overflow_x": null,
            "overflow_y": null,
            "padding": null,
            "right": null,
            "top": null,
            "visibility": null,
            "width": null
          }
        },
        "455da8b8879c4c7eade4cadb87430aaa": {
          "model_module": "@jupyter-widgets/controls",
          "model_name": "DescriptionStyleModel",
          "model_module_version": "1.5.0",
          "state": {
            "_model_module": "@jupyter-widgets/controls",
            "_model_module_version": "1.5.0",
            "_model_name": "DescriptionStyleModel",
            "_view_count": null,
            "_view_module": "@jupyter-widgets/base",
            "_view_module_version": "1.2.0",
            "_view_name": "StyleView",
            "description_width": ""
          }
        },
        "f6ec422f52ca48e89ce227e6f530cd6b": {
          "model_module": "@jupyter-widgets/controls",
          "model_name": "HBoxModel",
          "model_module_version": "1.5.0",
          "state": {
            "_dom_classes": [],
            "_model_module": "@jupyter-widgets/controls",
            "_model_module_version": "1.5.0",
            "_model_name": "HBoxModel",
            "_view_count": null,
            "_view_module": "@jupyter-widgets/controls",
            "_view_module_version": "1.5.0",
            "_view_name": "HBoxView",
            "box_style": "",
            "children": [
              "IPY_MODEL_5d25f76c4201414eabb6e80effb7bec0",
              "IPY_MODEL_dbee0ef0b32e437e9a60ad474c24b08a",
              "IPY_MODEL_ec9cdbcf15824b5cb014cd70e9d76b45"
            ],
            "layout": "IPY_MODEL_02a041894e774e8c9160d06fa7c4a9b6"
          }
        },
        "5d25f76c4201414eabb6e80effb7bec0": {
          "model_module": "@jupyter-widgets/controls",
          "model_name": "HTMLModel",
          "model_module_version": "1.5.0",
          "state": {
            "_dom_classes": [],
            "_model_module": "@jupyter-widgets/controls",
            "_model_module_version": "1.5.0",
            "_model_name": "HTMLModel",
            "_view_count": null,
            "_view_module": "@jupyter-widgets/controls",
            "_view_module_version": "1.5.0",
            "_view_name": "HTMLView",
            "description": "",
            "description_tooltip": null,
            "layout": "IPY_MODEL_c233650c53c24f618a666fface371fb5",
            "placeholder": "​",
            "style": "IPY_MODEL_eeaddc41b53240fdb9ab1461b96a43d1",
            "value": "Downloading model.safetensors: 100%"
          }
        },
        "dbee0ef0b32e437e9a60ad474c24b08a": {
          "model_module": "@jupyter-widgets/controls",
          "model_name": "FloatProgressModel",
          "model_module_version": "1.5.0",
          "state": {
            "_dom_classes": [],
            "_model_module": "@jupyter-widgets/controls",
            "_model_module_version": "1.5.0",
            "_model_name": "FloatProgressModel",
            "_view_count": null,
            "_view_module": "@jupyter-widgets/controls",
            "_view_module_version": "1.5.0",
            "_view_name": "ProgressView",
            "bar_style": "success",
            "description": "",
            "description_tooltip": null,
            "layout": "IPY_MODEL_72eb0fe50a16493f8a89a5389ccb37c4",
            "max": 496254442,
            "min": 0,
            "orientation": "horizontal",
            "style": "IPY_MODEL_1064e1e31c1c4f4289f3e61af7dab52d",
            "value": 496254442
          }
        },
        "ec9cdbcf15824b5cb014cd70e9d76b45": {
          "model_module": "@jupyter-widgets/controls",
          "model_name": "HTMLModel",
          "model_module_version": "1.5.0",
          "state": {
            "_dom_classes": [],
            "_model_module": "@jupyter-widgets/controls",
            "_model_module_version": "1.5.0",
            "_model_name": "HTMLModel",
            "_view_count": null,
            "_view_module": "@jupyter-widgets/controls",
            "_view_module_version": "1.5.0",
            "_view_name": "HTMLView",
            "description": "",
            "description_tooltip": null,
            "layout": "IPY_MODEL_3a3b77189b1143e49e360ddb97e4377b",
            "placeholder": "​",
            "style": "IPY_MODEL_aa5761114a97465e9c78a71557fcd451",
            "value": " 496M/496M [00:02&lt;00:00, 171MB/s]"
          }
        },
        "02a041894e774e8c9160d06fa7c4a9b6": {
          "model_module": "@jupyter-widgets/base",
          "model_name": "LayoutModel",
          "model_module_version": "1.2.0",
          "state": {
            "_model_module": "@jupyter-widgets/base",
            "_model_module_version": "1.2.0",
            "_model_name": "LayoutModel",
            "_view_count": null,
            "_view_module": "@jupyter-widgets/base",
            "_view_module_version": "1.2.0",
            "_view_name": "LayoutView",
            "align_content": null,
            "align_items": null,
            "align_self": null,
            "border": null,
            "bottom": null,
            "display": null,
            "flex": null,
            "flex_flow": null,
            "grid_area": null,
            "grid_auto_columns": null,
            "grid_auto_flow": null,
            "grid_auto_rows": null,
            "grid_column": null,
            "grid_gap": null,
            "grid_row": null,
            "grid_template_areas": null,
            "grid_template_columns": null,
            "grid_template_rows": null,
            "height": null,
            "justify_content": null,
            "justify_items": null,
            "left": null,
            "margin": null,
            "max_height": null,
            "max_width": null,
            "min_height": null,
            "min_width": null,
            "object_fit": null,
            "object_position": null,
            "order": null,
            "overflow": null,
            "overflow_x": null,
            "overflow_y": null,
            "padding": null,
            "right": null,
            "top": null,
            "visibility": null,
            "width": null
          }
        },
        "c233650c53c24f618a666fface371fb5": {
          "model_module": "@jupyter-widgets/base",
          "model_name": "LayoutModel",
          "model_module_version": "1.2.0",
          "state": {
            "_model_module": "@jupyter-widgets/base",
            "_model_module_version": "1.2.0",
            "_model_name": "LayoutModel",
            "_view_count": null,
            "_view_module": "@jupyter-widgets/base",
            "_view_module_version": "1.2.0",
            "_view_name": "LayoutView",
            "align_content": null,
            "align_items": null,
            "align_self": null,
            "border": null,
            "bottom": null,
            "display": null,
            "flex": null,
            "flex_flow": null,
            "grid_area": null,
            "grid_auto_columns": null,
            "grid_auto_flow": null,
            "grid_auto_rows": null,
            "grid_column": null,
            "grid_gap": null,
            "grid_row": null,
            "grid_template_areas": null,
            "grid_template_columns": null,
            "grid_template_rows": null,
            "height": null,
            "justify_content": null,
            "justify_items": null,
            "left": null,
            "margin": null,
            "max_height": null,
            "max_width": null,
            "min_height": null,
            "min_width": null,
            "object_fit": null,
            "object_position": null,
            "order": null,
            "overflow": null,
            "overflow_x": null,
            "overflow_y": null,
            "padding": null,
            "right": null,
            "top": null,
            "visibility": null,
            "width": null
          }
        },
        "eeaddc41b53240fdb9ab1461b96a43d1": {
          "model_module": "@jupyter-widgets/controls",
          "model_name": "DescriptionStyleModel",
          "model_module_version": "1.5.0",
          "state": {
            "_model_module": "@jupyter-widgets/controls",
            "_model_module_version": "1.5.0",
            "_model_name": "DescriptionStyleModel",
            "_view_count": null,
            "_view_module": "@jupyter-widgets/base",
            "_view_module_version": "1.2.0",
            "_view_name": "StyleView",
            "description_width": ""
          }
        },
        "72eb0fe50a16493f8a89a5389ccb37c4": {
          "model_module": "@jupyter-widgets/base",
          "model_name": "LayoutModel",
          "model_module_version": "1.2.0",
          "state": {
            "_model_module": "@jupyter-widgets/base",
            "_model_module_version": "1.2.0",
            "_model_name": "LayoutModel",
            "_view_count": null,
            "_view_module": "@jupyter-widgets/base",
            "_view_module_version": "1.2.0",
            "_view_name": "LayoutView",
            "align_content": null,
            "align_items": null,
            "align_self": null,
            "border": null,
            "bottom": null,
            "display": null,
            "flex": null,
            "flex_flow": null,
            "grid_area": null,
            "grid_auto_columns": null,
            "grid_auto_flow": null,
            "grid_auto_rows": null,
            "grid_column": null,
            "grid_gap": null,
            "grid_row": null,
            "grid_template_areas": null,
            "grid_template_columns": null,
            "grid_template_rows": null,
            "height": null,
            "justify_content": null,
            "justify_items": null,
            "left": null,
            "margin": null,
            "max_height": null,
            "max_width": null,
            "min_height": null,
            "min_width": null,
            "object_fit": null,
            "object_position": null,
            "order": null,
            "overflow": null,
            "overflow_x": null,
            "overflow_y": null,
            "padding": null,
            "right": null,
            "top": null,
            "visibility": null,
            "width": null
          }
        },
        "1064e1e31c1c4f4289f3e61af7dab52d": {
          "model_module": "@jupyter-widgets/controls",
          "model_name": "ProgressStyleModel",
          "model_module_version": "1.5.0",
          "state": {
            "_model_module": "@jupyter-widgets/controls",
            "_model_module_version": "1.5.0",
            "_model_name": "ProgressStyleModel",
            "_view_count": null,
            "_view_module": "@jupyter-widgets/base",
            "_view_module_version": "1.2.0",
            "_view_name": "StyleView",
            "bar_color": null,
            "description_width": ""
          }
        },
        "3a3b77189b1143e49e360ddb97e4377b": {
          "model_module": "@jupyter-widgets/base",
          "model_name": "LayoutModel",
          "model_module_version": "1.2.0",
          "state": {
            "_model_module": "@jupyter-widgets/base",
            "_model_module_version": "1.2.0",
            "_model_name": "LayoutModel",
            "_view_count": null,
            "_view_module": "@jupyter-widgets/base",
            "_view_module_version": "1.2.0",
            "_view_name": "LayoutView",
            "align_content": null,
            "align_items": null,
            "align_self": null,
            "border": null,
            "bottom": null,
            "display": null,
            "flex": null,
            "flex_flow": null,
            "grid_area": null,
            "grid_auto_columns": null,
            "grid_auto_flow": null,
            "grid_auto_rows": null,
            "grid_column": null,
            "grid_gap": null,
            "grid_row": null,
            "grid_template_areas": null,
            "grid_template_columns": null,
            "grid_template_rows": null,
            "height": null,
            "justify_content": null,
            "justify_items": null,
            "left": null,
            "margin": null,
            "max_height": null,
            "max_width": null,
            "min_height": null,
            "min_width": null,
            "object_fit": null,
            "object_position": null,
            "order": null,
            "overflow": null,
            "overflow_x": null,
            "overflow_y": null,
            "padding": null,
            "right": null,
            "top": null,
            "visibility": null,
            "width": null
          }
        },
        "aa5761114a97465e9c78a71557fcd451": {
          "model_module": "@jupyter-widgets/controls",
          "model_name": "DescriptionStyleModel",
          "model_module_version": "1.5.0",
          "state": {
            "_model_module": "@jupyter-widgets/controls",
            "_model_module_version": "1.5.0",
            "_model_name": "DescriptionStyleModel",
            "_view_count": null,
            "_view_module": "@jupyter-widgets/base",
            "_view_module_version": "1.2.0",
            "_view_name": "StyleView",
            "description_width": ""
          }
        }
      }
    }
  },
  "cells": [
    {
      "cell_type": "code",
      "source": [
        "!pip install transformers\n",
        "!pip install datasets"
      ],
      "metadata": {
        "colab": {
          "base_uri": "https://localhost:8080/"
        },
        "id": "UFUl-qGzJTw_",
        "outputId": "efe4cf1a-cad0-463a-9310-78677d83c5e8"
      },
      "execution_count": null,
      "outputs": [
        {
          "output_type": "stream",
          "name": "stdout",
          "text": [
            "Looking in indexes: https://pypi.org/simple, https://us-python.pkg.dev/colab-wheels/public/simple/\n",
            "Collecting transformers\n",
            "  Downloading transformers-4.30.0-py3-none-any.whl (7.2 MB)\n",
            "\u001b[2K     \u001b[90m━━━━━━━━━━━━━━━━━━━━━━━━━━━━━━━━━━━━━━━━\u001b[0m \u001b[32m7.2/7.2 MB\u001b[0m \u001b[31m90.7 MB/s\u001b[0m eta \u001b[36m0:00:00\u001b[0m\n",
            "\u001b[?25hRequirement already satisfied: filelock in /usr/local/lib/python3.10/dist-packages (from transformers) (3.12.0)\n",
            "Collecting huggingface-hub<1.0,>=0.14.1 (from transformers)\n",
            "  Downloading huggingface_hub-0.15.1-py3-none-any.whl (236 kB)\n",
            "\u001b[2K     \u001b[90m━━━━━━━━━━━━━━━━━━━━━━━━━━━━━━━━━━━━━━\u001b[0m \u001b[32m236.8/236.8 kB\u001b[0m \u001b[31m25.1 MB/s\u001b[0m eta \u001b[36m0:00:00\u001b[0m\n",
            "\u001b[?25hRequirement already satisfied: numpy>=1.17 in /usr/local/lib/python3.10/dist-packages (from transformers) (1.22.4)\n",
            "Requirement already satisfied: packaging>=20.0 in /usr/local/lib/python3.10/dist-packages (from transformers) (23.1)\n",
            "Requirement already satisfied: pyyaml>=5.1 in /usr/local/lib/python3.10/dist-packages (from transformers) (6.0)\n",
            "Requirement already satisfied: regex!=2019.12.17 in /usr/local/lib/python3.10/dist-packages (from transformers) (2022.10.31)\n",
            "Requirement already satisfied: requests in /usr/local/lib/python3.10/dist-packages (from transformers) (2.27.1)\n",
            "Collecting tokenizers!=0.11.3,<0.14,>=0.11.1 (from transformers)\n",
            "  Downloading tokenizers-0.13.3-cp310-cp310-manylinux_2_17_x86_64.manylinux2014_x86_64.whl (7.8 MB)\n",
            "\u001b[2K     \u001b[90m━━━━━━━━━━━━━━━━━━━━━━━━━━━━━━━━━━━━━━━━\u001b[0m \u001b[32m7.8/7.8 MB\u001b[0m \u001b[31m124.9 MB/s\u001b[0m eta \u001b[36m0:00:00\u001b[0m\n",
            "\u001b[?25hCollecting safetensors>=0.3.1 (from transformers)\n",
            "  Downloading safetensors-0.3.1-cp310-cp310-manylinux_2_17_x86_64.manylinux2014_x86_64.whl (1.3 MB)\n",
            "\u001b[2K     \u001b[90m━━━━━━━━━━━━━━━━━━━━━━━━━━━━━━━━━━━━━━━━\u001b[0m \u001b[32m1.3/1.3 MB\u001b[0m \u001b[31m86.2 MB/s\u001b[0m eta \u001b[36m0:00:00\u001b[0m\n",
            "\u001b[?25hRequirement already satisfied: tqdm>=4.27 in /usr/local/lib/python3.10/dist-packages (from transformers) (4.65.0)\n",
            "Requirement already satisfied: fsspec in /usr/local/lib/python3.10/dist-packages (from huggingface-hub<1.0,>=0.14.1->transformers) (2023.4.0)\n",
            "Requirement already satisfied: typing-extensions>=3.7.4.3 in /usr/local/lib/python3.10/dist-packages (from huggingface-hub<1.0,>=0.14.1->transformers) (4.5.0)\n",
            "Requirement already satisfied: urllib3<1.27,>=1.21.1 in /usr/local/lib/python3.10/dist-packages (from requests->transformers) (1.26.15)\n",
            "Requirement already satisfied: certifi>=2017.4.17 in /usr/local/lib/python3.10/dist-packages (from requests->transformers) (2022.12.7)\n",
            "Requirement already satisfied: charset-normalizer~=2.0.0 in /usr/local/lib/python3.10/dist-packages (from requests->transformers) (2.0.12)\n",
            "Requirement already satisfied: idna<4,>=2.5 in /usr/local/lib/python3.10/dist-packages (from requests->transformers) (3.4)\n",
            "Installing collected packages: tokenizers, safetensors, huggingface-hub, transformers\n",
            "Successfully installed huggingface-hub-0.15.1 safetensors-0.3.1 tokenizers-0.13.3 transformers-4.30.0\n",
            "Looking in indexes: https://pypi.org/simple, https://us-python.pkg.dev/colab-wheels/public/simple/\n",
            "Collecting datasets\n",
            "  Downloading datasets-2.12.0-py3-none-any.whl (474 kB)\n",
            "\u001b[2K     \u001b[90m━━━━━━━━━━━━━━━━━━━━━━━━━━━━━━━━━━━━━━\u001b[0m \u001b[32m474.6/474.6 kB\u001b[0m \u001b[31m15.8 MB/s\u001b[0m eta \u001b[36m0:00:00\u001b[0m\n",
            "\u001b[?25hRequirement already satisfied: numpy>=1.17 in /usr/local/lib/python3.10/dist-packages (from datasets) (1.22.4)\n",
            "Requirement already satisfied: pyarrow>=8.0.0 in /usr/local/lib/python3.10/dist-packages (from datasets) (9.0.0)\n",
            "Collecting dill<0.3.7,>=0.3.0 (from datasets)\n",
            "  Downloading dill-0.3.6-py3-none-any.whl (110 kB)\n",
            "\u001b[2K     \u001b[90m━━━━━━━━━━━━━━━━━━━━━━━━━━━━━━━━━━━━━━\u001b[0m \u001b[32m110.5/110.5 kB\u001b[0m \u001b[31m15.9 MB/s\u001b[0m eta \u001b[36m0:00:00\u001b[0m\n",
            "\u001b[?25hRequirement already satisfied: pandas in /usr/local/lib/python3.10/dist-packages (from datasets) (1.5.3)\n",
            "Requirement already satisfied: requests>=2.19.0 in /usr/local/lib/python3.10/dist-packages (from datasets) (2.27.1)\n",
            "Requirement already satisfied: tqdm>=4.62.1 in /usr/local/lib/python3.10/dist-packages (from datasets) (4.65.0)\n",
            "Collecting xxhash (from datasets)\n",
            "  Downloading xxhash-3.2.0-cp310-cp310-manylinux_2_17_x86_64.manylinux2014_x86_64.whl (212 kB)\n",
            "\u001b[2K     \u001b[90m━━━━━━━━━━━━━━━━━━━━━━━━━━━━━━━━━━━━━━\u001b[0m \u001b[32m212.5/212.5 kB\u001b[0m \u001b[31m27.4 MB/s\u001b[0m eta \u001b[36m0:00:00\u001b[0m\n",
            "\u001b[?25hCollecting multiprocess (from datasets)\n",
            "  Downloading multiprocess-0.70.14-py310-none-any.whl (134 kB)\n",
            "\u001b[2K     \u001b[90m━━━━━━━━━━━━━━━━━━━━━━━━━━━━━━━━━━━━━━\u001b[0m \u001b[32m134.3/134.3 kB\u001b[0m \u001b[31m17.6 MB/s\u001b[0m eta \u001b[36m0:00:00\u001b[0m\n",
            "\u001b[?25hRequirement already satisfied: fsspec[http]>=2021.11.1 in /usr/local/lib/python3.10/dist-packages (from datasets) (2023.4.0)\n",
            "Collecting aiohttp (from datasets)\n",
            "  Downloading aiohttp-3.8.4-cp310-cp310-manylinux_2_17_x86_64.manylinux2014_x86_64.whl (1.0 MB)\n",
            "\u001b[2K     \u001b[90m━━━━━━━━━━━━━━━━━━━━━━━━━━━━━━━━━━━━━━━━\u001b[0m \u001b[32m1.0/1.0 MB\u001b[0m \u001b[31m39.4 MB/s\u001b[0m eta \u001b[36m0:00:00\u001b[0m\n",
            "\u001b[?25hRequirement already satisfied: huggingface-hub<1.0.0,>=0.11.0 in /usr/local/lib/python3.10/dist-packages (from datasets) (0.15.1)\n",
            "Requirement already satisfied: packaging in /usr/local/lib/python3.10/dist-packages (from datasets) (23.1)\n",
            "Collecting responses<0.19 (from datasets)\n",
            "  Downloading responses-0.18.0-py3-none-any.whl (38 kB)\n",
            "Requirement already satisfied: pyyaml>=5.1 in /usr/local/lib/python3.10/dist-packages (from datasets) (6.0)\n",
            "Requirement already satisfied: attrs>=17.3.0 in /usr/local/lib/python3.10/dist-packages (from aiohttp->datasets) (23.1.0)\n",
            "Requirement already satisfied: charset-normalizer<4.0,>=2.0 in /usr/local/lib/python3.10/dist-packages (from aiohttp->datasets) (2.0.12)\n",
            "Collecting multidict<7.0,>=4.5 (from aiohttp->datasets)\n",
            "  Downloading multidict-6.0.4-cp310-cp310-manylinux_2_17_x86_64.manylinux2014_x86_64.whl (114 kB)\n",
            "\u001b[2K     \u001b[90m━━━━━━━━━━━━━━━━━━━━━━━━━━━━━━━━━━━━━━\u001b[0m \u001b[32m114.5/114.5 kB\u001b[0m \u001b[31m13.9 MB/s\u001b[0m eta \u001b[36m0:00:00\u001b[0m\n",
            "\u001b[?25hCollecting async-timeout<5.0,>=4.0.0a3 (from aiohttp->datasets)\n",
            "  Downloading async_timeout-4.0.2-py3-none-any.whl (5.8 kB)\n",
            "Collecting yarl<2.0,>=1.0 (from aiohttp->datasets)\n",
            "  Downloading yarl-1.9.2-cp310-cp310-manylinux_2_17_x86_64.manylinux2014_x86_64.whl (268 kB)\n",
            "\u001b[2K     \u001b[90m━━━━━━━━━━━━━━━━━━━━━━━━━━━━━━━━━━━━━━\u001b[0m \u001b[32m268.8/268.8 kB\u001b[0m \u001b[31m24.9 MB/s\u001b[0m eta \u001b[36m0:00:00\u001b[0m\n",
            "\u001b[?25hCollecting frozenlist>=1.1.1 (from aiohttp->datasets)\n",
            "  Downloading frozenlist-1.3.3-cp310-cp310-manylinux_2_5_x86_64.manylinux1_x86_64.manylinux_2_17_x86_64.manylinux2014_x86_64.whl (149 kB)\n",
            "\u001b[2K     \u001b[90m━━━━━━━━━━━━━━━━━━━━━━━━━━━━━━━━━━━━━━\u001b[0m \u001b[32m149.6/149.6 kB\u001b[0m \u001b[31m13.8 MB/s\u001b[0m eta \u001b[36m0:00:00\u001b[0m\n",
            "\u001b[?25hCollecting aiosignal>=1.1.2 (from aiohttp->datasets)\n",
            "  Downloading aiosignal-1.3.1-py3-none-any.whl (7.6 kB)\n",
            "Requirement already satisfied: filelock in /usr/local/lib/python3.10/dist-packages (from huggingface-hub<1.0.0,>=0.11.0->datasets) (3.12.0)\n",
            "Requirement already satisfied: typing-extensions>=3.7.4.3 in /usr/local/lib/python3.10/dist-packages (from huggingface-hub<1.0.0,>=0.11.0->datasets) (4.5.0)\n",
            "Requirement already satisfied: urllib3<1.27,>=1.21.1 in /usr/local/lib/python3.10/dist-packages (from requests>=2.19.0->datasets) (1.26.15)\n",
            "Requirement already satisfied: certifi>=2017.4.17 in /usr/local/lib/python3.10/dist-packages (from requests>=2.19.0->datasets) (2022.12.7)\n",
            "Requirement already satisfied: idna<4,>=2.5 in /usr/local/lib/python3.10/dist-packages (from requests>=2.19.0->datasets) (3.4)\n",
            "Requirement already satisfied: python-dateutil>=2.8.1 in /usr/local/lib/python3.10/dist-packages (from pandas->datasets) (2.8.2)\n",
            "Requirement already satisfied: pytz>=2020.1 in /usr/local/lib/python3.10/dist-packages (from pandas->datasets) (2022.7.1)\n",
            "Requirement already satisfied: six>=1.5 in /usr/local/lib/python3.10/dist-packages (from python-dateutil>=2.8.1->pandas->datasets) (1.16.0)\n",
            "Installing collected packages: xxhash, multidict, frozenlist, dill, async-timeout, yarl, responses, multiprocess, aiosignal, aiohttp, datasets\n",
            "Successfully installed aiohttp-3.8.4 aiosignal-1.3.1 async-timeout-4.0.2 datasets-2.12.0 dill-0.3.6 frozenlist-1.3.3 multidict-6.0.4 multiprocess-0.70.14 responses-0.18.0 xxhash-3.2.0 yarl-1.9.2\n"
          ]
        }
      ]
    },
    {
      "cell_type": "code",
      "execution_count": null,
      "metadata": {
        "colab": {
          "base_uri": "https://localhost:8080/"
        },
        "id": "TAWx3EeVIsbS",
        "outputId": "b592c605-c732-4120-b527-e6e652c073f2"
      },
      "outputs": [
        {
          "output_type": "stream",
          "name": "stdout",
          "text": [
            "Mounted at /content/drive/\n"
          ]
        }
      ],
      "source": [
        "from google.colab import drive\n",
        "drive.mount('/content/drive/')"
      ]
    },
    {
      "cell_type": "code",
      "source": [
        "%cd /content/drive/MyDrive/CSE256/FinalProject/"
      ],
      "metadata": {
        "colab": {
          "base_uri": "https://localhost:8080/"
        },
        "id": "nze49ia6IzzN",
        "outputId": "471f647d-19f3-442a-e6d0-8bd0a228a79a"
      },
      "execution_count": null,
      "outputs": [
        {
          "output_type": "stream",
          "name": "stdout",
          "text": [
            "/content/drive/MyDrive/CSE256/FinalProject\n"
          ]
        }
      ]
    },
    {
      "cell_type": "code",
      "source": [
        "!git clone --recursive https://github.com/naigamshah/SelectivePrediction.git"
      ],
      "metadata": {
        "colab": {
          "base_uri": "https://localhost:8080/"
        },
        "id": "7XTNCPusI_Iq",
        "outputId": "2441c147-aef6-4ad6-ec0b-765693e30285"
      },
      "execution_count": null,
      "outputs": [
        {
          "output_type": "stream",
          "name": "stdout",
          "text": [
            "fatal: destination path 'SelectivePrediction' already exists and is not an empty directory.\n"
          ]
        }
      ]
    },
    {
      "cell_type": "code",
      "source": [
        "!ls"
      ],
      "metadata": {
        "colab": {
          "base_uri": "https://localhost:8080/"
        },
        "id": "vA7CXAIgJKE5",
        "outputId": "22f11d2e-654d-4f2e-f9b6-f624916e32a8"
      },
      "execution_count": null,
      "outputs": [
        {
          "output_type": "stream",
          "name": "stdout",
          "text": [
            "data  SelectivePrediction\n"
          ]
        }
      ]
    },
    {
      "cell_type": "code",
      "source": [
        "import torch\n",
        "import pandas as pd\n",
        "from torch.utils.data import Dataset\n",
        "from transformers import AutoModelForQuestionAnswering, AutoTokenizer\n",
        "from datasets import load_dataset, concatenate_datasets\n",
        "import ast\n",
        "from collections import Counter\n",
        "from tqdm import tqdm\n",
        "import pandas as pd\n",
        "from sklearn.metrics import accuracy_score\n",
        "import numpy as np\n",
        "from sklearn.ensemble import RandomForestClassifier"
      ],
      "metadata": {
        "id": "F2gXexQiJLN6"
      },
      "execution_count": null,
      "outputs": []
    },
    {
      "cell_type": "code",
      "source": [
        "RANDOM_SEED = 7\n",
        "SRC_PREFIX = \"squad\"\n",
        "KNOWN_PREFIX = \"news\"\n",
        "UNKNOWN_PREFIX = \"trivia\""
      ],
      "metadata": {
        "id": "zl0-pD7mK7Cv"
      },
      "execution_count": null,
      "outputs": []
    },
    {
      "cell_type": "code",
      "source": [
        "def load(data_prefix, n):\n",
        "  if data_prefix==\"squad\":\n",
        "    return pd.read_csv(\"data/squad/train.csv\")[[\"context\",\"question\",\"answers\"]].sample(n=n, random_state=RANDOM_SEED).reset_index(drop=True)\n",
        "  elif data_prefix==\"hotpot\":\n",
        "    return pd.read_csv(\"data/hotpot_qa/train.csv\")[[\"context\",\"question\",\"answers\"]].sample(n=n, random_state=RANDOM_SEED).reset_index(drop=True)\n",
        "  elif data_prefix==\"natural\":\n",
        "    return pd.read_csv(\"data/natural_questions/train.csv\")[[\"context\",\"question\",\"answers\"]].sample(n=n, random_state=RANDOM_SEED).reset_index(drop=True)\n",
        "  elif data_prefix==\"news\":\n",
        "    return pd.read_csv(\"data/news_qa/train.csv\")[[\"context\",\"question\",\"answers\"]].sample(n=n, random_state=RANDOM_SEED).reset_index(drop=True)\n",
        "  if data_prefix==\"trivia\":\n",
        "    return pd.read_csv(\"data/trivia_qa/unmodified.csv\")[[\"context\",\"question\",\"answers\"]].sample(n=n, random_state=RANDOM_SEED).reset_index(drop=True)"
      ],
      "metadata": {
        "id": "aXhL7AUXKP1z"
      },
      "execution_count": null,
      "outputs": []
    },
    {
      "cell_type": "code",
      "source": [
        "p_src = load(SRC_PREFIX, 6000)\n",
        "q_known = load(KNOWN_PREFIX, 2000)\n",
        "q_unknown = load(UNKNOWN_PREFIX, 4000)"
      ],
      "metadata": {
        "id": "AcYoDOpruGzv"
      },
      "execution_count": null,
      "outputs": []
    },
    {
      "cell_type": "code",
      "source": [
        "train = pd.concat([p_src.iloc[:1600],q_known.iloc[:1600]]).reset_index(drop=True)\n",
        "val = pd.concat([p_src.iloc[1600:2000],q_known.iloc[1600:2000]]).reset_index(drop=True)\n",
        "test = pd.concat([p_src.iloc[2000:6000],q_unknown.iloc[:4000]]).reset_index(drop=True)"
      ],
      "metadata": {
        "id": "pPnHuTpdTPNh"
      },
      "execution_count": null,
      "outputs": []
    },
    {
      "cell_type": "code",
      "source": [
        "def get_ground_answers(dataset):\n",
        "  ground_answers = []\n",
        "  for i in tqdm(range(len(dataset))):\n",
        "    answer = ast.literal_eval(dataset.iloc[i][\"answers\"])\n",
        "    if type(answer)==dict:\n",
        "      ground_answers.append(answer[\"text\"][0].lower())\n",
        "    else:\n",
        "      ground_answers.append(answer[0].lower())\n",
        "  return ground_answers"
      ],
      "metadata": {
        "id": "fIeIksUCwkup"
      },
      "execution_count": null,
      "outputs": []
    },
    {
      "cell_type": "code",
      "source": [
        "train[\"ground_answers\"] = get_ground_answers(train)\n",
        "val[\"ground_answers\"] = get_ground_answers(val)\n",
        "test[\"ground_answers\"] = get_ground_answers(test)"
      ],
      "metadata": {
        "colab": {
          "base_uri": "https://localhost:8080/"
        },
        "id": "groOdpWZJO-N",
        "outputId": "3bdd1e0d-6ef5-4a61-9d62-a79abac21013"
      },
      "execution_count": null,
      "outputs": [
        {
          "output_type": "stream",
          "name": "stderr",
          "text": [
            "100%|██████████| 3200/3200 [00:00<00:00, 11472.17it/s]\n",
            "100%|██████████| 800/800 [00:00<00:00, 12659.57it/s]\n",
            "100%|██████████| 8000/8000 [00:00<00:00, 11405.43it/s]\n"
          ]
        }
      ]
    },
    {
      "cell_type": "code",
      "source": [
        "# Load the tokenizer and model\n",
        "tokenizer = AutoTokenizer.from_pretrained(\"deepset/roberta-base-squad2\")\n",
        "model = AutoModelForQuestionAnswering.from_pretrained(\"deepset/roberta-base-squad2\").cuda()"
      ],
      "metadata": {
        "colab": {
          "base_uri": "https://localhost:8080/",
          "height": 209,
          "referenced_widgets": [
            "87c057f186fc4009b7d0f2bb0c540ec6",
            "05581ff2d6a041789c580140c52c5aaa",
            "b9d35458d6d44382b3343d1b6c3f91c0",
            "cf07e0d3f7ed405b922c35296e9ce037",
            "dcbba95e3afd487d9fd4b73e5fd89321",
            "e8fe173f66274ec887fffda6f23be3b8",
            "1593e455be6347989f9fa47b0fbf0f1a",
            "0fe7bcce177e4926832a719e9b008d2a",
            "b7b280856f78492fad9af22c3d1595f9",
            "9c7742ba20864abb8c08b28d1dd4330b",
            "67d95560e3c9404f81d98302bb9c9661",
            "5bead876f9f54611953a665803ce6b00",
            "16d85e9f00c94cabbcd24e1cd3e41744",
            "99d7c991ee6645e5a39235e79eb02af7",
            "f2b3da85979c4834a61096a0d7926b93",
            "220efb93192d4d0f8e97d7ea4e83b721",
            "aa94c1381b134732be48110c71f6e04a",
            "c2cd1d595c2a4d389884e24a2a7d64fe",
            "dc0afc7617cb4e079e47a2c9183475ca",
            "56159ffb34d24940a6a60605cd39e408",
            "ced3a792b9734c2ebc299a4eaa4c034b",
            "d91dc138cb664e8dab3d4d4c68b4370a",
            "07043602f44e4bdab70ab134aca0349f",
            "13cfe7a944bf42e8b4caaf406b2fb11a",
            "4588951d14a04f9489ea2c380ac4ab00",
            "211d025736d543198af1a7a9619ded3a",
            "df31114214f24943baf73f443664c8f6",
            "bb3700b68a8c487c9ccad5ba66e75be6",
            "56b1e76b2cf540f0af83de5c1937f769",
            "e29b2f2a58564c8b953e6e47f7874f98",
            "c19ab4c169524bb586dd53741ad8fe15",
            "b30861d043b14d2a89d3a6de86ed1f54",
            "e3e81f7098ae4b278b24d5b897c33480",
            "939daf4b83d44641bfc3da6d85c4f458",
            "ca2aca6bd6fd4d4d9be8129e19ea6ec8",
            "225ab01786d04bfda7ceb67748ccd160",
            "87f24a5b6839475ca1989aec8f255343",
            "036c9d2312604067b1761ccd9a26f043",
            "def19b2d2478422bbb730457b651d6ce",
            "6f19c3dc6df74ed2981df4000e50d9b8",
            "cc772febbaf54b64aa4bdc9b74846224",
            "579db9c057514165841b4d9d782bd44d",
            "2a0f159b6b944aabb2e4e1f2c7ef47bc",
            "63143baa7871424cbc64ccaba1c75ca5",
            "4b99c1e2c0e5420595f0dc49e15e0f35",
            "788fb76421714d9f8a529d92188f170c",
            "b282c7bc5d0d49f2aa7fe537c90efe7f",
            "c0e84ea6b8a84e3ba59165f41e385d53",
            "bb81bd8211d1420b9335b336ecbd2ce8",
            "ee71799da8764e3b918df8787cce0bcb",
            "17e4ba00eaee4723ae5f50dd95836c8c",
            "ffbcd21fd9b242dfb4a5a8448a285c7a",
            "fef57ad6f5054a6a8d82e155003a1fb1",
            "a9f77d382c7e4eddb3c92e84ce4530c1",
            "455da8b8879c4c7eade4cadb87430aaa",
            "f6ec422f52ca48e89ce227e6f530cd6b",
            "5d25f76c4201414eabb6e80effb7bec0",
            "dbee0ef0b32e437e9a60ad474c24b08a",
            "ec9cdbcf15824b5cb014cd70e9d76b45",
            "02a041894e774e8c9160d06fa7c4a9b6",
            "c233650c53c24f618a666fface371fb5",
            "eeaddc41b53240fdb9ab1461b96a43d1",
            "72eb0fe50a16493f8a89a5389ccb37c4",
            "1064e1e31c1c4f4289f3e61af7dab52d",
            "3a3b77189b1143e49e360ddb97e4377b",
            "aa5761114a97465e9c78a71557fcd451"
          ]
        },
        "id": "GczSbUDga2xA",
        "outputId": "996cb730-6da2-4fe4-e4ce-9b960819c5e1"
      },
      "execution_count": null,
      "outputs": [
        {
          "output_type": "display_data",
          "data": {
            "text/plain": [
              "Downloading (…)okenizer_config.json:   0%|          | 0.00/79.0 [00:00<?, ?B/s]"
            ],
            "application/vnd.jupyter.widget-view+json": {
              "version_major": 2,
              "version_minor": 0,
              "model_id": "87c057f186fc4009b7d0f2bb0c540ec6"
            }
          },
          "metadata": {}
        },
        {
          "output_type": "display_data",
          "data": {
            "text/plain": [
              "Downloading (…)lve/main/config.json:   0%|          | 0.00/571 [00:00<?, ?B/s]"
            ],
            "application/vnd.jupyter.widget-view+json": {
              "version_major": 2,
              "version_minor": 0,
              "model_id": "5bead876f9f54611953a665803ce6b00"
            }
          },
          "metadata": {}
        },
        {
          "output_type": "display_data",
          "data": {
            "text/plain": [
              "Downloading (…)olve/main/vocab.json:   0%|          | 0.00/899k [00:00<?, ?B/s]"
            ],
            "application/vnd.jupyter.widget-view+json": {
              "version_major": 2,
              "version_minor": 0,
              "model_id": "07043602f44e4bdab70ab134aca0349f"
            }
          },
          "metadata": {}
        },
        {
          "output_type": "display_data",
          "data": {
            "text/plain": [
              "Downloading (…)olve/main/merges.txt:   0%|          | 0.00/456k [00:00<?, ?B/s]"
            ],
            "application/vnd.jupyter.widget-view+json": {
              "version_major": 2,
              "version_minor": 0,
              "model_id": "939daf4b83d44641bfc3da6d85c4f458"
            }
          },
          "metadata": {}
        },
        {
          "output_type": "display_data",
          "data": {
            "text/plain": [
              "Downloading (…)cial_tokens_map.json:   0%|          | 0.00/772 [00:00<?, ?B/s]"
            ],
            "application/vnd.jupyter.widget-view+json": {
              "version_major": 2,
              "version_minor": 0,
              "model_id": "4b99c1e2c0e5420595f0dc49e15e0f35"
            }
          },
          "metadata": {}
        },
        {
          "output_type": "display_data",
          "data": {
            "text/plain": [
              "Downloading model.safetensors:   0%|          | 0.00/496M [00:00<?, ?B/s]"
            ],
            "application/vnd.jupyter.widget-view+json": {
              "version_major": 2,
              "version_minor": 0,
              "model_id": "f6ec422f52ca48e89ce227e6f530cd6b"
            }
          },
          "metadata": {}
        }
      ]
    },
    {
      "cell_type": "code",
      "source": [
        "train"
      ],
      "metadata": {
        "colab": {
          "base_uri": "https://localhost:8080/",
          "height": 623
        },
        "id": "cg49p05XiNuy",
        "outputId": "0f2c3f27-efb7-4a62-beda-341dee4cfe6e"
      },
      "execution_count": null,
      "outputs": [
        {
          "output_type": "execute_result",
          "data": {
            "text/plain": [
              "                                                context  \\\n",
              "0     It is estimated that in 480 BC, 50 million peo...   \n",
              "1     In 2004 he was admitted as knight of the Légio...   \n",
              "2     KU Endowment was established in 1891 as Americ...   \n",
              "3     2010s saw multiple new sounds in house music d...   \n",
              "4     Much of Yale University's staff, including mos...   \n",
              "...                                                 ...   \n",
              "3195  This work provides new perspectives by which t...   \n",
              "3196  [PAR]   [PAR] Interview with PETER NICOL [PAR]...   \n",
              "3197  Many commercial breeders will mate  young does...   \n",
              "3198  [PAR] Presently, Vladimir expresses his frustr...   \n",
              "3199  [PAR] Hide Caption [PAR] 3 of 44 [PAR] Photos:...   \n",
              "\n",
              "                                               question  \\\n",
              "0     The Achaemenid Empire was the known enemy of w...   \n",
              "1                          Who made Spielberg a knight?   \n",
              "2                    When was the KU Endowment founded?   \n",
              "3     Big room house has found increasing popularity...   \n",
              "4     What union are Yale's service and maintenance ...   \n",
              "...                                                 ...   \n",
              "3195  What name is given to the study of animal beha...   \n",
              "3196  With which sport were the players Peter Nicol ...   \n",
              "3197  Which animal has breeds called Flemish Giant, ...   \n",
              "3198  According to Samuel Beckett, who are Vladimir ...   \n",
              "3199  \"The cruise liner \"\"Costa Concordia\"\" sank in ...   \n",
              "\n",
              "                                                answers  \\\n",
              "0     {'text': ['the Greek city states'], 'answer_st...   \n",
              "1     {'text': ['Jacques Chirac'], 'answer_start': [...   \n",
              "2              {'text': ['1891'], 'answer_start': [32]}   \n",
              "3            {'text': ['2010'], 'answer_start': [1165]}   \n",
              "4     {'text': ['Local 35 of the same international'...   \n",
              "...                                                 ...   \n",
              "3195  {'answer_start': [603], 'text': ['animal behav...   \n",
              "3196         {'answer_start': [51], 'text': ['squash']}   \n",
              "3197        {'answer_start': [575], 'text': ['rabbit']}   \n",
              "3198         {'answer_start': [742], 'text': ['godot']}   \n",
              "3199        {'answer_start': [465], 'text': ['giglio']}   \n",
              "\n",
              "                          ground_answers  \n",
              "0                  the greek city states  \n",
              "1                         jacques chirac  \n",
              "2                                   1891  \n",
              "3                                   2010  \n",
              "4     local 35 of the same international  \n",
              "...                                  ...  \n",
              "3195                     animal behavior  \n",
              "3196                              squash  \n",
              "3197                              rabbit  \n",
              "3198                               godot  \n",
              "3199                              giglio  \n",
              "\n",
              "[3200 rows x 4 columns]"
            ],
            "text/html": [
              "\n",
              "  <div id=\"df-b4a3a5f6-708b-420d-87dc-a57b736ded56\">\n",
              "    <div class=\"colab-df-container\">\n",
              "      <div>\n",
              "<style scoped>\n",
              "    .dataframe tbody tr th:only-of-type {\n",
              "        vertical-align: middle;\n",
              "    }\n",
              "\n",
              "    .dataframe tbody tr th {\n",
              "        vertical-align: top;\n",
              "    }\n",
              "\n",
              "    .dataframe thead th {\n",
              "        text-align: right;\n",
              "    }\n",
              "</style>\n",
              "<table border=\"1\" class=\"dataframe\">\n",
              "  <thead>\n",
              "    <tr style=\"text-align: right;\">\n",
              "      <th></th>\n",
              "      <th>context</th>\n",
              "      <th>question</th>\n",
              "      <th>answers</th>\n",
              "      <th>ground_answers</th>\n",
              "    </tr>\n",
              "  </thead>\n",
              "  <tbody>\n",
              "    <tr>\n",
              "      <th>0</th>\n",
              "      <td>It is estimated that in 480 BC, 50 million peo...</td>\n",
              "      <td>The Achaemenid Empire was the known enemy of w...</td>\n",
              "      <td>{'text': ['the Greek city states'], 'answer_st...</td>\n",
              "      <td>the greek city states</td>\n",
              "    </tr>\n",
              "    <tr>\n",
              "      <th>1</th>\n",
              "      <td>In 2004 he was admitted as knight of the Légio...</td>\n",
              "      <td>Who made Spielberg a knight?</td>\n",
              "      <td>{'text': ['Jacques Chirac'], 'answer_start': [...</td>\n",
              "      <td>jacques chirac</td>\n",
              "    </tr>\n",
              "    <tr>\n",
              "      <th>2</th>\n",
              "      <td>KU Endowment was established in 1891 as Americ...</td>\n",
              "      <td>When was the KU Endowment founded?</td>\n",
              "      <td>{'text': ['1891'], 'answer_start': [32]}</td>\n",
              "      <td>1891</td>\n",
              "    </tr>\n",
              "    <tr>\n",
              "      <th>3</th>\n",
              "      <td>2010s saw multiple new sounds in house music d...</td>\n",
              "      <td>Big room house has found increasing popularity...</td>\n",
              "      <td>{'text': ['2010'], 'answer_start': [1165]}</td>\n",
              "      <td>2010</td>\n",
              "    </tr>\n",
              "    <tr>\n",
              "      <th>4</th>\n",
              "      <td>Much of Yale University's staff, including mos...</td>\n",
              "      <td>What union are Yale's service and maintenance ...</td>\n",
              "      <td>{'text': ['Local 35 of the same international'...</td>\n",
              "      <td>local 35 of the same international</td>\n",
              "    </tr>\n",
              "    <tr>\n",
              "      <th>...</th>\n",
              "      <td>...</td>\n",
              "      <td>...</td>\n",
              "      <td>...</td>\n",
              "      <td>...</td>\n",
              "    </tr>\n",
              "    <tr>\n",
              "      <th>3195</th>\n",
              "      <td>This work provides new perspectives by which t...</td>\n",
              "      <td>What name is given to the study of animal beha...</td>\n",
              "      <td>{'answer_start': [603], 'text': ['animal behav...</td>\n",
              "      <td>animal behavior</td>\n",
              "    </tr>\n",
              "    <tr>\n",
              "      <th>3196</th>\n",
              "      <td>[PAR]   [PAR] Interview with PETER NICOL [PAR]...</td>\n",
              "      <td>With which sport were the players Peter Nicol ...</td>\n",
              "      <td>{'answer_start': [51], 'text': ['squash']}</td>\n",
              "      <td>squash</td>\n",
              "    </tr>\n",
              "    <tr>\n",
              "      <th>3197</th>\n",
              "      <td>Many commercial breeders will mate  young does...</td>\n",
              "      <td>Which animal has breeds called Flemish Giant, ...</td>\n",
              "      <td>{'answer_start': [575], 'text': ['rabbit']}</td>\n",
              "      <td>rabbit</td>\n",
              "    </tr>\n",
              "    <tr>\n",
              "      <th>3198</th>\n",
              "      <td>[PAR] Presently, Vladimir expresses his frustr...</td>\n",
              "      <td>According to Samuel Beckett, who are Vladimir ...</td>\n",
              "      <td>{'answer_start': [742], 'text': ['godot']}</td>\n",
              "      <td>godot</td>\n",
              "    </tr>\n",
              "    <tr>\n",
              "      <th>3199</th>\n",
              "      <td>[PAR] Hide Caption [PAR] 3 of 44 [PAR] Photos:...</td>\n",
              "      <td>\"The cruise liner \"\"Costa Concordia\"\" sank in ...</td>\n",
              "      <td>{'answer_start': [465], 'text': ['giglio']}</td>\n",
              "      <td>giglio</td>\n",
              "    </tr>\n",
              "  </tbody>\n",
              "</table>\n",
              "<p>3200 rows × 4 columns</p>\n",
              "</div>\n",
              "      <button class=\"colab-df-convert\" onclick=\"convertToInteractive('df-b4a3a5f6-708b-420d-87dc-a57b736ded56')\"\n",
              "              title=\"Convert this dataframe to an interactive table.\"\n",
              "              style=\"display:none;\">\n",
              "        \n",
              "  <svg xmlns=\"http://www.w3.org/2000/svg\" height=\"24px\"viewBox=\"0 0 24 24\"\n",
              "       width=\"24px\">\n",
              "    <path d=\"M0 0h24v24H0V0z\" fill=\"none\"/>\n",
              "    <path d=\"M18.56 5.44l.94 2.06.94-2.06 2.06-.94-2.06-.94-.94-2.06-.94 2.06-2.06.94zm-11 1L8.5 8.5l.94-2.06 2.06-.94-2.06-.94L8.5 2.5l-.94 2.06-2.06.94zm10 10l.94 2.06.94-2.06 2.06-.94-2.06-.94-.94-2.06-.94 2.06-2.06.94z\"/><path d=\"M17.41 7.96l-1.37-1.37c-.4-.4-.92-.59-1.43-.59-.52 0-1.04.2-1.43.59L10.3 9.45l-7.72 7.72c-.78.78-.78 2.05 0 2.83L4 21.41c.39.39.9.59 1.41.59.51 0 1.02-.2 1.41-.59l7.78-7.78 2.81-2.81c.8-.78.8-2.07 0-2.86zM5.41 20L4 18.59l7.72-7.72 1.47 1.35L5.41 20z\"/>\n",
              "  </svg>\n",
              "      </button>\n",
              "      \n",
              "  <style>\n",
              "    .colab-df-container {\n",
              "      display:flex;\n",
              "      flex-wrap:wrap;\n",
              "      gap: 12px;\n",
              "    }\n",
              "\n",
              "    .colab-df-convert {\n",
              "      background-color: #E8F0FE;\n",
              "      border: none;\n",
              "      border-radius: 50%;\n",
              "      cursor: pointer;\n",
              "      display: none;\n",
              "      fill: #1967D2;\n",
              "      height: 32px;\n",
              "      padding: 0 0 0 0;\n",
              "      width: 32px;\n",
              "    }\n",
              "\n",
              "    .colab-df-convert:hover {\n",
              "      background-color: #E2EBFA;\n",
              "      box-shadow: 0px 1px 2px rgba(60, 64, 67, 0.3), 0px 1px 3px 1px rgba(60, 64, 67, 0.15);\n",
              "      fill: #174EA6;\n",
              "    }\n",
              "\n",
              "    [theme=dark] .colab-df-convert {\n",
              "      background-color: #3B4455;\n",
              "      fill: #D2E3FC;\n",
              "    }\n",
              "\n",
              "    [theme=dark] .colab-df-convert:hover {\n",
              "      background-color: #434B5C;\n",
              "      box-shadow: 0px 1px 3px 1px rgba(0, 0, 0, 0.15);\n",
              "      filter: drop-shadow(0px 1px 2px rgba(0, 0, 0, 0.3));\n",
              "      fill: #FFFFFF;\n",
              "    }\n",
              "  </style>\n",
              "\n",
              "      <script>\n",
              "        const buttonEl =\n",
              "          document.querySelector('#df-b4a3a5f6-708b-420d-87dc-a57b736ded56 button.colab-df-convert');\n",
              "        buttonEl.style.display =\n",
              "          google.colab.kernel.accessAllowed ? 'block' : 'none';\n",
              "\n",
              "        async function convertToInteractive(key) {\n",
              "          const element = document.querySelector('#df-b4a3a5f6-708b-420d-87dc-a57b736ded56');\n",
              "          const dataTable =\n",
              "            await google.colab.kernel.invokeFunction('convertToInteractive',\n",
              "                                                     [key], {});\n",
              "          if (!dataTable) return;\n",
              "\n",
              "          const docLinkHtml = 'Like what you see? Visit the ' +\n",
              "            '<a target=\"_blank\" href=https://colab.research.google.com/notebooks/data_table.ipynb>data table notebook</a>'\n",
              "            + ' to learn more about interactive tables.';\n",
              "          element.innerHTML = '';\n",
              "          dataTable['output_type'] = 'display_data';\n",
              "          await google.colab.output.renderOutput(dataTable, element);\n",
              "          const docLink = document.createElement('div');\n",
              "          docLink.innerHTML = docLinkHtml;\n",
              "          element.appendChild(docLink);\n",
              "        }\n",
              "      </script>\n",
              "    </div>\n",
              "  </div>\n",
              "  "
            ]
          },
          "metadata": {},
          "execution_count": 15
        }
      ]
    },
    {
      "cell_type": "code",
      "source": [
        "def get_calib_data(data):\n",
        "  predicted_answers = []\n",
        "  context_question_lens = []\n",
        "  answer_lens = []\n",
        "  start_probs_list = []\n",
        "  end_probs_list = []\n",
        "  device = torch.device(\"cuda\" if torch.cuda.is_available() else \"cpu\")\n",
        "  model.eval()\n",
        "\n",
        "  for i in tqdm(range(len(data))):\n",
        "    question, context = data.iloc[i][\"question\"], data.iloc[i][\"context\"]\n",
        "\n",
        "    inputs = tokenizer.encode_plus(question, context, add_special_tokens=True, return_tensors=\"pt\", truncation = True)\n",
        "    inputs = {k: v.to(device) for k, v in inputs.items()}\n",
        "\n",
        "    input_ids = inputs[\"input_ids\"].tolist()[0]\n",
        "\n",
        "    with torch.no_grad(): \n",
        "      outputs = model(**inputs)\n",
        "\n",
        "    start_scores = torch.softmax(outputs.start_logits, dim=1).cuda()\n",
        "    end_scores = torch.softmax(outputs.end_logits, dim=1).cuda()\n",
        "    sorted_start, _ = torch.sort(start_scores, descending=True)\n",
        "    sorted_end, _ = torch.sort(end_scores, descending=True)\n",
        "\n",
        "    all_tokens = tokenizer.convert_ids_to_tokens(input_ids)\n",
        "    answer_tokens = all_tokens[torch.argmax(start_scores, dim=1): torch.argmax(end_scores, dim=1) + 1]\n",
        "    answer = tokenizer.convert_tokens_to_string(answer_tokens)\n",
        "    \n",
        "    #New feature set\n",
        "    context_question_len = torch.Tensor([len(context.split()) + len(question.split())]).cuda()\n",
        "    answer_len = torch.argmax(end_scores, dim=1).cuda() - torch.argmax(start_scores, dim=1).cuda() + 1\n",
        "    start_probs = sorted_start[0][:5].cuda()\n",
        "    end_probs = sorted_end[0][:5].cuda()\n",
        "\n",
        "    predicted_answers.append(answer.lower().strip())\n",
        "    context_question_lens.append(context_question_len.cpu().numpy()[0])\n",
        "    answer_lens.append(answer_len.cpu().numpy()[0])\n",
        "    start_probs_list.append(start_probs.cpu().numpy())\n",
        "    end_probs_list.append(end_probs.cpu().numpy())\n",
        "\n",
        "  start_probs_list = np.asarray(start_probs_list)\n",
        "  end_probs_list = np.asarray(end_probs_list)\n",
        "\n",
        "  data[\"predicted_answers\"] = predicted_answers\n",
        "  data[\"context_question_len\"] = context_question_lens\n",
        "  data[\"answer_len\"] = answer_lens\n",
        "  \n",
        "  for i in range(len(start_probs_list[0])):\n",
        "    data[f\"sprob_{i}\"] = start_probs_list[:,i]\n",
        "  \n",
        "  for i in range(len(end_probs_list[0])):\n",
        "    data[f\"eprob_{i}\"] = end_probs_list[:,i]\n",
        "\n",
        "  return "
      ],
      "metadata": {
        "id": "f7S2wRV9h9J6"
      },
      "execution_count": null,
      "outputs": []
    },
    {
      "cell_type": "code",
      "source": [
        "get_calib_data(train)"
      ],
      "metadata": {
        "colab": {
          "base_uri": "https://localhost:8080/"
        },
        "id": "SWi_XajnmYYh",
        "outputId": "5c45cfd0-787a-4c41-a1ca-f4086374101b"
      },
      "execution_count": null,
      "outputs": [
        {
          "output_type": "stream",
          "name": "stderr",
          "text": [
            "100%|██████████| 3200/3200 [01:28<00:00, 35.98it/s]\n"
          ]
        }
      ]
    },
    {
      "cell_type": "code",
      "source": [
        "get_calib_data(val)\n",
        "get_calib_data(test)"
      ],
      "metadata": {
        "colab": {
          "base_uri": "https://localhost:8080/"
        },
        "id": "IFY26lMlqiwP",
        "outputId": "3433b1ec-56de-4bd4-bf02-e65fa5efb351"
      },
      "execution_count": null,
      "outputs": [
        {
          "output_type": "stream",
          "name": "stderr",
          "text": [
            "100%|██████████| 800/800 [00:21<00:00, 37.76it/s]\n",
            "100%|██████████| 8000/8000 [02:52<00:00, 46.25it/s]\n"
          ]
        }
      ]
    },
    {
      "cell_type": "code",
      "source": [
        "train.to_csv(\"train.csv\", index = False)\n",
        "val.to_csv(\"val.csv\", index = False)\n",
        "test.to_csv(\"test.csv\", index = False)"
      ],
      "metadata": {
        "id": "2zURSonI1waG"
      },
      "execution_count": null,
      "outputs": []
    },
    {
      "cell_type": "markdown",
      "source": [
        "Training the calibrator"
      ],
      "metadata": {
        "id": "sSwyjLjAt9o9"
      }
    },
    {
      "cell_type": "code",
      "source": [
        "X_train_calib = np.asarray(train.iloc[:,-12:].values)\n",
        "y_train_calib = np.asarray([0]*(len(X_train_calib)//2) + [1]*(len(X_train_calib)//2))\n",
        "\n",
        "X_val_calib = np.asarray(val.iloc[:,-12:].values)\n",
        "y_val_calib = np.asarray([0]*(len(X_val_calib)//2) + [1]*(len(X_val_calib)//2))\n",
        "\n",
        "X_test_calib = np.asarray(test.iloc[:,-12:].values)\n",
        "y_test_calib = np.asarray([0]*(len(X_test_calib)//2) + [1]*(len(X_test_calib)//2))\n"
      ],
      "metadata": {
        "id": "LLcD6kq6t9Wy"
      },
      "execution_count": null,
      "outputs": []
    },
    {
      "cell_type": "code",
      "source": [
        "rf = RandomForestClassifier(n_estimators=100, max_depth=4, random_state=RANDOM_SEED)\n",
        "rf.fit(X_train_calib, y_train_calib)"
      ],
      "metadata": {
        "colab": {
          "base_uri": "https://localhost:8080/",
          "height": 74
        },
        "id": "CW1pR_x1ucsJ",
        "outputId": "dd5f911e-7dab-4a54-a5d9-07be731e988a"
      },
      "execution_count": null,
      "outputs": [
        {
          "output_type": "execute_result",
          "data": {
            "text/plain": [
              "RandomForestClassifier(max_depth=4, random_state=7)"
            ],
            "text/html": [
              "<style>#sk-container-id-2 {color: black;background-color: white;}#sk-container-id-2 pre{padding: 0;}#sk-container-id-2 div.sk-toggleable {background-color: white;}#sk-container-id-2 label.sk-toggleable__label {cursor: pointer;display: block;width: 100%;margin-bottom: 0;padding: 0.3em;box-sizing: border-box;text-align: center;}#sk-container-id-2 label.sk-toggleable__label-arrow:before {content: \"▸\";float: left;margin-right: 0.25em;color: #696969;}#sk-container-id-2 label.sk-toggleable__label-arrow:hover:before {color: black;}#sk-container-id-2 div.sk-estimator:hover label.sk-toggleable__label-arrow:before {color: black;}#sk-container-id-2 div.sk-toggleable__content {max-height: 0;max-width: 0;overflow: hidden;text-align: left;background-color: #f0f8ff;}#sk-container-id-2 div.sk-toggleable__content pre {margin: 0.2em;color: black;border-radius: 0.25em;background-color: #f0f8ff;}#sk-container-id-2 input.sk-toggleable__control:checked~div.sk-toggleable__content {max-height: 200px;max-width: 100%;overflow: auto;}#sk-container-id-2 input.sk-toggleable__control:checked~label.sk-toggleable__label-arrow:before {content: \"▾\";}#sk-container-id-2 div.sk-estimator input.sk-toggleable__control:checked~label.sk-toggleable__label {background-color: #d4ebff;}#sk-container-id-2 div.sk-label input.sk-toggleable__control:checked~label.sk-toggleable__label {background-color: #d4ebff;}#sk-container-id-2 input.sk-hidden--visually {border: 0;clip: rect(1px 1px 1px 1px);clip: rect(1px, 1px, 1px, 1px);height: 1px;margin: -1px;overflow: hidden;padding: 0;position: absolute;width: 1px;}#sk-container-id-2 div.sk-estimator {font-family: monospace;background-color: #f0f8ff;border: 1px dotted black;border-radius: 0.25em;box-sizing: border-box;margin-bottom: 0.5em;}#sk-container-id-2 div.sk-estimator:hover {background-color: #d4ebff;}#sk-container-id-2 div.sk-parallel-item::after {content: \"\";width: 100%;border-bottom: 1px solid gray;flex-grow: 1;}#sk-container-id-2 div.sk-label:hover label.sk-toggleable__label {background-color: #d4ebff;}#sk-container-id-2 div.sk-serial::before {content: \"\";position: absolute;border-left: 1px solid gray;box-sizing: border-box;top: 0;bottom: 0;left: 50%;z-index: 0;}#sk-container-id-2 div.sk-serial {display: flex;flex-direction: column;align-items: center;background-color: white;padding-right: 0.2em;padding-left: 0.2em;position: relative;}#sk-container-id-2 div.sk-item {position: relative;z-index: 1;}#sk-container-id-2 div.sk-parallel {display: flex;align-items: stretch;justify-content: center;background-color: white;position: relative;}#sk-container-id-2 div.sk-item::before, #sk-container-id-2 div.sk-parallel-item::before {content: \"\";position: absolute;border-left: 1px solid gray;box-sizing: border-box;top: 0;bottom: 0;left: 50%;z-index: -1;}#sk-container-id-2 div.sk-parallel-item {display: flex;flex-direction: column;z-index: 1;position: relative;background-color: white;}#sk-container-id-2 div.sk-parallel-item:first-child::after {align-self: flex-end;width: 50%;}#sk-container-id-2 div.sk-parallel-item:last-child::after {align-self: flex-start;width: 50%;}#sk-container-id-2 div.sk-parallel-item:only-child::after {width: 0;}#sk-container-id-2 div.sk-dashed-wrapped {border: 1px dashed gray;margin: 0 0.4em 0.5em 0.4em;box-sizing: border-box;padding-bottom: 0.4em;background-color: white;}#sk-container-id-2 div.sk-label label {font-family: monospace;font-weight: bold;display: inline-block;line-height: 1.2em;}#sk-container-id-2 div.sk-label-container {text-align: center;}#sk-container-id-2 div.sk-container {/* jupyter's `normalize.less` sets `[hidden] { display: none; }` but bootstrap.min.css set `[hidden] { display: none !important; }` so we also need the `!important` here to be able to override the default hidden behavior on the sphinx rendered scikit-learn.org. See: https://github.com/scikit-learn/scikit-learn/issues/21755 */display: inline-block !important;position: relative;}#sk-container-id-2 div.sk-text-repr-fallback {display: none;}</style><div id=\"sk-container-id-2\" class=\"sk-top-container\"><div class=\"sk-text-repr-fallback\"><pre>RandomForestClassifier(max_depth=4, random_state=7)</pre><b>In a Jupyter environment, please rerun this cell to show the HTML representation or trust the notebook. <br />On GitHub, the HTML representation is unable to render, please try loading this page with nbviewer.org.</b></div><div class=\"sk-container\" hidden><div class=\"sk-item\"><div class=\"sk-estimator sk-toggleable\"><input class=\"sk-toggleable__control sk-hidden--visually\" id=\"sk-estimator-id-2\" type=\"checkbox\" checked><label for=\"sk-estimator-id-2\" class=\"sk-toggleable__label sk-toggleable__label-arrow\">RandomForestClassifier</label><div class=\"sk-toggleable__content\"><pre>RandomForestClassifier(max_depth=4, random_state=7)</pre></div></div></div></div></div>"
            ]
          },
          "metadata": {},
          "execution_count": 56
        }
      ]
    },
    {
      "cell_type": "code",
      "source": [
        "preds = rf.predict(X_val_calib)\n",
        "preds_probs = rf.predict_proba(X_val_calib)"
      ],
      "metadata": {
        "id": "5CfjQ0Dxuz13"
      },
      "execution_count": null,
      "outputs": []
    },
    {
      "cell_type": "code",
      "source": [
        "### 0 - answer \n",
        "### 1 - abstain"
      ],
      "metadata": {
        "id": "Ar9vuAy_vnxv"
      },
      "execution_count": null,
      "outputs": []
    },
    {
      "cell_type": "code",
      "source": [
        "import matplotlib.pyplot as plt\n"
      ],
      "metadata": {
        "id": "VgFtUHF1x7a8"
      },
      "execution_count": null,
      "outputs": []
    },
    {
      "cell_type": "code",
      "source": [
        "def get_coverage(thresh):\n",
        "  pred_val = []\n",
        "  for p0, p1 in preds_probs:\n",
        "    if p0>thresh:\n",
        "      pred_val.append(0)\n",
        "    else:\n",
        "      pred_val.append(1)\n",
        "\n",
        "  cntr = Counter(pred_val)\n",
        "  coverage = cntr[0]/(cntr[0]+cntr[1])\n",
        "  return coverage\n"
      ],
      "metadata": {
        "id": "lFhd_8Q6x0LW"
      },
      "execution_count": null,
      "outputs": []
    },
    {
      "cell_type": "code",
      "source": [
        "thresholds = [x/100 for x in range(0,100,4)]\n",
        "coverages = []\n",
        "for thresh in thresholds:\n",
        "  coverages.append(get_coverage(thresh))\n",
        "\n",
        "plt.plot(thresholds,coverages)"
      ],
      "metadata": {
        "colab": {
          "base_uri": "https://localhost:8080/",
          "height": 447
        },
        "id": "sVradEDgyZXo",
        "outputId": "2259d354-a80e-484a-a6b1-c0ef52c961a5"
      },
      "execution_count": null,
      "outputs": [
        {
          "output_type": "execute_result",
          "data": {
            "text/plain": [
              "[<matplotlib.lines.Line2D at 0x7f4b70136e00>]"
            ]
          },
          "metadata": {},
          "execution_count": 73
        },
        {
          "output_type": "display_data",
          "data": {
            "text/plain": [
              "<Figure size 640x480 with 1 Axes>"
            ],
            "image/png": "[encoded data removed]"
          },
          "metadata": {}
        }
      ]
    },
    {
      "cell_type": "code",
      "source": [
        "pred_val = []\n",
        "\n",
        "THRESH = 0.6\n",
        "for p0, p1 in preds_probs:\n",
        "  if p0>THRESH:\n",
        "    pred_val.append(0)\n",
        "  else:\n",
        "    pred_val.append(1)\n",
        "\n",
        "cntr = Counter(pred_val)\n",
        "print(f\"Coverage: {cntr[0]/(cntr[0]+cntr[1])}\")"
      ],
      "metadata": {
        "colab": {
          "base_uri": "https://localhost:8080/"
        },
        "id": "z4ZJIMaXu3lY",
        "outputId": "1bee30c6-de31-4ecc-b7dc-75d69e7f8bf4"
      },
      "execution_count": null,
      "outputs": [
        {
          "output_type": "stream",
          "name": "stdout",
          "text": [
            "Coverage: 0.49125\n"
          ]
        }
      ]
    },
    {
      "cell_type": "markdown",
      "source": [
        "Ignore code from here"
      ],
      "metadata": {
        "id": "CuXr65z13zrF"
      }
    },
    {
      "cell_type": "code",
      "source": [],
      "metadata": {
        "id": "JHX_G4GV3zTq"
      },
      "execution_count": null,
      "outputs": []
    },
    {
      "cell_type": "code",
      "source": [],
      "metadata": {
        "id": "8Zk0ZBF13zQQ"
      },
      "execution_count": null,
      "outputs": []
    },
    {
      "cell_type": "code",
      "source": [],
      "metadata": {
        "id": "F_9J25dy3zED"
      },
      "execution_count": null,
      "outputs": []
    },
    {
      "cell_type": "code",
      "source": [
        "accuracy = accuracy_score(combined_df.ground_answers.values,combined_df.predicted_answers.values)\n",
        "print(f\"Accuracy: {accuracy:.2f}\")"
      ],
      "metadata": {
        "colab": {
          "base_uri": "https://localhost:8080/"
        },
        "id": "-EgFlI44WQLl",
        "outputId": "176925fd-b1bd-49b2-a6ad-95a6181a0241"
      },
      "execution_count": null,
      "outputs": [
        {
          "output_type": "stream",
          "name": "stdout",
          "text": [
            "Accuracy: 0.58\n"
          ]
        }
      ]
    },
    {
      "cell_type": "markdown",
      "source": [
        "Training Calibrator"
      ],
      "metadata": {
        "id": "NCzqOSw_VXqo"
      }
    },
    {
      "cell_type": "code",
      "source": [
        "X = np.asarray(combined_df.iloc[:, :12].values)\n",
        "y = np.asarray([0]*1600 + [1]*400)\n",
        "\n",
        "X_train = np.concatenate((X[:1300],X[1600:1900]))\n",
        "y_train = np.concatenate((y[:1300],y[1600:1900]))\n",
        "X_val = np.concatenate((X[1300:1600],X[1900:]))\n",
        "y_val = np.concatenate((y[1300:1600],y[1900:]))\n",
        "\n",
        "# shuffled_indices_train = np.random.permutation(len(X_train))\n",
        "# shuffled_indices_val = np.random.permutation(len(X_val))\n",
        "\n",
        "# X_train, y_train = X_train[shuffled_indices_train], y_train[shuffled_indices_train]\n",
        "# X_val, y_val = X_val[shuffled_indices_val], y_val[shuffled_indices_val]"
      ],
      "metadata": {
        "id": "hOcz6WYKVJHo"
      },
      "execution_count": null,
      "outputs": []
    },
    {
      "cell_type": "code",
      "source": [
        "rf = RandomForestClassifier(n_estimators=100, max_depth=4, random_state=RANDOM_SEED)\n",
        "rf.fit(X_train, y_train)"
      ],
      "metadata": {
        "colab": {
          "base_uri": "https://localhost:8080/",
          "height": 74
        },
        "id": "QD0_F3ZHWGZt",
        "outputId": "0e6093e1-1ef4-4f66-d7ce-4d480d7399a3"
      },
      "execution_count": null,
      "outputs": [
        {
          "output_type": "execute_result",
          "data": {
            "text/plain": [
              "RandomForestClassifier(max_depth=4, random_state=7)"
            ],
            "text/html": [
              "<style>#sk-container-id-1 {color: black;background-color: white;}#sk-container-id-1 pre{padding: 0;}#sk-container-id-1 div.sk-toggleable {background-color: white;}#sk-container-id-1 label.sk-toggleable__label {cursor: pointer;display: block;width: 100%;margin-bottom: 0;padding: 0.3em;box-sizing: border-box;text-align: center;}#sk-container-id-1 label.sk-toggleable__label-arrow:before {content: \"▸\";float: left;margin-right: 0.25em;color: #696969;}#sk-container-id-1 label.sk-toggleable__label-arrow:hover:before {color: black;}#sk-container-id-1 div.sk-estimator:hover label.sk-toggleable__label-arrow:before {color: black;}#sk-container-id-1 div.sk-toggleable__content {max-height: 0;max-width: 0;overflow: hidden;text-align: left;background-color: #f0f8ff;}#sk-container-id-1 div.sk-toggleable__content pre {margin: 0.2em;color: black;border-radius: 0.25em;background-color: #f0f8ff;}#sk-container-id-1 input.sk-toggleable__control:checked~div.sk-toggleable__content {max-height: 200px;max-width: 100%;overflow: auto;}#sk-container-id-1 input.sk-toggleable__control:checked~label.sk-toggleable__label-arrow:before {content: \"▾\";}#sk-container-id-1 div.sk-estimator input.sk-toggleable__control:checked~label.sk-toggleable__label {background-color: #d4ebff;}#sk-container-id-1 div.sk-label input.sk-toggleable__control:checked~label.sk-toggleable__label {background-color: #d4ebff;}#sk-container-id-1 input.sk-hidden--visually {border: 0;clip: rect(1px 1px 1px 1px);clip: rect(1px, 1px, 1px, 1px);height: 1px;margin: -1px;overflow: hidden;padding: 0;position: absolute;width: 1px;}#sk-container-id-1 div.sk-estimator {font-family: monospace;background-color: #f0f8ff;border: 1px dotted black;border-radius: 0.25em;box-sizing: border-box;margin-bottom: 0.5em;}#sk-container-id-1 div.sk-estimator:hover {background-color: #d4ebff;}#sk-container-id-1 div.sk-parallel-item::after {content: \"\";width: 100%;border-bottom: 1px solid gray;flex-grow: 1;}#sk-container-id-1 div.sk-label:hover label.sk-toggleable__label {background-color: #d4ebff;}#sk-container-id-1 div.sk-serial::before {content: \"\";position: absolute;border-left: 1px solid gray;box-sizing: border-box;top: 0;bottom: 0;left: 50%;z-index: 0;}#sk-container-id-1 div.sk-serial {display: flex;flex-direction: column;align-items: center;background-color: white;padding-right: 0.2em;padding-left: 0.2em;position: relative;}#sk-container-id-1 div.sk-item {position: relative;z-index: 1;}#sk-container-id-1 div.sk-parallel {display: flex;align-items: stretch;justify-content: center;background-color: white;position: relative;}#sk-container-id-1 div.sk-item::before, #sk-container-id-1 div.sk-parallel-item::before {content: \"\";position: absolute;border-left: 1px solid gray;box-sizing: border-box;top: 0;bottom: 0;left: 50%;z-index: -1;}#sk-container-id-1 div.sk-parallel-item {display: flex;flex-direction: column;z-index: 1;position: relative;background-color: white;}#sk-container-id-1 div.sk-parallel-item:first-child::after {align-self: flex-end;width: 50%;}#sk-container-id-1 div.sk-parallel-item:last-child::after {align-self: flex-start;width: 50%;}#sk-container-id-1 div.sk-parallel-item:only-child::after {width: 0;}#sk-container-id-1 div.sk-dashed-wrapped {border: 1px dashed gray;margin: 0 0.4em 0.5em 0.4em;box-sizing: border-box;padding-bottom: 0.4em;background-color: white;}#sk-container-id-1 div.sk-label label {font-family: monospace;font-weight: bold;display: inline-block;line-height: 1.2em;}#sk-container-id-1 div.sk-label-container {text-align: center;}#sk-container-id-1 div.sk-container {/* jupyter's `normalize.less` sets `[hidden] { display: none; }` but bootstrap.min.css set `[hidden] { display: none !important; }` so we also need the `!important` here to be able to override the default hidden behavior on the sphinx rendered scikit-learn.org. See: https://github.com/scikit-learn/scikit-learn/issues/21755 */display: inline-block !important;position: relative;}#sk-container-id-1 div.sk-text-repr-fallback {display: none;}</style><div id=\"sk-container-id-1\" class=\"sk-top-container\"><div class=\"sk-text-repr-fallback\"><pre>RandomForestClassifier(max_depth=4, random_state=7)</pre><b>In a Jupyter environment, please rerun this cell to show the HTML representation or trust the notebook. <br />On GitHub, the HTML representation is unable to render, please try loading this page with nbviewer.org.</b></div><div class=\"sk-container\" hidden><div class=\"sk-item\"><div class=\"sk-estimator sk-toggleable\"><input class=\"sk-toggleable__control sk-hidden--visually\" id=\"sk-estimator-id-1\" type=\"checkbox\" checked><label for=\"sk-estimator-id-1\" class=\"sk-toggleable__label sk-toggleable__label-arrow\">RandomForestClassifier</label><div class=\"sk-toggleable__content\"><pre>RandomForestClassifier(max_depth=4, random_state=7)</pre></div></div></div></div></div>"
            ]
          },
          "metadata": {},
          "execution_count": 45
        }
      ]
    },
    {
      "cell_type": "code",
      "source": [
        "preds = rf.predict(X_val)\n",
        "preds_probs = rf.predict_proba(X_val)"
      ],
      "metadata": {
        "id": "0D0-TP7vWHtr"
      },
      "execution_count": null,
      "outputs": []
    },
    {
      "cell_type": "code",
      "source": [
        "pred_val = []\n",
        "THRESH = 0.1\n",
        "for p0, p1 in preds_probs:\n",
        "  if p0>THRESH:\n",
        "    pred_val.append(0)\n",
        "  else:\n",
        "    pred_val.append(1)\n",
        "\n",
        "cntr = Counter(pred_val)\n",
        "print(f\"Coverage: {cntr[0]/(cntr[0]+cntr[1])}\")"
      ],
      "metadata": {
        "colab": {
          "base_uri": "https://localhost:8080/"
        },
        "id": "vT9A_KuydGm6",
        "outputId": "772c0a6e-77ce-43fe-8b0c-29ba9663a081"
      },
      "execution_count": null,
      "outputs": [
        {
          "output_type": "stream",
          "name": "stdout",
          "text": [
            "Coverage: 0.9675\n"
          ]
        }
      ]
    },
    {
      "cell_type": "code",
      "source": [
        "def get_indices(indices):\n",
        "  ret = []\n",
        "  for i in indices:\n",
        "    if i<=300:\n",
        "      ret.append(i+1300)\n",
        "    else:\n",
        "      ret.append(i-300+1900)\n",
        "\n",
        "  return ret"
      ],
      "metadata": {
        "id": "und5YMfrhk9i"
      },
      "execution_count": null,
      "outputs": []
    },
    {
      "cell_type": "code",
      "source": [
        "indices = [index for index, value in enumerate(pred_val) if value == 0]\n",
        "new_indices = get_indices(indices)"
      ],
      "metadata": {
        "id": "oEG-GewnclIS"
      },
      "execution_count": null,
      "outputs": []
    },
    {
      "cell_type": "code",
      "source": [
        "val_answers = combined_df[['ground_answers', 'predicted_answers']].iloc[new_indices]"
      ],
      "metadata": {
        "id": "sFGLi8bbh_wL"
      },
      "execution_count": null,
      "outputs": []
    },
    {
      "cell_type": "code",
      "source": [
        "accuracy = accuracy_score(val_answers.ground_answers.values,val_answers.predicted_answers.values)\n",
        "print(f\"Accuracy: {accuracy:.2f}\")"
      ],
      "metadata": {
        "colab": {
          "base_uri": "https://localhost:8080/"
        },
        "id": "g7R_xcXnaBb-",
        "outputId": "450a9e90-6373-42ef-b816-f8598e1cbd9d"
      },
      "execution_count": null,
      "outputs": [
        {
          "output_type": "stream",
          "name": "stdout",
          "text": [
            "Accuracy: 0.56\n"
          ]
        }
      ]
    },
    {
      "cell_type": "code",
      "source": [
        "def acc_vs_threshold()"
      ],
      "metadata": {
        "id": "-GwcFKNQbdpK"
      },
      "execution_count": null,
      "outputs": []
    },
    {
      "cell_type": "markdown",
      "source": [
        "Don't bother about the code below!!"
      ],
      "metadata": {
        "id": "WT8fiQpQaLm7"
      }
    },
    {
      "cell_type": "code",
      "source": [
        "# print(context, question)\n",
        "inputs = tokenizer.encode_plus(question, context, add_special_tokens=True, return_tensors=\"pt\")\n",
        "input_ids = inputs[\"input_ids\"].tolist()[0]\n",
        "# print(input_ids)\n",
        "outputs = model(**inputs)\n",
        "# print(f\"Outputs: {outputs}\")\n",
        "start_scores = outputs.start_logits\n",
        "end_scores = outputs.end_logits\n",
        "print(start_scores)\n",
        "\n",
        "all_tokens = tokenizer.convert_ids_to_tokens(input_ids)\n",
        "print(f\"all tokens: {all_tokens}\")\n",
        "print(torch.argmax(start_scores, dim=1).item(), torch.argmax(end_scores, dim=1).item())\n",
        "answer_tokens = all_tokens[torch.argmax(start_scores, dim=1).item(): torch.argmax(end_scores, dim=1).item() + 1]\n",
        "print(answer_tokens)\n",
        "answer = tokenizer.convert_tokens_to_string(answer_tokens)\n",
        "print(answer)"
      ],
      "metadata": {
        "colab": {
          "base_uri": "https://localhost:8080/"
        },
        "id": "L1LFWYyrY81U",
        "outputId": "8c6cd13e-3a1e-4f85-b3f7-a0bb3653dbb2"
      },
      "execution_count": null,
      "outputs": [
        {
          "output_type": "stream",
          "name": "stdout",
          "text": [
            "tensor([[-0.1727,  0.1722,  0.1962, -0.2241, -0.1423, -0.3767,  0.1245,  0.2492,\n",
            "          0.4291,  0.1370, -0.0882,  0.1542,  0.2131,  0.1711,  0.3439,  0.4369,\n",
            "          0.3794,  0.1264,  0.1803,  0.3830,  0.1362,  0.1255, -0.2212,  0.2080,\n",
            "         -0.1640, -0.0518, -0.1869,  0.0849,  0.0730,  0.2436, -0.0123,  0.2799,\n",
            "          0.3926,  0.3879,  0.3484,  0.0104,  0.0549,  0.1858, -0.2647, -0.1953,\n",
            "         -0.5426,  0.0092,  0.2475, -0.2115,  0.2824,  0.1898, -0.1397,  0.2071,\n",
            "         -0.0716,  0.1541,  0.3763,  0.0816, -0.0554,  0.0924,  0.2390,  0.1332,\n",
            "          0.1850,  0.0293,  0.1409, -0.1875,  0.1431, -0.1129, -0.1109, -0.0025,\n",
            "         -0.2622, -0.3049,  0.1145, -0.0463,  0.0945, -0.2147, -0.1032,  0.0914,\n",
            "          0.0907,  0.0529,  0.2493,  0.2475, -0.2520, -0.2170, -0.4816,  0.0764,\n",
            "          0.2737, -0.0024, -0.3389,  0.0297,  0.0574,  0.1878,  0.1136,  0.1683,\n",
            "          0.0771,  0.0660,  0.2494,  0.1959,  0.0416,  0.1995,  0.3805,  0.4478,\n",
            "          0.5131,  0.0806,  0.2940,  0.2333,  0.0965,  0.0956,  0.2884,  0.1692,\n",
            "          0.1589,  0.0735,  0.4821,  0.3727,  0.5307,  0.8249,  0.5237,  0.2226,\n",
            "          0.5307,  0.3712,  0.3677, -0.3889,  0.2646,  0.2878,  0.6657,  0.3762,\n",
            "          0.2786,  0.2282,  0.1629,  0.0221,  0.3304,  0.2691, -0.3236, -0.3197,\n",
            "          0.2584, -0.1713,  0.1831,  0.2782,  0.1097, -0.2054,  0.2378,  0.2884,\n",
            "          0.3190,  0.4618,  0.3063, -0.0992,  0.2929,  0.5585,  0.2513,  0.5078,\n",
            "          0.3972,  0.3809, -0.0928,  0.4535,  0.3690,  0.1930,  0.1263, -0.5802,\n",
            "          0.1940,  0.3207,  0.4161, -0.0834,  0.1398, -0.1432,  0.3098, -0.0303,\n",
            "          0.1928, -0.0079,  0.0300, -0.2073,  0.3958, -0.1915,  0.0566, -0.0337,\n",
            "          0.0170,  0.0454,  0.0840,  0.2156,  0.3045,  0.1528,  0.0792,  0.1239,\n",
            "         -0.0278,  0.3606,  0.1723, -0.4847,  0.0120,  0.2132,  0.2032,  0.2370,\n",
            "         -0.0890,  0.0081, -0.3401, -0.1400, -0.0881,  0.0752,  0.1383, -0.0770,\n",
            "          0.1239,  0.2123,  0.6106,  0.4160, -0.1684, -0.1322,  0.3299,  0.0495,\n",
            "         -0.2024, -0.2212]], grad_fn=<CloneBackward0>)\n",
            "all tokens: ['[CLS]', 'The', 'A', '##cha', '##em', '##eni', '##d', 'Empire', 'was', 'the', 'known', 'enemy', 'of', 'what', 'nation', \"'\", 's', 'histories', 'during', 'its', 'existence', '?', '[SEP]', 'It', 'is', 'estimated', 'that', 'in', '480', 'BC', ',', '50', 'million', 'people', 'lived', 'in', 'the', 'A', '##cha', '##em', '##eni', '##d', 'Empire', '.', 'The', 'empire', 'at', 'its', 'peak', 'ruled', 'over', '44', '%', 'of', 'the', 'world', \"'\", 's', 'population', ',', 'the', 'highest', 'such', 'figure', 'for', 'any', 'empire', 'in', 'history', '.', 'In', 'Greek', 'history', ',', 'the', 'A', '##cha', '##em', '##eni', '##d', 'Empire', 'is', 'considered', 'as', 'the', 'antagonist', 'of', 'the', 'Greek', 'city', 'states', ',', 'for', 'the', 'em', '##ancipation', 'of', 'slaves', 'including', 'the', 'Jewish', 'exile', '##s', 'in', 'Babylon', ',', 'building', 'infrastructure', '##s', 'such', 'as', 'road', 'and', 'postal', 'systems', ',', 'and', 'the', 'use', 'of', 'an', 'official', 'language', ',', 'the', 'Imperial', 'Ara', '##ma', '##ic', ',', 'throughout', 'its', 'territories', '.', 'The', 'empire', 'had', 'a', 'centralized', ',', 'bureau', '##cratic', 'administration', 'under', 'the', 'emperor', ',', 'a', 'large', 'professional', 'army', ',', 'and', 'civil', 'services', ',', 'inspiring', 'similar', 'developments', 'in', 'later', 'empire', '##s', '.', 'Furthermore', ',', 'one', 'of', 'the', 'Seven', 'Wonder', '##s', 'of', 'the', 'Ancient', 'World', ',', 'the', 'Ma', '##us', '##ole', '##um', 'at', 'Hal', '##ica', '##rna', '##ss', '##us', ',', 'was', 'built', 'in', 'the', 'empire', 'between', '35', '##3', 'and', '350', 'BC', '.', '[SEP]']\n",
            "109 27\n",
            "[]\n",
            "\n"
          ]
        }
      ]
    },
    {
      "cell_type": "code",
      "source": [
        "out = tokenizer(context, question, return_tensors = \"pt\")"
      ],
      "metadata": {
        "id": "TJ6qZ165K4lC"
      },
      "execution_count": null,
      "outputs": []
    },
    {
      "cell_type": "code",
      "source": [
        "out"
      ],
      "metadata": {
        "colab": {
          "base_uri": "https://localhost:8080/"
        },
        "id": "27PqQrTbTHF4",
        "outputId": "691efef9-df80-4f4a-ebee-2bedabcdbc00"
      },
      "execution_count": null,
      "outputs": [
        {
          "output_type": "execute_result",
          "data": {
            "text/plain": [
              "{'input_ids': tensor([[  101,  1135,  1110,  3555,  1115,  1107, 18478,  3823,   117,  1851,\n",
              "          1550,  1234,  2077,  1107,  1103,   138,  7147,  5521, 21462,  1181,\n",
              "          2813,   119,  1109,  8207,  1120,  1157,  4709,  4741,  1166,  3140,\n",
              "           110,  1104,  1103,  1362,   112,   188,  1416,   117,  1103,  2439,\n",
              "          1216,  2482,  1111,  1251,  8207,  1107,  1607,   119,  1130,  2414,\n",
              "          1607,   117,  1103,   138,  7147,  5521, 21462,  1181,  2813,  1110,\n",
              "          1737,  1112,  1103, 19173,  1104,  1103,  2414,  1331,  2231,   117,\n",
              "          1111,  1103,  9712, 25305,  1104,  6864,  1259,  1103,  2778,  8879,\n",
              "          1116,  1107, 19014,   117,  1459,  6557,  1116,  1216,  1112,  1812,\n",
              "          1105, 14889,  2344,   117,  1105,  1103,  1329,  1104,  1126,  2078,\n",
              "          1846,   117,  1103,  4849, 25692,  1918,  1596,   117,  2032,  1157,\n",
              "          6835,   119,  1109,  8207,  1125,   170, 25864,   117, 18561, 21611,\n",
              "          3469,  1223,  1103,  6821,   117,   170,  1415,  1848,  2306,   117,\n",
              "          1105,  2987,  1826,   117, 21964,  1861,  9093,  1107,  1224,  8207,\n",
              "          1116,   119,  7282,   117,  1141,  1104,  1103,  5334, 10991,  1116,\n",
              "          1104,  1103,  7622,  1291,   117,  1103,  7085,  1361,  9016,  1818,\n",
              "          1120, 12193,  4578, 11782,  3954,  1361,   117,  1108,  1434,  1107,\n",
              "          1103,  8207,  1206,  2588,  1495,  1105,  8301,  3823,   119,   102,\n",
              "          1109,   138,  7147,  5521, 21462,  1181,  2813,  1108,  1103,  1227,\n",
              "          3437,  1104,  1184,  3790,   112,   188, 19160,  1219,  1157,  3796,\n",
              "           136,   102]]), 'token_type_ids': tensor([[0, 0, 0, 0, 0, 0, 0, 0, 0, 0, 0, 0, 0, 0, 0, 0, 0, 0, 0, 0, 0, 0, 0, 0,\n",
              "         0, 0, 0, 0, 0, 0, 0, 0, 0, 0, 0, 0, 0, 0, 0, 0, 0, 0, 0, 0, 0, 0, 0, 0,\n",
              "         0, 0, 0, 0, 0, 0, 0, 0, 0, 0, 0, 0, 0, 0, 0, 0, 0, 0, 0, 0, 0, 0, 0, 0,\n",
              "         0, 0, 0, 0, 0, 0, 0, 0, 0, 0, 0, 0, 0, 0, 0, 0, 0, 0, 0, 0, 0, 0, 0, 0,\n",
              "         0, 0, 0, 0, 0, 0, 0, 0, 0, 0, 0, 0, 0, 0, 0, 0, 0, 0, 0, 0, 0, 0, 0, 0,\n",
              "         0, 0, 0, 0, 0, 0, 0, 0, 0, 0, 0, 0, 0, 0, 0, 0, 0, 0, 0, 0, 0, 0, 0, 0,\n",
              "         0, 0, 0, 0, 0, 0, 0, 0, 0, 0, 0, 0, 0, 0, 0, 0, 0, 0, 0, 0, 0, 0, 0, 0,\n",
              "         0, 0, 0, 0, 0, 0, 0, 0, 0, 0, 0, 0, 1, 1, 1, 1, 1, 1, 1, 1, 1, 1, 1, 1,\n",
              "         1, 1, 1, 1, 1, 1, 1, 1, 1, 1]]), 'attention_mask': tensor([[1, 1, 1, 1, 1, 1, 1, 1, 1, 1, 1, 1, 1, 1, 1, 1, 1, 1, 1, 1, 1, 1, 1, 1,\n",
              "         1, 1, 1, 1, 1, 1, 1, 1, 1, 1, 1, 1, 1, 1, 1, 1, 1, 1, 1, 1, 1, 1, 1, 1,\n",
              "         1, 1, 1, 1, 1, 1, 1, 1, 1, 1, 1, 1, 1, 1, 1, 1, 1, 1, 1, 1, 1, 1, 1, 1,\n",
              "         1, 1, 1, 1, 1, 1, 1, 1, 1, 1, 1, 1, 1, 1, 1, 1, 1, 1, 1, 1, 1, 1, 1, 1,\n",
              "         1, 1, 1, 1, 1, 1, 1, 1, 1, 1, 1, 1, 1, 1, 1, 1, 1, 1, 1, 1, 1, 1, 1, 1,\n",
              "         1, 1, 1, 1, 1, 1, 1, 1, 1, 1, 1, 1, 1, 1, 1, 1, 1, 1, 1, 1, 1, 1, 1, 1,\n",
              "         1, 1, 1, 1, 1, 1, 1, 1, 1, 1, 1, 1, 1, 1, 1, 1, 1, 1, 1, 1, 1, 1, 1, 1,\n",
              "         1, 1, 1, 1, 1, 1, 1, 1, 1, 1, 1, 1, 1, 1, 1, 1, 1, 1, 1, 1, 1, 1, 1, 1,\n",
              "         1, 1, 1, 1, 1, 1, 1, 1, 1, 1]])}"
            ]
          },
          "metadata": {},
          "execution_count": 51
        }
      ]
    },
    {
      "cell_type": "code",
      "source": [
        "model(**out)"
      ],
      "metadata": {
        "colab": {
          "base_uri": "https://localhost:8080/"
        },
        "id": "o0d8TV8xOLxr",
        "outputId": "495e3aee-e4f0-47e6-ef0f-e306dd276c1d"
      },
      "execution_count": null,
      "outputs": [
        {
          "output_type": "execute_result",
          "data": {
            "text/plain": [
              "QuestionAnsweringModelOutput(loss=None, start_logits=tensor([[-0.0429,  0.1648, -0.1192, -0.0276, -0.2173,  0.1022,  0.1067,  0.3181,\n",
              "          0.0166,  0.1815,  0.3874,  0.4361,  0.4217,  0.0552,  0.1394,  0.1310,\n",
              "         -0.1659, -0.0616, -0.2787,  0.1007,  0.3279, -0.2475,  0.2782,  0.2465,\n",
              "         -0.1590,  0.2153, -0.0095,  0.2838,  0.4865,  0.1575,  0.0668,  0.1679,\n",
              "          0.2389,  0.2207,  0.1624,  0.0291,  0.2366, -0.1136,  0.1844, -0.0036,\n",
              "         -0.1253,  0.0994, -0.1494, -0.2550,  0.1871,  0.0508,  0.0787, -0.2512,\n",
              "         -0.0849,  0.1713,  0.0763,  0.1220,  0.2671,  0.1983, -0.2871, -0.1777,\n",
              "         -0.4162,  0.0997,  0.3504,  0.0389, -0.2530,  0.1223,  0.1393,  0.2592,\n",
              "          0.1067,  0.1923,  0.1520,  0.1548,  0.2749,  0.2830,  0.0829,  0.2386,\n",
              "          0.3872,  0.3903,  0.4959,  0.1011,  0.2967,  0.2100,  0.0809,  0.0741,\n",
              "          0.2501,  0.1622,  0.1860,  0.1131,  0.5484,  0.4027,  0.5341,  0.7941,\n",
              "          0.5851,  0.2569,  0.5496,  0.3578,  0.4035, -0.3021,  0.3354,  0.3074,\n",
              "          0.7309,  0.3644,  0.3163,  0.2838,  0.2265,  0.0633,  0.3344,  0.2923,\n",
              "         -0.1579, -0.2214,  0.3072, -0.1181,  0.2447,  0.2723,  0.1622, -0.2474,\n",
              "          0.2732,  0.3029,  0.3981,  0.5270,  0.4253,  0.0614,  0.4331,  0.6349,\n",
              "          0.3320,  0.6347,  0.4846,  0.4882,  0.0089,  0.5254,  0.4773,  0.2930,\n",
              "          0.2513, -0.4502,  0.3312,  0.4473,  0.5297,  0.0350,  0.2639, -0.0024,\n",
              "          0.4383,  0.0387,  0.2980,  0.1233,  0.0900, -0.2472,  0.4310, -0.0821,\n",
              "          0.1439,  0.0423,  0.0557,  0.0875,  0.2140,  0.3374,  0.3687,  0.2429,\n",
              "          0.1548,  0.2307,  0.0574,  0.4205,  0.2579, -0.3168,  0.1058,  0.3011,\n",
              "          0.2778,  0.3563, -0.0384,  0.1099, -0.2278, -0.0504,  0.0774,  0.2354,\n",
              "          0.2707, -0.0313,  0.2133,  0.2899,  0.6833,  0.4648, -0.0728, -0.0587,\n",
              "          0.3697,  0.1196, -0.0294, -0.2580,  0.1803,  0.0965, -0.3029, -0.2184,\n",
              "         -0.4434,  0.0686,  0.2040,  0.4251,  0.1408, -0.0700,  0.1133,  0.1504,\n",
              "          0.1210,  0.2828,  0.5174,  0.3555,  0.0738,  0.0099,  0.3609,  0.1144,\n",
              "          0.0606, -0.2580]], grad_fn=<CloneBackward0>), end_logits=tensor([[-0.1137,  0.0631,  0.2428,  0.1800,  0.4112,  0.8514,  0.8303,  0.6188,\n",
              "          0.1363,  0.4018,  0.3896,  0.4328,  0.1840,  0.4062,  0.4520,  0.1981,\n",
              "          0.6375,  0.0182,  0.9085,  0.7498,  0.8165, -0.0988,  0.6930,  0.7234,\n",
              "          0.2833,  0.3894,  0.3587,  0.3965,  0.5225,  0.3043,  0.1633,  0.1190,\n",
              "          0.2744,  0.4514,  0.3757,  0.5465,  0.4816,  0.0285,  0.3001,  0.4950,\n",
              "          0.1446,  0.1288, -0.0063,  0.4564,  0.6356,  0.4360,  0.2841, -0.1009,\n",
              "          0.8843,  0.5318,  0.4523,  0.3029,  0.5015,  0.1118,  0.5563,  0.0530,\n",
              "          0.8522,  0.6922,  0.8373,  0.4736,  0.4726,  0.4458,  0.5519,  0.4987,\n",
              "          0.2019,  0.5305,  0.6225,  0.4966,  0.5603,  0.3433,  0.1830,  0.5386,\n",
              "          0.4184,  0.3463,  0.1833,  0.5495,  0.4429,  0.4321,  0.2602,  0.7229,\n",
              "          0.4669,  0.8805,  0.2001,  0.3724,  0.4653,  0.7335,  0.4606,  0.2891,\n",
              "          0.5284,  0.5411,  0.4316,  0.5721,  0.5010,  0.0236,  0.4727,  0.6414,\n",
              "          0.7802,  0.3209,  0.8563,  0.5083,  0.3948,  0.1147,  0.5074,  0.6946,\n",
              "          0.2909,  0.8579,  0.7229,  0.1576,  0.9200,  0.6480,  0.5110, -0.0991,\n",
              "          0.7366,  0.6000,  0.4310,  0.6997,  0.9120,  0.3920,  0.3128,  0.7068,\n",
              "          0.1894,  0.5631,  0.6348,  0.2187,  0.2111,  0.6693,  0.8516,  0.6310,\n",
              "          0.4555, -0.1632,  0.5293,  0.4399,  0.5422,  0.0878,  0.3414,  0.5285,\n",
              "          0.2763,  0.3037,  0.5368,  0.6265,  0.1632, -0.0982,  0.4755,  0.0830,\n",
              "          0.3300, -0.2072,  0.0509,  0.0962,  0.3421,  0.3640,  0.1883,  0.3330,\n",
              "          0.6748,  0.5734,  0.4421,  0.6377,  0.7059,  0.5668,  0.9151,  0.5788,\n",
              "          0.6840,  0.3588,  0.3793,  0.7942,  0.6518,  0.6758,  0.1386,  0.3896,\n",
              "          0.3198,  0.7505,  0.5270,  0.4527,  0.6287,  0.8082,  0.4537,  0.0257,\n",
              "          0.7974,  0.5327,  0.2416, -0.1027,  0.5735,  0.1332,  0.6937,  0.1136,\n",
              "          0.8802,  0.6947,  0.8003,  0.3445,  0.5883,  0.4539,  0.6554,  0.3450,\n",
              "          0.6868,  0.4474,  0.4500,  0.6757,  0.7207,  0.5093,  0.4964,  0.5966,\n",
              "          0.4366, -0.1027]], grad_fn=<CloneBackward0>), hidden_states=None, attentions=None)"
            ]
          },
          "metadata": {},
          "execution_count": 54
        }
      ]
    },
    {
      "cell_type": "code",
      "source": [
        "df = pd.read_csv(\"data/news_qa/train.csv\")"
      ],
      "metadata": {
        "id": "OtVf-Xq1OM8F"
      },
      "execution_count": null,
      "outputs": []
    },
    {
      "cell_type": "code",
      "source": [
        "df.head()"
      ],
      "metadata": {
        "colab": {
          "base_uri": "https://localhost:8080/",
          "height": 337
        },
        "id": "DVVOqGD9OTw0",
        "outputId": "259acdff-e700-40e1-ad2e-b333928f9f33"
      },
      "execution_count": null,
      "outputs": [
        {
          "output_type": "execute_result",
          "data": {
            "text/plain": [
              "                                             context  \\\n",
              "0  NEW DELHI, India (CNN) -- A high court in nort...   \n",
              "1  NEW DELHI, India (CNN) -- A high court in nort...   \n",
              "2  NEW DELHI, India (CNN) -- A high court in nort...   \n",
              "3  NEW DELHI, India (CNN) -- A high court in nort...   \n",
              "4  NEW DELHI, India (CNN) -- A high court in nort...   \n",
              "\n",
              "                                            question  \\\n",
              "0          What was the amount of children murdered?   \n",
              "1               When was Pandher sentenced to death?   \n",
              "2  The court aquitted Moninder Singh Pandher of w...   \n",
              "3                                  who was acquitted   \n",
              "4                                  who was sentenced   \n",
              "\n",
              "                      answers                               key  \\\n",
              "0                      ['19']  da0e6b66e04d439fa1ba23c32de07e50   \n",
              "1               ['February.']  724f6eb9a2814e4fb2d7d8e4de846073   \n",
              "2         ['rape and murder']  d64cbb90e5134081acfa83d3e702408c   \n",
              "3  ['Moninder Singh Pandher']  fd7177ee6f1f4d62becd983a0305f503   \n",
              "4  ['Moninder Singh Pandher']  cd25c69f631349748ccdeccaace66463   \n",
              "\n",
              "                                           labels  \n",
              "0  [{'end': array([295]), 'start': array([294])}]  \n",
              "1  [{'end': array([269]), 'start': array([261])}]  \n",
              "2  [{'end': array([638]), 'start': array([624])}]  \n",
              "3  [{'end': array([216]), 'start': array([195])}]  \n",
              "4  [{'end': array([216]), 'start': array([195])}]  "
            ],
            "text/html": [
              "\n",
              "  <div id=\"df-d5595067-b542-469e-8a46-6c47c6a8f7b7\">\n",
              "    <div class=\"colab-df-container\">\n",
              "      <div>\n",
              "<style scoped>\n",
              "    .dataframe tbody tr th:only-of-type {\n",
              "        vertical-align: middle;\n",
              "    }\n",
              "\n",
              "    .dataframe tbody tr th {\n",
              "        vertical-align: top;\n",
              "    }\n",
              "\n",
              "    .dataframe thead th {\n",
              "        text-align: right;\n",
              "    }\n",
              "</style>\n",
              "<table border=\"1\" class=\"dataframe\">\n",
              "  <thead>\n",
              "    <tr style=\"text-align: right;\">\n",
              "      <th></th>\n",
              "      <th>context</th>\n",
              "      <th>question</th>\n",
              "      <th>answers</th>\n",
              "      <th>key</th>\n",
              "      <th>labels</th>\n",
              "    </tr>\n",
              "  </thead>\n",
              "  <tbody>\n",
              "    <tr>\n",
              "      <th>0</th>\n",
              "      <td>NEW DELHI, India (CNN) -- A high court in nort...</td>\n",
              "      <td>What was the amount of children murdered?</td>\n",
              "      <td>['19']</td>\n",
              "      <td>da0e6b66e04d439fa1ba23c32de07e50</td>\n",
              "      <td>[{'end': array([295]), 'start': array([294])}]</td>\n",
              "    </tr>\n",
              "    <tr>\n",
              "      <th>1</th>\n",
              "      <td>NEW DELHI, India (CNN) -- A high court in nort...</td>\n",
              "      <td>When was Pandher sentenced to death?</td>\n",
              "      <td>['February.']</td>\n",
              "      <td>724f6eb9a2814e4fb2d7d8e4de846073</td>\n",
              "      <td>[{'end': array([269]), 'start': array([261])}]</td>\n",
              "    </tr>\n",
              "    <tr>\n",
              "      <th>2</th>\n",
              "      <td>NEW DELHI, India (CNN) -- A high court in nort...</td>\n",
              "      <td>The court aquitted Moninder Singh Pandher of w...</td>\n",
              "      <td>['rape and murder']</td>\n",
              "      <td>d64cbb90e5134081acfa83d3e702408c</td>\n",
              "      <td>[{'end': array([638]), 'start': array([624])}]</td>\n",
              "    </tr>\n",
              "    <tr>\n",
              "      <th>3</th>\n",
              "      <td>NEW DELHI, India (CNN) -- A high court in nort...</td>\n",
              "      <td>who was acquitted</td>\n",
              "      <td>['Moninder Singh Pandher']</td>\n",
              "      <td>fd7177ee6f1f4d62becd983a0305f503</td>\n",
              "      <td>[{'end': array([216]), 'start': array([195])}]</td>\n",
              "    </tr>\n",
              "    <tr>\n",
              "      <th>4</th>\n",
              "      <td>NEW DELHI, India (CNN) -- A high court in nort...</td>\n",
              "      <td>who was sentenced</td>\n",
              "      <td>['Moninder Singh Pandher']</td>\n",
              "      <td>cd25c69f631349748ccdeccaace66463</td>\n",
              "      <td>[{'end': array([216]), 'start': array([195])}]</td>\n",
              "    </tr>\n",
              "  </tbody>\n",
              "</table>\n",
              "</div>\n",
              "      <button class=\"colab-df-convert\" onclick=\"convertToInteractive('df-d5595067-b542-469e-8a46-6c47c6a8f7b7')\"\n",
              "              title=\"Convert this dataframe to an interactive table.\"\n",
              "              style=\"display:none;\">\n",
              "        \n",
              "  <svg xmlns=\"http://www.w3.org/2000/svg\" height=\"24px\"viewBox=\"0 0 24 24\"\n",
              "       width=\"24px\">\n",
              "    <path d=\"M0 0h24v24H0V0z\" fill=\"none\"/>\n",
              "    <path d=\"M18.56 5.44l.94 2.06.94-2.06 2.06-.94-2.06-.94-.94-2.06-.94 2.06-2.06.94zm-11 1L8.5 8.5l.94-2.06 2.06-.94-2.06-.94L8.5 2.5l-.94 2.06-2.06.94zm10 10l.94 2.06.94-2.06 2.06-.94-2.06-.94-.94-2.06-.94 2.06-2.06.94z\"/><path d=\"M17.41 7.96l-1.37-1.37c-.4-.4-.92-.59-1.43-.59-.52 0-1.04.2-1.43.59L10.3 9.45l-7.72 7.72c-.78.78-.78 2.05 0 2.83L4 21.41c.39.39.9.59 1.41.59.51 0 1.02-.2 1.41-.59l7.78-7.78 2.81-2.81c.8-.78.8-2.07 0-2.86zM5.41 20L4 18.59l7.72-7.72 1.47 1.35L5.41 20z\"/>\n",
              "  </svg>\n",
              "      </button>\n",
              "      \n",
              "  <style>\n",
              "    .colab-df-container {\n",
              "      display:flex;\n",
              "      flex-wrap:wrap;\n",
              "      gap: 12px;\n",
              "    }\n",
              "\n",
              "    .colab-df-convert {\n",
              "      background-color: #E8F0FE;\n",
              "      border: none;\n",
              "      border-radius: 50%;\n",
              "      cursor: pointer;\n",
              "      display: none;\n",
              "      fill: #1967D2;\n",
              "      height: 32px;\n",
              "      padding: 0 0 0 0;\n",
              "      width: 32px;\n",
              "    }\n",
              "\n",
              "    .colab-df-convert:hover {\n",
              "      background-color: #E2EBFA;\n",
              "      box-shadow: 0px 1px 2px rgba(60, 64, 67, 0.3), 0px 1px 3px 1px rgba(60, 64, 67, 0.15);\n",
              "      fill: #174EA6;\n",
              "    }\n",
              "\n",
              "    [theme=dark] .colab-df-convert {\n",
              "      background-color: #3B4455;\n",
              "      fill: #D2E3FC;\n",
              "    }\n",
              "\n",
              "    [theme=dark] .colab-df-convert:hover {\n",
              "      background-color: #434B5C;\n",
              "      box-shadow: 0px 1px 3px 1px rgba(0, 0, 0, 0.15);\n",
              "      filter: drop-shadow(0px 1px 2px rgba(0, 0, 0, 0.3));\n",
              "      fill: #FFFFFF;\n",
              "    }\n",
              "  </style>\n",
              "\n",
              "      <script>\n",
              "        const buttonEl =\n",
              "          document.querySelector('#df-d5595067-b542-469e-8a46-6c47c6a8f7b7 button.colab-df-convert');\n",
              "        buttonEl.style.display =\n",
              "          google.colab.kernel.accessAllowed ? 'block' : 'none';\n",
              "\n",
              "        async function convertToInteractive(key) {\n",
              "          const element = document.querySelector('#df-d5595067-b542-469e-8a46-6c47c6a8f7b7');\n",
              "          const dataTable =\n",
              "            await google.colab.kernel.invokeFunction('convertToInteractive',\n",
              "                                                     [key], {});\n",
              "          if (!dataTable) return;\n",
              "\n",
              "          const docLinkHtml = 'Like what you see? Visit the ' +\n",
              "            '<a target=\"_blank\" href=https://colab.research.google.com/notebooks/data_table.ipynb>data table notebook</a>'\n",
              "            + ' to learn more about interactive tables.';\n",
              "          element.innerHTML = '';\n",
              "          dataTable['output_type'] = 'display_data';\n",
              "          await google.colab.output.renderOutput(dataTable, element);\n",
              "          const docLink = document.createElement('div');\n",
              "          docLink.innerHTML = docLinkHtml;\n",
              "          element.appendChild(docLink);\n",
              "        }\n",
              "      </script>\n",
              "    </div>\n",
              "  </div>\n",
              "  "
            ]
          },
          "metadata": {},
          "execution_count": 22
        }
      ]
    },
    {
      "cell_type": "code",
      "source": [
        "p_src"
      ],
      "metadata": {
        "colab": {
          "base_uri": "https://localhost:8080/",
          "height": 424
        },
        "id": "wCzudFvTOXcQ",
        "outputId": "15d7a6d0-a9aa-42fd-ffd4-5ac9786def80"
      },
      "execution_count": null,
      "outputs": [
        {
          "output_type": "execute_result",
          "data": {
            "text/plain": [
              "                                                context  \\\n",
              "0     It is estimated that in 480 BC, 50 million peo...   \n",
              "1     In 2004 he was admitted as knight of the Légio...   \n",
              "2     KU Endowment was established in 1891 as Americ...   \n",
              "3     2010s saw multiple new sounds in house music d...   \n",
              "4     Much of Yale University's staff, including mos...   \n",
              "...                                                 ...   \n",
              "1595  In early times, the privilege of papal electio...   \n",
              "1596  Commercial turkeys are usually reared indoors ...   \n",
              "1597  Nonverbal communication describes the process ...   \n",
              "1598  The languages have not undergone the deliberat...   \n",
              "1599  Congo-Brazzaville has had a multi-party politi...   \n",
              "\n",
              "                                               question  \n",
              "0     The Achaemenid Empire was the known enemy of w...  \n",
              "1                          Who made Spielberg a knight?  \n",
              "2                    When was the KU Endowment founded?  \n",
              "3     Big room house has found increasing popularity...  \n",
              "4     What union are Yale's service and maintenance ...  \n",
              "...                                                 ...  \n",
              "1595  Why did the ceromony of consecrating a bishop ...  \n",
              "1596  How much more does a average commercial  turke...  \n",
              "1597  What is an example of an involuntary intent of...  \n",
              "1598                     What language family is Czech?  \n",
              "1599  What is the French term for Sassou's political...  \n",
              "\n",
              "[1600 rows x 2 columns]"
            ],
            "text/html": [
              "\n",
              "  <div id=\"df-98481802-074b-4f01-b46d-507ea0d6e13c\">\n",
              "    <div class=\"colab-df-container\">\n",
              "      <div>\n",
              "<style scoped>\n",
              "    .dataframe tbody tr th:only-of-type {\n",
              "        vertical-align: middle;\n",
              "    }\n",
              "\n",
              "    .dataframe tbody tr th {\n",
              "        vertical-align: top;\n",
              "    }\n",
              "\n",
              "    .dataframe thead th {\n",
              "        text-align: right;\n",
              "    }\n",
              "</style>\n",
              "<table border=\"1\" class=\"dataframe\">\n",
              "  <thead>\n",
              "    <tr style=\"text-align: right;\">\n",
              "      <th></th>\n",
              "      <th>context</th>\n",
              "      <th>question</th>\n",
              "    </tr>\n",
              "  </thead>\n",
              "  <tbody>\n",
              "    <tr>\n",
              "      <th>0</th>\n",
              "      <td>It is estimated that in 480 BC, 50 million peo...</td>\n",
              "      <td>The Achaemenid Empire was the known enemy of w...</td>\n",
              "    </tr>\n",
              "    <tr>\n",
              "      <th>1</th>\n",
              "      <td>In 2004 he was admitted as knight of the Légio...</td>\n",
              "      <td>Who made Spielberg a knight?</td>\n",
              "    </tr>\n",
              "    <tr>\n",
              "      <th>2</th>\n",
              "      <td>KU Endowment was established in 1891 as Americ...</td>\n",
              "      <td>When was the KU Endowment founded?</td>\n",
              "    </tr>\n",
              "    <tr>\n",
              "      <th>3</th>\n",
              "      <td>2010s saw multiple new sounds in house music d...</td>\n",
              "      <td>Big room house has found increasing popularity...</td>\n",
              "    </tr>\n",
              "    <tr>\n",
              "      <th>4</th>\n",
              "      <td>Much of Yale University's staff, including mos...</td>\n",
              "      <td>What union are Yale's service and maintenance ...</td>\n",
              "    </tr>\n",
              "    <tr>\n",
              "      <th>...</th>\n",
              "      <td>...</td>\n",
              "      <td>...</td>\n",
              "    </tr>\n",
              "    <tr>\n",
              "      <th>1595</th>\n",
              "      <td>In early times, the privilege of papal electio...</td>\n",
              "      <td>Why did the ceromony of consecrating a bishop ...</td>\n",
              "    </tr>\n",
              "    <tr>\n",
              "      <th>1596</th>\n",
              "      <td>Commercial turkeys are usually reared indoors ...</td>\n",
              "      <td>How much more does a average commercial  turke...</td>\n",
              "    </tr>\n",
              "    <tr>\n",
              "      <th>1597</th>\n",
              "      <td>Nonverbal communication describes the process ...</td>\n",
              "      <td>What is an example of an involuntary intent of...</td>\n",
              "    </tr>\n",
              "    <tr>\n",
              "      <th>1598</th>\n",
              "      <td>The languages have not undergone the deliberat...</td>\n",
              "      <td>What language family is Czech?</td>\n",
              "    </tr>\n",
              "    <tr>\n",
              "      <th>1599</th>\n",
              "      <td>Congo-Brazzaville has had a multi-party politi...</td>\n",
              "      <td>What is the French term for Sassou's political...</td>\n",
              "    </tr>\n",
              "  </tbody>\n",
              "</table>\n",
              "<p>1600 rows × 2 columns</p>\n",
              "</div>\n",
              "      <button class=\"colab-df-convert\" onclick=\"convertToInteractive('df-98481802-074b-4f01-b46d-507ea0d6e13c')\"\n",
              "              title=\"Convert this dataframe to an interactive table.\"\n",
              "              style=\"display:none;\">\n",
              "        \n",
              "  <svg xmlns=\"http://www.w3.org/2000/svg\" height=\"24px\"viewBox=\"0 0 24 24\"\n",
              "       width=\"24px\">\n",
              "    <path d=\"M0 0h24v24H0V0z\" fill=\"none\"/>\n",
              "    <path d=\"M18.56 5.44l.94 2.06.94-2.06 2.06-.94-2.06-.94-.94-2.06-.94 2.06-2.06.94zm-11 1L8.5 8.5l.94-2.06 2.06-.94-2.06-.94L8.5 2.5l-.94 2.06-2.06.94zm10 10l.94 2.06.94-2.06 2.06-.94-2.06-.94-.94-2.06-.94 2.06-2.06.94z\"/><path d=\"M17.41 7.96l-1.37-1.37c-.4-.4-.92-.59-1.43-.59-.52 0-1.04.2-1.43.59L10.3 9.45l-7.72 7.72c-.78.78-.78 2.05 0 2.83L4 21.41c.39.39.9.59 1.41.59.51 0 1.02-.2 1.41-.59l7.78-7.78 2.81-2.81c.8-.78.8-2.07 0-2.86zM5.41 20L4 18.59l7.72-7.72 1.47 1.35L5.41 20z\"/>\n",
              "  </svg>\n",
              "      </button>\n",
              "      \n",
              "  <style>\n",
              "    .colab-df-container {\n",
              "      display:flex;\n",
              "      flex-wrap:wrap;\n",
              "      gap: 12px;\n",
              "    }\n",
              "\n",
              "    .colab-df-convert {\n",
              "      background-color: #E8F0FE;\n",
              "      border: none;\n",
              "      border-radius: 50%;\n",
              "      cursor: pointer;\n",
              "      display: none;\n",
              "      fill: #1967D2;\n",
              "      height: 32px;\n",
              "      padding: 0 0 0 0;\n",
              "      width: 32px;\n",
              "    }\n",
              "\n",
              "    .colab-df-convert:hover {\n",
              "      background-color: #E2EBFA;\n",
              "      box-shadow: 0px 1px 2px rgba(60, 64, 67, 0.3), 0px 1px 3px 1px rgba(60, 64, 67, 0.15);\n",
              "      fill: #174EA6;\n",
              "    }\n",
              "\n",
              "    [theme=dark] .colab-df-convert {\n",
              "      background-color: #3B4455;\n",
              "      fill: #D2E3FC;\n",
              "    }\n",
              "\n",
              "    [theme=dark] .colab-df-convert:hover {\n",
              "      background-color: #434B5C;\n",
              "      box-shadow: 0px 1px 3px 1px rgba(0, 0, 0, 0.15);\n",
              "      filter: drop-shadow(0px 1px 2px rgba(0, 0, 0, 0.3));\n",
              "      fill: #FFFFFF;\n",
              "    }\n",
              "  </style>\n",
              "\n",
              "      <script>\n",
              "        const buttonEl =\n",
              "          document.querySelector('#df-98481802-074b-4f01-b46d-507ea0d6e13c button.colab-df-convert');\n",
              "        buttonEl.style.display =\n",
              "          google.colab.kernel.accessAllowed ? 'block' : 'none';\n",
              "\n",
              "        async function convertToInteractive(key) {\n",
              "          const element = document.querySelector('#df-98481802-074b-4f01-b46d-507ea0d6e13c');\n",
              "          const dataTable =\n",
              "            await google.colab.kernel.invokeFunction('convertToInteractive',\n",
              "                                                     [key], {});\n",
              "          if (!dataTable) return;\n",
              "\n",
              "          const docLinkHtml = 'Like what you see? Visit the ' +\n",
              "            '<a target=\"_blank\" href=https://colab.research.google.com/notebooks/data_table.ipynb>data table notebook</a>'\n",
              "            + ' to learn more about interactive tables.';\n",
              "          element.innerHTML = '';\n",
              "          dataTable['output_type'] = 'display_data';\n",
              "          await google.colab.output.renderOutput(dataTable, element);\n",
              "          const docLink = document.createElement('div');\n",
              "          docLink.innerHTML = docLinkHtml;\n",
              "          element.appendChild(docLink);\n",
              "        }\n",
              "      </script>\n",
              "    </div>\n",
              "  </div>\n",
              "  "
            ]
          },
          "metadata": {},
          "execution_count": 55
        }
      ]
    },
    {
      "cell_type": "code",
      "source": [],
      "metadata": {
        "id": "U_1m7qnDUe36"
      },
      "execution_count": null,
      "outputs": []
    }
  ]
}