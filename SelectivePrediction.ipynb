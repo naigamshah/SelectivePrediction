{
  "cells": [
    {
      "cell_type": "code",
      "execution_count": null,
      "metadata": {
        "colab": {
          "base_uri": "https://localhost:8080/"
        },
        "id": "UFUl-qGzJTw_",
        "outputId": "a9e416e0-86c1-4df3-c7b7-8ba4ce2de9ad"
      },
      "outputs": [
        {
          "output_type": "stream",
          "name": "stdout",
          "text": [
            "Looking in indexes: https://pypi.org/simple, https://us-python.pkg.dev/colab-wheels/public/simple/\n",
            "Requirement already satisfied: transformers in /usr/local/lib/python3.10/dist-packages (4.30.2)\n",
            "Requirement already satisfied: filelock in /usr/local/lib/python3.10/dist-packages (from transformers) (3.12.0)\n",
            "Requirement already satisfied: huggingface-hub<1.0,>=0.14.1 in /usr/local/lib/python3.10/dist-packages (from transformers) (0.15.1)\n",
            "Requirement already satisfied: numpy>=1.17 in /usr/local/lib/python3.10/dist-packages (from transformers) (1.22.4)\n",
            "Requirement already satisfied: packaging>=20.0 in /usr/local/lib/python3.10/dist-packages (from transformers) (23.1)\n",
            "Requirement already satisfied: pyyaml>=5.1 in /usr/local/lib/python3.10/dist-packages (from transformers) (6.0)\n",
            "Requirement already satisfied: regex!=2019.12.17 in /usr/local/lib/python3.10/dist-packages (from transformers) (2022.10.31)\n",
            "Requirement already satisfied: requests in /usr/local/lib/python3.10/dist-packages (from transformers) (2.27.1)\n",
            "Requirement already satisfied: tokenizers!=0.11.3,<0.14,>=0.11.1 in /usr/local/lib/python3.10/dist-packages (from transformers) (0.13.3)\n",
            "Requirement already satisfied: safetensors>=0.3.1 in /usr/local/lib/python3.10/dist-packages (from transformers) (0.3.1)\n",
            "Requirement already satisfied: tqdm>=4.27 in /usr/local/lib/python3.10/dist-packages (from transformers) (4.65.0)\n",
            "Requirement already satisfied: fsspec in /usr/local/lib/python3.10/dist-packages (from huggingface-hub<1.0,>=0.14.1->transformers) (2023.4.0)\n",
            "Requirement already satisfied: typing-extensions>=3.7.4.3 in /usr/local/lib/python3.10/dist-packages (from huggingface-hub<1.0,>=0.14.1->transformers) (4.5.0)\n",
            "Requirement already satisfied: urllib3<1.27,>=1.21.1 in /usr/local/lib/python3.10/dist-packages (from requests->transformers) (1.26.15)\n",
            "Requirement already satisfied: certifi>=2017.4.17 in /usr/local/lib/python3.10/dist-packages (from requests->transformers) (2022.12.7)\n",
            "Requirement already satisfied: charset-normalizer~=2.0.0 in /usr/local/lib/python3.10/dist-packages (from requests->transformers) (2.0.12)\n",
            "Requirement already satisfied: idna<4,>=2.5 in /usr/local/lib/python3.10/dist-packages (from requests->transformers) (3.4)\n",
            "Looking in indexes: https://pypi.org/simple, https://us-python.pkg.dev/colab-wheels/public/simple/\n",
            "Requirement already satisfied: datasets in /usr/local/lib/python3.10/dist-packages (2.13.0)\n",
            "Requirement already satisfied: numpy>=1.17 in /usr/local/lib/python3.10/dist-packages (from datasets) (1.22.4)\n",
            "Requirement already satisfied: pyarrow>=8.0.0 in /usr/local/lib/python3.10/dist-packages (from datasets) (9.0.0)\n",
            "Requirement already satisfied: dill<0.3.7,>=0.3.0 in /usr/local/lib/python3.10/dist-packages (from datasets) (0.3.6)\n",
            "Requirement already satisfied: pandas in /usr/local/lib/python3.10/dist-packages (from datasets) (1.5.3)\n",
            "Requirement already satisfied: requests>=2.19.0 in /usr/local/lib/python3.10/dist-packages (from datasets) (2.27.1)\n",
            "Requirement already satisfied: tqdm>=4.62.1 in /usr/local/lib/python3.10/dist-packages (from datasets) (4.65.0)\n",
            "Requirement already satisfied: xxhash in /usr/local/lib/python3.10/dist-packages (from datasets) (3.2.0)\n",
            "Requirement already satisfied: multiprocess in /usr/local/lib/python3.10/dist-packages (from datasets) (0.70.14)\n",
            "Requirement already satisfied: fsspec[http]>=2021.11.1 in /usr/local/lib/python3.10/dist-packages (from datasets) (2023.4.0)\n",
            "Requirement already satisfied: aiohttp in /usr/local/lib/python3.10/dist-packages (from datasets) (3.8.4)\n",
            "Requirement already satisfied: huggingface-hub<1.0.0,>=0.11.0 in /usr/local/lib/python3.10/dist-packages (from datasets) (0.15.1)\n",
            "Requirement already satisfied: packaging in /usr/local/lib/python3.10/dist-packages (from datasets) (23.1)\n",
            "Requirement already satisfied: pyyaml>=5.1 in /usr/local/lib/python3.10/dist-packages (from datasets) (6.0)\n",
            "Requirement already satisfied: attrs>=17.3.0 in /usr/local/lib/python3.10/dist-packages (from aiohttp->datasets) (23.1.0)\n",
            "Requirement already satisfied: charset-normalizer<4.0,>=2.0 in /usr/local/lib/python3.10/dist-packages (from aiohttp->datasets) (2.0.12)\n",
            "Requirement already satisfied: multidict<7.0,>=4.5 in /usr/local/lib/python3.10/dist-packages (from aiohttp->datasets) (6.0.4)\n",
            "Requirement already satisfied: async-timeout<5.0,>=4.0.0a3 in /usr/local/lib/python3.10/dist-packages (from aiohttp->datasets) (4.0.2)\n",
            "Requirement already satisfied: yarl<2.0,>=1.0 in /usr/local/lib/python3.10/dist-packages (from aiohttp->datasets) (1.9.2)\n",
            "Requirement already satisfied: frozenlist>=1.1.1 in /usr/local/lib/python3.10/dist-packages (from aiohttp->datasets) (1.3.3)\n",
            "Requirement already satisfied: aiosignal>=1.1.2 in /usr/local/lib/python3.10/dist-packages (from aiohttp->datasets) (1.3.1)\n",
            "Requirement already satisfied: filelock in /usr/local/lib/python3.10/dist-packages (from huggingface-hub<1.0.0,>=0.11.0->datasets) (3.12.0)\n",
            "Requirement already satisfied: typing-extensions>=3.7.4.3 in /usr/local/lib/python3.10/dist-packages (from huggingface-hub<1.0.0,>=0.11.0->datasets) (4.5.0)\n",
            "Requirement already satisfied: urllib3<1.27,>=1.21.1 in /usr/local/lib/python3.10/dist-packages (from requests>=2.19.0->datasets) (1.26.15)\n",
            "Requirement already satisfied: certifi>=2017.4.17 in /usr/local/lib/python3.10/dist-packages (from requests>=2.19.0->datasets) (2022.12.7)\n",
            "Requirement already satisfied: idna<4,>=2.5 in /usr/local/lib/python3.10/dist-packages (from requests>=2.19.0->datasets) (3.4)\n",
            "Requirement already satisfied: python-dateutil>=2.8.1 in /usr/local/lib/python3.10/dist-packages (from pandas->datasets) (2.8.2)\n",
            "Requirement already satisfied: pytz>=2020.1 in /usr/local/lib/python3.10/dist-packages (from pandas->datasets) (2022.7.1)\n",
            "Requirement already satisfied: six>=1.5 in /usr/local/lib/python3.10/dist-packages (from python-dateutil>=2.8.1->pandas->datasets) (1.16.0)\n"
          ]
        }
      ],
      "source": [
        "!pip install transformers\n",
        "!pip install datasets"
      ]
    },
    {
      "cell_type": "code",
      "execution_count": null,
      "metadata": {
        "colab": {
          "base_uri": "https://localhost:8080/"
        },
        "id": "TAWx3EeVIsbS",
        "outputId": "ecba9f1c-702c-46fc-e334-24df70cec93b"
      },
      "outputs": [
        {
          "output_type": "stream",
          "name": "stdout",
          "text": [
            "Drive already mounted at /content/drive/; to attempt to forcibly remount, call drive.mount(\"/content/drive/\", force_remount=True).\n"
          ]
        }
      ],
      "source": [
        "from google.colab import drive\n",
        "drive.mount('/content/drive/')"
      ]
    },
    {
      "cell_type": "code",
      "execution_count": null,
      "metadata": {
        "colab": {
          "base_uri": "https://localhost:8080/"
        },
        "id": "nze49ia6IzzN",
        "outputId": "49c1a1ab-fd43-4b1b-f104-1cd010516c39"
      },
      "outputs": [
        {
          "output_type": "stream",
          "name": "stdout",
          "text": [
            "/content/drive/MyDrive/CSE256/FinalProject\n"
          ]
        }
      ],
      "source": [
        "%cd /content/drive/MyDrive/CSE256/FinalProject/"
      ]
    },
    {
      "cell_type": "code",
      "execution_count": null,
      "metadata": {
        "colab": {
          "base_uri": "https://localhost:8080/"
        },
        "id": "7XTNCPusI_Iq",
        "outputId": "4d2bcb7a-6ebb-4ec1-aaff-db0d981ff561"
      },
      "outputs": [
        {
          "output_type": "stream",
          "name": "stdout",
          "text": [
            "fatal: destination path 'SelectivePrediction' already exists and is not an empty directory.\n"
          ]
        }
      ],
      "source": [
        "!git clone --recursive https://github.com/naigamshah/SelectivePrediction.git"
      ]
    },
    {
      "cell_type": "code",
      "execution_count": null,
      "metadata": {
        "colab": {
          "base_uri": "https://localhost:8080/"
        },
        "id": "vA7CXAIgJKE5",
        "outputId": "3835376a-5b98-47d9-98c6-6ee65786b7d4"
      },
      "outputs": [
        {
          "output_type": "stream",
          "name": "stdout",
          "text": [
            "bert_test_squad_hotpot_hotpot.csv    bert_val_squad_natural_hotpot.csv\n",
            "bert_test_squad_natural_hotpot.csv   bert_val_squad_news_hotpot.csv\n",
            "bert_test_squad_news_hotpot.csv      bert_val_squad_trivia_hotpot.csv\n",
            "bert_test_squad_trivia_hotpot.csv    CalibData\n",
            "bert_train_squad_hotpot_hotpot.csv   data\n",
            "bert_train_squad_natural_hotpot.csv  plots\n",
            "bert_train_squad_news_hotpot.csv     SelectivePrediction\n",
            "bert_train_squad_trivia_hotpot.csv   temp.csv\n",
            "bert_val_squad_hotpot_hotpot.csv     temp.jsonl\n"
          ]
        }
      ],
      "source": [
        "!ls"
      ]
    },
    {
      "cell_type": "code",
      "execution_count": null,
      "metadata": {
        "id": "F2gXexQiJLN6"
      },
      "outputs": [],
      "source": [
        "import torch\n",
        "import pandas as pd\n",
        "from torch.utils.data import Dataset\n",
        "from transformers import AutoModelForQuestionAnswering, AutoTokenizer\n",
        "from transformers import BertTokenizer, BertForSequenceClassification\n",
        "from datasets import load_dataset, concatenate_datasets\n",
        "from transformers import BertTokenizer, BertModel\n",
        "import ast\n",
        "import matplotlib.pyplot as plt\n",
        "from collections import Counter\n",
        "from tqdm import tqdm\n",
        "import pandas as pd\n",
        "from sklearn.metrics import accuracy_score, roc_curve, auc\n",
        "import numpy as np\n",
        "from sklearn.ensemble import RandomForestClassifier\n",
        "from sklearn.decomposition import PCA"
      ]
    },
    {
      "cell_type": "code",
      "execution_count": null,
      "metadata": {
        "id": "zl0-pD7mK7Cv"
      },
      "outputs": [],
      "source": [
        "RANDOM_SEED = 7\n",
        "SRC_PREFIX = \"squad\"\n",
        "KNOWN_PREFIX = \"natural\"\n",
        "UNKNOWN_PREFIX = \"hotpot\""
      ]
    },
    {
      "cell_type": "code",
      "execution_count": null,
      "metadata": {
        "id": "aXhL7AUXKP1z"
      },
      "outputs": [],
      "source": [
        "def load(data_prefix, n):\n",
        "  if data_prefix==\"squad\":\n",
        "    return pd.read_csv(\"data/squad/train.csv\")[[\"context\",\"question\",\"answers\"]].sample(n=n, random_state=RANDOM_SEED).reset_index(drop=True)\n",
        "  elif data_prefix==\"hotpot\":\n",
        "    df = pd.read_csv(\"data/hotpot_qa/train.csv\")[[\"context\",\"question\",\"answer\"]].sample(n=n, random_state=RANDOM_SEED).reset_index(drop=True)\n",
        "    df.columns = [\"context\",\"question\",\"answers\"]\n",
        "    return df\n",
        "  elif data_prefix==\"natural\":\n",
        "    return pd.read_csv(\"data/natural_questions/train.csv\")[[\"context\",\"question\",\"answers\"]].sample(n=n, random_state=RANDOM_SEED).reset_index(drop=True)\n",
        "  elif data_prefix==\"news\":\n",
        "    return pd.read_csv(\"data/news_qa/train.csv\")[[\"context\",\"question\",\"answers\"]].sample(n=n, random_state=RANDOM_SEED).reset_index(drop=True)\n",
        "  if data_prefix==\"trivia\":\n",
        "    return pd.read_csv(\"data/trivia_qa/unmodified.csv\")[[\"context\",\"question\",\"answers\"]].sample(n=n, random_state=RANDOM_SEED).reset_index(drop=True)"
      ]
    },
    {
      "cell_type": "code",
      "execution_count": null,
      "metadata": {
        "id": "AcYoDOpruGzv"
      },
      "outputs": [],
      "source": [
        "p_src = load(SRC_PREFIX, 6000)\n",
        "q_known = load(KNOWN_PREFIX, 2000)\n",
        "q_unknown = load(UNKNOWN_PREFIX, 4000)"
      ]
    },
    {
      "cell_type": "code",
      "execution_count": null,
      "metadata": {
        "id": "pPnHuTpdTPNh"
      },
      "outputs": [],
      "source": [
        "train = pd.concat([p_src.iloc[:1600],q_known.iloc[:1600]]).reset_index(drop=True)\n",
        "val = pd.concat([p_src.iloc[1600:2000],q_known.iloc[1600:2000]]).reset_index(drop=True)\n",
        "test = pd.concat([p_src.iloc[2000:6000],q_unknown.iloc[:4000]]).reset_index(drop=True)"
      ]
    },
    {
      "cell_type": "code",
      "execution_count": null,
      "metadata": {
        "id": "jPggVRxm-xTM"
      },
      "outputs": [],
      "source": [
        "def get_ground_answers(dataset):\n",
        "  ground_answers = []\n",
        "  for i in tqdm(range(len(dataset))):\n",
        "    answer = dataset.iloc[i][\"answers\"]\n",
        "\n",
        "    if len(answer)==0:\n",
        "      ground_answers.append(answer)\n",
        "      continue\n",
        "\n",
        "    if answer[0]=='{':\n",
        "      answer = ast.literal_eval(answer)\n",
        "      ground_answers.append(answer[\"text\"][0].lower())\n",
        "    elif answer[0]=='[':\n",
        "      answer = ast.literal_eval(answer)\n",
        "      ground_answers.append(answer[0].lower())\n",
        "    else:\n",
        "      ground_answers.append(answer.lower())\n",
        "\n",
        "  return ground_answers"
      ]
    },
    {
      "cell_type": "code",
      "execution_count": null,
      "metadata": {
        "colab": {
          "base_uri": "https://localhost:8080/"
        },
        "id": "groOdpWZJO-N",
        "outputId": "4c79da58-6140-4dfb-90e7-9459bc892d87"
      },
      "outputs": [
        {
          "name": "stderr",
          "output_type": "stream",
          "text": [
            "100%|██████████| 3200/3200 [00:00<00:00, 5706.22it/s]\n",
            "100%|██████████| 800/800 [00:00<00:00, 8516.27it/s]\n",
            "100%|██████████| 8000/8000 [00:00<00:00, 11631.29it/s]\n"
          ]
        }
      ],
      "source": [
        "train[\"ground_answers\"] = get_ground_answers(train)\n",
        "val[\"ground_answers\"] = get_ground_answers(val)\n",
        "test[\"ground_answers\"] = get_ground_answers(test)"
      ]
    },
    {
      "cell_type": "code",
      "execution_count": null,
      "metadata": {
        "id": "GczSbUDga2xA"
      },
      "outputs": [],
      "source": [
        "# Load the tokenizer and model\n",
        "tokenizer = AutoTokenizer.from_pretrained(\"deepset/roberta-base-squad2\")\n",
        "model = AutoModelForQuestionAnswering.from_pretrained(\"deepset/roberta-base-squad2\").cuda()"
      ]
    },
    {
      "cell_type": "code",
      "execution_count": null,
      "metadata": {
        "colab": {
          "base_uri": "https://localhost:8080/",
          "height": 641
        },
        "id": "cg49p05XiNuy",
        "outputId": "e2669b19-1b3e-4761-d991-004c72d846ef"
      },
      "outputs": [
        {
          "data": {
            "text/html": [
              "\n",
              "  <div id=\"df-6d14668b-8eca-46e6-9ee7-dd7a3ed3e5da\">\n",
              "    <div class=\"colab-df-container\">\n",
              "      <div>\n",
              "<style scoped>\n",
              "    .dataframe tbody tr th:only-of-type {\n",
              "        vertical-align: middle;\n",
              "    }\n",
              "\n",
              "    .dataframe tbody tr th {\n",
              "        vertical-align: top;\n",
              "    }\n",
              "\n",
              "    .dataframe thead th {\n",
              "        text-align: right;\n",
              "    }\n",
              "</style>\n",
              "<table border=\"1\" class=\"dataframe\">\n",
              "  <thead>\n",
              "    <tr style=\"text-align: right;\">\n",
              "      <th></th>\n",
              "      <th>context</th>\n",
              "      <th>question</th>\n",
              "      <th>answers</th>\n",
              "      <th>ground_answers</th>\n",
              "    </tr>\n",
              "  </thead>\n",
              "  <tbody>\n",
              "    <tr>\n",
              "      <th>0</th>\n",
              "      <td>It is estimated that in 480 BC, 50 million peo...</td>\n",
              "      <td>The Achaemenid Empire was the known enemy of w...</td>\n",
              "      <td>{'text': ['the Greek city states'], 'answer_st...</td>\n",
              "      <td>the greek city states</td>\n",
              "    </tr>\n",
              "    <tr>\n",
              "      <th>1</th>\n",
              "      <td>In 2004 he was admitted as knight of the Légio...</td>\n",
              "      <td>Who made Spielberg a knight?</td>\n",
              "      <td>{'text': ['Jacques Chirac'], 'answer_start': [...</td>\n",
              "      <td>jacques chirac</td>\n",
              "    </tr>\n",
              "    <tr>\n",
              "      <th>2</th>\n",
              "      <td>KU Endowment was established in 1891 as Americ...</td>\n",
              "      <td>When was the KU Endowment founded?</td>\n",
              "      <td>{'text': ['1891'], 'answer_start': [32]}</td>\n",
              "      <td>1891</td>\n",
              "    </tr>\n",
              "    <tr>\n",
              "      <th>3</th>\n",
              "      <td>2010s saw multiple new sounds in house music d...</td>\n",
              "      <td>Big room house has found increasing popularity...</td>\n",
              "      <td>{'text': ['2010'], 'answer_start': [1165]}</td>\n",
              "      <td>2010</td>\n",
              "    </tr>\n",
              "    <tr>\n",
              "      <th>4</th>\n",
              "      <td>Much of Yale University's staff, including mos...</td>\n",
              "      <td>What union are Yale's service and maintenance ...</td>\n",
              "      <td>{'text': ['Local 35 of the same international'...</td>\n",
              "      <td>local 35 of the same international</td>\n",
              "    </tr>\n",
              "    <tr>\n",
              "      <th>...</th>\n",
              "      <td>...</td>\n",
              "      <td>...</td>\n",
              "      <td>...</td>\n",
              "      <td>...</td>\n",
              "    </tr>\n",
              "    <tr>\n",
              "      <th>3195</th>\n",
              "      <td>&lt;P&gt; Halley 's Comet or Comet Halley , official...</td>\n",
              "      <td>when is halley 's comet predicted to be near e...</td>\n",
              "      <td>['mid-2061']</td>\n",
              "      <td>mid-2061</td>\n",
              "    </tr>\n",
              "    <tr>\n",
              "      <th>3196</th>\n",
              "      <td>&lt;Table&gt; &lt;Tr&gt; &lt;Th&gt; 2015 Rank &lt;/Th&gt; &lt;Th&gt; City &lt;/...</td>\n",
              "      <td>what is the second largest city in idaho</td>\n",
              "      <td>['Meridian']</td>\n",
              "      <td>meridian</td>\n",
              "    </tr>\n",
              "    <tr>\n",
              "      <th>3197</th>\n",
              "      <td>&lt;P&gt; Shielding gases are inert or semi-inert ga...</td>\n",
              "      <td>what is the purpose of argon gas in mig welding</td>\n",
              "      <td>['to protect the weld area from oxygen , and w...</td>\n",
              "      <td>to protect the weld area from oxygen , and wat...</td>\n",
              "    </tr>\n",
              "    <tr>\n",
              "      <th>3198</th>\n",
              "      <td>&lt;P&gt; Dane William DeHaan ( / dəˈhɑːn / də - HAH...</td>\n",
              "      <td>who plays harry in the amazing spider man</td>\n",
              "      <td>['Dane William DeHaan']</td>\n",
              "      <td>dane william dehaan</td>\n",
              "    </tr>\n",
              "    <tr>\n",
              "      <th>3199</th>\n",
              "      <td>&lt;P&gt; Naruto : Shippuden ( Naruto - ナルト - 疾風 伝 ,...</td>\n",
              "      <td>what is the order of the naruto shows</td>\n",
              "      <td>['Naruto', 'Naruto : Shippuden']</td>\n",
              "      <td>naruto</td>\n",
              "    </tr>\n",
              "  </tbody>\n",
              "</table>\n",
              "<p>3200 rows × 4 columns</p>\n",
              "</div>\n",
              "      <button class=\"colab-df-convert\" onclick=\"convertToInteractive('df-6d14668b-8eca-46e6-9ee7-dd7a3ed3e5da')\"\n",
              "              title=\"Convert this dataframe to an interactive table.\"\n",
              "              style=\"display:none;\">\n",
              "        \n",
              "  <svg xmlns=\"http://www.w3.org/2000/svg\" height=\"24px\"viewBox=\"0 0 24 24\"\n",
              "       width=\"24px\">\n",
              "    <path d=\"M0 0h24v24H0V0z\" fill=\"none\"/>\n",
              "    <path d=\"M18.56 5.44l.94 2.06.94-2.06 2.06-.94-2.06-.94-.94-2.06-.94 2.06-2.06.94zm-11 1L8.5 8.5l.94-2.06 2.06-.94-2.06-.94L8.5 2.5l-.94 2.06-2.06.94zm10 10l.94 2.06.94-2.06 2.06-.94-2.06-.94-.94-2.06-.94 2.06-2.06.94z\"/><path d=\"M17.41 7.96l-1.37-1.37c-.4-.4-.92-.59-1.43-.59-.52 0-1.04.2-1.43.59L10.3 9.45l-7.72 7.72c-.78.78-.78 2.05 0 2.83L4 21.41c.39.39.9.59 1.41.59.51 0 1.02-.2 1.41-.59l7.78-7.78 2.81-2.81c.8-.78.8-2.07 0-2.86zM5.41 20L4 18.59l7.72-7.72 1.47 1.35L5.41 20z\"/>\n",
              "  </svg>\n",
              "      </button>\n",
              "      \n",
              "  <style>\n",
              "    .colab-df-container {\n",
              "      display:flex;\n",
              "      flex-wrap:wrap;\n",
              "      gap: 12px;\n",
              "    }\n",
              "\n",
              "    .colab-df-convert {\n",
              "      background-color: #E8F0FE;\n",
              "      border: none;\n",
              "      border-radius: 50%;\n",
              "      cursor: pointer;\n",
              "      display: none;\n",
              "      fill: #1967D2;\n",
              "      height: 32px;\n",
              "      padding: 0 0 0 0;\n",
              "      width: 32px;\n",
              "    }\n",
              "\n",
              "    .colab-df-convert:hover {\n",
              "      background-color: #E2EBFA;\n",
              "      box-shadow: 0px 1px 2px rgba(60, 64, 67, 0.3), 0px 1px 3px 1px rgba(60, 64, 67, 0.15);\n",
              "      fill: #174EA6;\n",
              "    }\n",
              "\n",
              "    [theme=dark] .colab-df-convert {\n",
              "      background-color: #3B4455;\n",
              "      fill: #D2E3FC;\n",
              "    }\n",
              "\n",
              "    [theme=dark] .colab-df-convert:hover {\n",
              "      background-color: #434B5C;\n",
              "      box-shadow: 0px 1px 3px 1px rgba(0, 0, 0, 0.15);\n",
              "      filter: drop-shadow(0px 1px 2px rgba(0, 0, 0, 0.3));\n",
              "      fill: #FFFFFF;\n",
              "    }\n",
              "  </style>\n",
              "\n",
              "      <script>\n",
              "        const buttonEl =\n",
              "          document.querySelector('#df-6d14668b-8eca-46e6-9ee7-dd7a3ed3e5da button.colab-df-convert');\n",
              "        buttonEl.style.display =\n",
              "          google.colab.kernel.accessAllowed ? 'block' : 'none';\n",
              "\n",
              "        async function convertToInteractive(key) {\n",
              "          const element = document.querySelector('#df-6d14668b-8eca-46e6-9ee7-dd7a3ed3e5da');\n",
              "          const dataTable =\n",
              "            await google.colab.kernel.invokeFunction('convertToInteractive',\n",
              "                                                     [key], {});\n",
              "          if (!dataTable) return;\n",
              "\n",
              "          const docLinkHtml = 'Like what you see? Visit the ' +\n",
              "            '<a target=\"_blank\" href=https://colab.research.google.com/notebooks/data_table.ipynb>data table notebook</a>'\n",
              "            + ' to learn more about interactive tables.';\n",
              "          element.innerHTML = '';\n",
              "          dataTable['output_type'] = 'display_data';\n",
              "          await google.colab.output.renderOutput(dataTable, element);\n",
              "          const docLink = document.createElement('div');\n",
              "          docLink.innerHTML = docLinkHtml;\n",
              "          element.appendChild(docLink);\n",
              "        }\n",
              "      </script>\n",
              "    </div>\n",
              "  </div>\n",
              "  "
            ],
            "text/plain": [
              "                                                context  \\\n",
              "0     It is estimated that in 480 BC, 50 million peo...   \n",
              "1     In 2004 he was admitted as knight of the Légio...   \n",
              "2     KU Endowment was established in 1891 as Americ...   \n",
              "3     2010s saw multiple new sounds in house music d...   \n",
              "4     Much of Yale University's staff, including mos...   \n",
              "...                                                 ...   \n",
              "3195  <P> Halley 's Comet or Comet Halley , official...   \n",
              "3196  <Table> <Tr> <Th> 2015 Rank </Th> <Th> City </...   \n",
              "3197  <P> Shielding gases are inert or semi-inert ga...   \n",
              "3198  <P> Dane William DeHaan ( / dəˈhɑːn / də - HAH...   \n",
              "3199  <P> Naruto : Shippuden ( Naruto - ナルト - 疾風 伝 ,...   \n",
              "\n",
              "                                               question  \\\n",
              "0     The Achaemenid Empire was the known enemy of w...   \n",
              "1                          Who made Spielberg a knight?   \n",
              "2                    When was the KU Endowment founded?   \n",
              "3     Big room house has found increasing popularity...   \n",
              "4     What union are Yale's service and maintenance ...   \n",
              "...                                                 ...   \n",
              "3195  when is halley 's comet predicted to be near e...   \n",
              "3196           what is the second largest city in idaho   \n",
              "3197    what is the purpose of argon gas in mig welding   \n",
              "3198          who plays harry in the amazing spider man   \n",
              "3199              what is the order of the naruto shows   \n",
              "\n",
              "                                                answers  \\\n",
              "0     {'text': ['the Greek city states'], 'answer_st...   \n",
              "1     {'text': ['Jacques Chirac'], 'answer_start': [...   \n",
              "2              {'text': ['1891'], 'answer_start': [32]}   \n",
              "3            {'text': ['2010'], 'answer_start': [1165]}   \n",
              "4     {'text': ['Local 35 of the same international'...   \n",
              "...                                                 ...   \n",
              "3195                                       ['mid-2061']   \n",
              "3196                                       ['Meridian']   \n",
              "3197  ['to protect the weld area from oxygen , and w...   \n",
              "3198                            ['Dane William DeHaan']   \n",
              "3199                   ['Naruto', 'Naruto : Shippuden']   \n",
              "\n",
              "                                         ground_answers  \n",
              "0                                 the greek city states  \n",
              "1                                        jacques chirac  \n",
              "2                                                  1891  \n",
              "3                                                  2010  \n",
              "4                    local 35 of the same international  \n",
              "...                                                 ...  \n",
              "3195                                           mid-2061  \n",
              "3196                                           meridian  \n",
              "3197  to protect the weld area from oxygen , and wat...  \n",
              "3198                                dane william dehaan  \n",
              "3199                                             naruto  \n",
              "\n",
              "[3200 rows x 4 columns]"
            ]
          },
          "execution_count": 62,
          "metadata": {},
          "output_type": "execute_result"
        }
      ],
      "source": [
        "train"
      ]
    },
    {
      "cell_type": "code",
      "execution_count": null,
      "metadata": {
        "id": "f7S2wRV9h9J6"
      },
      "outputs": [],
      "source": [
        "def get_calib_data(data):\n",
        "  predicted_answers = []\n",
        "  context_question_lens = []\n",
        "  answer_lens = []\n",
        "  start_probs_list = []\n",
        "  end_probs_list = []\n",
        "  device = torch.device(\"cuda\" if torch.cuda.is_available() else \"cpu\")\n",
        "  model.eval()\n",
        "\n",
        "  for i in tqdm(range(len(data))):\n",
        "    question, context = data.iloc[i][\"question\"], data.iloc[i][\"context\"]\n",
        "\n",
        "    inputs = tokenizer.encode_plus(question, context, add_special_tokens=True, return_tensors=\"pt\", truncation = True)\n",
        "    inputs = {k: v.to(device) for k, v in inputs.items()}\n",
        "\n",
        "    input_ids = inputs[\"input_ids\"].tolist()[0]\n",
        "\n",
        "    with torch.no_grad():\n",
        "      outputs = model(**inputs)\n",
        "\n",
        "    start_scores = torch.softmax(outputs.start_logits, dim=1).cuda()\n",
        "    end_scores = torch.softmax(outputs.end_logits, dim=1).cuda()\n",
        "    sorted_start, _ = torch.sort(start_scores, descending=True)\n",
        "    sorted_end, _ = torch.sort(end_scores, descending=True)\n",
        "\n",
        "    all_tokens = tokenizer.convert_ids_to_tokens(input_ids)\n",
        "    answer_tokens = all_tokens[torch.argmax(start_scores, dim=1): torch.argmax(end_scores, dim=1) + 1]\n",
        "    answer = tokenizer.convert_tokens_to_string(answer_tokens)\n",
        "\n",
        "    #New feature set\n",
        "    context_question_len = torch.Tensor([len(context.split()) + len(question.split())]).cuda()\n",
        "    answer_len = torch.argmax(end_scores, dim=1).cuda() - torch.argmax(start_scores, dim=1).cuda() + 1\n",
        "    start_probs = sorted_start[0][:5].cuda()\n",
        "    end_probs = sorted_end[0][:5].cuda()\n",
        "\n",
        "    predicted_answers.append(answer.lower().strip())\n",
        "    context_question_lens.append(context_question_len.cpu().numpy()[0])\n",
        "    answer_lens.append(answer_len.cpu().numpy()[0])\n",
        "    start_probs_list.append(start_probs.cpu().numpy())\n",
        "    end_probs_list.append(end_probs.cpu().numpy())\n",
        "\n",
        "  start_probs_list = np.asarray(start_probs_list)\n",
        "  end_probs_list = np.asarray(end_probs_list)\n",
        "\n",
        "  data[\"predicted_answers\"] = predicted_answers\n",
        "  data[\"context_question_len\"] = context_question_lens\n",
        "  data[\"answer_len\"] = answer_lens\n",
        "\n",
        "  for i in range(len(start_probs_list[0])):\n",
        "    data[f\"sprob_{i}\"] = start_probs_list[:,i]\n",
        "\n",
        "  for i in range(len(end_probs_list[0])):\n",
        "    data[f\"eprob_{i}\"] = end_probs_list[:,i]\n",
        "\n",
        "  return"
      ]
    },
    {
      "cell_type": "code",
      "execution_count": null,
      "metadata": {
        "colab": {
          "base_uri": "https://localhost:8080/"
        },
        "id": "LlwAtDGpDAl0",
        "outputId": "5458b304-57d3-41fe-c28c-acfaea2f4be5"
      },
      "outputs": [
        {
          "name": "stderr",
          "output_type": "stream",
          "text": [
            "Some weights of the model checkpoint at bert-base-uncased were not used when initializing BertModel: ['cls.predictions.bias', 'cls.seq_relationship.bias', 'cls.seq_relationship.weight', 'cls.predictions.transform.LayerNorm.bias', 'cls.predictions.transform.dense.bias', 'cls.predictions.transform.dense.weight', 'cls.predictions.transform.LayerNorm.weight']\n",
            "- This IS expected if you are initializing BertModel from the checkpoint of a model trained on another task or with another architecture (e.g. initializing a BertForSequenceClassification model from a BertForPreTraining model).\n",
            "- This IS NOT expected if you are initializing BertModel from the checkpoint of a model that you expect to be exactly identical (initializing a BertForSequenceClassification model from a BertForSequenceClassification model).\n"
          ]
        }
      ],
      "source": [
        "model_name = 'bert-base-uncased'\n",
        "bert_model = BertModel.from_pretrained(model_name).cuda()\n",
        "bert_tokenizer = BertTokenizer.from_pretrained(model_name)\n",
        "\n",
        "def get_bert_embeddings(data):\n",
        "    bert_embeddings = []\n",
        "    text_list = data.apply(lambda x: f\"Question: {x['question']}, Context: {x['context']}\", axis=1).values\n",
        "\n",
        "    for text in tqdm(text_list):\n",
        "        encoded_inputs = bert_tokenizer.batch_encode_plus(\n",
        "            [text],\n",
        "            add_special_tokens=True,\n",
        "            max_length=512,\n",
        "            padding='max_length',\n",
        "            truncation=True,\n",
        "            return_tensors='pt',\n",
        "            return_attention_mask=False\n",
        "        )\n",
        "\n",
        "        encoded_inputs = {key: value.cuda() for key, value in encoded_inputs.items()}\n",
        "\n",
        "        with torch.no_grad():\n",
        "            outputs = bert_model(**encoded_inputs)\n",
        "            cls_embeddings = outputs.last_hidden_state[:, 0, :].reshape(-1)\n",
        "        bert_embeddings.append(cls_embeddings.tolist())\n",
        "    data[\"bert_embeddings\"] = bert_embeddings\n",
        "    return\n",
        "\n",
        "# Assuming you have a pandas DataFrame called 'train' with 'question' and 'context' columns\n",
        "\n"
      ]
    },
    {
      "cell_type": "code",
      "execution_count": null,
      "metadata": {
        "colab": {
          "base_uri": "https://localhost:8080/"
        },
        "id": "SWi_XajnmYYh",
        "outputId": "45bc3da6-8455-4be8-ee4a-31ce06bb2b3f"
      },
      "outputs": [
        {
          "name": "stderr",
          "output_type": "stream",
          "text": [
            "100%|██████████| 3200/3200 [01:07<00:00, 47.37it/s]\n",
            "100%|██████████| 800/800 [00:15<00:00, 52.90it/s]\n",
            "100%|██████████| 8000/8000 [04:07<00:00, 32.30it/s]\n"
          ]
        }
      ],
      "source": [
        "get_calib_data(train)\n",
        "get_calib_data(val)\n",
        "get_calib_data(test)"
      ]
    },
    {
      "cell_type": "code",
      "execution_count": null,
      "metadata": {
        "colab": {
          "base_uri": "https://localhost:8080/"
        },
        "id": "IFY26lMlqiwP",
        "outputId": "f8cdf84a-e27c-49b2-cf26-639e0e8784d6"
      },
      "outputs": [
        {
          "name": "stderr",
          "output_type": "stream",
          "text": [
            "100%|██████████| 3200/3200 [02:00<00:00, 26.51it/s]\n",
            "100%|██████████| 800/800 [00:30<00:00, 26.06it/s]\n",
            "100%|██████████| 8000/8000 [06:24<00:00, 20.80it/s]\n"
          ]
        }
      ],
      "source": [
        "get_bert_embeddings(train)\n",
        "get_bert_embeddings(val)\n",
        "get_bert_embeddings(test)"
      ]
    },
    {
      "cell_type": "code",
      "execution_count": null,
      "metadata": {
        "id": "2zURSonI1waG"
      },
      "outputs": [],
      "source": [
        "train.to_csv(f\"bert_train_{SRC_PREFIX}_{KNOWN_PREFIX}_{UNKNOWN_PREFIX}.csv\", index = False)\n",
        "val.to_csv(f\"bert_val_{SRC_PREFIX}_{KNOWN_PREFIX}_{UNKNOWN_PREFIX}.csv\", index = False)\n",
        "test.to_csv(f\"bert_test_{SRC_PREFIX}_{KNOWN_PREFIX}_{UNKNOWN_PREFIX}.csv\", index = False)"
      ]
    },
    {
      "cell_type": "code",
      "execution_count": null,
      "metadata": {
        "colab": {
          "base_uri": "https://localhost:8080/"
        },
        "id": "G1XxF4XIyYfT",
        "outputId": "0ea294af-9c41-44c7-d70f-5ed2f0e9c71c"
      },
      "outputs": [
        {
          "data": {
            "text/plain": [
              "Index(['context', 'question', 'answers', 'ground_answers', 'predicted_answers',\n",
              "       'context_question_len', 'answer_len', 'sprob_0', 'sprob_1', 'sprob_2',\n",
              "       'sprob_3', 'sprob_4', 'eprob_0', 'eprob_1', 'eprob_2', 'eprob_3',\n",
              "       'eprob_4', 'bert_embeddings'],\n",
              "      dtype='object')"
            ]
          },
          "execution_count": 80,
          "metadata": {},
          "output_type": "execute_result"
        }
      ],
      "source": [
        "train.columns"
      ]
    },
    {
      "cell_type": "code",
      "execution_count": null,
      "metadata": {
        "id": "5je-UuNSlP9w"
      },
      "outputs": [],
      "source": [
        "# select the column\n",
        "def get_bert_calib(data):\n",
        "  columns = ['sprob_0', 'sprob_1', 'sprob_2', 'sprob_3', 'sprob_4',\n",
        "            'eprob_0', 'eprob_1', 'eprob_2', 'eprob_3', 'eprob_4', 'bert_embeddings']\n",
        "\n",
        "  selected_data = data[columns]\n",
        "\n",
        "  # Convert columns to 2D numpy arrays and store in a list\n",
        "  numpy_arrays = []\n",
        "  for col in columns:\n",
        "      if col != 'bert_embeddings':\n",
        "          # reshape the column to a 2D numpy array\n",
        "          numpy_arrays.append(np.array(selected_data[col]).reshape(-1, 1))\n",
        "      else:\n",
        "          # 'bert_embeddings' contains a list of values, convert the list to a numpy array\n",
        "          numpy_arrays.append(np.vstack(selected_data[col].values))\n",
        "\n",
        "  # concatenate all arrays together\n",
        "  concatenated_data = np.concatenate(numpy_arrays, axis=1)\n",
        "  return concatenated_data\n",
        "\n",
        "def get_bert_pca(data, k=50, pca=None):\n",
        "  columns = ['context_question_len', 'answer_len','sprob_0', 'sprob_1', 'sprob_2', 'sprob_3', 'sprob_4',\n",
        "            'eprob_0', 'eprob_1', 'eprob_2', 'eprob_3', 'eprob_4']\n",
        "\n",
        "  selected_data = np.asarray(data[columns])\n",
        "\n",
        "  bert_embeds = np.asarray(np.vstack(data[\"bert_embeddings\"]))\n",
        "\n",
        "  if pca==None:\n",
        "    pca = PCA(n_components=k, random_state=RANDOM_SEED)\n",
        "    pca.fit(bert_embeds)\n",
        "\n",
        "  pca_data = pca.transform(bert_embeds)\n",
        "  print(sum(pca.explained_variance_ratio_))\n",
        "\n",
        "  concatenated_data = np.concatenate((selected_data, pca_data), axis=1)\n",
        "  return pca, concatenated_data\n",
        "\n",
        "def get_calib(data):\n",
        "  columns = ['context_question_len', 'answer_len', 'sprob_0', 'sprob_1', 'sprob_2',\n",
        "       'sprob_3', 'sprob_4', 'eprob_0', 'eprob_1', 'eprob_2', 'eprob_3', 'eprob_4']\n",
        "\n",
        "  selected_data = data[columns]\n",
        "\n",
        "  numpy_arrays = []\n",
        "  for col in columns:\n",
        "    # reshape the column to a 2D numpy array\n",
        "    numpy_arrays.append(np.array(selected_data[col]).reshape(-1, 1))\n",
        "\n",
        "  # concatenate all arrays together\n",
        "  concatenated_data = np.concatenate(numpy_arrays, axis=1)\n",
        "  return concatenated_data"
      ]
    },
    {
      "cell_type": "markdown",
      "metadata": {
        "id": "sSwyjLjAt9o9"
      },
      "source": [
        "Training the calibrator"
      ]
    },
    {
      "cell_type": "code",
      "execution_count": null,
      "metadata": {
        "id": "ADrxQvBPmXRt"
      },
      "outputs": [],
      "source": [
        "train[\"bert_embeddings\"] = train[\"bert_embeddings\"].apply(lambda x: ast.literal_eval(x))\n",
        "concatenated_train = get_bert_calib(train)\n",
        "val[\"bert_embeddings\"] = val[\"bert_embeddings\"].apply(lambda x: ast.literal_eval(x))\n",
        "concatenated_val = get_bert_calib(val)\n",
        "test[\"bert_embeddings\"] = test[\"bert_embeddings\"].apply(lambda x: ast.literal_eval(x))\n",
        "concatenated_test = get_bert_calib(test)"
      ]
    },
    {
      "cell_type": "code",
      "source": [
        "concatenated_train = get_calib(train)\n",
        "concatenated_val = get_calib(val)\n",
        "concatenated_test = get_calib(test)"
      ],
      "metadata": {
        "id": "wUQkn3fQVve1"
      },
      "execution_count": null,
      "outputs": []
    },
    {
      "cell_type": "code",
      "execution_count": null,
      "metadata": {
        "id": "nwbptFpDzDHl"
      },
      "outputs": [],
      "source": [
        "SRC_PREFIX = \"squad\"\n",
        "KNOWN_PREFIX = \"news\"\n",
        "UNKNOWN_PREFIX = \"trivia\""
      ]
    },
    {
      "cell_type": "code",
      "execution_count": null,
      "metadata": {
        "id": "1dQ-0o-Yy-YM"
      },
      "outputs": [],
      "source": [
        "train = pd.read_csv(f\"CalibData/bert_train_{SRC_PREFIX}_{KNOWN_PREFIX}_{UNKNOWN_PREFIX}.csv\")\n",
        "val = pd.read_csv(f\"CalibData/bert_val_{SRC_PREFIX}_{KNOWN_PREFIX}_{UNKNOWN_PREFIX}.csv\")\n",
        "test = pd.read_csv(f\"CalibData/bert_test_{SRC_PREFIX}_{KNOWN_PREFIX}_{UNKNOWN_PREFIX}.csv\")"
      ]
    },
    {
      "cell_type": "code",
      "source": [
        "train[\"bert_embeddings\"] = train[\"bert_embeddings\"].apply(lambda x: ast.literal_eval(x))\n",
        "pca, concatenated_train = get_bert_pca(train)\n",
        "val[\"bert_embeddings\"] = val[\"bert_embeddings\"].apply(lambda x: ast.literal_eval(x))\n",
        "_, concatenated_val = get_bert_pca(val, pca=pca)\n",
        "test[\"bert_embeddings\"] = test[\"bert_embeddings\"].apply(lambda x: ast.literal_eval(x))\n",
        "_, concatenated_test = get_bert_pca(test, pca=pca)"
      ],
      "metadata": {
        "colab": {
          "base_uri": "https://localhost:8080/"
        },
        "id": "0bem-pOBVbad",
        "outputId": "5a34be38-678e-4907-9e89-38d138a27750"
      },
      "execution_count": null,
      "outputs": [
        {
          "output_type": "stream",
          "name": "stdout",
          "text": [
            "0.8455387147656173\n",
            "0.8455387147656173\n",
            "0.8455387147656173\n"
          ]
        }
      ]
    },
    {
      "cell_type": "code",
      "source": [
        "# cnt = 0\n",
        "# for i in range(len(test)//2):\n",
        "#   ga = str(test.iloc[i][\"ground_answers\"])\n",
        "#   pa = str(test.iloc[i][\"predicted_answers\"])\n",
        "\n",
        "#   if pa in ga:\n",
        "#     cnt+=1\n",
        "\n",
        "# print(cnt/len(test))"
      ],
      "metadata": {
        "id": "63tBGhXVAQ4O"
      },
      "execution_count": null,
      "outputs": []
    },
    {
      "cell_type": "code",
      "execution_count": null,
      "metadata": {
        "id": "LLcD6kq6t9Wy"
      },
      "outputs": [],
      "source": [
        "X_train_calib = concatenated_train\n",
        "y_train_calib = np.asarray([1]*(len(X_train_calib)//2) + [0]*(len(X_train_calib)//2))\n",
        "\n",
        "X_val_calib = concatenated_val\n",
        "y_val_calib = np.asarray([1]*(len(X_val_calib)//2) + [0]*(len(X_val_calib)//2))\n",
        "\n",
        "X_test_calib = concatenated_test\n",
        "y_test_calib = np.asarray([1]*(len(X_test_calib)//2) + [0]*(len(X_test_calib)//2))"
      ]
    },
    {
      "cell_type": "code",
      "execution_count": null,
      "metadata": {
        "id": "CW1pR_x1ucsJ",
        "colab": {
          "base_uri": "https://localhost:8080/",
          "height": 75
        },
        "outputId": "4b54a1fa-b398-4a7f-ccb0-6b39a462ad36"
      },
      "outputs": [
        {
          "output_type": "execute_result",
          "data": {
            "text/plain": [
              "RandomForestClassifier(max_depth=4, random_state=7)"
            ],
            "text/html": [
              "<style>#sk-container-id-1 {color: black;background-color: white;}#sk-container-id-1 pre{padding: 0;}#sk-container-id-1 div.sk-toggleable {background-color: white;}#sk-container-id-1 label.sk-toggleable__label {cursor: pointer;display: block;width: 100%;margin-bottom: 0;padding: 0.3em;box-sizing: border-box;text-align: center;}#sk-container-id-1 label.sk-toggleable__label-arrow:before {content: \"▸\";float: left;margin-right: 0.25em;color: #696969;}#sk-container-id-1 label.sk-toggleable__label-arrow:hover:before {color: black;}#sk-container-id-1 div.sk-estimator:hover label.sk-toggleable__label-arrow:before {color: black;}#sk-container-id-1 div.sk-toggleable__content {max-height: 0;max-width: 0;overflow: hidden;text-align: left;background-color: #f0f8ff;}#sk-container-id-1 div.sk-toggleable__content pre {margin: 0.2em;color: black;border-radius: 0.25em;background-color: #f0f8ff;}#sk-container-id-1 input.sk-toggleable__control:checked~div.sk-toggleable__content {max-height: 200px;max-width: 100%;overflow: auto;}#sk-container-id-1 input.sk-toggleable__control:checked~label.sk-toggleable__label-arrow:before {content: \"▾\";}#sk-container-id-1 div.sk-estimator input.sk-toggleable__control:checked~label.sk-toggleable__label {background-color: #d4ebff;}#sk-container-id-1 div.sk-label input.sk-toggleable__control:checked~label.sk-toggleable__label {background-color: #d4ebff;}#sk-container-id-1 input.sk-hidden--visually {border: 0;clip: rect(1px 1px 1px 1px);clip: rect(1px, 1px, 1px, 1px);height: 1px;margin: -1px;overflow: hidden;padding: 0;position: absolute;width: 1px;}#sk-container-id-1 div.sk-estimator {font-family: monospace;background-color: #f0f8ff;border: 1px dotted black;border-radius: 0.25em;box-sizing: border-box;margin-bottom: 0.5em;}#sk-container-id-1 div.sk-estimator:hover {background-color: #d4ebff;}#sk-container-id-1 div.sk-parallel-item::after {content: \"\";width: 100%;border-bottom: 1px solid gray;flex-grow: 1;}#sk-container-id-1 div.sk-label:hover label.sk-toggleable__label {background-color: #d4ebff;}#sk-container-id-1 div.sk-serial::before {content: \"\";position: absolute;border-left: 1px solid gray;box-sizing: border-box;top: 0;bottom: 0;left: 50%;z-index: 0;}#sk-container-id-1 div.sk-serial {display: flex;flex-direction: column;align-items: center;background-color: white;padding-right: 0.2em;padding-left: 0.2em;position: relative;}#sk-container-id-1 div.sk-item {position: relative;z-index: 1;}#sk-container-id-1 div.sk-parallel {display: flex;align-items: stretch;justify-content: center;background-color: white;position: relative;}#sk-container-id-1 div.sk-item::before, #sk-container-id-1 div.sk-parallel-item::before {content: \"\";position: absolute;border-left: 1px solid gray;box-sizing: border-box;top: 0;bottom: 0;left: 50%;z-index: -1;}#sk-container-id-1 div.sk-parallel-item {display: flex;flex-direction: column;z-index: 1;position: relative;background-color: white;}#sk-container-id-1 div.sk-parallel-item:first-child::after {align-self: flex-end;width: 50%;}#sk-container-id-1 div.sk-parallel-item:last-child::after {align-self: flex-start;width: 50%;}#sk-container-id-1 div.sk-parallel-item:only-child::after {width: 0;}#sk-container-id-1 div.sk-dashed-wrapped {border: 1px dashed gray;margin: 0 0.4em 0.5em 0.4em;box-sizing: border-box;padding-bottom: 0.4em;background-color: white;}#sk-container-id-1 div.sk-label label {font-family: monospace;font-weight: bold;display: inline-block;line-height: 1.2em;}#sk-container-id-1 div.sk-label-container {text-align: center;}#sk-container-id-1 div.sk-container {/* jupyter's `normalize.less` sets `[hidden] { display: none; }` but bootstrap.min.css set `[hidden] { display: none !important; }` so we also need the `!important` here to be able to override the default hidden behavior on the sphinx rendered scikit-learn.org. See: https://github.com/scikit-learn/scikit-learn/issues/21755 */display: inline-block !important;position: relative;}#sk-container-id-1 div.sk-text-repr-fallback {display: none;}</style><div id=\"sk-container-id-1\" class=\"sk-top-container\"><div class=\"sk-text-repr-fallback\"><pre>RandomForestClassifier(max_depth=4, random_state=7)</pre><b>In a Jupyter environment, please rerun this cell to show the HTML representation or trust the notebook. <br />On GitHub, the HTML representation is unable to render, please try loading this page with nbviewer.org.</b></div><div class=\"sk-container\" hidden><div class=\"sk-item\"><div class=\"sk-estimator sk-toggleable\"><input class=\"sk-toggleable__control sk-hidden--visually\" id=\"sk-estimator-id-1\" type=\"checkbox\" checked><label for=\"sk-estimator-id-1\" class=\"sk-toggleable__label sk-toggleable__label-arrow\">RandomForestClassifier</label><div class=\"sk-toggleable__content\"><pre>RandomForestClassifier(max_depth=4, random_state=7)</pre></div></div></div></div></div>"
            ]
          },
          "metadata": {},
          "execution_count": 14
        }
      ],
      "source": [
        "rf = RandomForestClassifier(n_estimators=100, max_depth=4, random_state=RANDOM_SEED)\n",
        "rf.fit(np.concatenate((X_train_calib,X_val_calib)), np.concatenate((y_train_calib,y_val_calib)))"
      ]
    },
    {
      "cell_type": "code",
      "execution_count": null,
      "metadata": {
        "id": "5CfjQ0Dxuz13"
      },
      "outputs": [],
      "source": [
        "preds = rf.predict(X_test_calib)\n",
        "preds_probs = rf.predict_proba(X_test_calib)"
      ]
    },
    {
      "cell_type": "code",
      "execution_count": null,
      "metadata": {
        "id": "YhOo6Pxp9CPx"
      },
      "outputs": [],
      "source": [
        "risk_cov_test_truths = test.apply(lambda x: 1 if str(x[\"predicted_answers\"]) in x[\"ground_answers\"] else 0, axis =1)"
      ]
    },
    {
      "cell_type": "code",
      "execution_count": null,
      "metadata": {
        "id": "k21HPwLmf0iO"
      },
      "outputs": [],
      "source": [
        "risk_cov_val_truths = val.apply(lambda x: 1 if str(x[\"predicted_answers\"]) in x[\"ground_answers\"] else 0, axis =1)"
      ]
    },
    {
      "cell_type": "code",
      "execution_count": null,
      "metadata": {
        "id": "pvXtMSo7R1No"
      },
      "outputs": [],
      "source": [
        "y_test_true= risk_cov_test_truths.values"
      ]
    },
    {
      "cell_type": "markdown",
      "metadata": {
        "id": "p6WhrEKKak0W"
      },
      "source": [
        "# PLOTS CODE"
      ]
    },
    {
      "cell_type": "code",
      "execution_count": null,
      "metadata": {
        "id": "JYzDNv5v0-rA",
        "colab": {
          "base_uri": "https://localhost:8080/",
          "height": 490
        },
        "outputId": "3ed5db4e-8372-4505-a90d-f396c8fd8c94"
      },
      "outputs": [
        {
          "output_type": "display_data",
          "data": {
            "text/plain": [
              "<Figure size 640x480 with 1 Axes>"
            ],
            "image/png": "[encoded data removed]"
          },
          "metadata": {}
        },
        {
          "output_type": "stream",
          "name": "stdout",
          "text": [
            "Area Under the Curve (AUC): 0.2468356867991088\n"
          ]
        }
      ],
      "source": [
        "\n",
        "y_pred_probs = preds_probs[:,1]\n",
        "\n",
        "def calculate_and_plot_risk_coverage(correct, confidence):\n",
        "    # Combine the lists into a list of tuples and sort by confidence in descending order\n",
        "    data = sorted(zip(confidence, correct), reverse=True)\n",
        "\n",
        "    # Initialize counters and lists to store coverage and risk values\n",
        "    correct_predictions = 0\n",
        "    total_predictions = 0\n",
        "    coverage_values = []\n",
        "    risk_values = []\n",
        "\n",
        "    # Loop through sorted data\n",
        "    for conf, corr in data:\n",
        "        total_predictions += 1\n",
        "        if corr == 1:\n",
        "            correct_predictions += 1\n",
        "\n",
        "        # Calculate current risk and coverage\n",
        "        risk = 1 - (correct_predictions / total_predictions)\n",
        "        coverage = total_predictions / len(data)\n",
        "\n",
        "        # Store values\n",
        "        risk_values.append(risk)\n",
        "        coverage_values.append(coverage)\n",
        "\n",
        "    # Plot coverage vs risk\n",
        "    plt.plot(coverage_values, risk_values)\n",
        "    plt.xlabel('Coverage')\n",
        "    plt.ylabel('Risk')\n",
        "    plt.title('Risk vs Coverage')\n",
        "    plt.grid(True)\n",
        "    plt.savefig(f\"plots/Bert+RF_risk_vs_coverage_{SRC_PREFIX}_{KNOWN_PREFIX}_{UNKNOWN_PREFIX}.png\")\n",
        "    plt.show()\n",
        "\n",
        "    auc = np.trapz(risk_values, coverage_values)\n",
        "    print(\"Area Under the Curve (AUC):\", auc)\n",
        "\n",
        "calculate_and_plot_risk_coverage(y_test_true, y_pred_probs)"
      ]
    },
    {
      "cell_type": "code",
      "execution_count": null,
      "metadata": {
        "colab": {
          "base_uri": "https://localhost:8080/",
          "height": 472
        },
        "id": "V5LlgGSmCwXH",
        "outputId": "e8eff9fa-8654-4040-9678-bc94dccbfc0b"
      },
      "outputs": [
        {
          "output_type": "display_data",
          "data": {
            "text/plain": [
              "<Figure size 640x480 with 1 Axes>"
            ],
            "image/png": "[encoded data removed]"
          },
          "metadata": {}
        }
      ],
      "source": [
        "def calculate_and_plot(correct, confidence):\n",
        "    # Combine the lists into a list of tuples and sort by confidence in descending order\n",
        "    data = sorted(zip(confidence, correct), reverse=True)\n",
        "\n",
        "    # Initialize counters and lists to store coverage and accuracy\n",
        "    correct_predictions = 0\n",
        "    total_predictions = 0\n",
        "    coverage_values = []\n",
        "    accuracy_values = []\n",
        "\n",
        "    # Loop through sorted data\n",
        "    for conf, corr in data:\n",
        "        total_predictions += 1\n",
        "        if corr == 1:\n",
        "            correct_predictions += 1\n",
        "\n",
        "        # Calculate current accuracy and coverage\n",
        "        accuracy = correct_predictions / total_predictions\n",
        "        coverage = total_predictions / len(data)\n",
        "\n",
        "        # Store values\n",
        "        accuracy_values.append(accuracy)\n",
        "        coverage_values.append(coverage)\n",
        "\n",
        "    # Plot coverage vs accuracy\n",
        "    plt.plot(coverage_values, accuracy_values)\n",
        "    plt.xlabel('Coverage')\n",
        "    plt.ylabel('Accuracy')\n",
        "    plt.title('Accuracy vs Coverage')\n",
        "    plt.grid(True)\n",
        "    plt.savefig(f\"plots/Bert+RF_accuracy_vs_coverage_{SRC_PREFIX}_{KNOWN_PREFIX}_{UNKNOWN_PREFIX}.png\")\n",
        "    plt.show()\n",
        "    return accuracy_values, coverage_values\n",
        "\n",
        "\n",
        "acc, cov = calculate_and_plot(y_test_true, y_pred_probs)"
      ]
    },
    {
      "cell_type": "code",
      "execution_count": null,
      "metadata": {
        "colab": {
          "base_uri": "https://localhost:8080/"
        },
        "id": "tMVgO2a_pJ5l",
        "outputId": "12d2629a-40ed-43b9-b9f8-194a51d2b416"
      },
      "outputs": [
        {
          "output_type": "stream",
          "name": "stdout",
          "text": [
            "0.4715\n"
          ]
        }
      ],
      "source": [
        "cov_at_80 = None\n",
        "for a, c in zip(acc[::-1], cov[::-1]):\n",
        "  if a>=0.8:\n",
        "    cov_at_80 = c\n",
        "    break\n",
        "\n",
        "print(cov_at_80)"
      ]
    },
    {
      "cell_type": "code",
      "execution_count": null,
      "metadata": {
        "id": "HLkMUvaZM03p",
        "colab": {
          "base_uri": "https://localhost:8080/",
          "height": 472
        },
        "outputId": "1b0d0d3c-2831-4942-c4e4-f7e8435394a2"
      },
      "outputs": [
        {
          "output_type": "display_data",
          "data": {
            "text/plain": [
              "<Figure size 640x480 with 1 Axes>"
            ],
            "image/png": "[encoded data removed]"
          },
          "metadata": {}
        }
      ],
      "source": [
        "y_val_true= risk_cov_val_truths.values\n",
        "def calculate_and_plot_accuracy_per_confidence(correct, confidence):\n",
        "    # Combine the lists into a list of tuples and sort by confidence in descending order\n",
        "    data = sorted(zip(confidence, correct), reverse=True)\n",
        "\n",
        "    # Initialize counters and lists to store confidence values and corresponding accuracy\n",
        "    correct_predictions = 0\n",
        "    total_predictions = 0\n",
        "    confidence_values = []\n",
        "    accuracy_values = []\n",
        "\n",
        "    # Loop through sorted data\n",
        "    for conf, corr in data:\n",
        "        total_predictions += 1\n",
        "        if corr == 1:\n",
        "            correct_predictions += 1\n",
        "\n",
        "        # Calculate current accuracy\n",
        "        accuracy = correct_predictions / total_predictions\n",
        "\n",
        "        # Store values\n",
        "        confidence_values.append(conf)\n",
        "        accuracy_values.append(accuracy)\n",
        "\n",
        "    # Plot confidence vs accuracy\n",
        "    plt.plot(confidence_values, accuracy_values)\n",
        "    plt.xlabel('Confidence')\n",
        "    plt.ylabel('Accuracy')\n",
        "    plt.title('Accuracy per Confidence Level')\n",
        "    plt.grid(True)\n",
        "    plt.savefig(f\"plots/Bert+RF_accuracy_per_confidence_{SRC_PREFIX}_{KNOWN_PREFIX}_{UNKNOWN_PREFIX}.png\")\n",
        "    plt.show()\n",
        "\n",
        "calculate_and_plot_accuracy_per_confidence(y_val_true, y_pred_probs)\n"
      ]
    },
    {
      "cell_type": "code",
      "execution_count": null,
      "metadata": {
        "id": "v4xDv7kIQxKV",
        "colab": {
          "base_uri": "https://localhost:8080/",
          "height": 472
        },
        "outputId": "ba693eac-355e-4306-e7c8-9e4591598382"
      },
      "outputs": [
        {
          "output_type": "display_data",
          "data": {
            "text/plain": [
              "<Figure size 640x480 with 1 Axes>"
            ],
            "image/png": "[encoded data removed]"
          },
          "metadata": {}
        }
      ],
      "source": [
        "def plot_confidence_histogram(domain, confidence):\n",
        "    # Separate the confidence scores for in-domain and out-of-domain\n",
        "    in_domain_confidence = [round(conf, 2) for conf, dom in zip(confidence, domain) if dom == 1]\n",
        "    out_of_domain_confidence = [round(conf, 2) for conf, dom in zip(confidence, domain) if dom == 0]\n",
        "\n",
        "    # Create bins\n",
        "    bins = np.arange(0, 1.01, 0.01)\n",
        "\n",
        "    # Calculate histogram for in-domain confidence\n",
        "    in_domain_hist, _ = np.histogram(in_domain_confidence, bins=bins)\n",
        "\n",
        "    # Calculate histogram for out-of-domain confidence\n",
        "    out_of_domain_hist, _ = np.histogram(out_of_domain_confidence, bins=bins)\n",
        "\n",
        "    # Plot line plot of the histogram for in-domain\n",
        "    plt.plot(bins[:-1], in_domain_hist, label='In-domain', color='blue')\n",
        "\n",
        "    # Plot line plot of the histogram for out-of-domain\n",
        "    plt.plot(bins[:-1], out_of_domain_hist, label='Out-of-domain', color='orange')\n",
        "\n",
        "    # Format the plot\n",
        "    plt.xlabel('Confidence Score')\n",
        "    plt.ylabel('Frequency')\n",
        "    plt.title('Line Plot of Confidence Scores')\n",
        "    plt.legend(loc='upper right')\n",
        "    plt.grid(True)\n",
        "\n",
        "    # Show the plot\n",
        "    plt.savefig(f\"plots/Bert+RF_line_confidence_{SRC_PREFIX}_{KNOWN_PREFIX}_{UNKNOWN_PREFIX}.png\")\n",
        "    plt.show()\n",
        "\n",
        "domain = [1]*(len(val)//2) + [0]*(len(val)//2)\n",
        "plot_confidence_histogram(domain, y_pred_probs)"
      ]
    },
    {
      "cell_type": "code",
      "execution_count": null,
      "metadata": {
        "id": "U_1m7qnDUe36",
        "colab": {
          "base_uri": "https://localhost:8080/",
          "height": 53
        },
        "outputId": "00b2d58e-5cc6-4a11-d661-94902c194f5d"
      },
      "outputs": [
        {
          "output_type": "execute_result",
          "data": {
            "text/plain": [
              "'\\nplots:\\nAUC vs Amount of OOD data access- NOT Now\\nMaxprob vs frequency\\nProbability of correctness vs Maxprob\\n\\nFrequency vs Callibrator Probability\\nProbability of correctness vs callibrator probability\\n\\n\\nTable:\\n1) AUC, Cov@ Acc=80%, Cov@Aucc= 90%\\n\\n'"
            ],
            "application/vnd.google.colaboratory.intrinsic+json": {
              "type": "string"
            }
          },
          "metadata": {},
          "execution_count": 302
        }
      ],
      "source": [
        "\"\"\"\n",
        "plots:\n",
        "AUC vs Amount of OOD data access- NOT Now\n",
        "Maxprob vs frequency\n",
        "Probability of correctness vs Maxprob\n",
        "\n",
        "Frequency vs Callibrator Probability\n",
        "Probability of correctness vs callibrator probability\n",
        "\n",
        "\n",
        "Table:\n",
        "1) AUC, Cov@ Acc=80%, Cov@Aucc= 90%\n",
        "\n",
        "\"\"\""
      ]
    },
    {
      "cell_type": "markdown",
      "metadata": {
        "id": "40OcUOksd4Hq"
      },
      "source": [
        "Distance Baseline Plots\n"
      ]
    },
    {
      "cell_type": "code",
      "execution_count": null,
      "metadata": {
        "id": "Ly35GY1Md3nV",
        "colab": {
          "base_uri": "https://localhost:8080/",
          "height": 383
        },
        "outputId": "9c02fd23-69d7-46f5-d8ef-6f022537cf0b"
      },
      "outputs": [
        {
          "output_type": "error",
          "ename": "NameError",
          "evalue": "ignored",
          "traceback": [
            "\u001b[0;31m---------------------------------------------------------------------------\u001b[0m",
            "\u001b[0;31mNameError\u001b[0m                                 Traceback (most recent call last)",
            "\u001b[0;32m<ipython-input-303-08df92c17604>\u001b[0m in \u001b[0;36m<cell line: 18>\u001b[0;34m()\u001b[0m\n\u001b[1;32m     16\u001b[0m   \u001b[0;32mreturn\u001b[0m \u001b[0manswer_train_matrix\u001b[0m\u001b[0;34m,\u001b[0m \u001b[0mabstain_train_matrix\u001b[0m\u001b[0;34m\u001b[0m\u001b[0;34m\u001b[0m\u001b[0m\n\u001b[1;32m     17\u001b[0m \u001b[0;34m\u001b[0m\u001b[0m\n\u001b[0;32m---> 18\u001b[0;31m \u001b[0manswer_train_matrix\u001b[0m\u001b[0;34m,\u001b[0m \u001b[0mabstain_train_matrix\u001b[0m \u001b[0;34m=\u001b[0m \u001b[0mcreate_train_matrix\u001b[0m\u001b[0;34m(\u001b[0m\u001b[0mtrain\u001b[0m\u001b[0;34m)\u001b[0m\u001b[0;34m\u001b[0m\u001b[0;34m\u001b[0m\u001b[0m\n\u001b[0m\u001b[1;32m     19\u001b[0m \u001b[0;34m\u001b[0m\u001b[0m\n\u001b[1;32m     20\u001b[0m \u001b[0;32mfrom\u001b[0m \u001b[0msklearn\u001b[0m\u001b[0;34m.\u001b[0m\u001b[0mmetrics\u001b[0m\u001b[0;34m.\u001b[0m\u001b[0mpairwise\u001b[0m \u001b[0;32mimport\u001b[0m \u001b[0mcosine_similarity\u001b[0m\u001b[0;34m\u001b[0m\u001b[0;34m\u001b[0m\u001b[0m\n",
            "\u001b[0;32m<ipython-input-303-08df92c17604>\u001b[0m in \u001b[0;36mcreate_train_matrix\u001b[0;34m(data)\u001b[0m\n\u001b[1;32m      5\u001b[0m     \u001b[0mquestion\u001b[0m\u001b[0;34m,\u001b[0m \u001b[0mcontext\u001b[0m \u001b[0;34m=\u001b[0m \u001b[0mdata\u001b[0m\u001b[0;34m.\u001b[0m\u001b[0miloc\u001b[0m\u001b[0;34m[\u001b[0m\u001b[0mi\u001b[0m\u001b[0;34m]\u001b[0m\u001b[0;34m[\u001b[0m\u001b[0;34m\"question\"\u001b[0m\u001b[0;34m]\u001b[0m\u001b[0;34m,\u001b[0m \u001b[0mdata\u001b[0m\u001b[0;34m.\u001b[0m\u001b[0miloc\u001b[0m\u001b[0;34m[\u001b[0m\u001b[0mi\u001b[0m\u001b[0;34m]\u001b[0m\u001b[0;34m[\u001b[0m\u001b[0;34m\"context\"\u001b[0m\u001b[0;34m]\u001b[0m\u001b[0;34m\u001b[0m\u001b[0;34m\u001b[0m\u001b[0m\n\u001b[1;32m      6\u001b[0m \u001b[0;34m\u001b[0m\u001b[0m\n\u001b[0;32m----> 7\u001b[0;31m     \u001b[0minputs\u001b[0m \u001b[0;34m=\u001b[0m \u001b[0mtokenizer\u001b[0m\u001b[0;34m.\u001b[0m\u001b[0mencode_plus\u001b[0m\u001b[0;34m(\u001b[0m\u001b[0mquestion\u001b[0m\u001b[0;34m,\u001b[0m \u001b[0mcontext\u001b[0m\u001b[0;34m,\u001b[0m \u001b[0madd_special_tokens\u001b[0m\u001b[0;34m=\u001b[0m\u001b[0;32mTrue\u001b[0m\u001b[0;34m,\u001b[0m \u001b[0mreturn_tensors\u001b[0m\u001b[0;34m=\u001b[0m\u001b[0;34m\"pt\"\u001b[0m\u001b[0;34m,\u001b[0m \u001b[0mtruncation\u001b[0m \u001b[0;34m=\u001b[0m \u001b[0;32mTrue\u001b[0m\u001b[0;34m,\u001b[0m \u001b[0mmax_length\u001b[0m\u001b[0;34m=\u001b[0m\u001b[0;36m512\u001b[0m\u001b[0;34m)\u001b[0m\u001b[0;34m[\u001b[0m\u001b[0;34m\"input_ids\"\u001b[0m\u001b[0;34m]\u001b[0m\u001b[0;34m.\u001b[0m\u001b[0mnumpy\u001b[0m\u001b[0;34m(\u001b[0m\u001b[0;34m)\u001b[0m\u001b[0;34m[\u001b[0m\u001b[0;36m0\u001b[0m\u001b[0;34m]\u001b[0m\u001b[0;34m\u001b[0m\u001b[0;34m\u001b[0m\u001b[0m\n\u001b[0m\u001b[1;32m      8\u001b[0m     \u001b[0mnum_to_pad\u001b[0m \u001b[0;34m=\u001b[0m \u001b[0;36m512\u001b[0m \u001b[0;34m-\u001b[0m \u001b[0mlen\u001b[0m\u001b[0;34m(\u001b[0m\u001b[0minputs\u001b[0m\u001b[0;34m)\u001b[0m\u001b[0;34m\u001b[0m\u001b[0;34m\u001b[0m\u001b[0m\n\u001b[1;32m      9\u001b[0m     \u001b[0minputs\u001b[0m \u001b[0;34m=\u001b[0m \u001b[0mnp\u001b[0m\u001b[0;34m.\u001b[0m\u001b[0mpad\u001b[0m\u001b[0;34m(\u001b[0m\u001b[0minputs\u001b[0m\u001b[0;34m,\u001b[0m \u001b[0;34m(\u001b[0m\u001b[0;36m0\u001b[0m\u001b[0;34m,\u001b[0m \u001b[0mnum_to_pad\u001b[0m\u001b[0;34m)\u001b[0m\u001b[0;34m,\u001b[0m \u001b[0;34m'constant'\u001b[0m\u001b[0;34m)\u001b[0m\u001b[0;34m\u001b[0m\u001b[0;34m\u001b[0m\u001b[0m\n",
            "\u001b[0;31mNameError\u001b[0m: name 'tokenizer' is not defined"
          ]
        }
      ],
      "source": [
        "# convert train into a matrix of tokens\n",
        "def create_train_matrix(data):\n",
        "  train_matrix = []\n",
        "  for i in range(len(data)):\n",
        "    question, context = data.iloc[i][\"question\"], data.iloc[i][\"context\"]\n",
        "\n",
        "    inputs = tokenizer.encode_plus(question, context, add_special_tokens=True, return_tensors=\"pt\", truncation = True, max_length=512)[\"input_ids\"].numpy()[0]\n",
        "    num_to_pad = 512 - len(inputs)\n",
        "    inputs = np.pad(inputs, (0, num_to_pad), 'constant')\n",
        "    train_matrix.append(inputs)\n",
        "\n",
        "  train_matrix = np.array(train_matrix).reshape(len(data), 512)\n",
        "\n",
        "  # first 1600 answer, else abstain\n",
        "  answer_train_matrix, abstain_train_matrix = train_matrix[0:1600, :], train_matrix[1600:len(train_matrix), :]\n",
        "  return answer_train_matrix, abstain_train_matrix\n",
        "\n",
        "answer_train_matrix, abstain_train_matrix = create_train_matrix(train)\n",
        "\n",
        "from sklearn.metrics.pairwise import cosine_similarity\n",
        "\n",
        "def get_preds(data):\n",
        "  cosine_preds = []\n",
        "  for i in tqdm(range(len(data))):\n",
        "    question, context = data.iloc[i][\"question\"], data.iloc[i][\"context\"]\n",
        "\n",
        "    inputs = tokenizer.encode_plus(question, context, add_special_tokens=True, return_tensors=\"pt\", truncation = True, max_length=512)[\"input_ids\"].numpy()[0]\n",
        "    num_to_pad = 512 - len(inputs)\n",
        "    inputs = np.pad(inputs, (0, num_to_pad), 'constant')\n",
        "    inputs = np.expand_dims(inputs, axis=0)\n",
        "\n",
        "    answer_cosine_sim = np.amax(cosine_similarity(answer_train_matrix, inputs))\n",
        "    cosine_preds.append(answer_cosine_sim)\n",
        "\n",
        "\n",
        "  return np.array(cosine_preds)"
      ]
    },
    {
      "cell_type": "code",
      "execution_count": null,
      "metadata": {
        "id": "VZSqDXR2PjtV"
      },
      "outputs": [],
      "source": [
        "y_test_pred_distance = get_preds(test)"
      ]
    },
    {
      "cell_type": "code",
      "execution_count": null,
      "metadata": {
        "id": "kz0hwpTKeXU4"
      },
      "outputs": [],
      "source": [
        "\n",
        "calculate_and_plot_risk_coverage(y_test_true, y_test_pred_distance)"
      ]
    },
    {
      "cell_type": "code",
      "execution_count": null,
      "metadata": {
        "id": "d06YTnrNfnmF"
      },
      "outputs": [],
      "source": [
        "acc, cov = calculate_and_plot(y_test_true, y_test_pred_distance)\n"
      ]
    },
    {
      "cell_type": "code",
      "execution_count": null,
      "metadata": {
        "id": "XHrU3wfaLRif"
      },
      "outputs": [],
      "source": [
        "cov_at_80 = None\n",
        "for a, c in zip(acc[::-1], cov[::-1]):\n",
        "  if a>=0.8:\n",
        "    cov_at_80 = c\n",
        "    break\n",
        "\n",
        "print(cov_at_80)"
      ]
    },
    {
      "cell_type": "code",
      "execution_count": null,
      "metadata": {
        "id": "3tqwnPqPgNIZ"
      },
      "outputs": [],
      "source": [
        "y_val_pred_distance = get_preds(val)\n",
        "calculate_and_plot_accuracy_per_confidence(y_val_true, y_val_pred_distance)\n"
      ]
    },
    {
      "cell_type": "markdown",
      "metadata": {
        "id": "EEB25XT0aoKb"
      },
      "source": [
        "## END of plots code/"
      ]
    },
    {
      "cell_type": "code",
      "execution_count": null,
      "metadata": {
        "id": "Ar9vuAy_vnxv"
      },
      "outputs": [],
      "source": [
        "### 0 - answer\n",
        "### 1 - abstain"
      ]
    },
    {
      "cell_type": "code",
      "execution_count": null,
      "metadata": {
        "id": "VgFtUHF1x7a8"
      },
      "outputs": [],
      "source": [
        "import matplotlib.pyplot as plt\n"
      ]
    },
    {
      "cell_type": "code",
      "execution_count": null,
      "metadata": {
        "id": "lFhd_8Q6x0LW"
      },
      "outputs": [],
      "source": [
        "def get_coverage(thresh):\n",
        "  pred_val = []\n",
        "  for p0, p1 in preds_probs:\n",
        "    if p0>thresh:\n",
        "      pred_val.append(0)\n",
        "    else:\n",
        "      pred_val.append(1)\n",
        "\n",
        "  cntr = Counter(pred_val)\n",
        "  coverage = cntr[0]/(cntr[0]+cntr[1])\n",
        "  return coverage\n"
      ]
    },
    {
      "cell_type": "code",
      "execution_count": null,
      "metadata": {
        "id": "sVradEDgyZXo"
      },
      "outputs": [],
      "source": [
        "thresholds = [x/100 for x in range(0,100,4)]\n",
        "coverages = []\n",
        "for thresh in thresholds:\n",
        "  coverages.append(get_coverage(thresh))\n",
        "\n",
        "plt.plot(thresholds,coverages)"
      ]
    },
    {
      "cell_type": "code",
      "execution_count": null,
      "metadata": {
        "id": "UqgXhvtCnfFc"
      },
      "outputs": [],
      "source": [
        "for it in zip(thresholds, coverages):\n",
        "  print(it)"
      ]
    },
    {
      "cell_type": "markdown",
      "metadata": {
        "id": "CuXr65z13zrF"
      },
      "source": [
        "Ignore code from here"
      ]
    },
    {
      "cell_type": "code",
      "execution_count": null,
      "metadata": {
        "id": "z4ZJIMaXu3lY"
      },
      "outputs": [],
      "source": [
        "pred_val = []\n",
        "\n",
        "THRESH = 0.6\n",
        "for p0, p1 in preds_probs:\n",
        "  if p0>THRESH:\n",
        "    pred_val.append(0)\n",
        "  else:\n",
        "    pred_val.append(1)\n",
        "\n",
        "cntr = Counter(pred_val)\n",
        "print(f\"Coverage: {cntr[0]/(cntr[0]+cntr[1])}\")"
      ]
    },
    {
      "cell_type": "code",
      "execution_count": null,
      "metadata": {
        "id": "JHX_G4GV3zTq"
      },
      "outputs": [],
      "source": []
    },
    {
      "cell_type": "code",
      "execution_count": null,
      "metadata": {
        "id": "8Zk0ZBF13zQQ"
      },
      "outputs": [],
      "source": []
    },
    {
      "cell_type": "code",
      "execution_count": null,
      "metadata": {
        "id": "F_9J25dy3zED"
      },
      "outputs": [],
      "source": []
    },
    {
      "cell_type": "code",
      "execution_count": null,
      "metadata": {
        "id": "-EgFlI44WQLl"
      },
      "outputs": [],
      "source": [
        "accuracy = accuracy_score(combined_df.ground_answers.values,combined_df.predicted_answers.values)\n",
        "print(f\"Accuracy: {accuracy:.2f}\")"
      ]
    },
    {
      "cell_type": "markdown",
      "metadata": {
        "id": "NCzqOSw_VXqo"
      },
      "source": [
        "Training Calibrator"
      ]
    },
    {
      "cell_type": "code",
      "execution_count": null,
      "metadata": {
        "id": "hOcz6WYKVJHo"
      },
      "outputs": [],
      "source": [
        "X = np.asarray(combined_df.iloc[:, :12].values)\n",
        "y = np.asarray([0]*1600 + [1]*400)\n",
        "\n",
        "X_train = np.concatenate((X[:1300],X[1600:1900]))\n",
        "y_train = np.concatenate((y[:1300],y[1600:1900]))\n",
        "X_val = np.concatenate((X[1300:1600],X[1900:]))\n",
        "y_val = np.concatenate((y[1300:1600],y[1900:]))\n",
        "\n",
        "# shuffled_indices_train = np.random.permutation(len(X_train))\n",
        "# shuffled_indices_val = np.random.permutation(len(X_val))\n",
        "\n",
        "# X_train, y_train = X_train[shuffled_indices_train], y_train[shuffled_indices_train]\n",
        "# X_val, y_val = X_val[shuffled_indices_val], y_val[shuffled_indices_val]"
      ]
    },
    {
      "cell_type": "code",
      "execution_count": null,
      "metadata": {
        "id": "QD0_F3ZHWGZt"
      },
      "outputs": [],
      "source": [
        "rf = RandomForestClassifier(n_estimators=100, max_depth=4, random_state=RANDOM_SEED)\n",
        "rf.fit(X_train, y_train)"
      ]
    },
    {
      "cell_type": "code",
      "execution_count": null,
      "metadata": {
        "id": "0D0-TP7vWHtr"
      },
      "outputs": [],
      "source": [
        "preds = rf.predict(X_val)\n",
        "preds_probs = rf.predict_proba(X_val)"
      ]
    },
    {
      "cell_type": "code",
      "execution_count": null,
      "metadata": {
        "id": "vT9A_KuydGm6"
      },
      "outputs": [],
      "source": [
        "pred_val = []\n",
        "THRESH = 0.1\n",
        "for p0, p1 in preds_probs:\n",
        "  if p0>THRESH:\n",
        "    pred_val.append(0)\n",
        "  else:\n",
        "    pred_val.append(1)\n",
        "\n",
        "cntr = Counter(pred_val)\n",
        "print(f\"Coverage: {cntr[0]/(cntr[0]+cntr[1])}\")"
      ]
    },
    {
      "cell_type": "code",
      "execution_count": null,
      "metadata": {
        "id": "und5YMfrhk9i"
      },
      "outputs": [],
      "source": [
        "def get_indices(indices):\n",
        "  ret = []\n",
        "  for i in indices:\n",
        "    if i<=300:\n",
        "      ret.append(i+1300)\n",
        "    else:\n",
        "      ret.append(i-300+1900)\n",
        "\n",
        "  return ret"
      ]
    },
    {
      "cell_type": "code",
      "execution_count": null,
      "metadata": {
        "id": "oEG-GewnclIS"
      },
      "outputs": [],
      "source": [
        "indices = [index for index, value in enumerate(pred_val) if value == 0]\n",
        "new_indices = get_indices(indices)"
      ]
    },
    {
      "cell_type": "code",
      "execution_count": null,
      "metadata": {
        "id": "sFGLi8bbh_wL"
      },
      "outputs": [],
      "source": [
        "val_answers = combined_df[['ground_answers', 'predicted_answers']].iloc[new_indices]"
      ]
    },
    {
      "cell_type": "code",
      "execution_count": null,
      "metadata": {
        "id": "g7R_xcXnaBb-"
      },
      "outputs": [],
      "source": [
        "accuracy = accuracy_score(val_answers.ground_answers.values,val_answers.predicted_answers.values)\n",
        "print(f\"Accuracy: {accuracy:.2f}\")"
      ]
    },
    {
      "cell_type": "code",
      "execution_count": null,
      "metadata": {
        "id": "-GwcFKNQbdpK"
      },
      "outputs": [],
      "source": [
        "def acc_vs_threshold()"
      ]
    },
    {
      "cell_type": "markdown",
      "metadata": {
        "id": "WT8fiQpQaLm7"
      },
      "source": [
        "Don't bother about the code below!!"
      ]
    },
    {
      "cell_type": "code",
      "execution_count": null,
      "metadata": {
        "id": "L1LFWYyrY81U"
      },
      "outputs": [],
      "source": [
        "# print(context, question)\n",
        "inputs = tokenizer.encode_plus(question, context, add_special_tokens=True, return_tensors=\"pt\")\n",
        "input_ids = inputs[\"input_ids\"].tolist()[0]\n",
        "# print(input_ids)\n",
        "outputs = model(**inputs)\n",
        "# print(f\"Outputs: {outputs}\")\n",
        "start_scores = outputs.start_logits\n",
        "end_scores = outputs.end_logits\n",
        "print(start_scores)\n",
        "\n",
        "all_tokens = tokenizer.convert_ids_to_tokens(input_ids)\n",
        "print(f\"all tokens: {all_tokens}\")\n",
        "print(torch.argmax(start_scores, dim=1).item(), torch.argmax(end_scores, dim=1).item())\n",
        "answer_tokens = all_tokens[torch.argmax(start_scores, dim=1).item(): torch.argmax(end_scores, dim=1).item() + 1]\n",
        "print(answer_tokens)\n",
        "answer = tokenizer.convert_tokens_to_string(answer_tokens)\n",
        "print(answer)"
      ]
    },
    {
      "cell_type": "code",
      "execution_count": null,
      "metadata": {
        "id": "TJ6qZ165K4lC"
      },
      "outputs": [],
      "source": [
        "out = tokenizer(context, question, return_tensors = \"pt\")"
      ]
    },
    {
      "cell_type": "code",
      "execution_count": null,
      "metadata": {
        "id": "27PqQrTbTHF4"
      },
      "outputs": [],
      "source": [
        "out"
      ]
    },
    {
      "cell_type": "code",
      "execution_count": null,
      "metadata": {
        "id": "o0d8TV8xOLxr"
      },
      "outputs": [],
      "source": [
        "model(**out)"
      ]
    },
    {
      "cell_type": "code",
      "execution_count": null,
      "metadata": {
        "id": "OtVf-Xq1OM8F"
      },
      "outputs": [],
      "source": [
        "df = pd.read_csv(\"data/news_qa/train.csv\")"
      ]
    },
    {
      "cell_type": "code",
      "execution_count": null,
      "metadata": {
        "id": "DVVOqGD9OTw0"
      },
      "outputs": [],
      "source": [
        "df.head()"
      ]
    },
    {
      "cell_type": "code",
      "execution_count": null,
      "metadata": {
        "id": "wCzudFvTOXcQ"
      },
      "outputs": [],
      "source": [
        "p_src"
      ]
    },
    {
      "cell_type": "code",
      "execution_count": null,
      "metadata": {
        "id": "w6oi4X05wpjK"
      },
      "outputs": [],
      "source": []
    }
  ],
  "metadata": {
    "colab": {
      "provenance": []
    },
    "kernelspec": {
      "display_name": "Python 3",
      "name": "python3"
    },
    "language_info": {
      "name": "python"
    }
  },
  "nbformat": 4,
  "nbformat_minor": 0
}